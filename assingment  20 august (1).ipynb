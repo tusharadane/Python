{
 "cells": [
  {
   "cell_type": "code",
   "execution_count": 101,
   "id": "b80ad7cf-b8b5-4d13-bd11-59fe9ba32bc0",
   "metadata": {},
   "outputs": [
    {
     "name": "stdout",
     "output_type": "stream",
     "text": [
      "range(8, 8, -1)\n",
      "9\n",
      "8\n",
      "7\n",
      "6\n",
      "5\n",
      "4\n",
      "3\n",
      "2\n",
      "1\n"
     ]
    }
   ],
   "source": [
    "##Q1) Create a range of numbers from 9 to 0. Print each number in the range\n",
    "\n",
    "a=range(9,0,-1)\n",
    "\n",
    "\n",
    "print(b)\n",
    "for i in a:\n",
    "   print(i)"
   ]
  },
  {
   "cell_type": "code",
   "execution_count": 137,
   "id": "5f9833dc-508d-4a73-a248-05407665db78",
   "metadata": {},
   "outputs": [
    {
     "name": "stdout",
     "output_type": "stream",
     "text": [
      "2\n",
      "4\n",
      "6\n",
      "8\n",
      "10\n",
      "12\n",
      "14\n",
      "16\n",
      "18\n"
     ]
    }
   ],
   "source": [
    "##Q2) Generate a list of all odd numbers between 1 and 20 using range.\n",
    "\n",
    "a=range(1,20)\n",
    "\n",
    "b=a[1: :2]\n",
    "for i in b:\n",
    "    print(i)"
   ]
  },
  {
   "cell_type": "code",
   "execution_count": 161,
   "id": "8483f403-fca6-4d4f-ab65-86b7acb06f01",
   "metadata": {},
   "outputs": [
    {
     "name": "stdout",
     "output_type": "stream",
     "text": [
      "1\n",
      "3\n",
      "5\n",
      "7\n",
      "9\n"
     ]
    }
   ],
   "source": [
    "##Q3) Print the numbers at odd indexes in a range of numbers from 0 to 10.\n",
    "\n",
    "a=range(0,10)\n",
    "\n",
    "b=a[1: :2]\n",
    "\n",
    "for i in b:\n",
    "    print(i)"
   ]
  },
  {
   "cell_type": "code",
   "execution_count": 175,
   "id": "2f9d6441-4d39-40d8-a0b9-0842acf2cfd7",
   "metadata": {},
   "outputs": [
    {
     "data": {
      "text/plain": [
       "['banana', 'date']"
      ]
     },
     "execution_count": 175,
     "metadata": {},
     "output_type": "execute_result"
    }
   ],
   "source": [
    "##Q4) Given the list fruits = ['apple', 'banana', 'cherry', 'date', 'elderberry'], print the second and fourth elements.\n",
    "\n",
    "a=['apple', 'banana', 'cherry', 'date', 'elderberry']\n",
    "\n",
    "a[1:4:2]"
   ]
  },
  {
   "cell_type": "code",
   "execution_count": 177,
   "id": "e4a9e62b-71ba-4081-9201-2072e7020566",
   "metadata": {},
   "outputs": [
    {
     "name": "stdout",
     "output_type": "stream",
     "text": [
      "[3, 4, 5, 6, 7]\n"
     ]
    }
   ],
   "source": [
    "##Q5) Slice the list numbers = [0, 1, 2, 3, 4, 5, 6, 7, 8, 9] to get a new list containing only the numbers from 3 to 7.\n",
    "\n",
    "a= [0, 1, 2, 3, 4, 5, 6, 7, 8, 9]\n",
    "\n",
    "b=a[3:8]\n",
    "\n",
    "print(b)"
   ]
  },
  {
   "cell_type": "code",
   "execution_count": 233,
   "id": "fb3ab188-6759-4c6f-97f3-2696e306f747",
   "metadata": {},
   "outputs": [
    {
     "name": "stdout",
     "output_type": "stream",
     "text": [
      "['red', 'yellow', 'blue']\n",
      "['apple', 'banana', 'cherry', 'grape']\n",
      "['apple', 'banana', 'cherry', 'grape']\n"
     ]
    }
   ],
   "source": [
    "##Q6) Given the list colors = ['red', 'green', 'blue'], change 'green' to 'yellow'.\n",
    "##Append 'grape' to the list fruits = ['apple', 'banana', 'cherry'] and then sort the list.\n",
    "\n",
    "a=['red', 'green', 'blue']\n",
    "\n",
    "a[1]='yellow'\n",
    "\n",
    "print(a)\n",
    "\n",
    "b=['apple', 'banana', 'cherry']\n",
    "\n",
    "b.append('grape')\n",
    "\n",
    "print(b)\n",
    "\n",
    "b.sort()\n",
    "print(b)"
   ]
  },
  {
   "cell_type": "code",
   "execution_count": 227,
   "id": "44fbb912-1292-47ff-bfe4-24c0c1c5dea0",
   "metadata": {},
   "outputs": [],
   "source": [
    "##Q7) What is a Python list, and how is it different from other data types like tuples and strings?\n",
    "\n",
    "##We can convert any type of values into list type of values by using list()\n",
    "##Lists are mutable, which means you can modify their contents (add, remove, or change elements) after they are created.\n",
    "##Lists help you keep related data together and in a specific order.\n",
    "##Mutability: • Lists are mutable, meaning their contents can be modified after creation. • Indexing: • Elements in a list are indexed, starting from 0 for the first element. • You can access elements by their index, e.g., my_list[0] to access the first element.\n",
    "## Common Operations:\n",
    "## Adding Elements: • Use the append() method to add an element to the end of a list. • Removing Elements: • Use remove() to remove an element by value. • Use del to remove an element by index.\n",
    "##Slicing: • Extract a portion of a list using slicing, e.g., my_list[1:4].\n",
    "##Concatenation: • Combine two lists using the + operator, e.g., new_list = list1 + list2.\n",
    "##Length: • Find the number of elements in a list using len(my_list).\n",
    "## Creation: • Lists are created using square brackets []. Elements in a list are separated by commas."
   ]
  },
  {
   "cell_type": "code",
   "execution_count": null,
   "id": "862211d6-8125-4304-a8f1-d04368c567a4",
   "metadata": {},
   "outputs": [],
   "source": [
    "##a tuples maintains the order of the elements as they are added.\n",
    "##You can't change the items once they're inside \n",
    "##Tuples are immutable, which means once created, you cannot modify, add, or remove elements from them. You can only create a new tuple \n",
    "##if you need to make changes.\n",
    "##Syntax: Tuples are typically defined using parentheses\n",
    "##Accessing Elements: Elements within a tuple can be accessed using indexing. Indexing starts from 0 \n",
    "##Tuples generally consume less memory compared to lists (another common data structure), as they are immutable and don't need methods for modification. This can make them slightly faster and more memory-efficient in certain situatation."
   ]
  },
  {
   "cell_type": "code",
   "execution_count": null,
   "id": "b30603dd-8804-4b5c-9695-b9ad4a724a42",
   "metadata": {},
   "outputs": [],
   "source": [
    "##Q9) . Exercise Description:\n",
    "  ## Create a Python list called `shopping_list` with the following items: \"eggs\", \"milk\", \"bread\", \"apples\", \"bananas\".Perform the following operations:\n",
    "   ##- Add \"oranges\" to the end of the list using the appropriate list method.\n",
    "   ##- Remove \"bread\" from the list using the appropriate list method.\n",
    "   ##- Print the index of \"apples\" in the list.\n",
    "   ##- Use list slicing to print the first three items in the list."
   ]
  },
  {
   "cell_type": "code",
   "execution_count": null,
   "id": "d2e55372-39a3-4b33-a49b-8f6390a05867",
   "metadata": {},
   "outputs": [],
   "source": []
  },
  {
   "cell_type": "code",
   "execution_count": 9,
   "id": "3fa711d4-ba9b-423a-99a0-85a837cc1f09",
   "metadata": {},
   "outputs": [
    {
     "name": "stdout",
     "output_type": "stream",
     "text": [
      "['eggs', 'milks', 'apples', 'bananas', 'oranges']\n"
     ]
    }
   ],
   "source": [
    "shopping_list=[\"eggs\",\"milks\",\"bread\",\"apples\",\"bananas\"]\n",
    "\n",
    "shopping_list.append(\"oranges\")\n",
    "shopping_list.remove(\"bread\")\n",
    "print(shopping_list)"
   ]
  },
  {
   "cell_type": "code",
   "execution_count": 15,
   "id": "847fa54d-f191-430d-83ee-8378c911a163",
   "metadata": {},
   "outputs": [
    {
     "data": {
      "text/plain": [
       "['eggs', 'milks', 'apples']"
      ]
     },
     "execution_count": 15,
     "metadata": {},
     "output_type": "execute_result"
    }
   ],
   "source": [
    "shopping_list[0:3]"
   ]
  },
  {
   "cell_type": "code",
   "execution_count": 11,
   "id": "4789895d-4dbb-4ab1-b07c-e10c56d8a0ff",
   "metadata": {},
   "outputs": [
    {
     "data": {
      "text/plain": [
       "2"
      ]
     },
     "execution_count": 11,
     "metadata": {},
     "output_type": "execute_result"
    }
   ],
   "source": [
    "shopping_list.index(\"apples\")"
   ]
  },
  {
   "cell_type": "code",
   "execution_count": null,
   "id": "129934eb-878f-47d0-ab00-fef35f6abcb9",
   "metadata": {},
   "outputs": [],
   "source": [
    "##Q10) . Exercise Description\n",
    "  ## Consider the following list of numbers: `num_list = [10, 20, 30, 40, 50, 20, 30]`. Perform the following operations:\n",
    "   ##- Find the index of the first occurrence of number 20 in the list and print it.\n",
    "   ##- Count the number of occurrences of 30 in the list and print the count.\n",
    "   ##- Print the modified list."
   ]
  },
  {
   "cell_type": "code",
   "execution_count": 17,
   "id": "355d181c-92bd-43e2-a15a-b7721d8a3e6e",
   "metadata": {},
   "outputs": [
    {
     "data": {
      "text/plain": [
       "1"
      ]
     },
     "execution_count": 17,
     "metadata": {},
     "output_type": "execute_result"
    }
   ],
   "source": [
    "num_list=[10,20,30,40,50,20,30]\n",
    "\n",
    "num_list.index(20)"
   ]
  },
  {
   "cell_type": "code",
   "execution_count": 19,
   "id": "35c1b60f-accc-4257-b7f8-43351d3775c7",
   "metadata": {},
   "outputs": [
    {
     "data": {
      "text/plain": [
       "2"
      ]
     },
     "execution_count": 19,
     "metadata": {},
     "output_type": "execute_result"
    }
   ],
   "source": [
    "num_list.count(30)"
   ]
  },
  {
   "cell_type": "code",
   "execution_count": 25,
   "id": "45bdaa3e-ea56-44f3-870b-345a3e6a2212",
   "metadata": {},
   "outputs": [
    {
     "name": "stdout",
     "output_type": "stream",
     "text": [
      "[10, 20, 20, 30, 30, 40, 50]\n"
     ]
    }
   ],
   "source": [
    "num_list.sort()\n",
    "\n",
    "print(num_list)\n",
    "num_list.reverse()"
   ]
  },
  {
   "cell_type": "code",
   "execution_count": null,
   "id": "6d68c17b-1698-4958-8d42-52eca5012c0f",
   "metadata": {},
   "outputs": [],
   "source": [
    "##Q11) . Exercise Description:\n",
    " ##  Create two lists:\n",
    " ##  - `list1 = [1, 2, 3, 4, 5]`\n",
    "   ##- `list2 = [6, 7, 8]`\n",
    "   ##Perform the following operations:\n",
    "   ##- Extend `list1` with the elements of `list2`.\n",
    "   ##- Insert the number 10 at index 2 in `list1`.\n",
    "   ##- Remove the last element from `list2`.\n",
    "   ##- Print both lists."
   ]
  },
  {
   "cell_type": "code",
   "execution_count": 29,
   "id": "fe5a3ace-9919-451f-9d5d-75ddf9d08124",
   "metadata": {},
   "outputs": [
    {
     "name": "stdout",
     "output_type": "stream",
     "text": [
      "[1, 2, 3, 4, 5, 6, 7, 8]\n"
     ]
    }
   ],
   "source": [
    "a=[1,2,3,4,5]\n",
    "b=[6,7,8]\n",
    "\n",
    "a.extend(b)\n",
    "print(a)"
   ]
  },
  {
   "cell_type": "code",
   "execution_count": 39,
   "id": "59093456-d2ee-4ab1-ad1a-126e0b95d644",
   "metadata": {},
   "outputs": [
    {
     "name": "stdout",
     "output_type": "stream",
     "text": [
      "[1, 2, 10, 10, 10, 3, 4, 5, 6, 7, 8, 2]\n"
     ]
    },
    {
     "data": {
      "text/plain": [
       "2"
      ]
     },
     "execution_count": 39,
     "metadata": {},
     "output_type": "execute_result"
    }
   ],
   "source": [
    "a.insert(2,10)\n",
    "\n",
    "print(a)\n",
    "a.pop()"
   ]
  },
  {
   "cell_type": "code",
   "execution_count": 43,
   "id": "44f2e504-5771-40e9-aa7a-2722900b2d15",
   "metadata": {},
   "outputs": [
    {
     "name": "stdout",
     "output_type": "stream",
     "text": [
      "[1, 2, 10, 10, 10, 3, 4, 5, 6, 7]\n"
     ]
    }
   ],
   "source": [
    "print(a)"
   ]
  },
  {
   "cell_type": "code",
   "execution_count": 49,
   "id": "faa4e1bf-04c0-403c-919b-4847ac465982",
   "metadata": {},
   "outputs": [
    {
     "name": "stdout",
     "output_type": "stream",
     "text": [
      "[1, 2, 10, 3, 4, 5, 6, 7]\n"
     ]
    }
   ],
   "source": [
    "a.remove(10)\n",
    "print(a)"
   ]
  },
  {
   "cell_type": "code",
   "execution_count": 61,
   "id": "6e92217a-df61-4d61-8497-4f8054269789",
   "metadata": {},
   "outputs": [
    {
     "name": "stdout",
     "output_type": "stream",
     "text": [
      "[6, 7]\n",
      "[1, 2, 10, 3, 4, 5, 6, 7, 8]\n"
     ]
    }
   ],
   "source": [
    "print(b)\n",
    "print(a)"
   ]
  },
  {
   "cell_type": "code",
   "execution_count": 57,
   "id": "2109472d-f790-4eaf-9965-0fef8b0790fe",
   "metadata": {},
   "outputs": [
    {
     "data": {
      "text/plain": [
       "8"
      ]
     },
     "execution_count": 57,
     "metadata": {},
     "output_type": "execute_result"
    }
   ],
   "source": [
    "b.pop()"
   ]
  },
  {
   "cell_type": "code",
   "execution_count": null,
   "id": "1b3ce913-9ed9-4ed4-aab2-dda9effc5f10",
   "metadata": {},
   "outputs": [],
   "source": [
    "What is a tuple in Python, and how does it differ from a list? Provide examples to illustrate the differences.\n",
    "    in tuple you cant perform any function of python at list is you can performend\n",
    "    in tuple create syntax is round bracket ,a list is created coloumn bracket[]\n",
    "     tuple is immatuble list are mutable\n",
    "Q13) Consider an empty Python tuple named `student_tuple`. Perform the following operations:\n",
    "- Create a tuple named `student_tuple` containing the following elements: \"John\", \"Doe\", 25, \"john.doe@example.com\".\n",
    "- Print the tuple `student_tuple`.\n",
    "- Access and print the second element of the tuple.\n",
    "- Use tuple unpacking to assign each element of the tuple to variables `first_name`, `last_name`, `age`, and `email`, and then print them."
   ]
  },
  {
   "cell_type": "code",
   "execution_count": 63,
   "id": "33405516-ab76-4f41-a2c8-1d87244aeb4a",
   "metadata": {},
   "outputs": [
    {
     "name": "stdout",
     "output_type": "stream",
     "text": [
      "<class 'tuple'>\n"
     ]
    }
   ],
   "source": [
    "student_tuple=()\n",
    "\n",
    "print(type(student_tuple))"
   ]
  },
  {
   "cell_type": "code",
   "execution_count": 69,
   "id": "c1a75f5c-7609-49fb-a7f8-7bad8607fb21",
   "metadata": {},
   "outputs": [
    {
     "name": "stdout",
     "output_type": "stream",
     "text": [
      "('john', 'doe', 25, 'john.doe@example.com')\n"
     ]
    },
    {
     "data": {
      "text/plain": [
       "25"
      ]
     },
     "execution_count": 69,
     "metadata": {},
     "output_type": "execute_result"
    }
   ],
   "source": [
    "student_tuple=(\"john\",\"doe\",25,\"john.doe@example.com\")\n",
    "print(student_tuple)\n",
    "student_tuple[2]"
   ]
  },
  {
   "cell_type": "code",
   "execution_count": 71,
   "id": "c367ad3c-d896-48f2-baa4-2e92ac59bacc",
   "metadata": {},
   "outputs": [
    {
     "name": "stdout",
     "output_type": "stream",
     "text": [
      "john doe 25 john.doe@example.com\n"
     ]
    }
   ],
   "source": [
    "first_name,last_name,age,email=student_tuple\n",
    "\n",
    "print(first_name,last_name,age,email)"
   ]
  },
  {
   "cell_type": "code",
   "execution_count": null,
   "id": "3151a988-c80f-43f7-9c86-4cec450e4fbb",
   "metadata": {},
   "outputs": [],
   "source": [
    "##Q14) What is a set in Python, and how does it differ from a list? \n",
    "##• A set is an unordered collection of unique elements in Python.list is orderd collection of multi element in python\n",
    "## you cannot access elements in a set using indexing or slicing, as you would with lists or tuples.\n",
    "## Each element in a set must be unique; duplicates are not allowed.IN list duplicate allowed \n",
    "##• It is defined using curly braces {} and a comma-separated list of elements.list seprated[]"
   ]
  },
  {
   "cell_type": "code",
   "execution_count": 113,
   "id": "c735593c-3391-456d-98d2-c5ff124684f6",
   "metadata": {},
   "outputs": [
    {
     "name": "stdout",
     "output_type": "stream",
     "text": [
      "<class 'set'> {5}\n",
      "{3, 4, 5}\n"
     ]
    }
   ],
   "source": [
    "##Q15) Create an empty set a and add it with values 5,4,3\n",
    "##Pop all the elements one by one from the set{10,20,30,40,50}\n",
    "\n",
    "a={5}\n",
    "\n",
    "print(type(a),a)\n",
    "\n",
    "a.add(4)\n",
    "a.add(3)\n",
    "print(a)"
   ]
  },
  {
   "cell_type": "code",
   "execution_count": 123,
   "id": "c56fc9e6-560f-426b-960e-b4e79069aed4",
   "metadata": {},
   "outputs": [
    {
     "name": "stdout",
     "output_type": "stream",
     "text": [
      "{50, 20, 40, 10, 30}\n"
     ]
    },
    {
     "data": {
      "text/plain": [
       "50"
      ]
     },
     "execution_count": 123,
     "metadata": {},
     "output_type": "execute_result"
    }
   ],
   "source": [
    "a={10,20,30,40,50}\n",
    "print(a)\n",
    "a.pop()"
   ]
  },
  {
   "cell_type": "code",
   "execution_count": null,
   "id": "79366882-d047-4d0d-b48f-beb734019302",
   "metadata": {},
   "outputs": [],
   "source": [
    "##Q16) Consider two sets: `set1 = {1, 2, 3, 4, 5}` and `set2 = {4, 5, 6, 7, 8}`. Perform the following operations:\n",
    "##- Find the intersection of `set1` and `set2` and print the result.\n",
    "##- Find the difference between `set1` and `set2` and print the result."
   ]
  },
  {
   "cell_type": "code",
   "execution_count": 125,
   "id": "9fcd4708-2d89-456c-8e15-579cd0809ca4",
   "metadata": {},
   "outputs": [
    {
     "data": {
      "text/plain": [
       "{4, 5}"
      ]
     },
     "execution_count": 125,
     "metadata": {},
     "output_type": "execute_result"
    }
   ],
   "source": [
    "a={1,2,3,4,5}\n",
    "b={4,5,6,7,8}\n",
    "\n",
    "a.intersection(b)"
   ]
  },
  {
   "cell_type": "code",
   "execution_count": 127,
   "id": "ff20b3ae-b351-4971-89d0-f7127afc115a",
   "metadata": {},
   "outputs": [
    {
     "data": {
      "text/plain": [
       "{1, 2, 3}"
      ]
     },
     "execution_count": 127,
     "metadata": {},
     "output_type": "execute_result"
    }
   ],
   "source": [
    "a.difference(b)"
   ]
  },
  {
   "cell_type": "code",
   "execution_count": 131,
   "id": "1a367d5f-6577-48d7-b96f-2d130b6981e6",
   "metadata": {},
   "outputs": [
    {
     "data": {
      "text/plain": [
       "{1, 2, 3, 4, 5, 6, 7, 8}"
      ]
     },
     "execution_count": 131,
     "metadata": {},
     "output_type": "execute_result"
    }
   ],
   "source": [
    "a.symmetric_difference(b)"
   ]
  },
  {
   "cell_type": "code",
   "execution_count": 133,
   "id": "e4c17bad-fbc7-4fde-981a-60ce888769f3",
   "metadata": {},
   "outputs": [],
   "source": [
    "a.update(b)"
   ]
  },
  {
   "cell_type": "code",
   "execution_count": null,
   "id": "285f62c0-300f-4637-b649-130025eae73f",
   "metadata": {},
   "outputs": [],
   "source": [
    "##Q17) Consider a set named `colors = {\"red\", \"green\", \"blue\"}`. Perform the following operations:\n",
    "  ## - Use the `add()` method to add \"yellow\" to the set `colors`.\n",
    "   ##- Use the `remove()` method to remove \"green\" from the set `colors`.\n",
    "   ##- Create a frozen set named `frozen_colors` from `colors`.\n"
   ]
  },
  {
   "cell_type": "code",
   "execution_count": 139,
   "id": "a8f2c31a-c87c-4312-8b21-3762d4232308",
   "metadata": {},
   "outputs": [
    {
     "name": "stdout",
     "output_type": "stream",
     "text": [
      "{'red', 'blue', 'green'}\n"
     ]
    }
   ],
   "source": [
    "colors= {\"red\", \"green\", \"blue\"}\n",
    "print(colors)"
   ]
  },
  {
   "cell_type": "code",
   "execution_count": 141,
   "id": "abab5a89-98b6-4896-962b-1118b8c32c8e",
   "metadata": {},
   "outputs": [
    {
     "name": "stdout",
     "output_type": "stream",
     "text": [
      "{'yellow', 'red', 'blue', 'green'}\n"
     ]
    }
   ],
   "source": [
    "colors.add(\"yellow\")\n",
    "print(colors)"
   ]
  },
  {
   "cell_type": "code",
   "execution_count": 143,
   "id": "e5c1f233-9445-4783-b714-658114083584",
   "metadata": {},
   "outputs": [
    {
     "name": "stdout",
     "output_type": "stream",
     "text": [
      "{'yellow', 'red', 'blue'}\n"
     ]
    }
   ],
   "source": [
    "colors.remove(\"green\")\n",
    "print(colors)"
   ]
  },
  {
   "cell_type": "code",
   "execution_count": 145,
   "id": "e6e5564c-fe12-48d0-9438-bbcabe5e0358",
   "metadata": {},
   "outputs": [
    {
     "name": "stdout",
     "output_type": "stream",
     "text": [
      "frozenset({'red', 'yellow', 'blue'})\n"
     ]
    }
   ],
   "source": [
    "frozen_colors=frozenset(colors)\n",
    "print(frozen_colors)"
   ]
  }
 ],
 "metadata": {
  "kernelspec": {
   "display_name": "Python 3 (ipykernel)",
   "language": "python",
   "name": "python3"
  },
  "language_info": {
   "codemirror_mode": {
    "name": "ipython",
    "version": 3
   },
   "file_extension": ".py",
   "mimetype": "text/x-python",
   "name": "python",
   "nbconvert_exporter": "python",
   "pygments_lexer": "ipython3",
   "version": "3.12.4"
  }
 },
 "nbformat": 4,
 "nbformat_minor": 5
}
