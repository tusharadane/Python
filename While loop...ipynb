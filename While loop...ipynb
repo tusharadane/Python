{
 "cells": [
  {
   "cell_type": "markdown",
   "id": "698eba79",
   "metadata": {},
   "source": [
    "# While loop\n",
    "A \"while loop\" is a control structure in programming that allows you to repeatedly execute a block of code as long as a certain condition is true.\n",
    "\n",
    "while condition: # Code to be executed repeatedly as long as the condition is true\n",
    "\n",
    "The condition is evaluated. If it is true, the code inside the loop is executed.\n",
    "\n",
    "After the code inside the loop is executed, the condition is checked again.\n",
    "\n",
    "If the condition is still true, the code inside the loop is executed again.\n",
    "\n",
    "This process continues until the condition becomes false. Once the condition is false, the loop terminates, and the program continues with the code after the loop.\n",
    "\n",
    "A while loop is a way for a computer to repeat a task as long as a certain condition is true. Imagine telling a computer to keep doing something over and over again until a specific rule is no longer valid. It's like saying, \"Keep eating ice cream while you're still feeling hot.\" The computer will keep eating ice cream until it doesn't feel hot anymore. That's what a while loop does in programming: it repeats an action until a condition is no longer met.\n",
    "\n",
    "Loop Control:\n",
    "\n",
    "While loops execute as long as a specified condition is true.\n",
    "\n",
    "Ensure your condition makes sense for your task."
   ]
  },
  {
   "cell_type": "code",
   "execution_count": 1,
   "id": "6b0ae1db",
   "metadata": {},
   "outputs": [
    {
     "name": "stdout",
     "output_type": "stream",
     "text": [
      "1\n",
      "2\n",
      "3\n",
      "4\n",
      "5\n",
      "6\n",
      "7\n",
      "8\n",
      "9\n"
     ]
    }
   ],
   "source": [
    "i = 1   # intialization \n",
    "\n",
    "while i<10:  # condition   1<10 2<10 10<10 False 9<10 10<10\n",
    "    print(i) # 1 2 9\n",
    "    i=i+1 # i = 1+1 i =2   increamentation/decreamentation  i=9+1 i =10\n",
    "    "
   ]
  },
  {
   "cell_type": "code",
   "execution_count": 2,
   "id": "2d55044b",
   "metadata": {},
   "outputs": [
    {
     "name": "stdout",
     "output_type": "stream",
     "text": [
      "10\n"
     ]
    }
   ],
   "source": [
    "print(i)"
   ]
  },
  {
   "cell_type": "code",
   "execution_count": 3,
   "id": "c0fc523c",
   "metadata": {
    "scrolled": true
   },
   "outputs": [
    {
     "name": "stdout",
     "output_type": "stream",
     "text": [
      "10\n",
      "9\n",
      "8\n",
      "7\n",
      "6\n",
      "5\n",
      "4\n",
      "3\n",
      "2\n",
      "1\n"
     ]
    }
   ],
   "source": [
    "i = 10\n",
    "\n",
    "while i>0:\n",
    "    print(i)\n",
    "    i = i-1"
   ]
  },
  {
   "cell_type": "code",
   "execution_count": 2,
   "id": "96c4835b",
   "metadata": {},
   "outputs": [
    {
     "name": "stdout",
     "output_type": "stream",
     "text": [
      "1\n",
      "3\n",
      "5\n",
      "7\n",
      "9\n"
     ]
    }
   ],
   "source": [
    "i=1\n",
    "while i<10:\n",
    "    print(i)\n",
    "    i=i+2\n",
    "    "
   ]
  },
  {
   "cell_type": "code",
   "execution_count": 6,
   "id": "19075995",
   "metadata": {},
   "outputs": [
    {
     "name": "stdout",
     "output_type": "stream",
     "text": [
      "Current value of total is 10\n",
      "Current value of total is 21\n",
      "Current value of total is 33\n",
      "Current value of total is 46\n",
      "Current value of total is 60\n",
      "Current value of total is 75\n",
      "Current value of total is 91\n",
      "Current value of total is 108\n",
      "Current value of total is 126\n",
      "Current value of total is 145\n",
      "Current value of total is 165\n",
      "165\n"
     ]
    }
   ],
   "source": [
    "# sum of numbers between 10 to 20\n",
    "\n",
    "i = 10\n",
    "\n",
    "total = 0 # 10 21\n",
    "\n",
    "while i<=20: # 10<20 11<20 12<20\n",
    "    total = total+i  # 0 = 0+10=10    10=10+11=21  21 = 21+13\n",
    "    print(\"Current value of total is\",total)\n",
    "    i=i+1 #11 12 13 14 \n",
    "    \n",
    "print(total)"
   ]
  },
  {
   "cell_type": "code",
   "execution_count": 7,
   "id": "16083fed",
   "metadata": {},
   "outputs": [
    {
     "name": "stdout",
     "output_type": "stream",
     "text": [
      "Enter the number:- 5\n",
      "5 X 1 = 5\n",
      "5 X 2 = 10\n",
      "5 X 3 = 15\n",
      "5 X 4 = 20\n",
      "5 X 5 = 25\n",
      "5 X 6 = 30\n",
      "5 X 7 = 35\n",
      "5 X 8 = 40\n",
      "5 X 9 = 45\n",
      "5 X 10 = 50\n"
     ]
    }
   ],
   "source": [
    "n = int(input(\"Enter the number:- \")) # 5\n",
    "\n",
    "i = 1\n",
    "\n",
    "while i<=10: # 1\n",
    "    print(f\"{n} X {i} = {n*i}\")\n",
    "    i=i+1"
   ]
  },
  {
   "cell_type": "code",
   "execution_count": 20,
   "id": "f549f143",
   "metadata": {},
   "outputs": [],
   "source": [
    "a = [\"Apple\",\"Mango\",\"Watermelon\",\"cherry\",\"Banana\",\"Kiwi\",\"DragonFruit\"]"
   ]
  },
  {
   "cell_type": "code",
   "execution_count": 10,
   "id": "42354eba",
   "metadata": {},
   "outputs": [
    {
     "data": {
      "text/plain": [
       "'Watermelon'"
      ]
     },
     "execution_count": 10,
     "metadata": {},
     "output_type": "execute_result"
    }
   ],
   "source": [
    "a[2]"
   ]
  },
  {
   "cell_type": "code",
   "execution_count": 22,
   "id": "b2ce8660",
   "metadata": {},
   "outputs": [
    {
     "name": "stdout",
     "output_type": "stream",
     "text": [
      "DragonFruit\n",
      "Kiwi\n",
      "Banana\n",
      "cherry\n",
      "Watermelon\n",
      "Mango\n",
      "Apple\n"
     ]
    }
   ],
   "source": [
    "i = len(a)-1 \n",
    "\n",
    "while i>=0:\n",
    "    print(a[i])\n",
    "    i=i-1"
   ]
  },
  {
   "cell_type": "code",
   "execution_count": 21,
   "id": "cd210a7e",
   "metadata": {},
   "outputs": [
    {
     "name": "stdout",
     "output_type": "stream",
     "text": [
      "DragonFruit\n",
      "Kiwi\n",
      "Banana\n",
      "cherry\n",
      "Watermelon\n",
      "Mango\n",
      "Apple\n"
     ]
    }
   ],
   "source": [
    "i = -1\n",
    "\n",
    "while i>-8: # -1>-7\n",
    "    print(a[i]) # a[-1]\n",
    "    i=i-1  #  -1-1 = -2"
   ]
  },
  {
   "cell_type": "code",
   "execution_count": 12,
   "id": "1d87fa29",
   "metadata": {},
   "outputs": [
    {
     "name": "stdout",
     "output_type": "stream",
     "text": [
      "Apple\n",
      "Mango\n",
      "Watermelon\n",
      "cherry\n",
      "Banana\n",
      "Kiwi\n",
      "DragonFruit\n"
     ]
    },
    {
     "ename": "IndexError",
     "evalue": "list index out of range",
     "output_type": "error",
     "traceback": [
      "\u001b[1;31m---------------------------------------------------------------------------\u001b[0m",
      "\u001b[1;31mIndexError\u001b[0m                                Traceback (most recent call last)",
      "Cell \u001b[1;32mIn[12], line 4\u001b[0m\n\u001b[0;32m      1\u001b[0m i \u001b[38;5;241m=\u001b[39m \u001b[38;5;241m0\u001b[39m\n\u001b[0;32m      3\u001b[0m \u001b[38;5;28;01mwhile\u001b[39;00m i\u001b[38;5;241m<\u001b[39m\u001b[38;5;241m=\u001b[39m\u001b[38;5;241m7\u001b[39m:\n\u001b[1;32m----> 4\u001b[0m     \u001b[38;5;28mprint\u001b[39m(\u001b[43ma\u001b[49m\u001b[43m[\u001b[49m\u001b[43mi\u001b[49m\u001b[43m]\u001b[49m)\n\u001b[0;32m      5\u001b[0m     i\u001b[38;5;241m=\u001b[39mi\u001b[38;5;241m+\u001b[39m\u001b[38;5;241m1\u001b[39m\n",
      "\u001b[1;31mIndexError\u001b[0m: list index out of range"
     ]
    }
   ],
   "source": [
    "i = 0\n",
    "\n",
    "while i<=7:\n",
    "    print(a[i])\n",
    "    i=i+1"
   ]
  },
  {
   "cell_type": "code",
   "execution_count": 9,
   "id": "ab292cf8",
   "metadata": {
    "scrolled": true
   },
   "outputs": [
    {
     "name": "stdout",
     "output_type": "stream",
     "text": [
      "Apple\n",
      "Mango\n",
      "Watermelon\n",
      "cherry\n",
      "Banana\n",
      "Kiwi\n",
      "DragonFruit\n"
     ]
    }
   ],
   "source": [
    "for i in a:\n",
    "    print(i)"
   ]
  },
  {
   "cell_type": "code",
   "execution_count": null,
   "id": "bc7bb45d",
   "metadata": {},
   "outputs": [],
   "source": [
    "while True:\n",
    "    print(\"Python\")"
   ]
  },
  {
   "cell_type": "code",
   "execution_count": 24,
   "id": "77931494",
   "metadata": {},
   "outputs": [
    {
     "name": "stdout",
     "output_type": "stream",
     "text": [
      "1\n",
      "2\n",
      "3\n",
      "4\n"
     ]
    }
   ],
   "source": [
    "i = 1\n",
    "\n",
    "while i<=10:\n",
    "    if i == 5:\n",
    "        break\n",
    "    print(i)\n",
    "    i=i+1"
   ]
  },
  {
   "cell_type": "code",
   "execution_count": 26,
   "id": "92df363f",
   "metadata": {},
   "outputs": [
    {
     "name": "stdout",
     "output_type": "stream",
     "text": [
      "1\n",
      "2\n",
      "3\n",
      "4\n",
      "5\n",
      "6\n",
      "7\n",
      "8\n",
      "9\n",
      "10\n",
      "Code Completed\n"
     ]
    }
   ],
   "source": [
    "i = 1\n",
    "\n",
    "while i<=10: \n",
    "    print(i)\n",
    "    i=i+1\n",
    "else: \n",
    "    print(\"Code Completed\")"
   ]
  },
  {
   "cell_type": "code",
   "execution_count": 3,
   "id": "e9d06252",
   "metadata": {},
   "outputs": [
    {
     "name": "stdout",
     "output_type": "stream",
     "text": [
      "Enter the password:python\n",
      "Incorrect Password, Try Again\n",
      "Enter the password:admin\n",
      "Incorrect Password, Try Again\n",
      "Enter the password:admin007\n",
      "Access Granted, Welcome to Admin Panel\n"
     ]
    }
   ],
   "source": [
    "password=\"admin007\"\n",
    "\n",
    "while True:\n",
    "    user_value=input(\"Enter the password:\")\n",
    "    if user_value == password:\n",
    "        print(\"Access Granted, Welcome to Admin Panel\")\n",
    "        break\n",
    "    else:\n",
    "        print(\"Incorrect Password, Try Again\")\n",
    "    "
   ]
  },
  {
   "cell_type": "code",
   "execution_count": 5,
   "id": "d9e54002",
   "metadata": {},
   "outputs": [
    {
     "name": "stdout",
     "output_type": "stream",
     "text": [
      "It is not a prime number \n"
     ]
    }
   ],
   "source": [
    "n = 21\n",
    "\n",
    "i = 2\n",
    "\n",
    "while i<n:\n",
    "    if n % i == 0:#  27% 2 ==0 27%3 ==0 0\n",
    "        print(\"It is not a prime number \")\n",
    "        break\n",
    "    i=i+1\n",
    "else:\n",
    "    print(\"It is prime number\")"
   ]
  },
  {
   "cell_type": "code",
   "execution_count": 6,
   "id": "289fc092",
   "metadata": {},
   "outputs": [],
   "source": [
    "a = [1,2,4,6,3,5,52,35,2,6,1,3,52,5,2,5]"
   ]
  },
  {
   "cell_type": "code",
   "execution_count": 9,
   "id": "f6af0c2b",
   "metadata": {},
   "outputs": [
    {
     "name": "stdout",
     "output_type": "stream",
     "text": [
      "[1, 2, 4, 6, 3, 5, 52, 35]\n"
     ]
    }
   ],
   "source": [
    "unique_elements = []\n",
    "\n",
    "i = 0\n",
    "\n",
    "while i<len(a):#  0<14\n",
    "    if a[i] not in unique_elements: # 1 not in unique_elements\n",
    "        unique_elements.append(a[i])\n",
    "    i=i+1\n",
    "    \n",
    "print(unique_elements)"
   ]
  },
  {
   "cell_type": "raw",
   "id": "e40972ca",
   "metadata": {},
   "source": [
    "# wrong method it will lead to infinite loop\n",
    "\n",
    "i = 1\n",
    "\n",
    "while i<20: 1<20 15\n",
    "    if i==15: 15==15\n",
    "        continue\n",
    "    print(i) # 1\n",
    "    i=i+1 # 2"
   ]
  },
  {
   "cell_type": "code",
   "execution_count": 10,
   "id": "acdcebb0",
   "metadata": {},
   "outputs": [
    {
     "name": "stdout",
     "output_type": "stream",
     "text": [
      "1\n",
      "2\n",
      "3\n",
      "4\n",
      "5\n",
      "6\n",
      "7\n",
      "8\n",
      "9\n",
      "10\n",
      "11\n",
      "12\n",
      "13\n",
      "14\n",
      "16\n",
      "17\n",
      "18\n",
      "19\n",
      "20\n"
     ]
    }
   ],
   "source": [
    "i = 0\n",
    "\n",
    "while i<20: \n",
    "    i=i+1\n",
    "    if i==15:\n",
    "        continue\n",
    "    print(i)"
   ]
  },
  {
   "cell_type": "code",
   "execution_count": 11,
   "id": "2ff2e89d",
   "metadata": {},
   "outputs": [
    {
     "name": "stdout",
     "output_type": "stream",
     "text": [
      "Python Programming\n"
     ]
    }
   ],
   "source": [
    "if True:\n",
    "    pass\n",
    "    \n",
    "    \n",
    "\n",
    "print(\"Python Programming\")"
   ]
  },
  {
   "cell_type": "code",
   "execution_count": 13,
   "id": "4734c4c1",
   "metadata": {},
   "outputs": [
    {
     "name": "stdout",
     "output_type": "stream",
     "text": [
      "Current Value of Fact is 1\n",
      "Current Value of Fact is 2\n",
      "Current Value of Fact is 6\n",
      "Current Value of Fact is 24\n",
      "Current Value of Fact is 120\n",
      "120\n"
     ]
    }
   ],
   "source": [
    "num = 5\n",
    "\n",
    "i = 1\n",
    "\n",
    "fact = 1 # 2 6 120\n",
    "while i<=5:\n",
    "    fact = fact*i # 1*1 1*2=2 2*3=6 6*4=24 24*5=120\n",
    "    print(\"Current Value of Fact is\",fact)\n",
    "    i=i+1\n",
    "    \n",
    "print(fact)"
   ]
  },
  {
   "cell_type": "code",
   "execution_count": null,
   "id": "03a57f46",
   "metadata": {},
   "outputs": [],
   "source": []
  }
 ],
 "metadata": {
  "kernelspec": {
   "display_name": "Python 3 (ipykernel)",
   "language": "python",
   "name": "python3"
  },
  "language_info": {
   "codemirror_mode": {
    "name": "ipython",
    "version": 3
   },
   "file_extension": ".py",
   "mimetype": "text/x-python",
   "name": "python",
   "nbconvert_exporter": "python",
   "pygments_lexer": "ipython3",
   "version": "3.12.4"
  }
 },
 "nbformat": 4,
 "nbformat_minor": 5
}
