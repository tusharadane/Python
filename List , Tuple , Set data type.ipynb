{
 "cells": [
  {
   "cell_type": "markdown",
   "id": "48238614",
   "metadata": {},
   "source": [
    "# List Data Type\n",
    "\n",
    "A list is a built-in data structure that allows you to store a collection of items, such as numbers, strings, or other objects, in a single variable. It is one of the predefined class and treated as list data type. We can convert any type of values into list type of values by using list(). Lists are mutable, which means you can modify their contents (add, remove, or change elements) after they are created.\n",
    "\n",
    "A list is like a container that can hold multiple pieces of information, such as numbers, words, or even other lists. It's like a shopping list where you can jot down different items you need to buy. Lists help you keep related data together and in a specific order. You can add new items, remove items, change items, or just see what's in the list. It's a useful tool to work with collections of data in your programs\n",
    "\n",
    "•\tDefinition:\n",
    "•\tA list is a built-in data type in Python.\n",
    "•\tLists are used to store a collection of items, which can be of different data types (e.g., numbers, strings, or even other lists).\n",
    "\n",
    "•\tCreation:\n",
    "•\tLists are created using square brackets [].\n",
    "•\tElements in a list are separated by commas.\n",
    "\n",
    "•\tMutability:\n",
    "•\tLists are mutable, meaning their contents can be modified after creation.\n",
    "\n",
    "•\tIndexing:\n",
    "•\tElements in a list are indexed, starting from 0 for the first element.\n",
    "•\tYou can access elements by their index, e.g., my_list[0] to access the first element.\n",
    "\n",
    "•\tCommon Operations:\n",
    "\n",
    "•\tAdding Elements:\n",
    "•\tUse the append() method to add an element to the end of a list.\n",
    "•\tRemoving Elements:\n",
    "•\tUse remove() to remove an element by value.\n",
    "•\tUse del to remove an element by index.\n",
    "\n",
    "•\tSlicing:\n",
    "•\tExtract a portion of a list using slicing, e.g., my_list[1:4].\n",
    "\n",
    "•\tConcatenation:\n",
    "•\tCombine two lists using the + operator, e.g., new_list = list1 + list2.\n",
    "\n",
    "•\tLength:\n",
    "•\tFind the number of elements in a list using len(my_list).\n",
    "\n",
    "•\tChecking for Element:\n",
    "•\tDetermine if an element exists in a list using in, e.g., if x in my_list:.\n",
    "\n",
    "•\tIterating:\n",
    "•\tUse loops (e.g., for loops) to iterate through the elements of a list.\n",
    "\n",
    "•\tNested Lists:\n",
    "•\tLists can contain other lists as elements, creating nested structures.\n",
    "\n",
    "•\tList Comprehensions:\n",
    "•\tPython supports list comprehensions, which provide a concise way to create lists based on existing lists.\n",
    "\n",
    "•\tCommon Use Cases:\n",
    "•\tLists are widely used for data storage, manipulation, and processing.\n",
    "•\tThey are suitable for scenarios where you need an ordered collection of items.\n",
    "\n",
    "Two types of lists: Empty lists and Non-Empty lists.\n",
    "1.\tEmpty List: An empty list, as the name suggests, is a list that contains no elements. It is a collection of items, but there's nothing in it. In programming, an empty list is often denoted by square brackets with nothing inside: []. This can be useful when you want to initialize a list that you plan to populate with data later on. For example, in Python:\n",
    "\n",
    "empty_list = [] \n",
    "Empty lists can be used as placeholders, and you can append or insert items into them as needed.\n",
    "2.\tNon-Empty List: A non-empty list is a list that contains one or more elements. These elements can be of any data type, such as numbers, strings, objects, or even other lists. Non-empty lists are typically created with the items enclosed in square brackets and separated by commas. For instance, in Python:\n",
    "\n",
    "non_empty_list = [1, 2, 3, 4, 5] \n",
    "Non-empty lists are widely used in programming to store and manipulate collections of data. They provide a way to group related information together, making it easier to work with and process the data.\n",
    "\n",
    "\n",
    "\n",
    "\n",
    "\n"
   ]
  },
  {
   "cell_type": "code",
   "execution_count": 2,
   "id": "2be10d01",
   "metadata": {},
   "outputs": [
    {
     "name": "stdout",
     "output_type": "stream",
     "text": [
      "[23, True, (3+4j), 45.64, 'Python', '23', 63.46] <class 'list'> 1436848655360\n"
     ]
    }
   ],
   "source": [
    "a  = [23,True,3+4j,45.64,\"Python\",\"23\",63.46]\n",
    "print(a,type(a),id(a))"
   ]
  },
  {
   "cell_type": "code",
   "execution_count": 3,
   "id": "a3e9ec91",
   "metadata": {},
   "outputs": [
    {
     "name": "stdout",
     "output_type": "stream",
     "text": [
      "['P', 'y', 't', 'h', 'o', 'n', ' ', 'P', 'r', 'o', 'g', 'r', 'a', 'm', 'm', 'i', 'n', 'g'] <class 'list'> 1436842360448\n"
     ]
    }
   ],
   "source": [
    "a = \"Python Programming\"\n",
    "b = list(a)\n",
    "print(b,type(b),id(b))"
   ]
  },
  {
   "cell_type": "code",
   "execution_count": 4,
   "id": "b4a76823",
   "metadata": {},
   "outputs": [
    {
     "ename": "TypeError",
     "evalue": "'int' object is not iterable",
     "output_type": "error",
     "traceback": [
      "\u001b[1;31m---------------------------------------------------------------------------\u001b[0m",
      "\u001b[1;31mTypeError\u001b[0m                                 Traceback (most recent call last)",
      "Cell \u001b[1;32mIn[4], line 2\u001b[0m\n\u001b[0;32m      1\u001b[0m a \u001b[38;5;241m=\u001b[39m \u001b[38;5;241m3535457\u001b[39m\n\u001b[1;32m----> 2\u001b[0m b \u001b[38;5;241m=\u001b[39m \u001b[38;5;28;43mlist\u001b[39;49m\u001b[43m(\u001b[49m\u001b[43ma\u001b[49m\u001b[43m)\u001b[49m\n\u001b[0;32m      3\u001b[0m \u001b[38;5;28mprint\u001b[39m(b,\u001b[38;5;28mtype\u001b[39m(b),\u001b[38;5;28mid\u001b[39m(b))\n",
      "\u001b[1;31mTypeError\u001b[0m: 'int' object is not iterable"
     ]
    }
   ],
   "source": [
    "a = 3535457\n",
    "b = list(a)\n",
    "print(b,type(b),id(b))"
   ]
  },
  {
   "cell_type": "code",
   "execution_count": 6,
   "id": "a56d759c",
   "metadata": {},
   "outputs": [
    {
     "name": "stdout",
     "output_type": "stream",
     "text": [
      "[23, True, (3+4j), 45.64, 'Python', '23', 63.46] <class 'list'> 1436876788608\n",
      "[23, True, (3+4j), 45.64, 'Scala', '23', 63.46] <class 'list'> 1436876788608\n",
      "[23, True, (3+4j), 45.64, 'Scala', '23', 63.46, 100] <class 'list'> 1436876788608\n",
      "[23, True, (3+4j), 45.64, '23', 63.46, 100] <class 'list'> 1436876788608\n"
     ]
    }
   ],
   "source": [
    "a  = [23,True,3+4j,45.64,\"Python\",\"23\",63.46]\n",
    "print(a,type(a),id(a))\n",
    "\n",
    "a[-3] = \"Scala\"\n",
    "\n",
    "print(a,type(a),id(a))\n",
    "\n",
    "a.append(100)\n",
    "\n",
    "print(a,type(a),id(a))\n",
    "\n",
    "a.remove(\"Scala\")\n",
    "\n",
    "print(a,type(a),id(a))"
   ]
  },
  {
   "cell_type": "code",
   "execution_count": 8,
   "id": "13024780",
   "metadata": {},
   "outputs": [
    {
     "name": "stdout",
     "output_type": "stream",
     "text": [
      "[] <class 'list'> 0\n"
     ]
    }
   ],
   "source": [
    "a = []\n",
    "print(a,type(a),len(a))"
   ]
  },
  {
   "cell_type": "code",
   "execution_count": 10,
   "id": "ac76672b",
   "metadata": {},
   "outputs": [
    {
     "name": "stdout",
     "output_type": "stream",
     "text": [
      "[23, True, (3+4j), 45.64, 'Python', '23', 63.46, 34.56, 'Programming', False] <class 'list'> 1436877066048 10\n"
     ]
    }
   ],
   "source": [
    "a  = [23,True,3+4j,45.64,\"Python\",\"23\",63.46,34.56,\"Programming\",False]\n",
    "print(a,type(a),id(a),len(a))"
   ]
  },
  {
   "cell_type": "code",
   "execution_count": 11,
   "id": "efd89182",
   "metadata": {},
   "outputs": [
    {
     "data": {
      "text/plain": [
       "['Programming', 63.46, 'Python', (3+4j)]"
      ]
     },
     "execution_count": 11,
     "metadata": {},
     "output_type": "execute_result"
    }
   ],
   "source": [
    "a[-2:-9:-2]\n",
    "# -2 = \"programming\"\n",
    "# -9 = -9+1 = -8 = 3+4j\n",
    "# -2 = "
   ]
  },
  {
   "cell_type": "code",
   "execution_count": 12,
   "id": "ccdb5dc8",
   "metadata": {},
   "outputs": [
    {
     "data": {
      "text/plain": [
       "[(3+4j)]"
      ]
     },
     "execution_count": 12,
     "metadata": {},
     "output_type": "execute_result"
    }
   ],
   "source": [
    "a[2:3]"
   ]
  },
  {
   "cell_type": "code",
   "execution_count": 13,
   "id": "27e47ff1",
   "metadata": {},
   "outputs": [
    {
     "data": {
      "text/plain": [
       "[(3+4j), 45.64, 'Python', '23', 63.46, 34.56, 'Programming']"
      ]
     },
     "execution_count": 13,
     "metadata": {},
     "output_type": "execute_result"
    }
   ],
   "source": [
    "a[2:9]"
   ]
  },
  {
   "cell_type": "code",
   "execution_count": 14,
   "id": "a999476c",
   "metadata": {},
   "outputs": [],
   "source": [
    "# method of List"
   ]
  },
  {
   "cell_type": "code",
   "execution_count": 15,
   "id": "db5f3bc4",
   "metadata": {},
   "outputs": [
    {
     "name": "stdout",
     "output_type": "stream",
     "text": [
      "[23, True, (3+4j), 45.64, 'Python', '23', 63.46, 34.56, 'Programming', False]\n"
     ]
    }
   ],
   "source": [
    "a  = [23,True,3+4j,45.64,\"Python\",\"23\",63.46,34.56,\"Programming\",False]\n",
    "\n",
    "print(a)"
   ]
  },
  {
   "cell_type": "code",
   "execution_count": 16,
   "id": "8c9641a8",
   "metadata": {},
   "outputs": [],
   "source": [
    "a.append(100)"
   ]
  },
  {
   "cell_type": "code",
   "execution_count": 17,
   "id": "f28d7b56",
   "metadata": {},
   "outputs": [
    {
     "name": "stdout",
     "output_type": "stream",
     "text": [
      "[23, True, (3+4j), 45.64, 'Python', '23', 63.46, 34.56, 'Programming', False, 100]\n"
     ]
    }
   ],
   "source": [
    "print(a)"
   ]
  },
  {
   "cell_type": "code",
   "execution_count": 18,
   "id": "7627c5f3",
   "metadata": {},
   "outputs": [
    {
     "ename": "TypeError",
     "evalue": "list.append() takes exactly one argument (2 given)",
     "output_type": "error",
     "traceback": [
      "\u001b[1;31m---------------------------------------------------------------------------\u001b[0m",
      "\u001b[1;31mTypeError\u001b[0m                                 Traceback (most recent call last)",
      "Cell \u001b[1;32mIn[18], line 1\u001b[0m\n\u001b[1;32m----> 1\u001b[0m \u001b[43ma\u001b[49m\u001b[38;5;241;43m.\u001b[39;49m\u001b[43mappend\u001b[49m\u001b[43m(\u001b[49m\u001b[38;5;241;43m120\u001b[39;49m\u001b[43m,\u001b[49m\u001b[38;5;241;43m363\u001b[39;49m\u001b[43m)\u001b[49m\n",
      "\u001b[1;31mTypeError\u001b[0m: list.append() takes exactly one argument (2 given)"
     ]
    }
   ],
   "source": [
    "a.append(120,363)"
   ]
  },
  {
   "cell_type": "code",
   "execution_count": null,
   "id": "25d1d4d1",
   "metadata": {},
   "outputs": [],
   "source": [
    "a.clear()"
   ]
  },
  {
   "cell_type": "code",
   "execution_count": 19,
   "id": "9f9c8204",
   "metadata": {},
   "outputs": [
    {
     "data": {
      "text/plain": [
       "1"
      ]
     },
     "execution_count": 19,
     "metadata": {},
     "output_type": "execute_result"
    }
   ],
   "source": [
    "a.count(23)"
   ]
  },
  {
   "cell_type": "code",
   "execution_count": 20,
   "id": "92e14770",
   "metadata": {},
   "outputs": [
    {
     "name": "stdout",
     "output_type": "stream",
     "text": [
      "[23, True, (3+4j), 45.64, 'Python', '23', 63.46, 34.56, 'Programming', False, 100]\n"
     ]
    }
   ],
   "source": [
    "print(a)"
   ]
  },
  {
   "cell_type": "code",
   "execution_count": 21,
   "id": "c96f35e1",
   "metadata": {},
   "outputs": [
    {
     "name": "stdout",
     "output_type": "stream",
     "text": [
      "[23, True, (3+4j), 45.64, 'Python', '23', 63.46, 34.56, 'Programming', False, 100, 1, 2, 3, 4, 5]\n"
     ]
    }
   ],
   "source": [
    "b= [1,2,3,4,5]\n",
    "a.extend(b)\n",
    "print(a)"
   ]
  },
  {
   "cell_type": "code",
   "execution_count": null,
   "id": "22136829",
   "metadata": {},
   "outputs": [],
   "source": [
    "a.extend([3,6,7,3,7,37])"
   ]
  },
  {
   "cell_type": "code",
   "execution_count": 22,
   "id": "f9b198b3",
   "metadata": {},
   "outputs": [
    {
     "data": {
      "text/plain": [
       "9"
      ]
     },
     "execution_count": 22,
     "metadata": {},
     "output_type": "execute_result"
    }
   ],
   "source": [
    "a.index(False)"
   ]
  },
  {
   "cell_type": "code",
   "execution_count": 26,
   "id": "4bae07ae",
   "metadata": {},
   "outputs": [
    {
     "ename": "ValueError",
     "evalue": "45.64 is not in list",
     "output_type": "error",
     "traceback": [
      "\u001b[1;31m---------------------------------------------------------------------------\u001b[0m",
      "\u001b[1;31mValueError\u001b[0m                                Traceback (most recent call last)",
      "Cell \u001b[1;32mIn[26], line 1\u001b[0m\n\u001b[1;32m----> 1\u001b[0m \u001b[43ma\u001b[49m\u001b[38;5;241;43m.\u001b[39;49m\u001b[43mindex\u001b[49m\u001b[43m(\u001b[49m\u001b[38;5;241;43m45.64\u001b[39;49m\u001b[43m,\u001b[49m\u001b[38;5;241;43m5\u001b[39;49m\u001b[43m,\u001b[49m\u001b[38;5;241;43m8\u001b[39;49m\u001b[43m)\u001b[49m\n",
      "\u001b[1;31mValueError\u001b[0m: 45.64 is not in list"
     ]
    }
   ],
   "source": [
    "a.index(45.64,5,8)"
   ]
  },
  {
   "cell_type": "code",
   "execution_count": 27,
   "id": "7270452e",
   "metadata": {},
   "outputs": [
    {
     "name": "stdout",
     "output_type": "stream",
     "text": [
      "[23, True, (3+4j), 45.64, 'Python', '23', 63.46, 34.56, 'Programming', False, 100, 1, 2, 3, 4, 5]\n"
     ]
    }
   ],
   "source": [
    "print(a)"
   ]
  },
  {
   "cell_type": "code",
   "execution_count": 28,
   "id": "6e1e57f9",
   "metadata": {},
   "outputs": [],
   "source": [
    "a.insert(3,99)"
   ]
  },
  {
   "cell_type": "code",
   "execution_count": 29,
   "id": "1920782d",
   "metadata": {},
   "outputs": [
    {
     "name": "stdout",
     "output_type": "stream",
     "text": [
      "[23, True, (3+4j), 99, 45.64, 'Python', '23', 63.46, 34.56, 'Programming', False, 100, 1, 2, 3, 4, 5]\n"
     ]
    }
   ],
   "source": [
    "print(a)"
   ]
  },
  {
   "cell_type": "code",
   "execution_count": null,
   "id": "3b097f90",
   "metadata": {},
   "outputs": [],
   "source": [
    "# a.pop(index)\n",
    "# a.pop()"
   ]
  },
  {
   "cell_type": "code",
   "execution_count": 30,
   "id": "bcab1734",
   "metadata": {},
   "outputs": [
    {
     "name": "stdout",
     "output_type": "stream",
     "text": [
      "4\n"
     ]
    }
   ],
   "source": [
    "print(a.pop(-2))"
   ]
  },
  {
   "cell_type": "code",
   "execution_count": 31,
   "id": "49307d97",
   "metadata": {},
   "outputs": [
    {
     "name": "stdout",
     "output_type": "stream",
     "text": [
      "[23, True, (3+4j), 99, 45.64, 'Python', '23', 63.46, 34.56, 'Programming', False, 100, 1, 2, 3, 5]\n"
     ]
    }
   ],
   "source": [
    "print(a)"
   ]
  },
  {
   "cell_type": "code",
   "execution_count": 32,
   "id": "93ce4050",
   "metadata": {},
   "outputs": [
    {
     "name": "stdout",
     "output_type": "stream",
     "text": [
      "5\n"
     ]
    }
   ],
   "source": [
    "print(a.pop())"
   ]
  },
  {
   "cell_type": "code",
   "execution_count": 33,
   "id": "7c1d1051",
   "metadata": {},
   "outputs": [],
   "source": [
    "a.remove(\"Python\")"
   ]
  },
  {
   "cell_type": "code",
   "execution_count": 34,
   "id": "d30f62e4",
   "metadata": {},
   "outputs": [
    {
     "name": "stdout",
     "output_type": "stream",
     "text": [
      "[23, True, (3+4j), 99, 45.64, '23', 63.46, 34.56, 'Programming', False, 100, 1, 2, 3]\n"
     ]
    }
   ],
   "source": [
    "print(a)"
   ]
  },
  {
   "cell_type": "code",
   "execution_count": 38,
   "id": "21e24b4b",
   "metadata": {},
   "outputs": [
    {
     "name": "stdout",
     "output_type": "stream",
     "text": [
      "None\n"
     ]
    }
   ],
   "source": [
    "print(a.remove(True))"
   ]
  },
  {
   "cell_type": "code",
   "execution_count": 39,
   "id": "d78e1809",
   "metadata": {},
   "outputs": [
    {
     "name": "stdout",
     "output_type": "stream",
     "text": [
      "[23, (3+4j), 99, 45.64, '23', 63.46, 34.56, 'Programming', False, 100, 1, 2, 3]\n"
     ]
    }
   ],
   "source": [
    "print(a)"
   ]
  },
  {
   "cell_type": "code",
   "execution_count": 40,
   "id": "db5b8119",
   "metadata": {},
   "outputs": [],
   "source": [
    "a.reverse()"
   ]
  },
  {
   "cell_type": "code",
   "execution_count": 41,
   "id": "d7386d8c",
   "metadata": {},
   "outputs": [
    {
     "name": "stdout",
     "output_type": "stream",
     "text": [
      "[3, 2, 1, 100, False, 'Programming', 34.56, 63.46, '23', 45.64, 99, (3+4j), 23]\n"
     ]
    }
   ],
   "source": [
    "print(a)"
   ]
  },
  {
   "cell_type": "code",
   "execution_count": 42,
   "id": "db419b8e",
   "metadata": {},
   "outputs": [
    {
     "name": "stdout",
     "output_type": "stream",
     "text": [
      "None\n"
     ]
    }
   ],
   "source": [
    "d = a.reverse()\n",
    "print(d)"
   ]
  },
  {
   "cell_type": "code",
   "execution_count": 43,
   "id": "fbbff817",
   "metadata": {},
   "outputs": [
    {
     "name": "stdout",
     "output_type": "stream",
     "text": [
      "[23, (3+4j), 99, 45.64, '23', 63.46, 34.56, 'Programming', False, 100, 1, 2, 3]\n"
     ]
    }
   ],
   "source": [
    "print(a)"
   ]
  },
  {
   "cell_type": "code",
   "execution_count": 44,
   "id": "26298735",
   "metadata": {},
   "outputs": [
    {
     "ename": "TypeError",
     "evalue": "'<' not supported between instances of 'complex' and 'int'",
     "output_type": "error",
     "traceback": [
      "\u001b[1;31m---------------------------------------------------------------------------\u001b[0m",
      "\u001b[1;31mTypeError\u001b[0m                                 Traceback (most recent call last)",
      "Cell \u001b[1;32mIn[44], line 1\u001b[0m\n\u001b[1;32m----> 1\u001b[0m \u001b[43ma\u001b[49m\u001b[38;5;241;43m.\u001b[39;49m\u001b[43msort\u001b[49m\u001b[43m(\u001b[49m\u001b[43m)\u001b[49m\n",
      "\u001b[1;31mTypeError\u001b[0m: '<' not supported between instances of 'complex' and 'int'"
     ]
    }
   ],
   "source": [
    "a.sort()"
   ]
  },
  {
   "cell_type": "code",
   "execution_count": 48,
   "id": "489e8dfd",
   "metadata": {},
   "outputs": [
    {
     "name": "stdout",
     "output_type": "stream",
     "text": [
      "[True, 4, 15, 23, 34.0, 83, 84, 247, 267, 267, 934, 2353]\n"
     ]
    }
   ],
   "source": [
    "a= [15,23,4,247,83,34.0,2353,84,267,267,934,True]\n",
    "a.sort()\n",
    "print(a)"
   ]
  },
  {
   "cell_type": "code",
   "execution_count": 51,
   "id": "4ae710b6",
   "metadata": {},
   "outputs": [],
   "source": [
    "a.sort(reverse=True)"
   ]
  },
  {
   "cell_type": "code",
   "execution_count": 50,
   "id": "a201f9f8",
   "metadata": {},
   "outputs": [
    {
     "name": "stdout",
     "output_type": "stream",
     "text": [
      "[2353, 934, 267, 267, 247, 84, 83, 34.0, 23, 15, 4, True]\n"
     ]
    }
   ],
   "source": [
    "print(a)"
   ]
  },
  {
   "cell_type": "code",
   "execution_count": 52,
   "id": "493ab0ce",
   "metadata": {},
   "outputs": [
    {
     "name": "stdout",
     "output_type": "stream",
     "text": [
      "[2353, 934, 267, 267, 247, 84, 83, 34.0, 23, 15, 4, True] <class 'list'> 1436882812416\n",
      "[2353, 934, 267, 267, 247, 84, 83, 34.0, 23, 15, 4, True] <class 'list'> 1436882075264\n"
     ]
    }
   ],
   "source": [
    "b = a.copy() # Shallow Copy\n",
    "\n",
    "print(a,type(a),id(a))\n",
    "print(b,type(b),id(b))\n"
   ]
  },
  {
   "cell_type": "code",
   "execution_count": 53,
   "id": "960304bd",
   "metadata": {},
   "outputs": [
    {
     "name": "stdout",
     "output_type": "stream",
     "text": [
      "[2353, 934, 267, 267, 247, 84, 83, 34.0, 23, 15, 4, True] <class 'list'> 1436882075264\n",
      "[2353, 934, 267, 267, 247, 84, 83, 34.0, 23, 15, 4, True] <class 'list'> 1436882075264\n"
     ]
    }
   ],
   "source": [
    "d = b # Deep Copy\n",
    "\n",
    "print(b,type(b),id(b))\n",
    "print(d,type(d),id(d))\n"
   ]
  },
  {
   "cell_type": "code",
   "execution_count": 54,
   "id": "025f0405",
   "metadata": {},
   "outputs": [
    {
     "name": "stdout",
     "output_type": "stream",
     "text": [
      "[2353, 934, 267, 267, 247, 84, 83, 34.0, 23, 15, 4, True]\n"
     ]
    }
   ],
   "source": [
    "print(a)"
   ]
  },
  {
   "cell_type": "code",
   "execution_count": 55,
   "id": "bddc9c24",
   "metadata": {},
   "outputs": [],
   "source": [
    "del a[2:5]"
   ]
  },
  {
   "cell_type": "code",
   "execution_count": 56,
   "id": "a65d18f7",
   "metadata": {},
   "outputs": [
    {
     "name": "stdout",
     "output_type": "stream",
     "text": [
      "[2353, 934, 84, 83, 34.0, 23, 15, 4, True]\n"
     ]
    }
   ],
   "source": [
    "print(a)"
   ]
  },
  {
   "cell_type": "code",
   "execution_count": 57,
   "id": "e3d27ff3",
   "metadata": {},
   "outputs": [
    {
     "data": {
      "text/plain": [
       "3531.0"
      ]
     },
     "execution_count": 57,
     "metadata": {},
     "output_type": "execute_result"
    }
   ],
   "source": [
    "sum(a)"
   ]
  },
  {
   "cell_type": "code",
   "execution_count": 58,
   "id": "720b9717",
   "metadata": {},
   "outputs": [
    {
     "data": {
      "text/plain": [
       "True"
      ]
     },
     "execution_count": 58,
     "metadata": {},
     "output_type": "execute_result"
    }
   ],
   "source": [
    "min(a)"
   ]
  },
  {
   "cell_type": "code",
   "execution_count": 59,
   "id": "4d89f1ea",
   "metadata": {},
   "outputs": [
    {
     "data": {
      "text/plain": [
       "2353"
      ]
     },
     "execution_count": 59,
     "metadata": {},
     "output_type": "execute_result"
    }
   ],
   "source": [
    "max(a)"
   ]
  },
  {
   "cell_type": "code",
   "execution_count": 64,
   "id": "5d7f168c",
   "metadata": {},
   "outputs": [
    {
     "name": "stdout",
     "output_type": "stream",
     "text": [
      "[2353, 934, 84, 83, 34.0, 23, 15, 4, True]\n"
     ]
    }
   ],
   "source": [
    "print(a)"
   ]
  },
  {
   "cell_type": "code",
   "execution_count": 65,
   "id": "a90af9ca",
   "metadata": {},
   "outputs": [
    {
     "name": "stdout",
     "output_type": "stream",
     "text": [
      "392.3333333333333\n"
     ]
    }
   ],
   "source": [
    "average_of_list =  sum(a)/len(a)\n",
    "print(average_of_list)\n",
    "\n",
    "# avg = sum of all elements/ count of elements"
   ]
  },
  {
   "cell_type": "code",
   "execution_count": 69,
   "id": "66c05c7e",
   "metadata": {},
   "outputs": [
    {
     "ename": "TypeError",
     "evalue": "'>' not supported between instances of 'int' and 'str'",
     "output_type": "error",
     "traceback": [
      "\u001b[1;31m---------------------------------------------------------------------------\u001b[0m",
      "\u001b[1;31mTypeError\u001b[0m                                 Traceback (most recent call last)",
      "Cell \u001b[1;32mIn[69], line 2\u001b[0m\n\u001b[0;32m      1\u001b[0m a \u001b[38;5;241m=\u001b[39m [\u001b[38;5;124m\"\u001b[39m\u001b[38;5;124mMax\u001b[39m\u001b[38;5;124m\"\u001b[39m,\u001b[38;5;124m\"\u001b[39m\u001b[38;5;124mjones\u001b[39m\u001b[38;5;124m\"\u001b[39m,\u001b[38;5;124m\"\u001b[39m\u001b[38;5;124mMark\u001b[39m\u001b[38;5;124m\"\u001b[39m,\u001b[38;5;124m\"\u001b[39m\u001b[38;5;124mRobert\u001b[39m\u001b[38;5;124m\"\u001b[39m,\u001b[38;5;124m\"\u001b[39m\u001b[38;5;124mmiles\u001b[39m\u001b[38;5;124m\"\u001b[39m,\u001b[38;5;241m23\u001b[39m]\n\u001b[1;32m----> 2\u001b[0m \u001b[38;5;28;43mmax\u001b[39;49m\u001b[43m(\u001b[49m\u001b[43ma\u001b[49m\u001b[43m)\u001b[49m\n",
      "\u001b[1;31mTypeError\u001b[0m: '>' not supported between instances of 'int' and 'str'"
     ]
    }
   ],
   "source": [
    "a = [\"Max\",\"jones\",\"Mark\",\"Robert\",\"miles\"]\n",
    "max(a)"
   ]
  },
  {
   "cell_type": "code",
   "execution_count": 72,
   "id": "aa0e8198",
   "metadata": {},
   "outputs": [
    {
     "name": "stdout",
     "output_type": "stream",
     "text": [
      "[2, 4, 6, 8, 10, 12, 14, 16, 18, 20]\n"
     ]
    }
   ],
   "source": [
    "even_num = list(range(2,21,2))\n",
    "print(even_num)"
   ]
  },
  {
   "cell_type": "code",
   "execution_count": 73,
   "id": "45c4b27f",
   "metadata": {},
   "outputs": [
    {
     "name": "stdout",
     "output_type": "stream",
     "text": [
      "[[1, 2, 3], [4, 5, 6], [7, 8, 9], [10, 11, 12]] <class 'list'>\n"
     ]
    }
   ],
   "source": [
    "a = [[1,2,3],[4,5,6],[7,8,9],[10,11,12]]\n",
    "\n",
    "print(a,type(a))"
   ]
  },
  {
   "cell_type": "code",
   "execution_count": 74,
   "id": "8a21d625",
   "metadata": {},
   "outputs": [
    {
     "name": "stdout",
     "output_type": "stream",
     "text": [
      "[1, 2, 3]\n",
      "[4, 5, 6]\n",
      "[7, 8, 9]\n",
      "[10, 11, 12]\n"
     ]
    }
   ],
   "source": [
    "for i in a:\n",
    "    print(i)"
   ]
  },
  {
   "cell_type": "code",
   "execution_count": 75,
   "id": "883aa9ce",
   "metadata": {},
   "outputs": [
    {
     "data": {
      "text/plain": [
       "[7, 8, 9]"
      ]
     },
     "execution_count": 75,
     "metadata": {},
     "output_type": "execute_result"
    }
   ],
   "source": [
    "a[-2]"
   ]
  },
  {
   "cell_type": "code",
   "execution_count": 76,
   "id": "d331070a",
   "metadata": {},
   "outputs": [
    {
     "name": "stdout",
     "output_type": "stream",
     "text": [
      "[[1, 2, 3], [4, 5, 6], [7, 8, 9], [10, 11, 12], 13]\n"
     ]
    }
   ],
   "source": [
    "a.append(13)\n",
    "\n",
    "print(a)"
   ]
  },
  {
   "cell_type": "code",
   "execution_count": 77,
   "id": "bd8e1afb",
   "metadata": {},
   "outputs": [
    {
     "name": "stdout",
     "output_type": "stream",
     "text": [
      "[[1, 2, 3], [4, 5, 6], [7, 8, 9], [10, 11, 12, 13], 13]\n"
     ]
    }
   ],
   "source": [
    "a[-2].append(13)\n",
    "\n",
    "print(a)"
   ]
  },
  {
   "cell_type": "code",
   "execution_count": 78,
   "id": "ad42504b",
   "metadata": {},
   "outputs": [
    {
     "name": "stdout",
     "output_type": "stream",
     "text": [
      "[[1, 2, 3], [4, 5, 6], [7, 8, 9], [10, 11, 12, 13, 14, 15, 16], 13]\n"
     ]
    }
   ],
   "source": [
    "a[-2].extend([14,15,16])\n",
    "\n",
    "print(a)"
   ]
  },
  {
   "cell_type": "code",
   "execution_count": 79,
   "id": "b4dbcdc0",
   "metadata": {},
   "outputs": [],
   "source": [
    "# List Concatenation"
   ]
  },
  {
   "cell_type": "code",
   "execution_count": 80,
   "id": "229ccaeb",
   "metadata": {},
   "outputs": [],
   "source": [
    "a= [1,2,3]\n",
    "b= [4,5,6]\n",
    "c= a+b"
   ]
  },
  {
   "cell_type": "code",
   "execution_count": 81,
   "id": "b9cea018",
   "metadata": {},
   "outputs": [
    {
     "name": "stdout",
     "output_type": "stream",
     "text": [
      "[1, 2, 3, 4, 5, 6]\n"
     ]
    }
   ],
   "source": [
    "print(a+b)"
   ]
  },
  {
   "cell_type": "code",
   "execution_count": 82,
   "id": "7f5e0715",
   "metadata": {},
   "outputs": [
    {
     "name": "stdout",
     "output_type": "stream",
     "text": [
      "[1, 2, 3, 4, 5, 6]\n"
     ]
    }
   ],
   "source": [
    "print(c)"
   ]
  },
  {
   "cell_type": "code",
   "execution_count": 83,
   "id": "f2478f59",
   "metadata": {},
   "outputs": [
    {
     "ename": "TypeError",
     "evalue": "can only concatenate list (not \"int\") to list",
     "output_type": "error",
     "traceback": [
      "\u001b[1;31m---------------------------------------------------------------------------\u001b[0m",
      "\u001b[1;31mTypeError\u001b[0m                                 Traceback (most recent call last)",
      "Cell \u001b[1;32mIn[83], line 1\u001b[0m\n\u001b[1;32m----> 1\u001b[0m \u001b[43mc\u001b[49m\u001b[38;5;241;43m+\u001b[39;49m\u001b[38;5;241;43m2\u001b[39;49m\n",
      "\u001b[1;31mTypeError\u001b[0m: can only concatenate list (not \"int\") to list"
     ]
    }
   ],
   "source": [
    "c+2"
   ]
  },
  {
   "cell_type": "code",
   "execution_count": 84,
   "id": "24c2bdf6",
   "metadata": {},
   "outputs": [
    {
     "data": {
      "text/plain": [
       "[1, 2, 3, 4, 5, 6, 1, 2, 3, 4, 5, 6]"
      ]
     },
     "execution_count": 84,
     "metadata": {},
     "output_type": "execute_result"
    }
   ],
   "source": [
    "c*2"
   ]
  },
  {
   "cell_type": "markdown",
   "id": "a076bb9b",
   "metadata": {},
   "source": [
    "# Tuple Data Type\n",
    "\n",
    "A tuple is an ordered collection of elements, usually of different data types. It maintains the order of the elements as they are added.\n",
    "\n",
    "An object of tuple maintains Insertion Oder i.e. In whichever Order, we insert the data, in the same order we get the output\n",
    "\n",
    "Think of a tuple like a special bag where you can put different items in a specific order. You can't change the items once they're inside the bag, and you can't add or remove anything from it. Each item has a number that shows its place in the bag, starting from 0 for the first item. Tuples are often used when you want to keep a few related things together, like coordinates or pieces of information. They're like a fixed set of things that you can look at, but you can't change what's inside.\n",
    "\n",
    "Immutable: Tuples are immutable, which means once created, you cannot modify, add, or remove elements from them. You can only create a new tuple if you need to make changes.\n",
    "\n",
    "Syntax: Tuples are typically defined using parentheses () and separating elements with commas. For example: (1, \"apple\", 3.14).\n",
    "\n",
    " Heterogeneous: Tuples can hold elements of different data types. For instance, a tuple can contain an integer, a string, and a floating-point number in the same order.\n",
    "\n",
    " Accessing Elements: Elements within a tuple can be accessed using indexing. Indexing starts from 0 for the first element, 1 for the second, and so on. For example, in the tuple (1, 2, 3), 1 is accessed using index 0.\n",
    "\n",
    " Use Cases: Tuples are often used to represent a collection of related values that need to be kept together. For instance, storing coordinates (x, y) or date-time information (year, month, day, hour, minute, second).\n",
    "\n",
    " Function Returns: Tuples are commonly used to return multiple values from a function. This allows you to return a structured set of values instead of using separate return statements.\n",
    "\n",
    " Unpacking: You can unpack the elements of a tuple into individual variables. This is particularly useful when a function returns a tuple, and you want to assign its elements to different variables.\n",
    "\n",
    " Comparing Tuples: Tuples can be compared element-wise. The comparison starts from the first element of each tuple. If they're equal, the second elements are compared, and so on.\n",
    "\n",
    " Size and Performance: Tuples generally consume less memory compared to lists (another common data structure), as they are immutable and don't need methods for modification. This can make them slightly faster and more memory-efficient in certain situations.\n",
    "\n",
    "There are two types of tuples\n",
    "\n",
    "Non Empty Tuple\n",
    "\n",
    "Empty Tuple"
   ]
  },
  {
   "cell_type": "code",
   "execution_count": 86,
   "id": "64fc8c10",
   "metadata": {},
   "outputs": [
    {
     "name": "stdout",
     "output_type": "stream",
     "text": [
      "() <class 'tuple'>\n"
     ]
    }
   ],
   "source": [
    "a = () # Empty Tuple\n",
    "print(a,type(a))"
   ]
  },
  {
   "cell_type": "code",
   "execution_count": 87,
   "id": "dd08ffb4",
   "metadata": {},
   "outputs": [
    {
     "name": "stdout",
     "output_type": "stream",
     "text": [
      "(1, 2, 3, 4, 5) <class 'tuple'>\n"
     ]
    }
   ],
   "source": [
    "a = (1,2,3,4,5) # Non Empty Tuple\n",
    "print(a,type(a))"
   ]
  },
  {
   "cell_type": "code",
   "execution_count": 88,
   "id": "33088fea",
   "metadata": {},
   "outputs": [
    {
     "data": {
      "text/plain": [
       "3"
      ]
     },
     "execution_count": 88,
     "metadata": {},
     "output_type": "execute_result"
    }
   ],
   "source": [
    "a[2]"
   ]
  },
  {
   "cell_type": "code",
   "execution_count": 89,
   "id": "b9de80ad",
   "metadata": {},
   "outputs": [
    {
     "data": {
      "text/plain": [
       "(3, 4)"
      ]
     },
     "execution_count": 89,
     "metadata": {},
     "output_type": "execute_result"
    }
   ],
   "source": [
    "a[2:4]"
   ]
  },
  {
   "cell_type": "code",
   "execution_count": 90,
   "id": "54fdfb1f",
   "metadata": {},
   "outputs": [
    {
     "ename": "TypeError",
     "evalue": "'tuple' object does not support item assignment",
     "output_type": "error",
     "traceback": [
      "\u001b[1;31m---------------------------------------------------------------------------\u001b[0m",
      "\u001b[1;31mTypeError\u001b[0m                                 Traceback (most recent call last)",
      "Cell \u001b[1;32mIn[90], line 1\u001b[0m\n\u001b[1;32m----> 1\u001b[0m a[\u001b[38;5;241m2\u001b[39m]\u001b[38;5;241m=\u001b[39m\u001b[38;5;241m100\u001b[39m\n",
      "\u001b[1;31mTypeError\u001b[0m: 'tuple' object does not support item assignment"
     ]
    }
   ],
   "source": [
    "a[2]=100"
   ]
  },
  {
   "cell_type": "code",
   "execution_count": 91,
   "id": "59bf9a5d",
   "metadata": {},
   "outputs": [
    {
     "name": "stdout",
     "output_type": "stream",
     "text": [
      "(1, 2, 3, 4, 5)\n"
     ]
    }
   ],
   "source": [
    "print(a)"
   ]
  },
  {
   "cell_type": "code",
   "execution_count": 92,
   "id": "9d7fbf18",
   "metadata": {},
   "outputs": [
    {
     "name": "stdout",
     "output_type": "stream",
     "text": [
      "(1, 2, 3, 4, 5, 2, 3, 1, 5, 2, 5, 1, 4, 2, 5, 2)\n"
     ]
    }
   ],
   "source": [
    "a = (1,2,3,4,5,2,3,1,5,2,5,1,4,2,5,2)\n",
    "\n",
    "\n",
    "print(a)"
   ]
  },
  {
   "cell_type": "code",
   "execution_count": 93,
   "id": "eea0e98a",
   "metadata": {},
   "outputs": [
    {
     "data": {
      "text/plain": [
       "4"
      ]
     },
     "execution_count": 93,
     "metadata": {},
     "output_type": "execute_result"
    }
   ],
   "source": [
    "a.count(5)"
   ]
  },
  {
   "cell_type": "code",
   "execution_count": 98,
   "id": "3233a6b7",
   "metadata": {},
   "outputs": [
    {
     "data": {
      "text/plain": [
       "9"
      ]
     },
     "execution_count": 98,
     "metadata": {},
     "output_type": "execute_result"
    }
   ],
   "source": [
    "a.index(2,6)"
   ]
  },
  {
   "cell_type": "code",
   "execution_count": 100,
   "id": "856ab36a",
   "metadata": {},
   "outputs": [
    {
     "name": "stdout",
     "output_type": "stream",
     "text": [
      "(1, 2, 3, 4, 5, 2, 3, 1, 5, 2, 5, 1, 4, 2, 5, 2)\n",
      "(1, 2, 3, 4, 5, 2, 3, 1, 5, 2, 5, 1, 4, 2, 5, 2)\n"
     ]
    }
   ],
   "source": [
    "d = a\n",
    "\n",
    "print(a)\n",
    "print(d)"
   ]
  },
  {
   "cell_type": "code",
   "execution_count": 101,
   "id": "4be10f5d",
   "metadata": {},
   "outputs": [
    {
     "data": {
      "text/plain": [
       "1"
      ]
     },
     "execution_count": 101,
     "metadata": {},
     "output_type": "execute_result"
    }
   ],
   "source": [
    "min(a)"
   ]
  },
  {
   "cell_type": "code",
   "execution_count": 102,
   "id": "30791e60",
   "metadata": {},
   "outputs": [
    {
     "data": {
      "text/plain": [
       "5"
      ]
     },
     "execution_count": 102,
     "metadata": {},
     "output_type": "execute_result"
    }
   ],
   "source": [
    "max(a)"
   ]
  },
  {
   "cell_type": "code",
   "execution_count": 103,
   "id": "9988092c",
   "metadata": {},
   "outputs": [
    {
     "data": {
      "text/plain": [
       "47"
      ]
     },
     "execution_count": 103,
     "metadata": {},
     "output_type": "execute_result"
    }
   ],
   "source": [
    "sum(a)"
   ]
  },
  {
   "cell_type": "code",
   "execution_count": 104,
   "id": "150517d3",
   "metadata": {},
   "outputs": [
    {
     "name": "stdout",
     "output_type": "stream",
     "text": [
      "(3, 4, 2, 5, 5) <class 'tuple'>\n"
     ]
    }
   ],
   "source": [
    "a = 3,4,2,5,5 # tuple packing\n",
    "print(a,type(a))"
   ]
  },
  {
   "cell_type": "code",
   "execution_count": 105,
   "id": "06804736",
   "metadata": {},
   "outputs": [
    {
     "name": "stdout",
     "output_type": "stream",
     "text": [
      "(3, 4, 2, 5, 5)\n"
     ]
    }
   ],
   "source": [
    "print(a)"
   ]
  },
  {
   "cell_type": "code",
   "execution_count": 106,
   "id": "ae5bedef",
   "metadata": {},
   "outputs": [
    {
     "name": "stdout",
     "output_type": "stream",
     "text": [
      "3\n",
      "4\n",
      "2\n",
      "5\n",
      "5\n"
     ]
    }
   ],
   "source": [
    "e,f,g,h,i = a # tuple unpacking\n",
    "print(e)\n",
    "print(f)\n",
    "print(g)\n",
    "print(h)\n",
    "print(i)"
   ]
  },
  {
   "cell_type": "code",
   "execution_count": 107,
   "id": "8ce01aeb",
   "metadata": {},
   "outputs": [
    {
     "ename": "ValueError",
     "evalue": "too many values to unpack (expected 4)",
     "output_type": "error",
     "traceback": [
      "\u001b[1;31m---------------------------------------------------------------------------\u001b[0m",
      "\u001b[1;31mValueError\u001b[0m                                Traceback (most recent call last)",
      "Cell \u001b[1;32mIn[107], line 1\u001b[0m\n\u001b[1;32m----> 1\u001b[0m e,f,g,h \u001b[38;5;241m=\u001b[39m a\n\u001b[0;32m      2\u001b[0m \u001b[38;5;28mprint\u001b[39m(e)\n\u001b[0;32m      3\u001b[0m \u001b[38;5;28mprint\u001b[39m(f)\n",
      "\u001b[1;31mValueError\u001b[0m: too many values to unpack (expected 4)"
     ]
    }
   ],
   "source": [
    "e,f,g,h = a\n",
    "print(e)\n",
    "print(f)\n",
    "print(g)\n",
    "print(h)\n"
   ]
  },
  {
   "cell_type": "code",
   "execution_count": 108,
   "id": "da90aa2e",
   "metadata": {},
   "outputs": [
    {
     "name": "stdout",
     "output_type": "stream",
     "text": [
      "((1, 2), (3, 4), (5, 6), (6, 7), (8, 9)) <class 'tuple'>\n"
     ]
    }
   ],
   "source": [
    "a = ((1,2),(3,4),(5,6),(6,7),(8,9))\n",
    "print(a,type(a))"
   ]
  },
  {
   "cell_type": "code",
   "execution_count": 110,
   "id": "0f7feaaa",
   "metadata": {},
   "outputs": [
    {
     "name": "stdout",
     "output_type": "stream",
     "text": [
      "(5, 6) <class 'tuple'>\n"
     ]
    }
   ],
   "source": [
    "b = a[2]\n",
    "print(b,type(b))"
   ]
  },
  {
   "cell_type": "code",
   "execution_count": 111,
   "id": "73842b9b",
   "metadata": {},
   "outputs": [
    {
     "name": "stdout",
     "output_type": "stream",
     "text": [
      "((1, 2), (3, 4), [1, 2, 3, 4, 5], (6, 7), (8, 9), [8, 9, 10]) <class 'tuple'>\n"
     ]
    }
   ],
   "source": [
    "a = ((1,2),(3,4),[1,2,3,4,5],(6,7),(8,9),[8,9,10])\n",
    "print(a,type(a))"
   ]
  },
  {
   "cell_type": "code",
   "execution_count": 113,
   "id": "1810acf3",
   "metadata": {},
   "outputs": [],
   "source": [
    "a[2].append(100)"
   ]
  },
  {
   "cell_type": "code",
   "execution_count": 114,
   "id": "eaf8b246",
   "metadata": {},
   "outputs": [
    {
     "name": "stdout",
     "output_type": "stream",
     "text": [
      "((1, 2), (3, 4), [1, 2, 3, 4, 5, 100], (6, 7), (8, 9), [8, 9, 10])\n"
     ]
    }
   ],
   "source": [
    "print(a)"
   ]
  },
  {
   "cell_type": "code",
   "execution_count": 115,
   "id": "b9d7e28a",
   "metadata": {},
   "outputs": [
    {
     "ename": "AttributeError",
     "evalue": "'tuple' object has no attribute 'append'",
     "output_type": "error",
     "traceback": [
      "\u001b[1;31m---------------------------------------------------------------------------\u001b[0m",
      "\u001b[1;31mAttributeError\u001b[0m                            Traceback (most recent call last)",
      "Cell \u001b[1;32mIn[115], line 1\u001b[0m\n\u001b[1;32m----> 1\u001b[0m \u001b[43ma\u001b[49m\u001b[38;5;241;43m.\u001b[39;49m\u001b[43mappend\u001b[49m(\u001b[38;5;241m100\u001b[39m)\n",
      "\u001b[1;31mAttributeError\u001b[0m: 'tuple' object has no attribute 'append'"
     ]
    }
   ],
   "source": [
    "a.append(100)"
   ]
  },
  {
   "cell_type": "markdown",
   "id": "02be9340",
   "metadata": {},
   "source": [
    "# Set Data Type\n",
    "\n",
    "•\tA set is an unordered collection of unique elements in Python.\n",
    "\n",
    "•\tUnordered Collection: It means that the elements in a set do not have a specific order or sequence. When you create a set or add elements to it, Python does not maintain the order in which the elements were inserted. Therefore, you cannot access elements in a set using indexing or slicing, as you would with lists or tuples. The lack of order means that you cannot rely on the position of elements within a set.\n",
    "\n",
    "•\tUnique Elements: Each element in a set must be unique; duplicates are not allowed. When you add an element to a set that is already present, the set will not store the duplicate. It will only keep one instance of that element. This property ensures that every element in a set is distinct.\n",
    "\n",
    "•\tMutable and add() method: Sets are mutable, which means you can modify them after they are created. The add() method is used to insert a single element into the set. For example:\n",
    "\n",
    "•\tmy_set = {1, 2, 3}    \tmy_set.append()\t\t\tmy_set[2]=34\n",
    "\n",
    "•\tmy_set.add(4) \t# Now the set is {1, 2, 3, 4} \n",
    "\n",
    "•\tImmutable and item assignment: Sets do not support item assignment like lists or other mutable collections. This means you cannot change the value of a specific element in a set by using an index because sets don't have a concept of ordering and indexing. For example:\n",
    "\n",
    "•\tmy_set = {1, 2, 3} \n",
    "\n",
    "•\tmy_set[1] = 5 # This will raise an error\n",
    "\n",
    "•\tIt is defined using curly braces {} and a comma-separated list of elements.\n",
    "\n",
    "\n",
    "Creating a set\n",
    "\n",
    "•\tmy_set = {element1, element2, element3, ...,element n}\n",
    "\n",
    "•\tSets automatically remove duplicate elements, ensuring that each element appears only once in the set.\n",
    "\n",
    "•\tPython sets are mutable, meaning you can add or remove elements after creating the set.\n",
    "\n",
    "•\tUnlike lists or tuples, sets do not support indexing or slicing because they are unordered.\n",
    "\n",
    "\n",
    "  Why Sets were Introduced in Python\n",
    "  \n",
    "•\tSets were introduced in Python to provide a built-in data type for efficiently managing collections of unique elements. The introduction of sets in Python has several motivations and use cases:\n",
    "\n",
    "•\tUniqueness: Sets ensure that each element in the collection is unique. Duplicates are automatically removed when you add elements to a set. This makes sets a convenient choice when dealing with data that should not contain repeated elements.\n",
    "\n",
    "•\tFast Membership Testing: Sets offer constant-time (O(1)) membership testing. You can quickly check whether an element is present in a set, regardless of the size of the set. This property makes sets suitable for scenarios where you frequently need to check for the existence of elements.\n",
    "\n",
    "•\tSet Operations: Sets support various set operations like union, intersection, difference, and symmetric difference. These operations are fundamental in many applications, including data manipulation, mathematical modeling, and algorithm design.\n",
    "\n",
    "•\tMathematical Modeling: Sets are essential in mathematical modeling, where the concept of collections with unique elements is frequently used. Sets provide an easy and intuitive way to represent these mathematical sets and perform operations on them.\n",
    "\n",
    "•\tData Cleaning: When dealing with datasets, sets can be used to filter unique items or remove duplicates efficiently, simplifying data cleaning tasks.\n",
    "\n",
    "\n",
    "BASIS\tSET\tLIST\n",
    "\n",
    "Creation\tYou create a set with the set() constructor or curly braces.\tYou create a list with the list() constructor or square brackets.\n",
    "\n",
    "Duplicate\tA set cannot have duplicate values. All values must be unique.\tA list can have duplicate values.\n",
    "\n",
    "Order\tA set is unordered. When you print the items in a list, they don't come in the order you arranged them.\tA list is ordered. When printed, the items in the list are returned in the same order put in.\n",
    "\n",
    "Mutation\tYou can't change the items of a set, but you can add to the set and remove from it.\tYou can change the items in a list and you can add to the list.\n",
    "\n",
    "\n",
    "Empty Set\n",
    "a={}\n",
    "print(type(a2))\n",
    "Result:- <class 'dict'>\n",
    "\n",
    "In Python, when you use empty curly braces {} without any elements inside, it creates an empty dictionary, not an empty set. This can be confusing, but it's due to the historical design of the language.\n",
    "\n",
    "To create an empty set, you should use the set() constructor, like this:\n",
    "a = set()\n",
    "print(type(a)) \n",
    "\n",
    "Output: <class 'set'>\n",
    "\n",
    "\n",
    "my_set = {1, 2, 3, 4, 5}\n",
    "\n",
    " Trying to access an element using subscript notation\n",
    "element = my_set[3]  # This line will raise the TypeError\n",
    "TypeError: 'set' object is not subscriptable\n",
    "\n",
    "The error message \"TypeError: 'set' object is not subscriptable\" occurs when you try to access an element from a set using the subscript notation ([]). In Python, sets do not support indexing, which means you cannot access elements in a set using numerical indices like you would with lists, tuples, or strings.\n",
    "\n",
    "•\tTypeError: This is the type of error, indicating that you are attempting an operation that is not allowed on the data type.\n",
    "\n",
    "•\t'set' object is not subscriptable: This part of the error message specifies that the specific data type causing the error is a set, and the issue is related to subscripting (using []) to access elements.\n",
    "\n",
    "Predefined set operations\n",
    "\n",
    "my_set = {1, 2, 3, 4, 5}\n",
    "\n",
    " 1. len(set) - Returns the number of elements in the set.\n",
    "length = len(my_set)\n",
    "print(length)  # Output: 5\n",
    "\n",
    " 2. x in set - Checks if 'x' is a member of the set.\n",
    "print(2 in my_set)  # Output: True\n",
    "print(6 in my_set)  # Output: False\n",
    "\n",
    "\n",
    " 3. x not in set - Checks if 'x' is not a member of the set.\n",
    "print(2 not in my_set)  # Output: False\n",
    "print(6 not in my_set)  # Output: True\n",
    "\n",
    " 4. set.add(elem) - Adds 'elem' to the set.\n",
    "my_set.add(6)\n",
    "print(my_set)  # Output: {1, 2, 3, 4, 5, 6}\n",
    "\n",
    " 5. set.remove(elem) - Removes 'elem' from the set. Raises KeyError if 'elem' is not found.\n",
    "my_set.remove(3)\n",
    "print(my_set)  # Output: {1, 2, 4, 5, 6}\n",
    "\n",
    " 6. set.discard(elem) - Removes 'elem' from the set if present, otherwise does nothing.\n",
    "my_set.discard(10)  # Does nothing as 10 is not in the set.\n",
    "print(my_set)  # Output: {1, 2, 4, 5, 6}\n",
    "\n",
    " 7. set.pop() - Removes and returns an arbitrary element from the set. Raises KeyError if the set is empty.\n",
    "popped_element = my_set.pop()\n",
    "print(popped_element)  # Output: 1 (Note: The actual element removed may vary)\n",
    "print(my_set)  # Output: {2, 4, 5, 6}\n",
    "\n",
    " 8. set.clear() - Removes all elements from the set.\n",
    "my_set.clear()\n",
    "print(my_set)  # Output: set()\n",
    "\n",
    "\n",
    " Let's recreate the set for further operations\n",
    "my_set = {1, 2, 3, 4, 5}\n",
    "\n",
    " 9. set.union(*others) or set | other - Returns a new set with elements from the set and all others.\n",
    "set2 = {4, 5, 6, 7}\n",
    "union_set = my_set.union(set2)\n",
    "print(union_set)  # Output: {1, 2, 3, 4, 5, 6, 7}\n",
    "\n",
    " 10. set.intersection(*others) or set & other - Returns a new set with elements common to the set and all others.\n",
    "intersection_set = my_set.intersection(set2)\n",
    "print(intersection_set)  # Output: {4, 5}\n",
    "\n",
    " 11. set.difference(*others) or set - other - Returns a new set with elements in the set that are not in the others.\n",
    "difference_set = my_set.difference(set2)\n",
    "print(difference_set)  # Output: {1, 2, 3}\n",
    "\n",
    " 12. set.symmetric_difference(other) or set ^ other - Returns a new set with elements in either the set or 'other', but not both.\n",
    "symmetric_difference_set = my_set.symmetric_difference(set2)\n",
    "print(symmetric_difference_set)  # Output: {1, 2, 3, 6, 7}\n",
    "\n",
    " 13. set.update(*others) or set |= other - Updates the set, adding elements from all others.\n",
    "my_set.update(set2)\n",
    "print(my_set)  # Output: {1, 2, 3, 4, 5, 6, 7}\n",
    "\n",
    " 14. set.intersection_update(*others) or set &= other - Updates the set, keeping only elements found in both the set and all others.\n",
    "my_set.intersection_update(set2)\n",
    "print(my_set)  # Output: {4, 5}\n",
    "\n",
    " 15. set.difference_update(*others) or set -= other - Updates the set, removing elements found in any of the others.\n",
    "my_set.difference_update(set2)\n",
    "print(my_set)  # Output: set()\n",
    "\n",
    " Let's recreate the set for further operations\n",
    "my_set = {1, 2, 3, 4, 5}\n",
    "\n",
    " 16. set.issubset(other) or set <= other - Checks if the set is a subset of 'other'.\n",
    "print(my_set.issubset(set2))  # Output: False\n",
    "print({4, 5}.issubset(my_set))  # Output: True\n",
    "\n",
    " 17. set.issuperset(other) or set >= other - Checks if the set is a superset of 'other'.\n",
    "print(my_set.issuperset(set2))  # Output: False\n",
    "print(my_set.issuperset({1, 2}))  # Output: True\n",
    "\n",
    " 18. set.isdisjoint(other) - Checks if the set has no elements in common with 'other'.\n",
    "print(my_set.isdisjoint(set2))  # Output: False\n",
    "print({0}.isdisjoint(my_set))  # Output: True\n",
    "\n",
    "\n",
    "\n",
    "\n",
    "\n",
    "\n",
    "\n",
    "In Python, a set is a mutable collection of unique elements. When you copy a set, there are two main types of copying: shallow copy and deep copy. These concepts apply to mutable objects, such as sets, and have different implications depending on how the copies are made.\n",
    "\n",
    "1.\tShallow Copy:\n",
    "\n",
    "•\tA shallow copy of a set creates a new set object, but it does not create copies of the elements inside the set. Instead, it copies references to the same elements as the original set. In other words, the new set is a separate object, but the elements themselves are not duplicated.\n",
    "\n",
    "•\tAny modifications made to the elements within the shallow copy will not be reflected in the original set and vice versa since they point to the same objects in memory.\n",
    "\n",
    "•\tYou can create a shallow copy using the set.copy() method or the built-in set() constructor.\n",
    "Example of a shallow copy:\n",
    "original_set = {1, 2, 3}\n",
    "shallow_copy_set = original_set.copy() \n",
    "print(original_set) \n",
    "\n",
    " Output: {1, 2, 3} \n",
    "print(shallow_copy_set)\n",
    "\n",
    " Output: {1, 2, 3}\n",
    "shallow_copy_set.add\n",
    "\n",
    "(4) print(original_set) \n",
    " Output: {1, 2, 3, 4} \n",
    "print(shallow_copy_set) \n",
    " Output: {1, 2, 3, 4} \n",
    "\n",
    "\n",
    "\n",
    "\n",
    "2.\tDeep Copy:\n",
    "\n",
    "•\tA deep copy of a set creates a new set object and also makes copies of all the elements inside the original set. This means that the new set is entirely independent of the original set, and modifications to one will not affect the other.\n",
    "\n",
    "•\tThe elements inside the deep copy are created as separate objects in memory, so changes to these elements  affect the original set or any other copies.\n",
    "\n",
    "•\tTo create a deep copy, you can use the copy.deepcopy() function from the copy module.\n",
    "\n",
    "Example of a deep copy:\n",
    "\n",
    "import copy original_set = {1, 2, 3} \n",
    "deep_copy_set = copy.deepcopy(original_set) \n",
    "print(original_set) # Output: {1, 2, 3} \n",
    "print(deep_copy_set) # Output: {1, 2, 3} \n",
    "deep_copy_set.add(4) \n",
    "print(original_set) \n",
    " Output: {1, 2, 3} \n",
    "print(deep_copy_set) \n",
    " Output: {1, 2, 3, 4} \n",
    "\n",
    "A shallow copy creates a new set object but shares the same elements with the original set, while a deep copy creates a new set object and copies all elements independently. The choice between a shallow copy and a deep copy depends on whether you want changes in one set to affect the other or if you need independent copies with no shared references.\n",
    "\n"
   ]
  },
  {
   "cell_type": "code",
   "execution_count": 119,
   "id": "2f068209",
   "metadata": {},
   "outputs": [
    {
     "name": "stdout",
     "output_type": "stream",
     "text": [
      "{} <class 'dict'> 1436881974912\n"
     ]
    }
   ],
   "source": [
    "a = {}\n",
    "print(a,type(a),id(a))"
   ]
  },
  {
   "cell_type": "code",
   "execution_count": 122,
   "id": "aeefa7d3",
   "metadata": {},
   "outputs": [
    {
     "name": "stdout",
     "output_type": "stream",
     "text": [
      "{1} <class 'set'> 1436882575072\n"
     ]
    }
   ],
   "source": [
    "a = {1}\n",
    "print(a,type(a),id(a))"
   ]
  },
  {
   "cell_type": "code",
   "execution_count": 123,
   "id": "99d000e2",
   "metadata": {},
   "outputs": [
    {
     "name": "stdout",
     "output_type": "stream",
     "text": [
      "set() <class 'set'> 1436882582912\n"
     ]
    }
   ],
   "source": [
    "a  = set()\n",
    "print(a,type(a),id(a))"
   ]
  },
  {
   "cell_type": "code",
   "execution_count": 124,
   "id": "758977c7",
   "metadata": {},
   "outputs": [
    {
     "name": "stdout",
     "output_type": "stream",
     "text": [
      "{False, True, 34.56, 'Python', 'Programming', 45.64, (3+4j), 23, '23', 63.46} <class 'set'> 1436882575072 10\n"
     ]
    }
   ],
   "source": [
    "a  = {23,True,3+4j,45.64,\"Python\",\"23\",63.46,34.56,\"Programming\",False}\n",
    "print(a,type(a),id(a),len(a))"
   ]
  },
  {
   "cell_type": "code",
   "execution_count": 125,
   "id": "813c971b",
   "metadata": {},
   "outputs": [
    {
     "name": "stdout",
     "output_type": "stream",
     "text": [
      "{1, 2, 3, 4, 5} 5\n"
     ]
    }
   ],
   "source": [
    "a = {1, 2, 3, 4, 5, 2, 3, 1, 5, 2, 5, 1, 4, 2, 5, 2}\n",
    "print(a,len(a))"
   ]
  },
  {
   "cell_type": "code",
   "execution_count": 126,
   "id": "d8407b2a",
   "metadata": {},
   "outputs": [
    {
     "name": "stdout",
     "output_type": "stream",
     "text": [
      "{False, True, 23, 'Python', 'One'} 5\n"
     ]
    }
   ],
   "source": [
    "a = {\"Python\",True,False,23,1.0,0.0,\"One\",1,0,1.0}\n",
    "print(a,len(a))"
   ]
  },
  {
   "cell_type": "code",
   "execution_count": 127,
   "id": "a075e4d1",
   "metadata": {},
   "outputs": [
    {
     "ename": "TypeError",
     "evalue": "'set' object is not subscriptable",
     "output_type": "error",
     "traceback": [
      "\u001b[1;31m---------------------------------------------------------------------------\u001b[0m",
      "\u001b[1;31mTypeError\u001b[0m                                 Traceback (most recent call last)",
      "Cell \u001b[1;32mIn[127], line 1\u001b[0m\n\u001b[1;32m----> 1\u001b[0m \u001b[43ma\u001b[49m\u001b[43m[\u001b[49m\u001b[38;5;241;43m2\u001b[39;49m\u001b[43m]\u001b[49m\n",
      "\u001b[1;31mTypeError\u001b[0m: 'set' object is not subscriptable"
     ]
    }
   ],
   "source": [
    "a[2]"
   ]
  },
  {
   "cell_type": "code",
   "execution_count": 128,
   "id": "2d086371",
   "metadata": {},
   "outputs": [
    {
     "ename": "TypeError",
     "evalue": "'set' object is not subscriptable",
     "output_type": "error",
     "traceback": [
      "\u001b[1;31m---------------------------------------------------------------------------\u001b[0m",
      "\u001b[1;31mTypeError\u001b[0m                                 Traceback (most recent call last)",
      "Cell \u001b[1;32mIn[128], line 1\u001b[0m\n\u001b[1;32m----> 1\u001b[0m \u001b[43ma\u001b[49m\u001b[43m[\u001b[49m\u001b[38;5;241;43m2\u001b[39;49m\u001b[43m:\u001b[49m\u001b[38;5;241;43m5\u001b[39;49m\u001b[43m]\u001b[49m\n",
      "\u001b[1;31mTypeError\u001b[0m: 'set' object is not subscriptable"
     ]
    }
   ],
   "source": [
    "a[2:5]"
   ]
  },
  {
   "cell_type": "code",
   "execution_count": 129,
   "id": "5388e722",
   "metadata": {},
   "outputs": [
    {
     "name": "stdout",
     "output_type": "stream",
     "text": [
      "{False, True, 23, 'Python', 'One'}\n"
     ]
    }
   ],
   "source": [
    "print(a)"
   ]
  },
  {
   "cell_type": "code",
   "execution_count": 130,
   "id": "be00961d",
   "metadata": {},
   "outputs": [
    {
     "ename": "TypeError",
     "evalue": "'set' object does not support item assignment",
     "output_type": "error",
     "traceback": [
      "\u001b[1;31m---------------------------------------------------------------------------\u001b[0m",
      "\u001b[1;31mTypeError\u001b[0m                                 Traceback (most recent call last)",
      "Cell \u001b[1;32mIn[130], line 1\u001b[0m\n\u001b[1;32m----> 1\u001b[0m a[\u001b[38;5;241m2\u001b[39m]\u001b[38;5;241m=\u001b[39m\u001b[38;5;241m100\u001b[39m\n",
      "\u001b[1;31mTypeError\u001b[0m: 'set' object does not support item assignment"
     ]
    }
   ],
   "source": [
    "a[2]=100"
   ]
  },
  {
   "cell_type": "code",
   "execution_count": 150,
   "id": "96529032",
   "metadata": {},
   "outputs": [
    {
     "name": "stdout",
     "output_type": "stream",
     "text": [
      "{False, True, 34.56, 'Python', 'Programming', 45.64, (3+4j), 23, '23', 63.46} <class 'set'> 1436885390880 10\n"
     ]
    }
   ],
   "source": [
    "a  = {23,True,3+4j,45.64,\"Python\",\"23\",63.46,34.56,\"Programming\",False}\n",
    "print(a,type(a),id(a),len(a))"
   ]
  },
  {
   "cell_type": "code",
   "execution_count": 132,
   "id": "0c5a9239",
   "metadata": {},
   "outputs": [],
   "source": [
    "a.add(9+3j)"
   ]
  },
  {
   "cell_type": "code",
   "execution_count": 133,
   "id": "7712f7f8",
   "metadata": {},
   "outputs": [
    {
     "name": "stdout",
     "output_type": "stream",
     "text": [
      "{False, True, 34.56, 'Python', 'Programming', 45.64, (3+4j), (9+3j), 23, '23', 63.46}\n"
     ]
    }
   ],
   "source": [
    "print(a)"
   ]
  },
  {
   "cell_type": "code",
   "execution_count": null,
   "id": "ac225cd4",
   "metadata": {},
   "outputs": [],
   "source": [
    "a.clear()"
   ]
  },
  {
   "cell_type": "code",
   "execution_count": 134,
   "id": "02725093",
   "metadata": {},
   "outputs": [],
   "source": [
    "a.remove(True)"
   ]
  },
  {
   "cell_type": "code",
   "execution_count": 135,
   "id": "fd8847aa",
   "metadata": {},
   "outputs": [
    {
     "name": "stdout",
     "output_type": "stream",
     "text": [
      "{False, 34.56, 'Python', 'Programming', 45.64, (3+4j), (9+3j), 23, '23', 63.46}\n"
     ]
    }
   ],
   "source": [
    "print(a)"
   ]
  },
  {
   "cell_type": "code",
   "execution_count": 136,
   "id": "41f9d7cc",
   "metadata": {},
   "outputs": [
    {
     "ename": "KeyError",
     "evalue": "True",
     "output_type": "error",
     "traceback": [
      "\u001b[1;31m---------------------------------------------------------------------------\u001b[0m",
      "\u001b[1;31mKeyError\u001b[0m                                  Traceback (most recent call last)",
      "Cell \u001b[1;32mIn[136], line 1\u001b[0m\n\u001b[1;32m----> 1\u001b[0m \u001b[43ma\u001b[49m\u001b[38;5;241;43m.\u001b[39;49m\u001b[43mremove\u001b[49m\u001b[43m(\u001b[49m\u001b[38;5;28;43;01mTrue\u001b[39;49;00m\u001b[43m)\u001b[49m\n",
      "\u001b[1;31mKeyError\u001b[0m: True"
     ]
    }
   ],
   "source": [
    "a.remove(True)"
   ]
  },
  {
   "cell_type": "code",
   "execution_count": 137,
   "id": "954fe78f",
   "metadata": {},
   "outputs": [],
   "source": [
    "a.discard(23)"
   ]
  },
  {
   "cell_type": "code",
   "execution_count": 138,
   "id": "e0b3b4d0",
   "metadata": {},
   "outputs": [
    {
     "name": "stdout",
     "output_type": "stream",
     "text": [
      "{False, 34.56, 'Python', 'Programming', 45.64, (3+4j), (9+3j), '23', 63.46}\n"
     ]
    }
   ],
   "source": [
    "print(a)"
   ]
  },
  {
   "cell_type": "code",
   "execution_count": 139,
   "id": "c2caa065",
   "metadata": {},
   "outputs": [],
   "source": [
    "a.discard(True)"
   ]
  },
  {
   "cell_type": "code",
   "execution_count": 140,
   "id": "3e6b1c9d",
   "metadata": {},
   "outputs": [
    {
     "data": {
      "text/plain": [
       "False"
      ]
     },
     "execution_count": 140,
     "metadata": {},
     "output_type": "execute_result"
    }
   ],
   "source": [
    "a.pop()"
   ]
  },
  {
   "cell_type": "code",
   "execution_count": 149,
   "id": "f023a6e5",
   "metadata": {},
   "outputs": [
    {
     "ename": "KeyError",
     "evalue": "'pop from an empty set'",
     "output_type": "error",
     "traceback": [
      "\u001b[1;31m---------------------------------------------------------------------------\u001b[0m",
      "\u001b[1;31mKeyError\u001b[0m                                  Traceback (most recent call last)",
      "Cell \u001b[1;32mIn[149], line 1\u001b[0m\n\u001b[1;32m----> 1\u001b[0m \u001b[43ma\u001b[49m\u001b[38;5;241;43m.\u001b[39;49m\u001b[43mpop\u001b[49m\u001b[43m(\u001b[49m\u001b[43m)\u001b[49m\n",
      "\u001b[1;31mKeyError\u001b[0m: 'pop from an empty set'"
     ]
    }
   ],
   "source": [
    "a.pop()"
   ]
  },
  {
   "cell_type": "code",
   "execution_count": 151,
   "id": "e0570edc",
   "metadata": {},
   "outputs": [
    {
     "name": "stdout",
     "output_type": "stream",
     "text": [
      "{False, True, 34.56, 2, 3, 5, 6, 'Python', 'Programming', 45.64, (3+4j), 23, '23', 63.46}\n"
     ]
    }
   ],
   "source": [
    "b = {1,2,3,5,6}\n",
    "a.update(b)\n",
    "print(a)"
   ]
  },
  {
   "cell_type": "code",
   "execution_count": 152,
   "id": "baedf2f9",
   "metadata": {},
   "outputs": [
    {
     "name": "stdout",
     "output_type": "stream",
     "text": [
      "{False, True, 2, 3, 5, 6, 'Python', (3+4j), 23, '23', 34.56, 'Programming', 45.64, 63.46} <class 'set'>\n"
     ]
    }
   ],
   "source": [
    "c = a.union(b)\n",
    "print(c,type(c))"
   ]
  },
  {
   "cell_type": "code",
   "execution_count": 153,
   "id": "170773c1",
   "metadata": {},
   "outputs": [],
   "source": [
    "a = {10,20,30,40,50}\n",
    "b = {60,70,80,20,40}\n",
    "c = {20,30}\n",
    "d = {110,120,80,130}\n",
    "e = {10,20,30,40,50,60,70,80,90,100,110,120,130}"
   ]
  },
  {
   "cell_type": "code",
   "execution_count": 155,
   "id": "f655a22f",
   "metadata": {},
   "outputs": [
    {
     "name": "stdout",
     "output_type": "stream",
     "text": [
      "{40, 20}\n"
     ]
    }
   ],
   "source": [
    "c = a.intersection(b)\n",
    "print(c)"
   ]
  },
  {
   "cell_type": "code",
   "execution_count": 156,
   "id": "f937da9b",
   "metadata": {},
   "outputs": [
    {
     "name": "stdout",
     "output_type": "stream",
     "text": [
      "{40, 20}\n"
     ]
    }
   ],
   "source": [
    "a.intersection_update(b)\n",
    "print(a)"
   ]
  },
  {
   "cell_type": "code",
   "execution_count": 158,
   "id": "07bcbaba",
   "metadata": {},
   "outputs": [
    {
     "name": "stdout",
     "output_type": "stream",
     "text": [
      "{40, 20, 70, 60}\n"
     ]
    }
   ],
   "source": [
    "c = b.difference(d)\n",
    "print(c)"
   ]
  },
  {
   "cell_type": "code",
   "execution_count": 159,
   "id": "4b14be93",
   "metadata": {},
   "outputs": [
    {
     "name": "stdout",
     "output_type": "stream",
     "text": [
      "{130, 70, 40, 110, 20, 120, 60}\n"
     ]
    }
   ],
   "source": [
    "c = b.symmetric_difference(d)\n",
    "print(c)"
   ]
  },
  {
   "cell_type": "code",
   "execution_count": 161,
   "id": "fd3def20",
   "metadata": {},
   "outputs": [],
   "source": [
    "a = {10,20,30,40,50}\n",
    "b = {60,70,80,20,40}\n",
    "c = {20,30}\n",
    "d = {110,120,80,130}\n",
    "e = {10,20,30,40,50,60,70,80,90,100,110,120,130}"
   ]
  },
  {
   "cell_type": "code",
   "execution_count": 160,
   "id": "5af06637",
   "metadata": {},
   "outputs": [
    {
     "data": {
      "text/plain": [
       "False"
      ]
     },
     "execution_count": 160,
     "metadata": {},
     "output_type": "execute_result"
    }
   ],
   "source": [
    "a.isdisjoint(b)"
   ]
  },
  {
   "cell_type": "code",
   "execution_count": 162,
   "id": "3f0f0eea",
   "metadata": {},
   "outputs": [
    {
     "data": {
      "text/plain": [
       "True"
      ]
     },
     "execution_count": 162,
     "metadata": {},
     "output_type": "execute_result"
    }
   ],
   "source": [
    "a.isdisjoint(d)"
   ]
  },
  {
   "cell_type": "code",
   "execution_count": 163,
   "id": "c81b89f2",
   "metadata": {},
   "outputs": [
    {
     "data": {
      "text/plain": [
       "True"
      ]
     },
     "execution_count": 163,
     "metadata": {},
     "output_type": "execute_result"
    }
   ],
   "source": [
    "c.issubset(a)\n"
   ]
  },
  {
   "cell_type": "code",
   "execution_count": 164,
   "id": "ec437db8",
   "metadata": {},
   "outputs": [
    {
     "data": {
      "text/plain": [
       "False"
      ]
     },
     "execution_count": 164,
     "metadata": {},
     "output_type": "execute_result"
    }
   ],
   "source": [
    "a.issubset(c)"
   ]
  },
  {
   "cell_type": "code",
   "execution_count": 165,
   "id": "76667ceb",
   "metadata": {},
   "outputs": [
    {
     "data": {
      "text/plain": [
       "True"
      ]
     },
     "execution_count": 165,
     "metadata": {},
     "output_type": "execute_result"
    }
   ],
   "source": [
    "a.issuperset(c)"
   ]
  },
  {
   "cell_type": "code",
   "execution_count": null,
   "id": "48540911",
   "metadata": {},
   "outputs": [],
   "source": []
  }
 ],
 "metadata": {
  "kernelspec": {
   "display_name": "Python 3 (ipykernel)",
   "language": "python",
   "name": "python3"
  },
  "language_info": {
   "codemirror_mode": {
    "name": "ipython",
    "version": 3
   },
   "file_extension": ".py",
   "mimetype": "text/x-python",
   "name": "python",
   "nbconvert_exporter": "python",
   "pygments_lexer": "ipython3",
   "version": "3.12.4"
  }
 },
 "nbformat": 4,
 "nbformat_minor": 5
}
