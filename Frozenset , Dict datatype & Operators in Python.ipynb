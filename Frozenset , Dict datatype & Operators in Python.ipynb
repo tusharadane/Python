{
 "cells": [
  {
   "cell_type": "markdown",
   "id": "d85848ab",
   "metadata": {},
   "source": [
    "# Frozenset"
   ]
  },
  {
   "cell_type": "markdown",
   "id": "dc89385c",
   "metadata": {},
   "source": [
    "A frozenset in Python is an immutable version of a set, meaning once created, its elements cannot be modified, added, or removed. This immutability makes frozenset hashable and suitable for use as dictionary keys or elements in other sets, unlike regular sets which are mutable.\n",
    "\n",
    "Key Points:\n",
    "\n",
    "Immutable: Cannot change elements after creation.\n",
    "\n",
    "Hashable: Can be used as dictionary keys or elements in other sets.\n",
    "\n",
    "Functions: Supports methods like union(), intersection(), difference(), symmetric_difference(), issuperset(), issubset(), isdisjoint(), and copy().\n",
    "\n",
    "Limitations: Cannot use methods like add(), remove(), update(), clear(), or pop() because it is immutable.\n",
    "\n",
    "\n",
    "my_frozenset = frozenset([1, 2, 3, 4])\n",
    "\n",
    "my_frozenset.add(5)\n",
    "\n",
    "\n",
    "dictionary = {my_frozenset: \"Hello, I'm a frozenset!\"}\n",
    "\n",
    "print(dictionary[my_frozenset])  \n",
    "\n",
    "Frozensets are ideal when you need an unchangeable, unique collection of elements, especially in scenarios requiring hashable objects."
   ]
  },
  {
   "cell_type": "code",
   "execution_count": 3,
   "id": "1be34098",
   "metadata": {},
   "outputs": [
    {
     "ename": "TypeError",
     "evalue": "'set' object does not support item assignment",
     "output_type": "error",
     "traceback": [
      "\u001b[1;31m---------------------------------------------------------------------------\u001b[0m",
      "\u001b[1;31mTypeError\u001b[0m                                 Traceback (most recent call last)",
      "Cell \u001b[1;32mIn[3], line 4\u001b[0m\n\u001b[0;32m      1\u001b[0m \u001b[38;5;66;03m# item assignment is not possible\u001b[39;00m\n\u001b[0;32m      2\u001b[0m a \u001b[38;5;241m=\u001b[39m {\u001b[38;5;241m1\u001b[39m,\u001b[38;5;241m2\u001b[39m,\u001b[38;5;241m3\u001b[39m,\u001b[38;5;241m4\u001b[39m,\u001b[38;5;241m6\u001b[39m}\n\u001b[1;32m----> 4\u001b[0m a[\u001b[38;5;241m3\u001b[39m]\u001b[38;5;241m=\u001b[39m\u001b[38;5;241m23\u001b[39m\n",
      "\u001b[1;31mTypeError\u001b[0m: 'set' object does not support item assignment"
     ]
    }
   ],
   "source": [
    "# item assignment is not possible\n",
    "a = {1,2,3,4,6}\n",
    "\n",
    "a[3]=23"
   ]
  },
  {
   "cell_type": "code",
   "execution_count": 8,
   "id": "6352a89e",
   "metadata": {},
   "outputs": [
    {
     "name": "stdout",
     "output_type": "stream",
     "text": [
      "frozenset({1, 2, 3, 4, 5, 6}) <class 'frozenset'> 2432504958752\n"
     ]
    }
   ],
   "source": [
    "a = {1,2,3,4,1,2,3,4,5,6}\n",
    "\n",
    "b = frozenset(a)\n",
    "\n",
    "print(b,type(b),id(b))"
   ]
  },
  {
   "cell_type": "code",
   "execution_count": 5,
   "id": "76a65def",
   "metadata": {},
   "outputs": [
    {
     "ename": "AttributeError",
     "evalue": "'frozenset' object has no attribute 'add'",
     "output_type": "error",
     "traceback": [
      "\u001b[1;31m---------------------------------------------------------------------------\u001b[0m",
      "\u001b[1;31mAttributeError\u001b[0m                            Traceback (most recent call last)",
      "Cell \u001b[1;32mIn[5], line 1\u001b[0m\n\u001b[1;32m----> 1\u001b[0m \u001b[43mb\u001b[49m\u001b[38;5;241;43m.\u001b[39;49m\u001b[43madd\u001b[49m(\u001b[38;5;241m100\u001b[39m)\n",
      "\u001b[1;31mAttributeError\u001b[0m: 'frozenset' object has no attribute 'add'"
     ]
    }
   ],
   "source": [
    "b.add(100)"
   ]
  },
  {
   "cell_type": "code",
   "execution_count": null,
   "id": "6a26e549",
   "metadata": {},
   "outputs": [],
   "source": [
    "# remove\n",
    "# discard\n",
    "# pop()\n",
    "# clear()\n",
    "# update\n",
    "# intersection_update\n"
   ]
  },
  {
   "cell_type": "code",
   "execution_count": 11,
   "id": "268874b0",
   "metadata": {},
   "outputs": [
    {
     "name": "stdout",
     "output_type": "stream",
     "text": [
      "{40, 30}\n"
     ]
    }
   ],
   "source": [
    "a = {10,20,30,40}\n",
    "b = {20,60,70,10}\n",
    "\n",
    "c  = {10,20,30,40,60,70}\n",
    "\n",
    "c = a.difference(b)\n",
    "print(c)"
   ]
  },
  {
   "cell_type": "code",
   "execution_count": 7,
   "id": "5ae3ae30",
   "metadata": {},
   "outputs": [
    {
     "name": "stdout",
     "output_type": "stream",
     "text": [
      "{70, 40, 60, 30}\n"
     ]
    }
   ],
   "source": [
    "d = a.symmetric_difference(b)\n",
    "print(d)"
   ]
  },
  {
   "cell_type": "code",
   "execution_count": 12,
   "id": "58fc28a3",
   "metadata": {},
   "outputs": [
    {
     "name": "stdout",
     "output_type": "stream",
     "text": [
      "{70, 40, 10, 20, 60, 30}\n",
      "6\n"
     ]
    }
   ],
   "source": [
    "e = a.union(b)\n",
    "print(e)\n",
    "print(len(e))"
   ]
  },
  {
   "cell_type": "markdown",
   "id": "6003b76d",
   "metadata": {},
   "source": [
    "# Dict Data Type"
   ]
  },
  {
   "cell_type": "markdown",
   "id": "aef6ee32",
   "metadata": {},
   "source": [
    "A dictionary in Python is an ordered collection of key-value pairs where each key is unique, and the value can be any data type. It's like a special book where \"keys\" are the words, and \"values\" are their meanings. You use keys to access their corresponding values.\n",
    "\n",
    "\n",
    "Ordered and Unique Keys: Keys are unique, and the order of insertion is preserved.\n",
    "\n",
    "Mutable: You can add, update, or remove key-value pairs.\n",
    "\n",
    "Access: Values are accessed using keys, either through square brackets [] or the get() method.\n",
    "\n",
    "No Indexing or Slicing: Keys serve as indices; therefore, traditional indexing and slicing are not supported.\n",
    "\n",
    "Methods: Common methods include keys(), values(), items(), and update().\n",
    "\n",
    "Empty vs Non-Empty: An empty dictionary has no key-value pairs (length = 0), while a non-empty dictionary has one or more pairs (length > 0).\n",
    "\n",
    "\n",
    "my_dict = {\"cat\": \"a small furry animal\", \"dog\": \"a loyal pet\"}\n",
    "\n",
    "\n",
    "print(my_dict[\"cat\"])\n",
    "\n",
    "\n",
    "my_dict[\"bird\"] = \"a flying animal\"\n",
    "\n",
    "Dictionaries are ideal for tasks involving key-value mappings, such as storing configuration settings or counting item occurrences."
   ]
  },
  {
   "cell_type": "code",
   "execution_count": 15,
   "id": "a7a275ae",
   "metadata": {},
   "outputs": [
    {
     "name": "stdout",
     "output_type": "stream",
     "text": [
      "{} <class 'dict'> 2432503985664\n"
     ]
    }
   ],
   "source": [
    "a = {}\n",
    "print(a,type(a),id(a))"
   ]
  },
  {
   "cell_type": "code",
   "execution_count": 17,
   "id": "a82020c9",
   "metadata": {},
   "outputs": [
    {
     "name": "stdout",
     "output_type": "stream",
     "text": [
      "{1: 2, 3: 4, 5: 6, 7: 8, 9: 10} <class 'dict'> 2432502424768\n"
     ]
    }
   ],
   "source": [
    "a = {1:2,3:4,5:6,7:8,9:10}\n",
    "print(a,type(a),id(a))"
   ]
  },
  {
   "cell_type": "code",
   "execution_count": 19,
   "id": "84e3fdc9",
   "metadata": {},
   "outputs": [
    {
     "name": "stdout",
     "output_type": "stream",
     "text": [
      "{'C': 7.5, 'C++': 8, 'Java': 8.5, 'Scala': 9, 'Python': 9.5, 'Javascript': 9.5} <class 'dict'> 2432505555072\n"
     ]
    }
   ],
   "source": [
    "ratings = {'C':7.5,'C++':8,'Java':8.5,\"Scala\":9,\"Python\":9.5,\"Javascript\":9.5}\n",
    "print(ratings,type(ratings),id(ratings))"
   ]
  },
  {
   "cell_type": "code",
   "execution_count": 20,
   "id": "2c43cc83",
   "metadata": {},
   "outputs": [],
   "source": [
    "ratings[\"PHP\"]=7"
   ]
  },
  {
   "cell_type": "code",
   "execution_count": 21,
   "id": "31d247b5",
   "metadata": {},
   "outputs": [
    {
     "name": "stdout",
     "output_type": "stream",
     "text": [
      "{'C': 7.5, 'C++': 8, 'Java': 8.5, 'Scala': 9, 'Python': 9.5, 'Javascript': 9.5, 'PHP': 7}\n"
     ]
    }
   ],
   "source": [
    "print(ratings)"
   ]
  },
  {
   "cell_type": "code",
   "execution_count": 22,
   "id": "224b6d4e",
   "metadata": {},
   "outputs": [],
   "source": [
    "ratings[\"C++\"]=7.5"
   ]
  },
  {
   "cell_type": "code",
   "execution_count": 23,
   "id": "2c409f19",
   "metadata": {},
   "outputs": [
    {
     "name": "stdout",
     "output_type": "stream",
     "text": [
      "{'C': 7.5, 'C++': 7.5, 'Java': 8.5, 'Scala': 9, 'Python': 9.5, 'Javascript': 9.5, 'PHP': 7}\n"
     ]
    }
   ],
   "source": [
    "print(ratings)"
   ]
  },
  {
   "cell_type": "code",
   "execution_count": 54,
   "id": "b7214fbe",
   "metadata": {},
   "outputs": [
    {
     "name": "stdout",
     "output_type": "stream",
     "text": [
      "{'C': 8, 'C++': 8, 'Java': 8.5, 'Scala': 9, 'Python': 9.5, 'Javascript': 9.5} <class 'dict'> 2432508704384\n"
     ]
    }
   ],
   "source": [
    "ratings = {'C':7.5,'C++':8,'Java':8.5,\"Scala\":9,\"Python\":9.5,\"Javascript\":9.5,\"C\":8}\n",
    "print(ratings,type(ratings),id(ratings))"
   ]
  },
  {
   "cell_type": "code",
   "execution_count": 25,
   "id": "14d2e3bf",
   "metadata": {},
   "outputs": [
    {
     "ename": "KeyError",
     "evalue": "0",
     "output_type": "error",
     "traceback": [
      "\u001b[1;31m---------------------------------------------------------------------------\u001b[0m",
      "\u001b[1;31mKeyError\u001b[0m                                  Traceback (most recent call last)",
      "Cell \u001b[1;32mIn[25], line 1\u001b[0m\n\u001b[1;32m----> 1\u001b[0m \u001b[43mratings\u001b[49m\u001b[43m[\u001b[49m\u001b[38;5;241;43m0\u001b[39;49m\u001b[43m]\u001b[49m\n",
      "\u001b[1;31mKeyError\u001b[0m: 0"
     ]
    }
   ],
   "source": [
    "ratings[0]"
   ]
  },
  {
   "cell_type": "code",
   "execution_count": 26,
   "id": "299d7117",
   "metadata": {},
   "outputs": [
    {
     "data": {
      "text/plain": [
       "8.5"
      ]
     },
     "execution_count": 26,
     "metadata": {},
     "output_type": "execute_result"
    }
   ],
   "source": [
    "ratings[\"Java\"]"
   ]
  },
  {
   "cell_type": "code",
   "execution_count": 28,
   "id": "fb80d440",
   "metadata": {},
   "outputs": [],
   "source": [
    "# methods in dict"
   ]
  },
  {
   "cell_type": "code",
   "execution_count": 30,
   "id": "9dcf2728",
   "metadata": {},
   "outputs": [
    {
     "name": "stdout",
     "output_type": "stream",
     "text": [
      "{'C': 8, 'C++': 8, 'Java': 8.5, 'Scala': 9, 'Python': 9.5, 'Javascript': 9.5}\n"
     ]
    }
   ],
   "source": [
    "print(ratings)"
   ]
  },
  {
   "cell_type": "code",
   "execution_count": null,
   "id": "b64babcd",
   "metadata": {},
   "outputs": [],
   "source": [
    "ratings.clear()"
   ]
  },
  {
   "cell_type": "code",
   "execution_count": 33,
   "id": "ecc2bda1",
   "metadata": {},
   "outputs": [
    {
     "data": {
      "text/plain": [
       "9.5"
      ]
     },
     "execution_count": 33,
     "metadata": {},
     "output_type": "execute_result"
    }
   ],
   "source": [
    "ratings[\"Python\"]"
   ]
  },
  {
   "cell_type": "code",
   "execution_count": 36,
   "id": "3741438b",
   "metadata": {},
   "outputs": [
    {
     "data": {
      "text/plain": [
       "'Language Does not exist in Dict'"
      ]
     },
     "execution_count": 36,
     "metadata": {},
     "output_type": "execute_result"
    }
   ],
   "source": [
    "ratings.get(\"HTML\",\"Language Does not exist in Dict\")"
   ]
  },
  {
   "cell_type": "code",
   "execution_count": 37,
   "id": "b3f6f93c",
   "metadata": {},
   "outputs": [
    {
     "data": {
      "text/plain": [
       "0"
      ]
     },
     "execution_count": 37,
     "metadata": {},
     "output_type": "execute_result"
    }
   ],
   "source": [
    "ratings.get(\"HTML\",0)"
   ]
  },
  {
   "cell_type": "code",
   "execution_count": 38,
   "id": "7d380397",
   "metadata": {},
   "outputs": [
    {
     "name": "stdout",
     "output_type": "stream",
     "text": [
      "dict_keys(['C', 'C++', 'Java', 'Scala', 'Python', 'Javascript'])\n"
     ]
    }
   ],
   "source": [
    "print(ratings.keys())"
   ]
  },
  {
   "cell_type": "code",
   "execution_count": 39,
   "id": "6ab8a024",
   "metadata": {},
   "outputs": [
    {
     "name": "stdout",
     "output_type": "stream",
     "text": [
      "C\n",
      "C++\n",
      "Java\n",
      "Scala\n",
      "Python\n",
      "Javascript\n"
     ]
    }
   ],
   "source": [
    "for i in ratings.keys():\n",
    "    print(i)"
   ]
  },
  {
   "cell_type": "code",
   "execution_count": 40,
   "id": "81819745",
   "metadata": {},
   "outputs": [
    {
     "name": "stdout",
     "output_type": "stream",
     "text": [
      "dict_values([8, 8, 8.5, 9, 9.5, 9.5])\n"
     ]
    }
   ],
   "source": [
    "print(ratings.values())"
   ]
  },
  {
   "cell_type": "code",
   "execution_count": 41,
   "id": "9e367e81",
   "metadata": {},
   "outputs": [
    {
     "name": "stdout",
     "output_type": "stream",
     "text": [
      "8\n",
      "8\n",
      "8.5\n",
      "9\n",
      "9.5\n",
      "9.5\n"
     ]
    }
   ],
   "source": [
    "for i in ratings.values():\n",
    "    print(i)"
   ]
  },
  {
   "cell_type": "code",
   "execution_count": 43,
   "id": "93c0436a",
   "metadata": {},
   "outputs": [
    {
     "name": "stdout",
     "output_type": "stream",
     "text": [
      "dict_items([('C', 8), ('C++', 8), ('Java', 8.5), ('Scala', 9), ('Python', 9.5), ('Javascript', 9.5)])\n"
     ]
    }
   ],
   "source": [
    "print(ratings.items())"
   ]
  },
  {
   "cell_type": "code",
   "execution_count": 44,
   "id": "e7eaffb9",
   "metadata": {},
   "outputs": [
    {
     "name": "stdout",
     "output_type": "stream",
     "text": [
      "('C', 8)\n",
      "('C++', 8)\n",
      "('Java', 8.5)\n",
      "('Scala', 9)\n",
      "('Python', 9.5)\n",
      "('Javascript', 9.5)\n"
     ]
    }
   ],
   "source": [
    "for i in ratings.items():\n",
    "    print(i)"
   ]
  },
  {
   "cell_type": "code",
   "execution_count": 48,
   "id": "c32464fd",
   "metadata": {},
   "outputs": [
    {
     "ename": "KeyError",
     "evalue": "8.5",
     "output_type": "error",
     "traceback": [
      "\u001b[1;31m---------------------------------------------------------------------------\u001b[0m",
      "\u001b[1;31mKeyError\u001b[0m                                  Traceback (most recent call last)",
      "Cell \u001b[1;32mIn[48], line 1\u001b[0m\n\u001b[1;32m----> 1\u001b[0m \u001b[38;5;28mprint\u001b[39m(\u001b[43mratings\u001b[49m\u001b[38;5;241;43m.\u001b[39;49m\u001b[43mpop\u001b[49m\u001b[43m(\u001b[49m\u001b[38;5;241;43m8.5\u001b[39;49m\u001b[43m)\u001b[49m)\n",
      "\u001b[1;31mKeyError\u001b[0m: 8.5"
     ]
    }
   ],
   "source": [
    "print(ratings.pop(\"Java\"))"
   ]
  },
  {
   "cell_type": "code",
   "execution_count": 47,
   "id": "0f583f8e",
   "metadata": {},
   "outputs": [
    {
     "name": "stdout",
     "output_type": "stream",
     "text": [
      "{'C++': 8, 'Java': 8.5, 'Scala': 9, 'Python': 9.5, 'Javascript': 9.5}\n"
     ]
    }
   ],
   "source": [
    "print(ratings)"
   ]
  },
  {
   "cell_type": "code",
   "execution_count": 53,
   "id": "c61e84f5",
   "metadata": {},
   "outputs": [
    {
     "data": {
      "text/plain": [
       "('C++', 8)"
      ]
     },
     "execution_count": 53,
     "metadata": {},
     "output_type": "execute_result"
    }
   ],
   "source": [
    "ratings.popitem()"
   ]
  },
  {
   "cell_type": "code",
   "execution_count": 57,
   "id": "19385d61",
   "metadata": {},
   "outputs": [
    {
     "name": "stdout",
     "output_type": "stream",
     "text": [
      "{'C': 8, 'C++': 8, 'Java': 8.5, 'Scala': 9, 'Python': 9.5, 'Javascript': 9.5}\n"
     ]
    }
   ],
   "source": [
    "print(ratings)"
   ]
  },
  {
   "cell_type": "code",
   "execution_count": 58,
   "id": "64b2360a",
   "metadata": {},
   "outputs": [
    {
     "name": "stdout",
     "output_type": "stream",
     "text": [
      "dict_values([8, 8, 8.5, 9, 9.5, 9.5])\n"
     ]
    }
   ],
   "source": [
    "print(ratings.values())"
   ]
  },
  {
   "cell_type": "code",
   "execution_count": 59,
   "id": "f60008fb",
   "metadata": {},
   "outputs": [],
   "source": [
    "ratings.update({\"HTML\":7,\"Perl\":5.5,\"ABC Programming\":3})"
   ]
  },
  {
   "cell_type": "code",
   "execution_count": 60,
   "id": "e8f9fa33",
   "metadata": {},
   "outputs": [
    {
     "data": {
      "text/plain": [
       "{'C': 8,\n",
       " 'C++': 8,\n",
       " 'Java': 8.5,\n",
       " 'Scala': 9,\n",
       " 'Python': 9.5,\n",
       " 'Javascript': 9.5,\n",
       " 'HTML': 7,\n",
       " 'Perl': 5.5,\n",
       " 'ABC Programming': 3}"
      ]
     },
     "execution_count": 60,
     "metadata": {},
     "output_type": "execute_result"
    }
   ],
   "source": [
    "ratings"
   ]
  },
  {
   "cell_type": "code",
   "execution_count": 64,
   "id": "2076900f",
   "metadata": {},
   "outputs": [
    {
     "name": "stdout",
     "output_type": "stream",
     "text": [
      "{1: 10, 2: 10, 3: 10, 4: 10, 5: 10} <class 'dict'>\n"
     ]
    }
   ],
   "source": [
    "data = [1,2,3,4,5]\n",
    "\n",
    "result = dict.fromkeys(data,10)\n",
    "\n",
    "print(result,type(result))"
   ]
  },
  {
   "cell_type": "code",
   "execution_count": null,
   "id": "5217b2d9",
   "metadata": {},
   "outputs": [],
   "source": [
    "Students = {\"Akash\":{\"Physics\":78,\"Maths\":68,\"Chemistry\":80},\"Saurabh\":{\"Physics\":70,\"Maths\":85,\"Chemistry\":75}}"
   ]
  },
  {
   "cell_type": "code",
   "execution_count": 68,
   "id": "134de4a1",
   "metadata": {},
   "outputs": [],
   "source": [
    "Students = {\n",
    "    \"Akash\":{\"Physics\":78,\"Maths\":68,\"Chemistry\":80},\n",
    "    \"Saurabh\":{\"Physics\":70,\"Maths\":85,\"Chemistry\":75}\n",
    "            }"
   ]
  },
  {
   "cell_type": "code",
   "execution_count": 69,
   "id": "350c11a9",
   "metadata": {},
   "outputs": [
    {
     "name": "stdout",
     "output_type": "stream",
     "text": [
      "{'Akash': {'Physics': 78, 'Maths': 68, 'Chemistry': 80}, 'Saurabh': {'Physics': 70, 'Maths': 85, 'Chemistry': 75}}\n"
     ]
    }
   ],
   "source": [
    "print(Students)"
   ]
  },
  {
   "cell_type": "code",
   "execution_count": 70,
   "id": "c0072691",
   "metadata": {},
   "outputs": [
    {
     "data": {
      "text/plain": [
       "{'Physics': 78, 'Maths': 68, 'Chemistry': 80}"
      ]
     },
     "execution_count": 70,
     "metadata": {},
     "output_type": "execute_result"
    }
   ],
   "source": [
    "Students[\"Akash\"]"
   ]
  },
  {
   "cell_type": "code",
   "execution_count": 71,
   "id": "f7923f14",
   "metadata": {},
   "outputs": [
    {
     "data": {
      "text/plain": [
       "80"
      ]
     },
     "execution_count": 71,
     "metadata": {},
     "output_type": "execute_result"
    }
   ],
   "source": [
    "Students[\"Akash\"][\"Chemistry\"]"
   ]
  },
  {
   "cell_type": "code",
   "execution_count": 72,
   "id": "0a685ad0",
   "metadata": {},
   "outputs": [],
   "source": [
    " # None"
   ]
  },
  {
   "cell_type": "code",
   "execution_count": 73,
   "id": "452f37ba",
   "metadata": {},
   "outputs": [
    {
     "name": "stdout",
     "output_type": "stream",
     "text": [
      "None <class 'NoneType'> 140735754432192\n"
     ]
    }
   ],
   "source": [
    "a = None\n",
    "print(a,type(a),id(a))"
   ]
  },
  {
   "cell_type": "markdown",
   "id": "bdf6f60b",
   "metadata": {},
   "source": [
    "# Operators in Python"
   ]
  },
  {
   "cell_type": "markdown",
   "id": "ffc71c94",
   "metadata": {},
   "source": [
    "Operators in Python are special symbols or keywords used to perform operations on variables and values. When two or more objects or variables are connected with an operator, it forms an expression.\n",
    "\n",
    "# Types of Operators in Python:\n",
    "\n",
    "Arithmetic Operators: Perform basic math operations.\n",
    "\n",
    "    + Addition\n",
    "\n",
    "    - Subtraction\n",
    "\n",
    "    * Multiplication\n",
    "\n",
    "/ Division\n",
    "\n",
    "% Modulus (Remainder)\n",
    "\n",
    "// Floor Division\n",
    "\n",
    "** Exponentiation"
   ]
  },
  {
   "cell_type": "code",
   "execution_count": 76,
   "id": "101c3a4a",
   "metadata": {},
   "outputs": [],
   "source": [
    "a = 10\n",
    "b = 20\n"
   ]
  },
  {
   "cell_type": "code",
   "execution_count": 77,
   "id": "06a708b9",
   "metadata": {},
   "outputs": [
    {
     "name": "stdout",
     "output_type": "stream",
     "text": [
      "30\n",
      "\n",
      "-10\n",
      "\n",
      "2.0\n",
      "\n",
      "200\n"
     ]
    }
   ],
   "source": [
    "print(a+b)\n",
    "print()\n",
    "print(a-b)\n",
    "print()\n",
    "print(b/a)\n",
    "print()\n",
    "print(a*b)"
   ]
  },
  {
   "cell_type": "code",
   "execution_count": 78,
   "id": "a07dc266",
   "metadata": {},
   "outputs": [
    {
     "name": "stdout",
     "output_type": "stream",
     "text": [
      "10\n",
      "20\n"
     ]
    }
   ],
   "source": [
    "print(a)\n",
    "print(b)"
   ]
  },
  {
   "cell_type": "code",
   "execution_count": 79,
   "id": "2c11f6e0",
   "metadata": {},
   "outputs": [
    {
     "name": "stdout",
     "output_type": "stream",
     "text": [
      "2\n"
     ]
    }
   ],
   "source": [
    "print(20 % 3) # reminder"
   ]
  },
  {
   "cell_type": "code",
   "execution_count": 81,
   "id": "8429fddc",
   "metadata": {},
   "outputs": [
    {
     "name": "stdout",
     "output_type": "stream",
     "text": [
      "6\n"
     ]
    }
   ],
   "source": [
    "print(20//3) # floor division"
   ]
  },
  {
   "cell_type": "code",
   "execution_count": 82,
   "id": "00021607",
   "metadata": {},
   "outputs": [
    {
     "name": "stdout",
     "output_type": "stream",
     "text": [
      "-7\n"
     ]
    }
   ],
   "source": [
    "print(20//-3) # floor divison "
   ]
  },
  {
   "cell_type": "code",
   "execution_count": 83,
   "id": "32761dbb",
   "metadata": {},
   "outputs": [
    {
     "name": "stdout",
     "output_type": "stream",
     "text": [
      "8\n"
     ]
    }
   ],
   "source": [
    "print(2**3) # exponent"
   ]
  },
  {
   "cell_type": "code",
   "execution_count": 84,
   "id": "c7d0626b",
   "metadata": {},
   "outputs": [
    {
     "name": "stdout",
     "output_type": "stream",
     "text": [
      "16\n"
     ]
    }
   ],
   "source": [
    "print(2**4)"
   ]
  },
  {
   "cell_type": "code",
   "execution_count": 85,
   "id": "5cebb3dc",
   "metadata": {},
   "outputs": [
    {
     "name": "stdout",
     "output_type": "stream",
     "text": [
      "6.0\n"
     ]
    }
   ],
   "source": [
    "print(36**0.5)"
   ]
  },
  {
   "cell_type": "markdown",
   "id": "bb16cb1c",
   "metadata": {},
   "source": [
    "# Assignment Operator"
   ]
  },
  {
   "cell_type": "markdown",
   "id": "d10a40fa",
   "metadata": {},
   "source": [
    "The assignment operator in Python is represented by the equal sign =.\n",
    "\n",
    "Its primary purpose is to assign a value on the right-hand side (RHS) to a variable on the left-hand side (LHS).\n",
    "\n",
    "In Python Programming, we can use assignment in two ways. They are\n",
    "\n",
    "Single Line Assigment\n",
    "\n",
    "Multi Line Assigment\n",
    "\n",
    "Chained Assignment:\n",
    "\n",
    "You can assign the same value to multiple variables in a single line. Syntax: variable1 = variable2 = value Example: a = b = 10 # Assigns the value 10 to both 'a' and 'b'.\n",
    "\n",
    "Multiple Assignments:\n",
    "\n",
    "You can assign different values to multiple variables in a single line. Syntax: variable1, variable2 = value1, value2 Example: name, age = \"Alice\", 30 # Assigns \"Alice\" to 'name' and 30 to 'age'.\n",
    "\n",
    "Assignment with Expressions:\n",
    "\n",
    "You can use expressions on the RHS and assign the result to a variable on the LHS. Syntax: variable = expression Example: total = 2 * 3 + 4 # Calculates the expression (2 * 3 + 4) and assigns the result (10) to 'total'. The assignment operator is fundamental in Python as it allows you to store and manipulate data by giving names (variables) to values. It's used extensively in programming to work with data and perform various operations."
   ]
  },
  {
   "cell_type": "code",
   "execution_count": 87,
   "id": "1cfebf68",
   "metadata": {},
   "outputs": [
    {
     "name": "stdout",
     "output_type": "stream",
     "text": [
      "10 <class 'int'> 2432390726160\n"
     ]
    }
   ],
   "source": [
    "a = 10\n",
    "print(a,type(a),id(a))"
   ]
  },
  {
   "cell_type": "code",
   "execution_count": 88,
   "id": "a0b8efda",
   "metadata": {},
   "outputs": [
    {
     "name": "stdout",
     "output_type": "stream",
     "text": [
      "10\n",
      "20\n",
      "30\n"
     ]
    }
   ],
   "source": [
    "a,b,c = 10,20,30\n",
    "print(a)\n",
    "print(b)\n",
    "print(c)"
   ]
  },
  {
   "cell_type": "code",
   "execution_count": 90,
   "id": "a8b53d6f",
   "metadata": {},
   "outputs": [
    {
     "name": "stdout",
     "output_type": "stream",
     "text": [
      "450 2432510217808\n",
      "450 2432510217808\n",
      "450 2432510217808\n"
     ]
    }
   ],
   "source": [
    "a = b = c = 450\n",
    "print(a,id(a))\n",
    "print(b,id(b))\n",
    "print(c,id(c))"
   ]
  },
  {
   "cell_type": "code",
   "execution_count": 91,
   "id": "f7374093",
   "metadata": {},
   "outputs": [
    {
     "name": "stdout",
     "output_type": "stream",
     "text": [
      "4.0 <class 'float'>\n"
     ]
    }
   ],
   "source": [
    "data = 20/5\n",
    "print(data,type(data))"
   ]
  },
  {
   "cell_type": "code",
   "execution_count": 92,
   "id": "bf0c82c1",
   "metadata": {},
   "outputs": [],
   "source": [
    "a = 10"
   ]
  },
  {
   "cell_type": "code",
   "execution_count": 94,
   "id": "b90c5875",
   "metadata": {},
   "outputs": [
    {
     "name": "stdout",
     "output_type": "stream",
     "text": [
      "30\n"
     ]
    }
   ],
   "source": [
    "a = a+10\n",
    "print(a)"
   ]
  },
  {
   "cell_type": "code",
   "execution_count": 93,
   "id": "b5381c99",
   "metadata": {
    "scrolled": true
   },
   "outputs": [
    {
     "name": "stdout",
     "output_type": "stream",
     "text": [
      "20\n"
     ]
    }
   ],
   "source": [
    "a += 10 \n",
    "print(a)"
   ]
  },
  {
   "cell_type": "code",
   "execution_count": 102,
   "id": "46b05414",
   "metadata": {},
   "outputs": [
    {
     "name": "stdout",
     "output_type": "stream",
     "text": [
      "50\n"
     ]
    }
   ],
   "source": [
    "a = 20\n",
    "a = a+30\n",
    "print(a)"
   ]
  },
  {
   "cell_type": "code",
   "execution_count": 103,
   "id": "472c910b",
   "metadata": {},
   "outputs": [
    {
     "name": "stdout",
     "output_type": "stream",
     "text": [
      "50\n"
     ]
    }
   ],
   "source": [
    "a = 20\n",
    "a += 30\n",
    "print(a)"
   ]
  },
  {
   "cell_type": "markdown",
   "id": "7335f195",
   "metadata": {},
   "source": [
    "# Relation Operator(Comparison Operator)"
   ]
  },
  {
   "cell_type": "markdown",
   "id": "e13dd0ef",
   "metadata": {},
   "source": [
    "Relational operators, also known as comparison operators, are used in programming to compare two values and determine the relationship between them.\n",
    "\n",
    "These operators return a Boolean result, either True or False, depending on whether the specified relationship between the values is true or false. In Python, there are several relational operators:\n",
    "\n",
    "The purpose of Relational Operators is that \" To compare two or more values.\n",
    "\n",
    "If two or more values are connected with relationa Operators then it is called Relational Expression.\n",
    "\n",
    "In Python program, we have 6 Relational Operator\n",
    "\n",
    "a>b\n",
    "\n",
    "a==b\n",
    "\n",
    "a<b\n",
    "\n",
    "a>=b\n",
    "\n",
    "a<=b\n",
    "\n",
    "a!=b"
   ]
  },
  {
   "cell_type": "code",
   "execution_count": 105,
   "id": "dd8822df",
   "metadata": {},
   "outputs": [],
   "source": [
    "a = 10\n",
    "b = 20"
   ]
  },
  {
   "cell_type": "code",
   "execution_count": 106,
   "id": "70da025e",
   "metadata": {},
   "outputs": [
    {
     "name": "stdout",
     "output_type": "stream",
     "text": [
      "False\n"
     ]
    }
   ],
   "source": [
    "print(a>b)"
   ]
  },
  {
   "cell_type": "code",
   "execution_count": 107,
   "id": "53adfbf4",
   "metadata": {},
   "outputs": [
    {
     "name": "stdout",
     "output_type": "stream",
     "text": [
      "True\n"
     ]
    }
   ],
   "source": [
    "print(a<b)"
   ]
  },
  {
   "cell_type": "code",
   "execution_count": 108,
   "id": "ea390add",
   "metadata": {},
   "outputs": [
    {
     "name": "stdout",
     "output_type": "stream",
     "text": [
      "False\n"
     ]
    }
   ],
   "source": [
    "print(a>=b)"
   ]
  },
  {
   "cell_type": "code",
   "execution_count": 109,
   "id": "0a1ff1e7",
   "metadata": {},
   "outputs": [
    {
     "name": "stdout",
     "output_type": "stream",
     "text": [
      "True\n"
     ]
    }
   ],
   "source": [
    "print(a<=b)"
   ]
  },
  {
   "cell_type": "code",
   "execution_count": 110,
   "id": "8cfab378",
   "metadata": {},
   "outputs": [
    {
     "name": "stdout",
     "output_type": "stream",
     "text": [
      "True\n"
     ]
    }
   ],
   "source": [
    "print(10 == 10)"
   ]
  },
  {
   "cell_type": "code",
   "execution_count": 111,
   "id": "00b07866",
   "metadata": {},
   "outputs": [
    {
     "name": "stdout",
     "output_type": "stream",
     "text": [
      "False\n"
     ]
    }
   ],
   "source": [
    "print(10 != 10)"
   ]
  },
  {
   "cell_type": "markdown",
   "id": "9c1148b0",
   "metadata": {},
   "source": [
    "# Logical Operator "
   ]
  },
  {
   "cell_type": "markdown",
   "id": "6cf79534",
   "metadata": {},
   "source": [
    "In Python, logical operators are used to perform logical operations on Boolean values (True and False) or to combine the results of comparisons.\n",
    "\n",
    "Python provides three main logical operators: and, or, and not.\n",
    "\n",
    "These operators allow you to create more complex conditions and make decisions in your code.\n",
    "\n",
    "The purpose of Logical Operators is that \"To combine two or more Relational Expressions\"\n",
    "\n",
    "If two or More Relational Expressions connected Logical Operators then it is called Logical Expression (Compund Conditions ) and gives the result either True or False\n",
    "\n",
    "In Python Programming, we have 3 Logical Operators.\n",
    "\n",
    "They are\n",
    "\n",
    "a) and\n",
    "\n",
    "b) or\n",
    "\n",
    "c) not\n",
    "\n",
    "# and operator\n",
    "\n",
    "Short Circuit Evaluation:\n",
    "\n",
    "In the case 'and' operator, if the logical Expression contains n-relational expressions and if the First relational Expression is False then The entire result of Logical Expression is False (Without executing remain n-1 relational Expressions) .\n",
    "\n",
    "This process is called Short Circuit Evaluation\n",
    "\n",
    "Short-circuit evaluation is a concept in programming, primarily associated with logical operators, where the evaluation of an expression stops as soon as the outcome can be determined.\n",
    "\n",
    "In the context of the and operator, if the first relational expression (operand) is False, the entire expression is guaranteed to be False, and there's no need to evaluate the remaining relational expressions.\n",
    "\n",
    "This optimization can improve code efficiency and avoid unnecessary computations.\n",
    "\n",
    "Logical AND (and) Operator:\n",
    "\n",
    "The and operator returns True only if both of its operands are True.\n",
    "\n",
    "If the first operand is False, there is no need to check the second operand because, regardless of its value, the result will always be False."
   ]
  },
  {
   "cell_type": "code",
   "execution_count": 113,
   "id": "eb8b3538",
   "metadata": {},
   "outputs": [],
   "source": [
    "AND\n",
    "\n",
    "Input1   Input2     Output\n",
    "  1        1           1\n",
    "  1        0           0\n",
    "  0        1           0\n",
    "  0        0           0\n",
    "\n",
    "Input1   Input2     Output\n",
    "True     True       True \n",
    "True     False      False \n",
    "False    True       False\n",
    "False    False      False"
   ]
  },
  {
   "cell_type": "code",
   "execution_count": 114,
   "id": "24896503",
   "metadata": {},
   "outputs": [],
   "source": [
    "# and"
   ]
  },
  {
   "cell_type": "code",
   "execution_count": 115,
   "id": "99c2ffc0",
   "metadata": {},
   "outputs": [
    {
     "data": {
      "text/plain": [
       "False"
      ]
     },
     "execution_count": 115,
     "metadata": {},
     "output_type": "execute_result"
    }
   ],
   "source": [
    "True and True and True and False and True and False and True"
   ]
  },
  {
   "cell_type": "code",
   "execution_count": 116,
   "id": "45f2755a",
   "metadata": {},
   "outputs": [
    {
     "data": {
      "text/plain": [
       "True"
      ]
     },
     "execution_count": 116,
     "metadata": {},
     "output_type": "execute_result"
    }
   ],
   "source": [
    "True and True and True and True and True and True and True"
   ]
  },
  {
   "cell_type": "code",
   "execution_count": 117,
   "id": "b16c5e40",
   "metadata": {},
   "outputs": [
    {
     "data": {
      "text/plain": [
       "False"
      ]
     },
     "execution_count": 117,
     "metadata": {},
     "output_type": "execute_result"
    }
   ],
   "source": [
    "# Short Circuit Evaluation\n",
    "False and True and True and True and True and True and True"
   ]
  },
  {
   "cell_type": "code",
   "execution_count": 118,
   "id": "31df9c32",
   "metadata": {},
   "outputs": [
    {
     "name": "stdout",
     "output_type": "stream",
     "text": [
      "False\n"
     ]
    }
   ],
   "source": [
    "print(20>10 and 10==10 and True and 30>20 and 4!=4)"
   ]
  },
  {
   "cell_type": "code",
   "execution_count": 119,
   "id": "db6a9309",
   "metadata": {},
   "outputs": [
    {
     "data": {
      "text/plain": [
       "78"
      ]
     },
     "execution_count": 119,
     "metadata": {},
     "output_type": "execute_result"
    }
   ],
   "source": [
    "23 and 25 and 56 and 35 and 74 and 23 and 46 and 78"
   ]
  },
  {
   "cell_type": "code",
   "execution_count": 120,
   "id": "64a60810",
   "metadata": {},
   "outputs": [
    {
     "data": {
      "text/plain": [
       "0"
      ]
     },
     "execution_count": 120,
     "metadata": {},
     "output_type": "execute_result"
    }
   ],
   "source": [
    "23 and 25 and 56 and 35 and 0 and 23 and 46 and 78"
   ]
  },
  {
   "cell_type": "code",
   "execution_count": 122,
   "id": "ba8c01df",
   "metadata": {},
   "outputs": [
    {
     "data": {
      "text/plain": [
       "78"
      ]
     },
     "execution_count": 122,
     "metadata": {},
     "output_type": "execute_result"
    }
   ],
   "source": [
    "23 and 25 and 56 and 35 and ' ' and 23 and 46 and 78"
   ]
  },
  {
   "cell_type": "code",
   "execution_count": null,
   "id": "7e7f064d",
   "metadata": {},
   "outputs": [],
   "source": [
    "OR\n",
    "\n",
    "Input1   Input2     Output\n",
    "  1        1           1\n",
    "  1        0           1\n",
    "  0        1           1\n",
    "  0        0           0\n",
    "\n",
    "Input1   Input2     Output\n",
    "True     True       True \n",
    "True     False      True \n",
    "False    True       True\n",
    "False    False      False"
   ]
  },
  {
   "cell_type": "code",
   "execution_count": null,
   "id": "6b97c4d0",
   "metadata": {},
   "outputs": [],
   "source": [
    "True or True or True or False or False or False or False or False"
   ]
  },
  {
   "cell_type": "code",
   "execution_count": 123,
   "id": "8852e99a",
   "metadata": {},
   "outputs": [
    {
     "data": {
      "text/plain": [
       "56"
      ]
     },
     "execution_count": 123,
     "metadata": {},
     "output_type": "execute_result"
    }
   ],
   "source": [
    "56 or 35 or 24 or 75 or 31 or 65 or 47 or 72"
   ]
  },
  {
   "cell_type": "code",
   "execution_count": 124,
   "id": "d6780436",
   "metadata": {},
   "outputs": [
    {
     "data": {
      "text/plain": [
       "24"
      ]
     },
     "execution_count": 124,
     "metadata": {},
     "output_type": "execute_result"
    }
   ],
   "source": [
    "0 or 0 or 24 or 75 or 31 or 65 or 47 or 72"
   ]
  },
  {
   "cell_type": "code",
   "execution_count": 125,
   "id": "871367bd",
   "metadata": {},
   "outputs": [
    {
     "data": {
      "text/plain": [
       "False"
      ]
     },
     "execution_count": 125,
     "metadata": {},
     "output_type": "execute_result"
    }
   ],
   "source": [
    "100>202222 or 30>23223 or 239>23223 or 2239>222373 or 2223>22339 or 222>2222 "
   ]
  },
  {
   "cell_type": "code",
   "execution_count": null,
   "id": "fa0f1947",
   "metadata": {},
   "outputs": [],
   "source": [
    "not \n",
    "\n",
    "Input1   Output\n",
    " 1         0 \n",
    " 0         1\n",
    "\n",
    "Input    Output\n",
    " True     False \n",
    " False    True"
   ]
  },
  {
   "cell_type": "code",
   "execution_count": 126,
   "id": "879f37cd",
   "metadata": {},
   "outputs": [
    {
     "data": {
      "text/plain": [
       "False"
      ]
     },
     "execution_count": 126,
     "metadata": {},
     "output_type": "execute_result"
    }
   ],
   "source": [
    "not(True or True or True or False or False or False or False or False)"
   ]
  },
  {
   "cell_type": "code",
   "execution_count": 127,
   "id": "f7b4fa45",
   "metadata": {},
   "outputs": [
    {
     "name": "stdout",
     "output_type": "stream",
     "text": [
      "False\n"
     ]
    }
   ],
   "source": [
    "\n",
    "\n",
    "a,b=10,20\n",
    "\n",
    "print(not a<b or not 10!=20)\n",
    "     not True or not True\n",
    "       False or False\n",
    "        False"
   ]
  },
  {
   "cell_type": "code",
   "execution_count": 128,
   "id": "406ff0f7",
   "metadata": {},
   "outputs": [
    {
     "name": "stdout",
     "output_type": "stream",
     "text": [
      "False\n"
     ]
    }
   ],
   "source": [
    "print(not(a<b or not 10!=20))"
   ]
  },
  {
   "cell_type": "code",
   "execution_count": 129,
   "id": "d99597e2",
   "metadata": {},
   "outputs": [
    {
     "data": {
      "text/plain": [
       "True"
      ]
     },
     "execution_count": 129,
     "metadata": {},
     "output_type": "execute_result"
    }
   ],
   "source": [
    "10>20 and 20!=30 and 40>20 or 20!=45 and 33>22 and 224<23 or 22223>2232\n",
    "# False and True and True or True and True and False or True\n",
    "#     False and True or True and True and False or True\n",
    "#     False or True and True and False or True\n",
    "#     False or True and False or True\n",
    "#     False or False or True"
   ]
  },
  {
   "cell_type": "code",
   "execution_count": 130,
   "id": "3823bfb5",
   "metadata": {},
   "outputs": [
    {
     "data": {
      "text/plain": [
       "False"
      ]
     },
     "execution_count": 130,
     "metadata": {},
     "output_type": "execute_result"
    }
   ],
   "source": [
    "not(10>20 or 20!=30 and 40>20 or 20!=45 and 22>22  or 33>223 and 223>223 and 4<23)"
   ]
  },
  {
   "cell_type": "code",
   "execution_count": null,
   "id": "48dc6633",
   "metadata": {},
   "outputs": [],
   "source": []
  }
 ],
 "metadata": {
  "kernelspec": {
   "display_name": "Python 3 (ipykernel)",
   "language": "python",
   "name": "python3"
  },
  "language_info": {
   "codemirror_mode": {
    "name": "ipython",
    "version": 3
   },
   "file_extension": ".py",
   "mimetype": "text/x-python",
   "name": "python",
   "nbconvert_exporter": "python",
   "pygments_lexer": "ipython3",
   "version": "3.12.4"
  }
 },
 "nbformat": 4,
 "nbformat_minor": 5
}
