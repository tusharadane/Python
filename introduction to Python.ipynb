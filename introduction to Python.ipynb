{
 "cells": [
  {
   "cell_type": "markdown",
   "id": "7a857f1c",
   "metadata": {},
   "source": [
    "# Introduction to Python"
   ]
  },
  {
   "cell_type": "markdown",
   "id": "eb639cd2",
   "metadata": {},
   "source": [
    "Python, created by Guido van Rossum and first released in 1991, is a popular, easy-to-understand programming language. Known for its simplicity and readability, Python is widely used in web development, data analysis, and artificial intelligence. Its versatility and extensive collection of libraries make it suitable for various tasks.\n"
   ]
  },
  {
   "cell_type": "markdown",
   "id": "0566e7b7",
   "metadata": {},
   "source": [
    "# Key Advantages"
   ]
  },
  {
   "cell_type": "markdown",
   "id": "a26f4c6d",
   "metadata": {},
   "source": [
    "Versatility: Suitable for web development, data analysis, AI, etc.\n",
    "    \n",
    "Easy to Read and Write: Python code resembles plain English.\n",
    "\n",
    "Ready-Made Tools: Extensive built-in functions and modules.\n",
    "\n",
    "Community Collaboration: Strong community support and regular updates.\n",
    "\n",
    "Cross-Platform Compatibility: Code runs on various operating systems without modification.\n",
    "\n",
    "Beginner-Friendly: Ideal for newcomers with ample learning resources.\n",
    "\n",
    "Used by Major Companies: Trusted by companies like Google and Facebook."
   ]
  },
  {
   "cell_type": "markdown",
   "id": "517f7380",
   "metadata": {},
   "source": [
    "# History and Evolution"
   ]
  },
  {
   "cell_type": "markdown",
   "id": "7ec0a574",
   "metadata": {},
   "source": [
    "Origin: Created by Guido van Rossum in 1991.\n",
    "\n",
    "Development: Inspired by the ABC language with an emphasis on readability.\n",
    "\n",
    "Community Leadership: Led by Guido until 2018.\n",
    "\n",
    "Design Philosophy: Focus on code readability and productivity."
   ]
  },
  {
   "cell_type": "markdown",
   "id": "cc0c0e3e",
   "metadata": {},
   "source": [
    "# Applications"
   ]
  },
  {
   "cell_type": "markdown",
   "id": "184594ed",
   "metadata": {},
   "source": [
    "Web Development: Frameworks like Django and Flask.\n",
    "\n",
    "Data Analysis: Libraries like Pandas and Matplotlib.\n",
    "\n",
    "Machine Learning and AI: Libraries like TensorFlow and PyTorch.\n",
    "\n",
    "Scientific Computing: Real-time data analysis and simulations.\n",
    "\n",
    "IoT, Game Development, Network Programming, Robotics, Finance, Video Streaming: Various specialized uses.\n"
   ]
  },
  {
   "cell_type": "markdown",
   "id": "5958d928",
   "metadata": {},
   "source": [
    "# Features"
   ]
  },
  {
   "cell_type": "markdown",
   "id": "2ca222c7",
   "metadata": {},
   "source": [
    "8\n",
    "\n",
    "\n",
    "';lk**1. Easy to Learn and Read:**\n",
    "   - Python's code is easy to understand due to its simple and straightforward rules.\n",
    "   - Writing Python feels like speaking in plain language, making it suitable for beginners and experienced programmers alike.\n",
    "   - Easy-to-read code facilitates quick error detection and saves time during debugging.\n",
    "\n",
    "**2. Interpreted Language:**\n",
    "   - Python is an interpreted language, meaning it runs code directly through an interpreter.\n",
    "   - The interpreter executes code line by line, providing immediate feedback and speeding up the development process.\n",
    "   - Developers can see the results of their code instantly without the need for separate compilation steps.\n",
    "\n",
    "**3. Multi-paradigm:**\n",
    "   - Python supports various programming paradigms, including object-oriented, imperative, functional, and procedural.\n",
    "   - Developers can choose the most suitable approach for their projects, enhancing flexibility and code organization.\n",
    "\n",
    "**4. Dynamically Typed:**\n",
    "   - Python is dynamically typed, allowing variables to change data types during runtime.\n",
    "   - This flexibility simplifies coding and enhances ease of use, as Python automatically determines variable types.\n",
    "\n",
    "**5. Strong Standard Library:**\n",
    "   - Python provides a comprehensive standard library with modules and packages for various tasks like file I/O, networking, and web services.\n",
    "   - The extensive library reduces the need for developers to write code from scratch, saving time and effort.\n",
    "\n",
    "**6. Third-Party Libraries:**\n",
    "   - Python boasts a vast collection of third-party libraries and frameworks, such as NumPy, Pandas, TensorFlow, Django, and Flask.\n",
    "   - These tools enhance Python's capabilities for specific tasks like data handling, web development, and artificial intelligence.\n",
    "\n",
    "**7. Platform Independence:**\n",
    "   - Python code is platform-independent, ensuring it runs seamlessly on different computers without modifications.\n",
    "   - Developers can write code once and deploy it across multiple platforms, saving time and resources.\n",
    "\n",
    "**8. Object-Oriented Programming (OOP):**\n",
    "   - Python supports object-oriented programming, allowing developers to create reusable building blocks called classes.\n",
    "   - Classes encapsulate both data and actions, promoting code reusability and organization.\n",
    "\n",
    "**9. Extensible:**\n",
    "   - Python can integrate with code written in languages like C or C++, enhancing performance and functionality.\n",
    "   - Developers can add specialized modules to Python programs when increased performance is required for specific tasks.\n",
    "\n",
    "**10. Integration Capabilities:**\n",
    "   - Python seamlessly integrates with other languages like C, C++, and Java, making it suitable for augmenting existing projects.\n",
    "    - This interoperability ensures smooth collaboration between Python and other languages, facilitating cohesive development.\n",
    "\n",
    "**11. Cross-Platform GUI Development:**\n",
    "   - Python offers libraries like Tkinter, PyQT, and wxPython for creating graphical user interfaces (GUIs) that work across various platforms.\n",
    "\n",
    "**12. Community and Documentation:**\n",
    "   - Python boasts a large and active community, providing ample resources including documentation, tutorials, forums, and packages.\n",
    "    - The supportive community makes it easier for developers to find help and solutions for their projects.\n",
    "\n",
    "**13. Robust:**\n",
    "   - Python is considered robust due to several factors contributing to its reliability, stability, and error-handling capabilities.\n",
    "    - Features like extensive testing, garbage collection, and a large standard library ensure robustness and maintainability.\n",
    "\n",
    "**14. Flexibility:**\n",
    "   - Python supports multiple programming paradigms, allowing developers to choose the most suitable approach for their projects.\n",
    "    - This flexibility enhances code design, maintainability, and adaptability to evolving requirements.\n",
    "\n"
   ]
  },
  {
   "cell_type": "markdown",
   "id": "415ce492",
   "metadata": {},
   "source": [
    "# Compiler vs. Interpreter"
   ]
  },
  {
   "cell_type": "markdown",
   "id": "967b6681",
   "metadata": {},
   "source": [
    "Programming Steps: Compiler converts all code to machine code at once; interpreter executes code line by line.\n",
    "\n",
    "Advantages: Compiler offers faster execution; interpreter is easier for beginners.\n",
    "\n",
    "Disadvantages: Compiler is less flexible; interpreter requires the corresponding interpreter on all systems.\n",
    "\n",
    "Machine Code and Running Time: Compiled code is faster; interpreted code is slower.\n",
    "\n",
    "Memory Requirement: Compiler doesn't need to stay in memory; interpreter does.\n",
    "\n",
    "Best Fitted For: Compiler for production; interpreter for development.\n",
    "\n",
    "Error Handling: Compiler shows all errors upfront; interpreter shows errors line by line."
   ]
  },
  {
   "cell_type": "markdown",
   "id": "48a48272",
   "metadata": {},
   "source": [
    "# Python Execution Environment"
   ]
  },
  {
   "cell_type": "code",
   "execution_count": null,
   "id": "6f3e0ead",
   "metadata": {},
   "outputs": [],
   "source": [
    "\n",
    "                                                                                        PVM\n",
    "             Python Compiler     Intermediate Code          PVM    \n",
    " sum.py     ------------------->    sum.pyc---------------------------------->  PVM reads line by line converted into Machine Understandable format(Binary Code)                         \n",
    "Source Code   (line by line)       Byte Code          (Execution Phase)         and read by OS and Processor and gives Result\n",
    "                Intrepreter                           (Line by Line)\n",
    "                                                    (Intrepretation phase)"
   ]
  },
  {
   "cell_type": "markdown",
   "id": "c70db62e",
   "metadata": {},
   "source": [
    "# Python Compilation and Bytecode Execution\n",
    "\n",
    "Source Code: Human-readable instructions written in Python for creating a program.\n",
    "\n",
    "Compilation: Python compiles source code into bytecode, a compact representation of the code.\n",
    "\n",
    "Bytecode Execution: Python executes bytecode from .pyc files if they exist and are up to date.\n",
    "\n",
    "Intermediate Code: Instructions in a format that the PVM understands, not directly executable by the computer's processor.\n",
    "\n",
    ".pyc Files (Bytecode Files): Compiled form of Python source code, stored with a .pyc extension.\n",
    "\n",
    "Compilation Phase: Python compiles source code into intermediate code, understood by the Python Virtual Machine (PVM).\n",
    "\n",
    "Execution Phase**: The PVM reads and executes the intermediate code, following the tasks described in the source code.\n",
    "\n",
    "PVM (Python Virtual Machine): Acts as a translator between intermediate code and computer hardware, ensuring proper execution of the source code.\n",
    "\n",
    "Platform-Independent: .pyc files are platform-independent, allowing code to be compiled on one system and executed on another with a compatible Python interpreter."
   ]
  },
  {
   "cell_type": "code",
   "execution_count": 31,
   "id": "13d150a4",
   "metadata": {},
   "outputs": [
    {
     "name": "stdout",
     "output_type": "stream",
     "text": [
      "Python Programming\n"
     ]
    }
   ],
   "source": [
    "print(\"Python Programming\")"
   ]
  },
  {
   "cell_type": "code",
   "execution_count": null,
   "id": "d3792172",
   "metadata": {},
   "outputs": [],
   "source": [
    "print(\"Hello\"\n",
    "a=2\n",
    "b=4\n",
    "c=2+y\n",
    "print(c)"
   ]
  },
  {
   "cell_type": "code",
   "execution_count": null,
   "id": "74d05e69",
   "metadata": {},
   "outputs": [],
   "source": [
    "a=1\n",
    "a=str(a)\n",
    "print(a,type(a))"
   ]
  },
  {
   "cell_type": "code",
   "execution_count": null,
   "id": "537669bc",
   "metadata": {},
   "outputs": [],
   "source": [
    "#add.py\n",
    "a=2\n",
    "b=2\n",
    "print(a+b)"
   ]
  },
  {
   "cell_type": "code",
   "execution_count": null,
   "id": "08b2f2d0",
   "metadata": {},
   "outputs": [],
   "source": [
    "bin(2)"
   ]
  },
  {
   "cell_type": "code",
   "execution_count": null,
   "id": "c4a5ee4e",
   "metadata": {},
   "outputs": [],
   "source": [
    "0010\n",
    "0010\n",
    "0100"
   ]
  },
  {
   "cell_type": "code",
   "execution_count": null,
   "id": "e2c4d526",
   "metadata": {},
   "outputs": [],
   "source": [
    "a=0b0100\n",
    "print(a)"
   ]
  },
  {
   "cell_type": "code",
   "execution_count": null,
   "id": "a9bb86fe",
   "metadata": {},
   "outputs": [],
   "source": [
    "a =10\n",
    "print(A)"
   ]
  },
  {
   "cell_type": "code",
   "execution_count": null,
   "id": "6d46dd57",
   "metadata": {},
   "outputs": [],
   "source": [
    "a=10\n",
    "print(a)"
   ]
  },
  {
   "cell_type": "markdown",
   "id": "5f255d92",
   "metadata": {},
   "source": [
    "# Literals in Python\n",
    "\n",
    "Literals in Python are special codes representing specific values. They are used to set initial values, provide instructions to the program, and establish rules for data manipulation. Literals in Python is nothing but values passing to the python program. Programmatically, when we write an Python program,we must enter inputs and such as called Literals or Values\n",
    "\n",
    "# Identifiers or Varaibles in Python\n",
    "\n",
    "Identifiers in Python: Identifiers are special names given to various elements in a Python program. They serve as labels to easily find and use different entities.\n",
    "\n",
    "Variables: Variables are like boxes where you can store information. Each variable has a name and can hold different values. All types of varaibles in python is called as object. A Varaible is an identifiers whose values can be change during execution of problem"
   ]
  },
  {
   "cell_type": "markdown",
   "id": "3bc83e17",
   "metadata": {},
   "source": [
    "# Naming Conventions\n",
    "\n",
    "Follow these conventions for better readability and maintainability of your code:\n",
    "Descriptive Names: Choose names that clearly describe the purpose of the variable. For instance, use \"age\" instead of \"a\" to indicate the content of the variable.\n",
    "\n",
    "Start with a Letter or : Names should begin with a letter (a-z or A-Z) or an underscore (). They cannot start with a number or other special characters.\n",
    "\n",
    "Use Letters, Numbers, _: Inside the name, use letters, numbers, and underscores. Avoid spaces, dashes, or other symbols.\n",
    "\n",
    "Avoid Special Words: Do not use Python keywords like \"if,\" \"else,\" etc., as they have predefined meanings in Python.\n",
    "\n",
    "Case Sensitivity: Python distinguishes between uppercase and lowercase letters. Be consistent and use lowercase letters for variable names.\n",
    "\n",
    "No Special Signs: Stick to letters, numbers, and underscores in names. Avoid special characters.\n",
    "\n",
    "Follow Python's Naming Convention: Prefer lowercase letters with words separated by underscores (snake_case), e.g., \"first_name.\"\n",
    "\n",
    "Maintain Consistency: Use sensible names consistently throughout your codebase to ensure clarity.\n",
    "\n",
    "Avoid Single-Letter Names: Unless used for special cases like counting, refrain from using single-letter variable names. Use names that convey the purpose of the variable.\n",
    "\n",
    "Update Names as Needed: If the purpose of a variable changes, rename it appropriately to maintain clarity and coherence in the code."
   ]
  },
  {
   "cell_type": "code",
   "execution_count": null,
   "id": "145e3473",
   "metadata": {},
   "outputs": [],
   "source": [
    "employee_name = \"Akash\""
   ]
  },
  {
   "cell_type": "code",
   "execution_count": null,
   "id": "8d632ed2",
   "metadata": {},
   "outputs": [],
   "source": [
    "employee salary = 67"
   ]
  },
  {
   "cell_type": "code",
   "execution_count": null,
   "id": "12331997",
   "metadata": {},
   "outputs": [],
   "source": [
    "employee_salary34324565 = 67"
   ]
  },
  {
   "cell_type": "code",
   "execution_count": null,
   "id": "d79a4bdc",
   "metadata": {},
   "outputs": [],
   "source": [
    "2a =10"
   ]
  },
  {
   "cell_type": "code",
   "execution_count": null,
   "id": "caa4b909",
   "metadata": {},
   "outputs": [],
   "source": [
    "a-z|A-Z"
   ]
  },
  {
   "cell_type": "code",
   "execution_count": null,
   "id": "b3412694",
   "metadata": {},
   "outputs": [],
   "source": [
    "_name = \"jay\"\n",
    "print(_name)"
   ]
  },
  {
   "cell_type": "code",
   "execution_count": null,
   "id": "5ccb9a6b",
   "metadata": {},
   "outputs": [],
   "source": [
    "_name453453454536ofemployee = \"Sahil\"\n",
    "print(_name)"
   ]
  },
  {
   "cell_type": "code",
   "execution_count": null,
   "id": "da3ca7d8",
   "metadata": {},
   "outputs": [],
   "source": [
    "_name453_4534545_36ofemp_loyee = \"Sahil\"\n",
    "print(_name)"
   ]
  },
  {
   "cell_type": "code",
   "execution_count": null,
   "id": "f614f27c",
   "metadata": {},
   "outputs": [],
   "source": [
    "_ = 10\n",
    "print(_)"
   ]
  },
  {
   "cell_type": "code",
   "execution_count": null,
   "id": "49f3688b",
   "metadata": {},
   "outputs": [],
   "source": [
    "print  = 20\n",
    "print"
   ]
  },
  {
   "cell_type": "code",
   "execution_count": null,
   "id": "8d1646a3",
   "metadata": {
    "scrolled": true
   },
   "outputs": [],
   "source": [
    "print(\"Hello\")"
   ]
  },
  {
   "cell_type": "markdown",
   "id": "77048c63",
   "metadata": {},
   "source": [
    "# Data Type"
   ]
  },
  {
   "cell_type": "markdown",
   "id": "7f6461cd",
   "metadata": {},
   "source": [
    "Data type is like a category that tells the computer how to treat a specific type of value. It helps Python understand what you want to do with that value and how to handle it. Different data types represent different kinds of information, like numbers, text, and more. The purpose of Data Type in Python is that \"to allocate sufficient amount of memory space for storing the value or Literals in main memory(RAM) of computer\""
   ]
  },
  {
   "cell_type": "markdown",
   "id": "642d7544",
   "metadata": {},
   "source": [
    "# Fundamental Data Type\n",
    "\n",
    "Fundamental data types refer to basic building blocks for storing and manipulating data within a program. These data types are considered fundamental because they represent the most basic forms of data that Python can work with. Each fundamental data type can store only one value at a time\n",
    "\n",
    "int\n",
    "\n",
    "float\n",
    "\n",
    "bool\n",
    "\n",
    "complex"
   ]
  },
  {
   "cell_type": "code",
   "execution_count": null,
   "id": "6838b537",
   "metadata": {},
   "outputs": [],
   "source": []
  }
 ],
 "metadata": {
  "kernelspec": {
   "display_name": "Python 3 (ipykernel)",
   "language": "python",
   "name": "python3"
  },
  "language_info": {
   "codemirror_mode": {
    "name": "ipython",
    "version": 3
   },
   "file_extension": ".py",
   "mimetype": "text/x-python",
   "name": "python",
   "nbconvert_exporter": "python",
   "pygments_lexer": "ipython3",
   "version": "3.12.4"
  }
 },
 "nbformat": 4,
 "nbformat_minor": 5
}
