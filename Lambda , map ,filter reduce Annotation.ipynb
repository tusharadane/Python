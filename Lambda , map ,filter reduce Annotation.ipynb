{
 "cells": [
  {
   "cell_type": "markdown",
   "id": "a7295336",
   "metadata": {},
   "source": [
    "# Lambda Function"
   ]
  },
  {
   "cell_type": "markdown",
   "id": "5283cf43",
   "metadata": {},
   "source": [
    "Lambda Function\n",
    "A lambda function in Python is a small, anonymous (unnamed) function that is defined using the lambda keyword. It is also known as a lambda expression or lambda abstraction. Lambda functions are often used for short,simple operations that can be defined in a single line of code.\n",
    "\n",
    "The general syntax for a lambda function:\n",
    "\n",
    "lambda arguments: expression\n",
    "\n",
    "\n",
    "lambda: This keyword is used to define a lambda function.\n",
    "\n",
    "arguments:\n",
    "\n",
    "These are the input parameters or arguments that the lambda function takes.\n",
    "\n",
    "You can have zero or more arguments.\n",
    "\n",
    "expression: This is the operation or computation that the lambda function performs using the input arguments.\n",
    "\n",
    "The result of this expression is returned by the lambda function.\n",
    "\n",
    "Lambda is to provide a concise way to create small, anonymous functions for simple tasks. Lambda functions are typically used for the following purposes:\n",
    "\n",
    "Conciseness: Lambda functions allow you to define functions in a single line of code, which can be helpful for short and simple operations.\n",
    "\n",
    "One-time Use: They are often used for tasks that you only need to perform once, without defining a formal function using the def keyword.\n",
    "\n",
    "Functional Programming: Lambda functions are commonly used in functional programming constructs like map(), filter(), and reduce(), where you need to pass a function as an argument.\n",
    "\n",
    "Readability: In some cases, using a lambda function can make the code more readable when the function's purpose is straightforward, and using a named function would add unnecessary complexity.\n",
    "\n",
    "However, it's essential to understand that lambda functions have limitations compared to regular functions defined with def. They are not suitable for complex tasks or functions that require multiple statements or more significant logic. In such cases, it's better to define a named function using def. Lambda functions are best suited for short, simple operations."
   ]
  },
  {
   "cell_type": "code",
   "execution_count": 10,
   "id": "80144fb4",
   "metadata": {},
   "outputs": [
    {
     "name": "stdout",
     "output_type": "stream",
     "text": [
      "Sum without lambda: 8\n"
     ]
    }
   ],
   "source": [
    "# Without Lambda\n",
    "def add_numbers(a, b):\n",
    "    return a + b\n",
    "\n",
    "result = add_numbers(3, 5)\n",
    "print(\"Sum without lambda:\", result)\n"
   ]
  },
  {
   "cell_type": "code",
   "execution_count": 11,
   "id": "258515a4",
   "metadata": {},
   "outputs": [
    {
     "name": "stdout",
     "output_type": "stream",
     "text": [
      "Sum with lambda: 8\n"
     ]
    }
   ],
   "source": [
    "# With Lambda\n",
    "add_numbers_lambda = lambda a, b: a + b\n",
    "\n",
    "result_lambda = add_numbers_lambda(3, 5)\n",
    "print(\"Sum with lambda:\", result_lambda)\n"
   ]
  },
  {
   "cell_type": "code",
   "execution_count": 12,
   "id": "533230f9",
   "metadata": {},
   "outputs": [
    {
     "name": "stdout",
     "output_type": "stream",
     "text": [
      "Reversed: olleh\n"
     ]
    }
   ],
   "source": [
    "reverse_string = lambda s: s[::-1]\n",
    "result = reverse_string(\"hello\")\n",
    "print(\"Reversed:\", result)"
   ]
  },
  {
   "cell_type": "code",
   "execution_count": 14,
   "id": "ec9d75bc",
   "metadata": {},
   "outputs": [
    {
     "name": "stdout",
     "output_type": "stream",
     "text": [
      "Is 8 even? True\n",
      "Is 7 even? False\n"
     ]
    }
   ],
   "source": [
    "is_even = lambda x: x % 2 == 0\n",
    "print(\"Is 8 even?\", is_even(8))\n",
    "print(\"Is 7 even?\", is_even(7))\n"
   ]
  },
  {
   "cell_type": "code",
   "execution_count": 16,
   "id": "e21db859",
   "metadata": {},
   "outputs": [
    {
     "data": {
      "text/plain": [
       "'odd num'"
      ]
     },
     "execution_count": 16,
     "metadata": {},
     "output_type": "execute_result"
    }
   ],
   "source": [
    "even_odd = lambda x, : \"even\" if x % 2 == 0 else \"odd num\"\n",
    "even_odd(35)"
   ]
  },
  {
   "cell_type": "code",
   "execution_count": 15,
   "id": "dc7b0985",
   "metadata": {},
   "outputs": [
    {
     "name": "stdout",
     "output_type": "stream",
     "text": [
      "Maximum: 12\n"
     ]
    }
   ],
   "source": [
    "maximum = lambda x, y: x if x > y else y\n",
    "result = maximum(7, 12)\n",
    "print(\"Maximum:\", result)\n"
   ]
  },
  {
   "cell_type": "markdown",
   "id": "a0a6e796",
   "metadata": {},
   "source": [
    "# map()"
   ]
  },
  {
   "cell_type": "markdown",
   "id": "412409e7",
   "metadata": {},
   "source": [
    "The map() function in Python is a built-in function that allows you to apply a specified function to each item in an iterable (e.g., a list, tuple, or string) and returns a new iterable containing the results. It is a fundamental tool for functional programming in Python and is commonly used for data transformation.\n",
    "\n",
    "map(function, iterable, ...)\n",
    "\n",
    "function: This is the function that you want to apply to each item in the iterable. iterable: This is the iterable (e.g., a list) whose elements you want to process using the given function. Return Value: map() returns an iterator or a list containing the results of applying the specified function to each item in the iterable. In Python 3, you typically convert the iterator to a list to see the results.\n",
    "\n",
    "map() applies the specified function to each item in the iterable and returns the transformed values. It is commonly used for tasks like data manipulation, transformation, or applying the same operation to a list of values.\n",
    "\n",
    "The map() function in Python is like a magic tool that helps you do the same thing to each item in a list. It's like having a list of numbers, and you want to double every number in that list without writing a lot of code. map() does this job for you.\n",
    "\n",
    "You have a list of things (like numbers) that you want to change in some way.\n",
    "\n",
    "You also have a special rule (a function) that tells you how to change each thing.\n",
    "\n",
    "You use map() and tell it to apply that special rule to each thing in the list.\n",
    "\n",
    "map() then gives you back a new list with all the things changed according to your special rule."
   ]
  },
  {
   "cell_type": "code",
   "execution_count": 17,
   "id": "02569fc0",
   "metadata": {},
   "outputs": [
    {
     "name": "stdout",
     "output_type": "stream",
     "text": [
      "[1, 4, 9, 16, 25, 36, 49, 64, 81, 100]\n"
     ]
    }
   ],
   "source": [
    "a = [1,2,3,4,5,6,7,8,9,10]\n",
    "\n",
    "def square_num(x):\n",
    "    b = []\n",
    "    for i in x:\n",
    "        b.append(i**2)\n",
    "    return b\n",
    "\n",
    "result = square_num(a)\n",
    "print(result)"
   ]
  },
  {
   "cell_type": "code",
   "execution_count": null,
   "id": "f3f3ed32",
   "metadata": {},
   "outputs": [],
   "source": [
    "a = [1,2,3,4,5,6,7,8,9,10]"
   ]
  },
  {
   "cell_type": "code",
   "execution_count": null,
   "id": "2a542e0a",
   "metadata": {},
   "outputs": [],
   "source": [
    "def power(x):\n",
    "    return x**2"
   ]
  },
  {
   "cell_type": "code",
   "execution_count": null,
   "id": "f34c0142",
   "metadata": {},
   "outputs": [],
   "source": [
    "square_numbers = list(map(power,a))\n",
    "square_numbers"
   ]
  },
  {
   "cell_type": "code",
   "execution_count": null,
   "id": "7f1aad16",
   "metadata": {},
   "outputs": [],
   "source": [
    "square_num = list(map(lambda x : x**2,a))\n",
    "square_num"
   ]
  },
  {
   "cell_type": "code",
   "execution_count": null,
   "id": "076c93df",
   "metadata": {},
   "outputs": [],
   "source": [
    "b = [\"apple\",\"mango\",\"grapes\",\"kiwi\",\"watermelon\"]"
   ]
  },
  {
   "cell_type": "code",
   "execution_count": null,
   "id": "a7ef86f1",
   "metadata": {
    "scrolled": true
   },
   "outputs": [],
   "source": [
    "for i in b:\n",
    "    print(len(i))"
   ]
  },
  {
   "cell_type": "code",
   "execution_count": null,
   "id": "c2ebc154",
   "metadata": {},
   "outputs": [],
   "source": [
    "def length(x): \n",
    "    print(len(x))"
   ]
  },
  {
   "cell_type": "code",
   "execution_count": null,
   "id": "770f5938",
   "metadata": {},
   "outputs": [],
   "source": [
    "length_of_elements = list(map(length,b))\n",
    "length_of_elements"
   ]
  },
  {
   "cell_type": "code",
   "execution_count": null,
   "id": "18c1637b",
   "metadata": {},
   "outputs": [],
   "source": [
    "length_of_elements = list(map(lambda x: len(x),b))\n",
    "length_of_elements"
   ]
  },
  {
   "cell_type": "code",
   "execution_count": null,
   "id": "4b1b4885",
   "metadata": {},
   "outputs": [],
   "source": [
    "length_of_elements = list(map(lambda x: len(x),b))\n",
    "length_of_elements"
   ]
  },
  {
   "cell_type": "code",
   "execution_count": 19,
   "id": "1af855a7",
   "metadata": {},
   "outputs": [
    {
     "name": "stdout",
     "output_type": "stream",
     "text": [
      "Reversed Strings: ['olleh', 'dlrow', 'nohtyp']\n"
     ]
    }
   ],
   "source": [
    "strings = ['hello', 'world', 'python']\n",
    "reversed_strings = list(map(lambda s: s[::-1], strings))\n",
    "print(\"Reversed Strings:\", reversed_strings)\n"
   ]
  },
  {
   "cell_type": "code",
   "execution_count": null,
   "id": "20e5e910",
   "metadata": {},
   "outputs": [],
   "source": [
    "fruits = {\"apple\":2,\"mango\":4,\"grapes\":6,\"kiwi\":4,\"watermelon\":5}\n",
    "fruits"
   ]
  },
  {
   "cell_type": "code",
   "execution_count": null,
   "id": "3687637a",
   "metadata": {},
   "outputs": [],
   "source": [
    "result = list(map(lambda x : x*2 , fruits.values()))\n",
    "result"
   ]
  },
  {
   "cell_type": "code",
   "execution_count": null,
   "id": "2ed0b39f",
   "metadata": {},
   "outputs": [],
   "source": [
    "result = dict(map(lambda items:(items[0],items[1]*2),fruits.items()))\n",
    "result"
   ]
  },
  {
   "cell_type": "code",
   "execution_count": null,
   "id": "4ba9e480",
   "metadata": {
    "scrolled": true
   },
   "outputs": [],
   "source": [
    "for i in fruits.items():\n",
    "    print(i)"
   ]
  },
  {
   "cell_type": "markdown",
   "id": "d20e1732",
   "metadata": {},
   "source": [
    "# filter()"
   ]
  },
  {
   "cell_type": "markdown",
   "id": "19eff6b8",
   "metadata": {},
   "source": [
    "The filter() function in Python is a built-in function that allows you to filter elements from an iterable (e.g., a list, tuple, or string) based on a specified condition.\n",
    "\n",
    "It returns a new iterable containing only the elements that meet the condition.\n",
    "\n",
    "filter(function, iterable)\n",
    "\n",
    "function: This is the function that specifies the condition you want to apply to each element in the iterable. It should return True for elements that you want to keep and False for elements that you want to discard.\n",
    "\n",
    "iterable: This is the iterable (e.g., a list) from which you want to filter elements. Return Value:\n",
    "\n",
    "filter() returns an iterator or a list containing the elements from the iterable that satisfy the specified condition. In Python 3, you typically convert the iterator to a list to see the filtered results.\n",
    "\n",
    "Usage:\n",
    "\n",
    "filter() is used to select elements from an iterable that match a specific criterion or condition.\n",
    "\n",
    "It is commonly used for tasks like data filtering, where you want to extract elements from a collection that meet certain requirements."
   ]
  },
  {
   "cell_type": "code",
   "execution_count": null,
   "id": "2f8e0c61",
   "metadata": {},
   "outputs": [],
   "source": [
    "num = [45,67,42,3,73,41,12,42,12,20]\n",
    "\n",
    "def filter_value(x):\n",
    "    return x>30"
   ]
  },
  {
   "cell_type": "code",
   "execution_count": null,
   "id": "05653af7",
   "metadata": {},
   "outputs": [],
   "source": [
    "result=list(filter(filter_value,num))\n",
    "result"
   ]
  },
  {
   "cell_type": "code",
   "execution_count": null,
   "id": "4ca6d57b",
   "metadata": {},
   "outputs": [],
   "source": [
    "bet_values = list(filter(lambda x: x>30 and x<50,num))\n",
    "bet_values"
   ]
  },
  {
   "cell_type": "code",
   "execution_count": null,
   "id": "55b3d58c",
   "metadata": {},
   "outputs": [],
   "source": [
    "fruits = {\"apple\":2,\"mango\":1,\"grapes\":6,\"kiwi\":4,\"watermelon\":5}\n",
    "\n",
    "def val(x):\n",
    "    return x>4\n",
    "\n",
    "filterd_items = dict(filter(lambda item:val(item[1]),fruits.items()))\n",
    "filterd_items\n"
   ]
  },
  {
   "cell_type": "code",
   "execution_count": 20,
   "id": "3825d6cc",
   "metadata": {},
   "outputs": [
    {
     "name": "stdout",
     "output_type": "stream",
     "text": [
      "['banana', 'cherry', 'orange', 'strawberry']\n"
     ]
    }
   ],
   "source": [
    "# Define a list of words\n",
    "words = [\"apple\", \"banana\", \"grape\", \"cherry\", \"kiwi\", \"orange\", \"strawberry\"]\n",
    "\n",
    "\n",
    "long_words = list(filter(lambda words: len(words)>5, words))\n",
    "\n",
    "# Print the long words\n",
    "print(long_words)\n"
   ]
  },
  {
   "cell_type": "code",
   "execution_count": 21,
   "id": "cacfe80d",
   "metadata": {},
   "outputs": [
    {
     "name": "stdout",
     "output_type": "stream",
     "text": [
      "[40, 45, 40]\n"
     ]
    }
   ],
   "source": [
    "def age(value):\n",
    "    return value > 30\n",
    "\n",
    "info = {\"Akash\": 40, \"jayesh\": 20, \"Ajay\": 45, \"Sam\": 22, \"Mat\": 40}\n",
    "\n",
    "var = list(filter(age, info.values()))\n",
    "\n",
    "print(var)\n"
   ]
  },
  {
   "cell_type": "markdown",
   "id": "6ad2bf34",
   "metadata": {},
   "source": [
    "# reduce()"
   ]
  },
  {
   "cell_type": "code",
   "execution_count": null,
   "id": "e47e0468",
   "metadata": {},
   "outputs": [],
   "source": [
    "from functools import reduce"
   ]
  },
  {
   "cell_type": "code",
   "execution_count": 22,
   "id": "3b3147a2",
   "metadata": {},
   "outputs": [
    {
     "name": "stdout",
     "output_type": "stream",
     "text": [
      "120\n"
     ]
    }
   ],
   "source": [
    "from functools import reduce\n",
    "\n",
    "numbers = [1, 2, 3, 4, 5]\n",
    "\n",
    "product_result = reduce(lambda x,y: x*y, numbers)\n",
    "\n",
    "print(product_result)\n"
   ]
  },
  {
   "cell_type": "code",
   "execution_count": 23,
   "id": "56706d97",
   "metadata": {},
   "outputs": [],
   "source": [
    "a = [12,234,33,45,53]\n",
    "\n",
    "def max(x,y):\n",
    "    if x>y:\n",
    "        return x\n",
    "    else:\n",
    "        return y"
   ]
  },
  {
   "cell_type": "code",
   "execution_count": 24,
   "id": "2c608c2a",
   "metadata": {},
   "outputs": [
    {
     "name": "stdout",
     "output_type": "stream",
     "text": [
      "Maximum number is :- 234\n"
     ]
    }
   ],
   "source": [
    "maximum_number = reduce(max,a)\n",
    "print(f\"Maximum number is :- {maximum_number}\")"
   ]
  },
  {
   "cell_type": "code",
   "execution_count": 25,
   "id": "2fc1ed37",
   "metadata": {},
   "outputs": [
    {
     "name": "stdout",
     "output_type": "stream",
     "text": [
      "Enter the number to find out the factorial :- 5\n",
      "Factorial of {n} is :- {fact}\n"
     ]
    }
   ],
   "source": [
    "n = int(input(\"Enter the number to find out the factorial :- \"))\n",
    "\n",
    "fact = reduce(lambda x,y : x*y,range(1,n+1))\n",
    "print(\"Factorial of {n} is :- {fact}\")"
   ]
  },
  {
   "cell_type": "markdown",
   "id": "d7fe9a5c",
   "metadata": {},
   "source": [
    "# Annotation "
   ]
  },
  {
   "cell_type": "markdown",
   "id": "75b3bf01",
   "metadata": {},
   "source": [
    "Annotations in Python are a way to attach metadata to function arguments and return values. They don't affect how the function runs but can provide information about what type of arguments the function expects or what it will return. This can be useful for documentation, type checking, or IDEs that can use these hints to give suggestions."
   ]
  },
  {
   "cell_type": "code",
   "execution_count": null,
   "id": "eb446b3b",
   "metadata": {},
   "outputs": [],
   "source": [
    "a = [1,2,3,4,5]"
   ]
  },
  {
   "cell_type": "code",
   "execution_count": 26,
   "id": "4a45c24a",
   "metadata": {},
   "outputs": [],
   "source": [
    "def addition(a: int, b: int) -> int:\n",
    "    \"\"\"\n",
    "    Adds two integers and returns the result.\n",
    "\n",
    "    Parameters:\n",
    "    a (int): The first integer to be added.\n",
    "    b (int): The second integer to be added.\n",
    "\n",
    "    Returns:\n",
    "    int: The sum of the two integers.\n",
    "    \"\"\"\n",
    "    return a + b\n"
   ]
  },
  {
   "cell_type": "code",
   "execution_count": 30,
   "id": "d5a3d16f",
   "metadata": {},
   "outputs": [
    {
     "name": "stdout",
     "output_type": "stream",
     "text": [
      "Addtion of numbers are:- 14\n"
     ]
    }
   ],
   "source": [
    "addition_result = addition(5,9)\n",
    "print(f\"Addtion of numbers are:- {addition_result}\")"
   ]
  },
  {
   "cell_type": "code",
   "execution_count": 34,
   "id": "4c0c49b7",
   "metadata": {},
   "outputs": [
    {
     "name": "stdout",
     "output_type": "stream",
     "text": [
      "{'a': <class 'int'>, 'b': <class 'int'>, 'return': <class 'int'>}\n"
     ]
    }
   ],
   "source": [
    "print(addition.__annotations__)"
   ]
  },
  {
   "cell_type": "code",
   "execution_count": 3,
   "id": "e531b4e1",
   "metadata": {},
   "outputs": [],
   "source": [
    "a = [1,2,3,4,5,6,7,8,9,10]"
   ]
  },
  {
   "cell_type": "code",
   "execution_count": 35,
   "id": "cd13412c",
   "metadata": {},
   "outputs": [],
   "source": [
    "def concatenate_strings(str1: str, str2: str, separator: str = \" \") -> str:\n",
    "    \"\"\"\n",
    "    Concatenates two strings with an optional separator.\n",
    "\n",
    "    Parameters:\n",
    "    str1 (str): The first string to concatenate.\n",
    "    str2 (str): The second string to concatenate.\n",
    "    separator (str, optional): The string used to separate str1 and str2. Defaults to a space.\n",
    "\n",
    "    Returns:\n",
    "    str: The concatenated result of str1, separator, and str2.\n",
    "    \"\"\"\n",
    "    return str1 + separator + str2\n"
   ]
  },
  {
   "cell_type": "code",
   "execution_count": 38,
   "id": "51daa6b5",
   "metadata": {},
   "outputs": [
    {
     "name": "stdout",
     "output_type": "stream",
     "text": [
      "Hello - World\n"
     ]
    }
   ],
   "source": [
    "result = concatenate_strings(\"Hello\", \"World\", \" - \")\n",
    "print(result)\n"
   ]
  },
  {
   "cell_type": "markdown",
   "id": "0c94a609",
   "metadata": {},
   "source": [
    "# List Comprehension"
   ]
  },
  {
   "cell_type": "markdown",
   "id": "09d8d67f",
   "metadata": {},
   "source": [
    "List comprehension in Python is a concise way to create lists. It allows you to generate a new list by applying an expression to each item in an existing iterable (like a list, tuple, or range) in just a single line of code."
   ]
  },
  {
   "cell_type": "code",
   "execution_count": null,
   "id": "98b93dcd",
   "metadata": {},
   "outputs": [],
   "source": [
    "new_list = [expression for item in iterable if condition]"
   ]
  },
  {
   "cell_type": "code",
   "execution_count": 7,
   "id": "7f64ce8e",
   "metadata": {},
   "outputs": [
    {
     "data": {
      "text/plain": [
       "{2: 8, 4: 64, 6: 216, 8: 512, 10: 1000}"
      ]
     },
     "execution_count": 7,
     "metadata": {},
     "output_type": "execute_result"
    }
   ],
   "source": [
    "cube_num = {i:i**3   for i in a if i % 2 ==0}\n",
    "cube_num "
   ]
  },
  {
   "cell_type": "markdown",
   "id": "ab7aeb45",
   "metadata": {},
   "source": [
    "expression: What you want each item in the new list to be.\n",
    "\n",
    "item: The current item from the iterable.\n",
    "\n",
    "iterable: The collection you're looping through.\n",
    "\n",
    "condition (optional): A filter that decides if the item should be included."
   ]
  },
  {
   "cell_type": "code",
   "execution_count": 40,
   "id": "c4349f3d",
   "metadata": {},
   "outputs": [
    {
     "name": "stdout",
     "output_type": "stream",
     "text": [
      "[1, 4, 9, 16, 25]\n"
     ]
    }
   ],
   "source": [
    "# Without List Comprehension\n",
    "\n",
    "squares = []\n",
    "for x in range(1, 6):\n",
    "    squares.append(x * x)\n",
    "\n",
    "print(squares)"
   ]
  },
  {
   "cell_type": "code",
   "execution_count": 42,
   "id": "1d8b62b2",
   "metadata": {},
   "outputs": [
    {
     "name": "stdout",
     "output_type": "stream",
     "text": [
      "[1, 4, 9, 16, 25]\n"
     ]
    }
   ],
   "source": [
    "squares = [x * x for x in range(1, 6)]\n",
    "\n",
    "print(squares)"
   ]
  },
  {
   "cell_type": "code",
   "execution_count": 44,
   "id": "b8530582",
   "metadata": {},
   "outputs": [
    {
     "name": "stdout",
     "output_type": "stream",
     "text": [
      "{2, 4, 6, 8, 10}\n"
     ]
    }
   ],
   "source": [
    "evens_set = {x for x in range(1, 11) if x % 2 == 0}\n",
    "print(evens_set)"
   ]
  },
  {
   "cell_type": "code",
   "execution_count": 45,
   "id": "9db0fafe",
   "metadata": {},
   "outputs": [
    {
     "name": "stdout",
     "output_type": "stream",
     "text": [
      "{2: 4, 4: 16, 6: 36, 8: 64, 10: 100}\n"
     ]
    }
   ],
   "source": [
    "evens_squares_dict = {x: x * x for x in range(1, 11) if x % 2 == 0}\n",
    "print(evens_squares_dict)"
   ]
  },
  {
   "cell_type": "code",
   "execution_count": null,
   "id": "d7a2ad8f",
   "metadata": {},
   "outputs": [],
   "source": []
  }
 ],
 "metadata": {
  "kernelspec": {
   "display_name": "Python 3 (ipykernel)",
   "language": "python",
   "name": "python3"
  },
  "language_info": {
   "codemirror_mode": {
    "name": "ipython",
    "version": 3
   },
   "file_extension": ".py",
   "mimetype": "text/x-python",
   "name": "python",
   "nbconvert_exporter": "python",
   "pygments_lexer": "ipython3",
   "version": "3.12.4"
  }
 },
 "nbformat": 4,
 "nbformat_minor": 5
}
