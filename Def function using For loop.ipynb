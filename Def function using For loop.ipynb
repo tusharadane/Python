{
 "cells": [
  {
   "cell_type": "code",
   "execution_count": 4,
   "id": "066681fa-ef24-4112-821e-fa70c9cf9182",
   "metadata": {},
   "outputs": [
    {
     "name": "stdout",
     "output_type": "stream",
     "text": [
      "2*1=2\n",
      "3*2=6\n",
      "4*3=12\n",
      "5*4=20\n",
      "6*5=30\n",
      "7*6=42\n",
      "8*7=56\n",
      "9*8=72\n",
      "10*9=90\n",
      "11*10=110\n"
     ]
    }
   ],
   "source": [
    "start= 2\n",
    "stop=7\n",
    "\n",
    "while start<=stop:\n",
    "    i=1\n",
    "    while i<=10:\n",
    "        print(f\"{start}*{i}={start*i}\")\n",
    "        i=i+1\n",
    "        start=start+1"
   ]
  },
  {
   "cell_type": "code",
   "execution_count": 27,
   "id": "40d91a03-42b3-447e-a2e8-9d7741206854",
   "metadata": {},
   "outputs": [
    {
     "name": "stdout",
     "output_type": "stream",
     "text": [
      "[4]\n",
      "[4, 16]\n",
      "[4, 16, 36]\n",
      "[4, 16, 36, 64]\n"
     ]
    }
   ],
   "source": [
    "a=[1,2,3,4,5,6,7,8]\n",
    "\n",
    "b=[]\n",
    "\n",
    "for i in a:\n",
    "    if i % 2 == 0:\n",
    "        b.append(i**2)\n",
    "        print(b)"
   ]
  },
  {
   "cell_type": "code",
   "execution_count": null,
   "id": "e4f7efe9-5151-407d-853a-31186517f63f",
   "metadata": {},
   "outputs": [],
   "source": [
    "sum()"
   ]
  },
  {
   "cell_type": "code",
   "execution_count": 1,
   "id": "cc145d93-a59e-440f-9210-01f75faa5bfb",
   "metadata": {},
   "outputs": [
    {
     "data": {
      "text/plain": [
       "9"
      ]
     },
     "execution_count": 1,
     "metadata": {},
     "output_type": "execute_result"
    }
   ],
   "source": [
    "def squareroot(x):\n",
    "    a=x**2\n",
    "    return a\n",
    "\n",
    "squareroot(3)"
   ]
  },
  {
   "cell_type": "code",
   "execution_count": null,
   "id": "511663ee-96b7-4641-b3e4-69b66a4a80ea",
   "metadata": {},
   "outputs": [],
   "source": [
    "def maximum():\n",
    "    a=int(input(\"enter the list:-\"))\n",
    "    "
   ]
  },
  {
   "cell_type": "code",
   "execution_count": 5,
   "id": "3b75bd76-42e5-4e8a-aa16-42037023397a",
   "metadata": {},
   "outputs": [
    {
     "data": {
      "text/plain": [
       "34"
      ]
     },
     "execution_count": 5,
     "metadata": {},
     "output_type": "execute_result"
    }
   ],
   "source": [
    "even_odd=lambda x: x if x%2==0 else \"odd number\"\n",
    "\n",
    "even_odd(34)"
   ]
  },
  {
   "cell_type": "code",
   "execution_count": 11,
   "id": "fa26bad2-9797-4f04-a11a-ace4cf0f54ac",
   "metadata": {},
   "outputs": [
    {
     "data": {
      "text/plain": [
       "11"
      ]
     },
     "execution_count": 11,
     "metadata": {},
     "output_type": "execute_result"
    }
   ],
   "source": [
    "num=lambda a,b: a+b\n",
    "\n",
    "num(5,6)"
   ]
  },
  {
   "cell_type": "code",
   "execution_count": 15,
   "id": "28a8dfc8-5343-4be1-96d8-41d953260ee6",
   "metadata": {},
   "outputs": [],
   "source": [
    "b=[\"apple\",\"mango\",\"grapes\",\"kiwi\",\"watermelon\"]"
   ]
  },
  {
   "cell_type": "code",
   "execution_count": 23,
   "id": "ade8ed7a-62e7-44a4-ac5c-09bdcdc6fdeb",
   "metadata": {},
   "outputs": [
    {
     "data": {
      "text/plain": [
       "[5, 5, 6, 4, 10]"
      ]
     },
     "execution_count": 23,
     "metadata": {},
     "output_type": "execute_result"
    }
   ],
   "source": [
    "length=list(map(lambda x:len(x),b))\n",
    "length"
   ]
  },
  {
   "cell_type": "code",
   "execution_count": 27,
   "id": "413d9588-6277-4a2c-a856-1a02deaf3556",
   "metadata": {},
   "outputs": [
    {
     "data": {
      "text/plain": [
       "['elppa', 'ognam', 'separg', 'iwik', 'nolemretaw']"
      ]
     },
     "execution_count": 27,
     "metadata": {},
     "output_type": "execute_result"
    }
   ],
   "source": [
    "reverse=list(map(lambda x:x[::-1],b))\n",
    "reverse"
   ]
  },
  {
   "cell_type": "code",
   "execution_count": 47,
   "id": "4cfa253b-6c52-4c4b-8fe6-cc73b62457d7",
   "metadata": {},
   "outputs": [
    {
     "ename": "SyntaxError",
     "evalue": "incomplete input (2116819412.py, line 1)",
     "output_type": "error",
     "traceback": [
      "\u001b[1;36m  Cell \u001b[1;32mIn[47], line 1\u001b[1;36m\u001b[0m\n\u001b[1;33m    results=dict(map(lambda items:(items[0],items[1]*2,b()))\u001b[0m\n\u001b[1;37m                                                            ^\u001b[0m\n\u001b[1;31mSyntaxError\u001b[0m\u001b[1;31m:\u001b[0m incomplete input\n"
     ]
    }
   ],
   "source": [
    "results=dict(map(lambda items:(items[0],items[1]*2,b()))"
   ]
  },
  {
   "cell_type": "code",
   "execution_count": 43,
   "id": "19eb3f6d-b404-4b18-b7cd-5cda04d04954",
   "metadata": {},
   "outputs": [],
   "source": [
    "b={\"apple\":2,\"mango\":4,\"grapes\":6,\"kiwi\":4,\"watermelon\":5}"
   ]
  },
  {
   "cell_type": "code",
   "execution_count": 53,
   "id": "62645c29-a51f-4d24-88a4-52e6545f3903",
   "metadata": {},
   "outputs": [
    {
     "ename": "TypeError",
     "evalue": "map() must have at least two arguments.",
     "output_type": "error",
     "traceback": [
      "\u001b[1;31m---------------------------------------------------------------------------\u001b[0m",
      "\u001b[1;31mTypeError\u001b[0m                                 Traceback (most recent call last)",
      "Cell \u001b[1;32mIn[53], line 1\u001b[0m\n\u001b[1;32m----> 1\u001b[0m results\u001b[38;5;241m=\u001b[39m\u001b[38;5;28mlist\u001b[39m(\u001b[38;5;28mmap\u001b[39m(\u001b[38;5;28;01mlambda\u001b[39;00m items:(items[\u001b[38;5;241m0\u001b[39m],items[\u001b[38;5;241m1\u001b[39m]\u001b[38;5;241m*\u001b[39m\u001b[38;5;241m2\u001b[39m,b())))\n",
      "\u001b[1;31mTypeError\u001b[0m: map() must have at least two arguments."
     ]
    }
   ],
   "source": [
    "results=list(map(lambda items:(items[0],items[1]*2,b())))"
   ]
  },
  {
   "cell_type": "code",
   "execution_count": 65,
   "id": "ee89cfc5-ce21-4dc1-bd3e-189b71984173",
   "metadata": {},
   "outputs": [],
   "source": [
    "b={\"apple\":2,\"mango\":4,\"grapes\":6,\"kiwi\":4,\"watermelon\":5}"
   ]
  },
  {
   "cell_type": "code",
   "execution_count": 81,
   "id": "de613f76-bf58-468c-9e90-b9dea1eb47fe",
   "metadata": {},
   "outputs": [
    {
     "data": {
      "text/plain": [
       "{'grapes': 6, 'watermelon': 5}"
      ]
     },
     "execution_count": 81,
     "metadata": {},
     "output_type": "execute_result"
    }
   ],
   "source": [
    "def val(x):\n",
    "    return x>4\n",
    "\n",
    "great_val=dict(filter(lambda items:val(items[1]),b.items()))\n",
    "great_val"
   ]
  },
  {
   "cell_type": "code",
   "execution_count": 11,
   "id": "f5fd6530-805a-4a86-8057-5556419ee91c",
   "metadata": {
    "scrolled": true
   },
   "outputs": [
    {
     "name": "stdout",
     "output_type": "stream",
     "text": [
      "Final amount after discount for Burger : 469\n"
     ]
    }
   ],
   "source": [
    "def apply_discount(item, amount, off, code):\n",
    "    total_amount = amount\n",
    "    \n",
    "    # Check if the discount code is valid\n",
    "    if code == \"FLATOFF\":\n",
    "        # Apply the discount\n",
    "        total_amount -= off\n",
    "    else:\n",
    "        print(\"Invalid discount code!\")\n",
    "\n",
    "    return total_amount\n",
    "\n",
    "# Given values\n",
    "item = \"Burger\"\n",
    "amount = 569\n",
    "off = 100\n",
    "code = \"FLATOFF\"\n",
    "\n",
    "# Call the function to apply discount\n",
    "final_amount = apply_discount(item, amount, off, code)\n",
    "\n",
    "# Print the final amount after discount\n",
    "print(\"Final amount after discount for\", item, \":\", final_amount)\n"
   ]
  },
  {
   "cell_type": "code",
   "execution_count": 17,
   "id": "96fbb3ba-9511-4ead-81ec-680ee4af910f",
   "metadata": {},
   "outputs": [
    {
     "name": "stdout",
     "output_type": "stream",
     "text": [
      "final amount after discount for  pizza : 750\n"
     ]
    }
   ],
   "source": [
    "def discount(item,amount,off,code):\n",
    "    total_amount=amount\n",
    "    if code==\"FLATOFF\":\n",
    "        total_amount-=off\n",
    "    else:\n",
    "        print(\"invalid discount code!\")\n",
    "    return total_amount\n",
    "\n",
    "\n",
    "item=\"pizza\"\n",
    "amount=850\n",
    "off=100\n",
    "code=\"FLATOFF\"\n",
    "\n",
    "final_amount=discount(item,amount,off,code)\n",
    "\n",
    "print(\"final amount after discount for \",item,\":\",final_amount)"
   ]
  },
  {
   "cell_type": "code",
   "execution_count": 35,
   "id": "a4c970dc-2bba-4943-9881-b335392233db",
   "metadata": {},
   "outputs": [
    {
     "data": {
      "text/plain": [
       "'true'"
      ]
     },
     "execution_count": 35,
     "metadata": {},
     "output_type": "execute_result"
    }
   ],
   "source": [
    "#Q1) Write a function is_even(num) that returns True if the number is even, and False if it is odd.\n",
    "\n",
    "def even(x):\n",
    "    if x%2==0:\n",
    "        return(\"true\")\n",
    "    else:\n",
    "        return(\"false\")\n",
    "\n",
    "\n",
    "even(6)"
   ]
  },
  {
   "cell_type": "code",
   "execution_count": 53,
   "id": "9d704df5-b84e-49d1-b7af-6a6030969df3",
   "metadata": {
    "scrolled": true
   },
   "outputs": [
    {
     "data": {
      "text/plain": [
       "24"
      ]
     },
     "execution_count": 53,
     "metadata": {},
     "output_type": "execute_result"
    }
   ],
   "source": [
    "#Q2) Write a function factorial(n) that returns the factorial of a given number.\n",
    "\n",
    "def factorial(x):\n",
    "    if x==0 or x==1:\n",
    "        return 1\n",
    "    else:\n",
    "        return x*factorial(x-1)\n",
    "\n",
    "n(4)"
   ]
  },
  {
   "cell_type": "code",
   "execution_count": 86,
   "id": "6e3c180c-9729-4cb7-8c6b-5bbe1cdfd90e",
   "metadata": {},
   "outputs": [
    {
     "name": "stdout",
     "output_type": "stream",
     "text": [
      "100\n"
     ]
    }
   ],
   "source": [
    "#Q3) Write a function find_max(lst) that returns the maximum value in a list of numbers.\n",
    "\n",
    "\n",
    "def find_max(x):\n",
    "    # Initialize max_value with the first element of the list\n",
    "    max_value = x[0]\n",
    "    \n",
    "    # Loop through the list to find the max value\n",
    "    for value in x:\n",
    "        if value > max_value:\n",
    "            max_value = value\n",
    "    \n",
    "    return max_value\n",
    "\n",
    "\n",
    "values = [23, 7, 45, 12, 100, 31, 18]\n",
    "print(find_max(values))\n"
   ]
  },
  {
   "cell_type": "code",
   "execution_count": 100,
   "id": "b8e0b0a8-08bc-4c83-b551-462dbc826982",
   "metadata": {},
   "outputs": [
    {
     "name": "stdout",
     "output_type": "stream",
     "text": [
      "3\n"
     ]
    }
   ],
   "source": [
    "#Q4) Write a function count_vowels(s) that counts the number of vowels in a given string.\n",
    "\n",
    "def vowels_count(x):\n",
    "\n",
    "    vowels=\"aeiouAEIOU\"\n",
    "    count=0\n",
    "\n",
    "    for text in x:\n",
    "        if text in vowels:\n",
    "          count+=1\n",
    "    return count\n",
    "\n",
    "b=\"hello, python\"\n",
    "print(vowels_count(b))"
   ]
  },
  {
   "cell_type": "code",
   "execution_count": 5,
   "id": "50e40f2d-e956-46b2-a866-421d7a10c939",
   "metadata": {},
   "outputs": [
    {
     "name": "stdout",
     "output_type": "stream",
     "text": [
      "The sum of the squares of the first 5 number is:- 55\n"
     ]
    }
   ],
   "source": [
    "#Q5) Write a function sum_of_squares(n) that returns the sum of the squares of the first n natural numbers.\n",
    "\n",
    "def sum_of_squares(n):\n",
    "\n",
    "    total=0\n",
    "    \n",
    "    for i in range(1,n+1):\n",
    "        total+=i*i\n",
    "    return total\n",
    "\n",
    "result = sum_of_squares(5)\n",
    "print(f\"The sum of the squares of the first 5 number is:- {result}\") "
   ]
  },
  {
   "cell_type": "code",
   "execution_count": 114,
   "id": "4afa7d4f-946d-4a2a-8d94-0832298891e8",
   "metadata": {},
   "outputs": [
    {
     "name": "stdout",
     "output_type": "stream",
     "text": [
      "[1, 2, 3, 4, 5, 6, 7, 6, 8, 7]\n"
     ]
    }
   ],
   "source": [
    "#Q6) Write a function merge_sorted_lists(lst1, lst2) that takes two sorted lists and returns a new sorted list containing all the elements\n",
    "#from both lists.\n",
    "\n",
    "def merge_sorted_list(x,y):\n",
    "\n",
    "    merge_list=[]\n",
    "    i=0\n",
    "    j=0\n",
    "\n",
    "    for _ in range(len(x)+len(y)):\n",
    "        if i < len(x) and (j >= len(y) or x[i] <= y[j]):\n",
    "            merge_list.append(x[i])\n",
    "            i+=1\n",
    "        else:\n",
    "            merge_list.append(y[j])\n",
    "            j+=1\n",
    "    return merge_list\n",
    "\n",
    "a= [1, 3, 5, 7,6]\n",
    "b= [2, 4, 6, 8,7]\n",
    "print(merge_sorted_list(a,b))"
   ]
  },
  {
   "cell_type": "code",
   "execution_count": 118,
   "id": "93fb4a53-5b52-4284-88c1-ee0e1a93e533",
   "metadata": {},
   "outputs": [
    {
     "name": "stdout",
     "output_type": "stream",
     "text": [
      "[1, 2, 4, 7, 3, 5, 6]\n"
     ]
    }
   ],
   "source": [
    "#Q7) Write a function remove_duplicates(lst) that takes a list and returns a new list with duplicates removed, keeping only the first occurrence of \n",
    "#each element.\n",
    "\n",
    "def remove_duplicates(x):\n",
    "    unique_list=[]\n",
    "    for i in x:\n",
    "        if i not in unique_list:\n",
    "            unique_list.append(i)\n",
    "    return unique_list\n",
    "\n",
    "a= [1,2,2,4,7, 3, 5, 7,6]\n",
    "\n",
    "print(remove_duplicates(a))"
   ]
  },
  {
   "cell_type": "code",
   "execution_count": null,
   "id": "6cef49d8-83df-4f59-a640-51130b9f36b0",
   "metadata": {},
   "outputs": [],
   "source": [
    "def remove_duplicates(lst):\n",
    "    # Initialize an empty list to store unique elements\n",
    "    unique_list = []\n",
    "    \n",
    "    # Loop through each element in the original list\n",
    "    for item in lst:\n",
    "        if item not in unique_list:\n",
    "            unique_list.append(item)\n",
    "    \n",
    "    return unique_list\n",
    "\n",
    "# Example usage\n",
    "lst = [1, 2, 2, 3, 4, 4, 5]\n",
    "print(\"List with duplicates removed:\", remove_duplicates(lst))\n"
   ]
  }
 ],
 "metadata": {
  "kernelspec": {
   "display_name": "Python 3 (ipykernel)",
   "language": "python",
   "name": "python3"
  },
  "language_info": {
   "codemirror_mode": {
    "name": "ipython",
    "version": 3
   },
   "file_extension": ".py",
   "mimetype": "text/x-python",
   "name": "python",
   "nbconvert_exporter": "python",
   "pygments_lexer": "ipython3",
   "version": "3.12.4"
  }
 },
 "nbformat": 4,
 "nbformat_minor": 5
}
