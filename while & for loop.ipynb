{
 "cells": [
  {
   "cell_type": "code",
   "execution_count": 17,
   "id": "cebb4e8a-395d-419a-8c0a-ee5cb96d1714",
   "metadata": {},
   "outputs": [
    {
     "name": "stdout",
     "output_type": "stream",
     "text": [
      "ALICE\n",
      "BOB\n",
      "CHARLIE\n",
      "DAVID\n",
      "EVE\n"
     ]
    }
   ],
   "source": [
    "#Q1) Write a program that iterates over a list of names and prints each name in uppercase names \n",
    "\n",
    "a= [\"Alice\", \"Bob\", \"Charlie\", \"David\", \"Eve\"]\n",
    "\n",
    "for i in a:\n",
    "    print(i.upper( ))"
   ]
  },
  {
   "cell_type": "code",
   "execution_count": 18,
   "id": "b5b01fe1-3c0f-4a19-96f8-422cb610ebdd",
   "metadata": {},
   "outputs": [
    {
     "name": "stdout",
     "output_type": "stream",
     "text": [
      "45\n"
     ]
    }
   ],
   "source": [
    "#Q2) Write a program that calculates the sum of all elements in a list using loop.\n",
    "\n",
    "numbers = [5, 12, 7, 3, 8, 10] \n",
    "\n",
    "b=0\n",
    "for i in numbers:\n",
    "     b+=i\n",
    "print(b)"
   ]
  },
  {
   "cell_type": "code",
   "execution_count": 19,
   "id": "5e6967d0-7668-4756-8eb0-2f12a345241f",
   "metadata": {},
   "outputs": [
    {
     "name": "stdout",
     "output_type": "stream",
     "text": [
      "45 7\n"
     ]
    }
   ],
   "source": [
    "#Q3) Write a program that finds the maximum and minimum values in a list.\n",
    "\n",
    "values = [23, 7, 45, 12, 9, 31, 18]  \n",
    "\n",
    "max=values[0]\n",
    "min=values[0]\n",
    "for i in values:\n",
    "    if i>max:\n",
    "        max=i\n",
    "    if i<min:\n",
    "        min=i\n",
    "print(max,min)"
   ]
  },
  {
   "cell_type": "code",
   "execution_count": 20,
   "id": "6bfc7cb2-255f-4d61-a55a-4bbf2779f766",
   "metadata": {},
   "outputs": [
    {
     "name": "stdout",
     "output_type": "stream",
     "text": [
      "[4, 5, 6, 2, 7, 8, 9]\n"
     ]
    }
   ],
   "source": [
    "#Q4) Write a program that removes duplicate elements from a list.\n",
    "\n",
    "items = [4, 5, 6, 2, 5, 7, 8, 6, 9, 4]\n",
    "\n",
    "a=[]\n",
    "\n",
    "for i in items:\n",
    "    if i not in a:\n",
    "        a.append(i)\n",
    "print(a)"
   ]
  },
  {
   "cell_type": "code",
   "execution_count": 21,
   "id": "4776d050-ee3d-41e8-8f73-d7027f9c1e6b",
   "metadata": {
    "scrolled": true
   },
   "outputs": [
    {
     "name": "stdout",
     "output_type": "stream",
     "text": [
      "40 24\n"
     ]
    }
   ],
   "source": [
    "#Q5) Write a program that calculates the sum of even and odd numbers separately from a list.\n",
    "\n",
    "numbers = [3, 8, 7, 12, 5, 9, 14, 6]\n",
    "\n",
    "even=0\n",
    "odd=0\n",
    "\n",
    "for i in numbers:\n",
    "    if i % 2==0 :\n",
    "        even+=i\n",
    "    else:\n",
    "       odd+=i\n",
    "print(even,odd)"
   ]
  },
  {
   "cell_type": "code",
   "execution_count": 22,
   "id": "5551c522-b659-45ee-8126-4a6f67ef40fd",
   "metadata": {},
   "outputs": [
    {
     "name": "stdout",
     "output_type": "stream",
     "text": [
      "10\n",
      "20\n",
      "40\n"
     ]
    }
   ],
   "source": [
    "#Q6) Write a program that identifies duplicate elements in a list and prints them.\n",
    "\n",
    "items = [10, 15, 10, 20, 30, 20, 40, 50, 40]\n",
    "\n",
    "a = {}\n",
    "\n",
    "for i in items:\n",
    "    if i in a:\n",
    "        a[i] += 1\n",
    "    else:\n",
    "        a[i] = 1\n",
    "\n",
    "for i, count in a.items():\n",
    "    if count > 1:\n",
    "        print(i)\n"
   ]
  },
  {
   "cell_type": "code",
   "execution_count": 23,
   "id": "2ea889f1-496d-45c3-aaf1-0866af302948",
   "metadata": {},
   "outputs": [
    {
     "name": "stdout",
     "output_type": "stream",
     "text": [
      "{'name': 'Alice', 'age': 30, 'city': 'New York'}\n"
     ]
    }
   ],
   "source": [
    "#Q7) Write a program that combines two lists into a dictionary. One list contains keys, and the other contains values.\n",
    "\n",
    "keys = ['name', 'age', 'city']\n",
    "values = ['Alice', 30, 'New York']\n",
    "\n",
    "dict={}\n",
    "\n",
    "for i in range(len(keys)):\n",
    "    dict[keys[i]]=values[i]\n",
    "print(dict)"
   ]
  },
  {
   "cell_type": "code",
   "execution_count": 31,
   "id": "980a6e7b-172f-4b9c-a766-584ac4c72ed0",
   "metadata": {},
   "outputs": [
    {
     "ename": "TypeError",
     "evalue": "'str' object is not callable",
     "output_type": "error",
     "traceback": [
      "\u001b[1;31m---------------------------------------------------------------------------\u001b[0m",
      "\u001b[1;31mTypeError\u001b[0m                                 Traceback (most recent call last)",
      "Cell \u001b[1;32mIn[31], line 6\u001b[0m\n\u001b[0;32m      3\u001b[0m number\u001b[38;5;241m=\u001b[39m\u001b[38;5;28mrange\u001b[39m(\u001b[38;5;241m1\u001b[39m, \u001b[38;5;241m10\u001b[39m)\n\u001b[0;32m      5\u001b[0m \u001b[38;5;28;01mwhile\u001b[39;00m \u001b[38;5;28;01mTrue\u001b[39;00m:\n\u001b[1;32m----> 6\u001b[0m     \u001b[38;5;28minput\u001b[39m\u001b[38;5;241m=\u001b[39m\u001b[38;5;28minput\u001b[39m(\u001b[38;5;124m\"\u001b[39m\u001b[38;5;124mplease enter the number between :-\u001b[39m\u001b[38;5;124m\"\u001b[39m)\n\u001b[0;32m      8\u001b[0m     \u001b[38;5;28;01mif\u001b[39;00m \u001b[38;5;28minput\u001b[39m\u001b[38;5;241m==\u001b[39mnumber:\n\u001b[0;32m      9\u001b[0m         \u001b[38;5;28mprint\u001b[39m(\u001b[38;5;124m\"\u001b[39m\u001b[38;5;124mcorrect number\u001b[39m\u001b[38;5;124m\"\u001b[39m)\n",
      "\u001b[1;31mTypeError\u001b[0m: 'str' object is not callable"
     ]
    }
   ],
   "source": [
    "#Q8) Write a program that asks the user to guess a number between 1 and 10. The program should keep asking until the user guesses the correct number.\n",
    "\n",
    "number=range(1, 10)\n",
    "\n",
    "while True:\n",
    "    input=input(\"please enter the number between :-\")\n",
    "    \n",
    "    if input==number:\n",
    "        print(\"correct number\")\n",
    "        break\n",
    "    else:\n",
    "        print(\"please enter coorect number\")\n",
    "    "
   ]
  },
  {
   "cell_type": "code",
   "execution_count": null,
   "id": "0b837216-c53e-4365-abaa-ad034655f4b4",
   "metadata": {},
   "outputs": [],
   "source": [
    "#Q9) Write a program that checks if a string entered by the user is a palindrome. (A palindrome reads the same forwards and backwards.)\n",
    "\n",
    "user=input.[::-1]\n",
    "\n",
    "while True:\n",
    "    user=input(\"please enter name:-\")\n",
    "    if user==user\n",
    "    print(\"its palindrome name\")\n",
    "    break"
   ]
  }
 ],
 "metadata": {
  "kernelspec": {
   "display_name": "Python 3 (ipykernel)",
   "language": "python",
   "name": "python3"
  },
  "language_info": {
   "codemirror_mode": {
    "name": "ipython",
    "version": 3
   },
   "file_extension": ".py",
   "mimetype": "text/x-python",
   "name": "python",
   "nbconvert_exporter": "python",
   "pygments_lexer": "ipython3",
   "version": "3.12.4"
  }
 },
 "nbformat": 4,
 "nbformat_minor": 5
}
