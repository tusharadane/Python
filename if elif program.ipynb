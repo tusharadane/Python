{
 "cells": [
  {
   "cell_type": "code",
   "execution_count": 3,
   "id": "b0458e82-6f81-4c5a-a308-5e72c3a20269",
   "metadata": {},
   "outputs": [
    {
     "name": "stdin",
     "output_type": "stream",
     "text": [
      "enter the value:- 1\n"
     ]
    },
    {
     "name": "stdout",
     "output_type": "stream",
     "text": [
      "positive\n"
     ]
    }
   ],
   "source": [
    "user_input= int(input(\"enter the value:-\"))\n",
    "\n",
    "if user_input==1:\n",
    "    print(\"positive\")\n",
    "elif user_input==0:\n",
    "    print(\"0\")\n",
    "else:\n",
    "    print(\"negative\")\n"
   ]
  },
  {
   "cell_type": "code",
   "execution_count": 17,
   "id": "17ced557-7fca-4f43-80f5-a936b732cf78",
   "metadata": {
    "scrolled": true
   },
   "outputs": [
    {
     "name": "stdout",
     "output_type": "stream",
     "text": [
      "84.0\n"
     ]
    }
   ],
   "source": [
    "print(280/100*30)"
   ]
  },
  {
   "cell_type": "code",
   "execution_count": null,
   "id": "a52b6778-1f8d-4cdd-b751-2476f1bf3cb2",
   "metadata": {},
   "outputs": [],
   "source": [
    "user_input= input(\"enter the month:-\")\n",
    "\n",
    "match user_input:\n",
    "     case\""
   ]
  }
 ],
 "metadata": {
  "kernelspec": {
   "display_name": "Python 3 (ipykernel)",
   "language": "python",
   "name": "python3"
  },
  "language_info": {
   "codemirror_mode": {
    "name": "ipython",
    "version": 3
   },
   "file_extension": ".py",
   "mimetype": "text/x-python",
   "name": "python",
   "nbconvert_exporter": "python",
   "pygments_lexer": "ipython3",
   "version": "3.12.4"
  }
 },
 "nbformat": 4,
 "nbformat_minor": 5
}
