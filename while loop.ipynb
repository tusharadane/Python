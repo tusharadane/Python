{
 "cells": [
  {
   "cell_type": "code",
   "execution_count": null,
   "id": "a0576653-352d-4abd-bbbb-dce755ecc4aa",
   "metadata": {},
   "outputs": [],
   "source": [
    "n=int(input(\"enter the number:- \"))\n",
    "\n",
    "i=1\n",
    "\n",
    "while i<=10:\n",
    "    print(f\"{n}X{i}={n*i}\")\n",
    "    i=i+1"
   ]
  },
  {
   "cell_type": "code",
   "execution_count": null,
   "id": "89c5462d-16d6-4c85-96b7-345766800693",
   "metadata": {},
   "outputs": [],
   "source": []
  },
  {
   "cell_type": "code",
   "execution_count": 3,
   "id": "4d2c7131-97e5-4328-8d04-9ffbfc0e51d7",
   "metadata": {},
   "outputs": [
    {
     "name": "stdout",
     "output_type": "stream",
     "text": [
      "it is not prime number\n"
     ]
    }
   ],
   "source": [
    "num=21\n",
    "\n",
    "i=2\n",
    "while i<num:\n",
    "    if num%i==0:\n",
    "        print(\"it is not prime number\")\n",
    "        break \n",
    "    i=i+1\n",
    "else:\n",
    "    print(\"it is prime number\")"
   ]
  },
  {
   "cell_type": "code",
   "execution_count": null,
   "id": "33058fea-e370-49b2-bd1b-2f720b985d1e",
   "metadata": {},
   "outputs": [],
   "source": [
    "num=5\n",
    "\n",
    "i=1\n",
    "\n",
    "fact=1\n",
    "\n",
    "while i<=5:"
   ]
  },
  {
   "cell_type": "code",
   "execution_count": null,
   "id": "6d8fbfd2-5ea7-432b-8488-1632f04a1eaa",
   "metadata": {},
   "outputs": [],
   "source": []
  },
  {
   "cell_type": "code",
   "execution_count": null,
   "id": "b42d046b-7a37-4a9d-ae93-ec62818c6bc3",
   "metadata": {},
   "outputs": [
    {
     "name": "stdin",
     "output_type": "stream",
     "text": [
      "enter the car name:- ertiga\n",
      "enter the car name:- swift\n",
      "enter the car name:- thar\n",
      "enter the car name:- audi\n",
      "enter the car name:- bmw\n",
      "enter the car name:- marcedez\n",
      "enter the car name:- scorpio\n",
      "enter the car name:- ffs\n",
      "enter the car name:- a\n",
      "enter the car name:- A\n",
      "enter the car name:- A\n",
      "enter the car name:- A\n",
      "enter the car name:- A\n",
      "enter the car name:- A\n",
      "enter the car name:- A\n",
      "enter the car name:- A\n",
      "enter the car name:- A\n",
      "enter the car name:- A\n",
      "enter the car name:- A\n",
      "enter the car name:- A\n",
      "enter the car name:- A\n"
     ]
    }
   ],
   "source": [
    "cars_name=[]\n",
    "\n",
    "while i<=7:\n",
    "    i=i+1\n",
    "    user_input=input(\"enter the car name:-\")\n",
    "    if user_input==i:\n",
    "        break\n",
    "else:\n",
    "    print(\"complete\")"
   ]
  },
  {
   "cell_type": "code",
   "execution_count": null,
   "id": "b7d8f7d9-74e2-4037-8834-908359f207ac",
   "metadata": {},
   "outputs": [],
   "source": [
    "cars_name=[]\n",
    "\n",
    "while i<=7:\n",
    "    i=i+1\n",
    "    user_input=input(\"enter the car name:-\")\n",
    "    if user_input==i:\n",
    "        break\n",
    "else:\n",
    "    print(\"complete\")"
   ]
  },
  {
   "cell_type": "code",
   "execution_count": null,
   "id": "a0c81e7d-7b1b-4931-9596-2853e2ba3a8a",
   "metadata": {},
   "outputs": [],
   "source": []
  }
 ],
 "metadata": {
  "kernelspec": {
   "display_name": "Python 3 (ipykernel)",
   "language": "python",
   "name": "python3"
  },
  "language_info": {
   "codemirror_mode": {
    "name": "ipython",
    "version": 3
   },
   "file_extension": ".py",
   "mimetype": "text/x-python",
   "name": "python",
   "nbconvert_exporter": "python",
   "pygments_lexer": "ipython3",
   "version": "3.12.4"
  }
 },
 "nbformat": 4,
 "nbformat_minor": 5
}
