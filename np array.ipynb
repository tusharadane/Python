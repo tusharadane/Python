{
 "cells": [
  {
   "cell_type": "markdown",
   "id": "4dcaa919",
   "metadata": {},
   "source": [
    "# Numpy"
   ]
  },
  {
   "cell_type": "markdown",
   "id": "5903896a",
   "metadata": {},
   "source": [
    "\n",
    "NumPy is a fundamental package for scientific computing in Python. It provides support for large, multi-dimensional arrays and matrices, along with a collection of mathematical functions to operate on these arrays efficiently. NumPy is highly efficient, mainly due to its use of compiled C code.\n",
    "\n",
    "NumPy is like a supercharged toolbox for handling numbers and doing math in Python. It's a library that makes it easier and faster to work with large sets of data, especially when you're dealing with numbers."
   ]
  },
  {
   "cell_type": "markdown",
   "id": "da877c8a",
   "metadata": {},
   "source": [
    "# Why do we use NumPy?\n",
    "Efficiency: NumPy is super fast because it's written in a language called C, which is really good at crunching numbers quickly. This means you can do complex math operations on huge amounts of data without waiting forever.\n",
    "\n",
    "Arrays: NumPy gives us a cool new data type called arrays. Think of arrays like fancy lists that can hold lots of numbers in a nice, organized way. Arrays make it easy to do math on whole sets of data all at once.\n",
    "\n",
    "Math Functions: NumPy comes with tons of built-in math functions that work with arrays. Need to add up a bunch of numbers? NumPy's got you covered. Want to find the average of a set of values? NumPy can do that too, and much more!"
   ]
  },
  {
   "cell_type": "markdown",
   "id": "eec35e82",
   "metadata": {},
   "source": [
    "# How do we use NumPy?\n",
    "Install NumPy: First, you need to install NumPy on your computer. You can do this using a tool called pip, which comes with Python. Just type pip install numpy in your command prompt or terminal.\n",
    "\n",
    "Import NumPy: Once NumPy is installed, you can start using it in your Python programs. You do this by typing import numpy as np at the top of your code. This tells Python that you want to use NumPy and that you'll refer to it as np to save typing.\n",
    "\n",
    "Create Arrays: Now that NumPy is ready to go, you can create arrays using the np.array() function. You just pass in a list of numbers, and NumPy will turn it into an array for you.\n",
    "\n",
    "Do Math: With your arrays all set up, you can start doing math with them! NumPy lets you add, subtract, multiply, and divide arrays just like you would with regular numbers.\n",
    "\n",
    "Explore: NumPy has lots of other cool features too, like slicing and indexing arrays, reshaping them, and even fancy stuff like Fourier transforms. The more you explore, the more you'll discover what NumPy can do!"
   ]
  },
  {
   "cell_type": "markdown",
   "id": "f32fd0b7",
   "metadata": {},
   "source": [
    "Data Type:\n",
    "List: Can store different data types in a single list.\n",
    "Numpy Array: Stores elements of the same data type for more efficient computation.\n",
    "\n",
    "\n",
    "Performance:\n",
    "List: Slower for numerical operations due to generic data type handling.\n",
    "Numpy Array: Faster for numerical operations due to optimized C-based implementation.\n",
    "\n",
    "\n",
    "3. Functionality:\n",
    "\n",
    "List: Limited built-in functions for numerical operations.\n",
    "Numpy Array: Rich set of built-in functions for complex numerical operations.\n",
    "\n",
    "\n",
    "4. Memory Usage:\n",
    "\n",
    "List: Consumes more memory as it stores both data and type information.\n",
    "Numpy Array: More memory-efficient, storing only data with uniform type.\n",
    "\n",
    "\n",
    "5. Broadcasting:\n",
    "\n",
    "List: Does not support broadcasting; element-wise operations require explicit loops.\n",
    "Numpy Array: Supports broadcasting, allowing element-wise operations without explicit loops."
   ]
  },
  {
   "cell_type": "code",
   "execution_count": 1,
   "id": "6be155d8",
   "metadata": {},
   "outputs": [],
   "source": [
    "a = [1,2,3,4,5,6,7,8,9,10]"
   ]
  },
  {
   "cell_type": "code",
   "execution_count": 2,
   "id": "64408c3e",
   "metadata": {},
   "outputs": [
    {
     "ename": "TypeError",
     "evalue": "can only concatenate list (not \"int\") to list",
     "output_type": "error",
     "traceback": [
      "\u001b[1;31m---------------------------------------------------------------------------\u001b[0m",
      "\u001b[1;31mTypeError\u001b[0m                                 Traceback (most recent call last)",
      "Cell \u001b[1;32mIn[2], line 1\u001b[0m\n\u001b[1;32m----> 1\u001b[0m \u001b[38;5;28mprint\u001b[39m(\u001b[43ma\u001b[49m\u001b[38;5;241;43m+\u001b[39;49m\u001b[38;5;241;43m2\u001b[39;49m)\n",
      "\u001b[1;31mTypeError\u001b[0m: can only concatenate list (not \"int\") to list"
     ]
    }
   ],
   "source": [
    "print(a+2)"
   ]
  },
  {
   "cell_type": "code",
   "execution_count": 5,
   "id": "bcf25bf1",
   "metadata": {},
   "outputs": [
    {
     "name": "stdout",
     "output_type": "stream",
     "text": [
      "[1, 2, 3, 4, 5, 6, 7, 8, 9, 10, 1, 2, 3, 4, 5, 6, 7, 8, 9, 10]\n"
     ]
    }
   ],
   "source": [
    "print(a*2)"
   ]
  },
  {
   "cell_type": "code",
   "execution_count": null,
   "id": "87ce8d0c",
   "metadata": {},
   "outputs": [],
   "source": [
    "pip install numpy "
   ]
  },
  {
   "cell_type": "code",
   "execution_count": 6,
   "id": "2f96d3bc",
   "metadata": {},
   "outputs": [],
   "source": [
    "import numpy as np "
   ]
  },
  {
   "cell_type": "code",
   "execution_count": 7,
   "id": "b1c02342",
   "metadata": {},
   "outputs": [
    {
     "data": {
      "text/plain": [
       "'1.23.5'"
      ]
     },
     "execution_count": 7,
     "metadata": {},
     "output_type": "execute_result"
    }
   ],
   "source": [
    "np.__version__"
   ]
  },
  {
   "cell_type": "code",
   "execution_count": null,
   "id": "2b1e0a7d",
   "metadata": {},
   "outputs": [],
   "source": []
  },
  {
   "cell_type": "code",
   "execution_count": 8,
   "id": "acc1e5fb",
   "metadata": {},
   "outputs": [
    {
     "data": {
      "text/plain": [
       "array(['1', 'Hello', 'Python', '3+4j', 'True', '45.35'], dtype='<U32')"
      ]
     },
     "execution_count": 8,
     "metadata": {},
     "output_type": "execute_result"
    }
   ],
   "source": [
    "data = [1,\"Hello\",\"Python\",\"3+4j\",True,45.35]\n",
    "\n",
    "array = np.array(data)\n",
    "\n",
    "array"
   ]
  },
  {
   "cell_type": "code",
   "execution_count": 12,
   "id": "70111713",
   "metadata": {},
   "outputs": [
    {
     "name": "stdout",
     "output_type": "stream",
     "text": [
      "[12.4, 63.2, 34, 23, 10, 56.3, 34, 10.5] <class 'list'>\n",
      "[12.4 63.2 34.  23.  10.  56.3 34.  10.5] <class 'numpy.ndarray'> 2641846747664\n"
     ]
    }
   ],
   "source": [
    "a = [12.4,63.2,34,23,10,56.3,34,10.5] # does not mantain order and unique elements\n",
    "\n",
    "print(a,type(a))\n",
    "\n",
    "array = np.array(a)\n",
    "\n",
    "print(array,type(array),id(array))\n"
   ]
  },
  {
   "cell_type": "code",
   "execution_count": 14,
   "id": "9410e942",
   "metadata": {},
   "outputs": [
    {
     "name": "stdout",
     "output_type": "stream",
     "text": [
      "[ 1  2  3  4  5  6  7  8  9 10]\n"
     ]
    }
   ],
   "source": [
    "a = [1,2,3,4,5,6,7,8,9,10]\n",
    "\n",
    "array = np.array(a)\n",
    "\n",
    "print(array)"
   ]
  },
  {
   "cell_type": "code",
   "execution_count": 15,
   "id": "d879da7d",
   "metadata": {},
   "outputs": [
    {
     "data": {
      "text/plain": [
       "1"
      ]
     },
     "execution_count": 15,
     "metadata": {},
     "output_type": "execute_result"
    }
   ],
   "source": [
    "array.ndim"
   ]
  },
  {
   "cell_type": "code",
   "execution_count": 16,
   "id": "2ed847e6",
   "metadata": {},
   "outputs": [
    {
     "data": {
      "text/plain": [
       "10"
      ]
     },
     "execution_count": 16,
     "metadata": {},
     "output_type": "execute_result"
    }
   ],
   "source": [
    "array.size"
   ]
  },
  {
   "cell_type": "code",
   "execution_count": 18,
   "id": "a3d47d15",
   "metadata": {},
   "outputs": [
    {
     "data": {
      "text/plain": [
       "array([ 1,  3,  5,  7,  9, 11, 13, 15, 17, 19])"
      ]
     },
     "execution_count": 18,
     "metadata": {},
     "output_type": "execute_result"
    }
   ],
   "source": [
    "val = list(range(1,21,2))\n",
    "\n",
    "array = np.array(val)\n",
    "\n",
    "array"
   ]
  },
  {
   "cell_type": "code",
   "execution_count": 21,
   "id": "a475734a",
   "metadata": {},
   "outputs": [
    {
     "name": "stdout",
     "output_type": "stream",
     "text": [
      "[ 2.  5.  8. 11. 14. 17.]\n"
     ]
    }
   ],
   "source": [
    "array  = np.arange(2,20,3,dtype=float)\n",
    "print(array)"
   ]
  },
  {
   "cell_type": "code",
   "execution_count": 22,
   "id": "cf03e501",
   "metadata": {},
   "outputs": [
    {
     "name": "stdout",
     "output_type": "stream",
     "text": [
      "[[1 2 3]\n",
      " [4 5 6]\n",
      " [7 8 9]]\n"
     ]
    }
   ],
   "source": [
    "data = [[1,2,3],[4,5,6],[7,8,9]]\n",
    "\n",
    "array = np.array(data)\n",
    "\n",
    "print(array)"
   ]
  },
  {
   "cell_type": "code",
   "execution_count": 24,
   "id": "62c9cd36",
   "metadata": {},
   "outputs": [
    {
     "data": {
      "text/plain": [
       "2"
      ]
     },
     "execution_count": 24,
     "metadata": {},
     "output_type": "execute_result"
    }
   ],
   "source": [
    "array.ndim"
   ]
  },
  {
   "cell_type": "code",
   "execution_count": 26,
   "id": "716143cf",
   "metadata": {},
   "outputs": [
    {
     "data": {
      "text/plain": [
       "(3, 3)"
      ]
     },
     "execution_count": 26,
     "metadata": {},
     "output_type": "execute_result"
    }
   ],
   "source": [
    "array.shape"
   ]
  },
  {
   "cell_type": "code",
   "execution_count": 25,
   "id": "e9c79d39",
   "metadata": {
    "scrolled": true
   },
   "outputs": [
    {
     "data": {
      "text/plain": [
       "9"
      ]
     },
     "execution_count": 25,
     "metadata": {},
     "output_type": "execute_result"
    }
   ],
   "source": [
    "array.size"
   ]
  },
  {
   "cell_type": "code",
   "execution_count": 30,
   "id": "3cd4b318",
   "metadata": {},
   "outputs": [
    {
     "name": "stdout",
     "output_type": "stream",
     "text": [
      "[[1 1 1 1]\n",
      " [1 1 1 1]\n",
      " [1 1 1 1]\n",
      " [1 1 1 1]]\n"
     ]
    }
   ],
   "source": [
    "ones_array  = np.ones((4,4),dtype = int)\n",
    "print(ones_array)"
   ]
  },
  {
   "cell_type": "code",
   "execution_count": 31,
   "id": "aeda372f",
   "metadata": {},
   "outputs": [
    {
     "name": "stdout",
     "output_type": "stream",
     "text": [
      "[[0 0 0 0]\n",
      " [0 0 0 0]\n",
      " [0 0 0 0]\n",
      " [0 0 0 0]]\n"
     ]
    }
   ],
   "source": [
    "zeros_array  = np.zeros((4,4),dtype = int)\n",
    "print(zeros_array)"
   ]
  },
  {
   "cell_type": "code",
   "execution_count": 34,
   "id": "f7e1c949",
   "metadata": {},
   "outputs": [
    {
     "name": "stdout",
     "output_type": "stream",
     "text": [
      "[[1 0 0 0]\n",
      " [0 1 0 0]\n",
      " [0 0 1 0]\n",
      " [0 0 0 1]]\n"
     ]
    }
   ],
   "source": [
    "eye_array  = np.eye(4,dtype = int)\n",
    "print(eye_array)"
   ]
  },
  {
   "cell_type": "code",
   "execution_count": 39,
   "id": "76e69138",
   "metadata": {},
   "outputs": [
    {
     "data": {
      "text/plain": [
       "array([[31,  0],\n",
       "       [ 0, 31]])"
      ]
     },
     "execution_count": 39,
     "metadata": {},
     "output_type": "execute_result"
    }
   ],
   "source": [
    "array = np.diag((31,31))\n",
    "array"
   ]
  },
  {
   "cell_type": "code",
   "execution_count": 40,
   "id": "d663324a",
   "metadata": {},
   "outputs": [
    {
     "data": {
      "text/plain": [
       "array([31, 31])"
      ]
     },
     "execution_count": 40,
     "metadata": {},
     "output_type": "execute_result"
    }
   ],
   "source": [
    "data = np.diagonal(array)\n",
    "data"
   ]
  },
  {
   "cell_type": "code",
   "execution_count": 50,
   "id": "a0973039",
   "metadata": {},
   "outputs": [
    {
     "name": "stdout",
     "output_type": "stream",
     "text": [
      "[[13 23 24  8]\n",
      " [24 27 13 16]\n",
      " [ 6 26 22  5]\n",
      " [11  4  2  5]]\n"
     ]
    }
   ],
   "source": [
    "array = np.random.randint(2,30,size=(4,4),dtype=int)\n",
    "print(array)"
   ]
  },
  {
   "cell_type": "code",
   "execution_count": 52,
   "id": "febc941c",
   "metadata": {},
   "outputs": [
    {
     "data": {
      "text/plain": [
       "array([[10, 10, 10],\n",
       "       [10, 10, 10],\n",
       "       [10, 10, 10]])"
      ]
     },
     "execution_count": 52,
     "metadata": {},
     "output_type": "execute_result"
    }
   ],
   "source": [
    "array = np.full((3,3),10)\n",
    "array\n"
   ]
  },
  {
   "cell_type": "code",
   "execution_count": 55,
   "id": "23e5f3a4",
   "metadata": {},
   "outputs": [
    {
     "name": "stdout",
     "output_type": "stream",
     "text": [
      "[[28 13 14 12  5]\n",
      " [29 28  7 26 18]\n",
      " [10  9 23  8 29]\n",
      " [ 6 22 29 13 17]\n",
      " [ 6  8 22 17 20]]\n"
     ]
    }
   ],
   "source": [
    "array = np.random.randint(2,30,size=(5,5),dtype=int)\n",
    "print(array)"
   ]
  },
  {
   "cell_type": "code",
   "execution_count": 54,
   "id": "a0f5eba1",
   "metadata": {},
   "outputs": [
    {
     "data": {
      "text/plain": [
       "array([25,  8, 26,  7])"
      ]
     },
     "execution_count": 54,
     "metadata": {},
     "output_type": "execute_result"
    }
   ],
   "source": [
    "array[2]"
   ]
  },
  {
   "cell_type": "code",
   "execution_count": 56,
   "id": "ee9288e6",
   "metadata": {},
   "outputs": [
    {
     "data": {
      "text/plain": [
       "array([[29, 28,  7, 26, 18],\n",
       "       [10,  9, 23,  8, 29]])"
      ]
     },
     "execution_count": 56,
     "metadata": {},
     "output_type": "execute_result"
    }
   ],
   "source": [
    "array[1:3]"
   ]
  },
  {
   "cell_type": "code",
   "execution_count": 57,
   "id": "566c77af",
   "metadata": {},
   "outputs": [
    {
     "data": {
      "text/plain": [
       "array([ 7, 23, 29])"
      ]
     },
     "execution_count": 57,
     "metadata": {},
     "output_type": "execute_result"
    }
   ],
   "source": [
    "array[1:4,2]"
   ]
  },
  {
   "cell_type": "code",
   "execution_count": 58,
   "id": "ab4614ec",
   "metadata": {},
   "outputs": [],
   "source": [
    "array[1:4,1:3] = 45"
   ]
  },
  {
   "cell_type": "code",
   "execution_count": 59,
   "id": "3db0d560",
   "metadata": {},
   "outputs": [
    {
     "data": {
      "text/plain": [
       "array([[28, 13, 14, 12,  5],\n",
       "       [29, 45, 45, 26, 18],\n",
       "       [10, 45, 45,  8, 29],\n",
       "       [ 6, 45, 45, 13, 17],\n",
       "       [ 6,  8, 22, 17, 20]])"
      ]
     },
     "execution_count": 59,
     "metadata": {},
     "output_type": "execute_result"
    }
   ],
   "source": [
    "array"
   ]
  },
  {
   "cell_type": "code",
   "execution_count": 61,
   "id": "528674a6",
   "metadata": {},
   "outputs": [
    {
     "data": {
      "text/plain": [
       "array([[14, 12],\n",
       "       [45, 26],\n",
       "       [45,  8],\n",
       "       [45, 13],\n",
       "       [22, 17]])"
      ]
     },
     "execution_count": 61,
     "metadata": {},
     "output_type": "execute_result"
    }
   ],
   "source": [
    "array[:,2:4]"
   ]
  },
  {
   "cell_type": "code",
   "execution_count": 63,
   "id": "542735dd",
   "metadata": {},
   "outputs": [
    {
     "data": {
      "text/plain": [
       "array([[10, 45, 45,  8, 29],\n",
       "       [ 6, 45, 45, 13, 17]])"
      ]
     },
     "execution_count": 63,
     "metadata": {},
     "output_type": "execute_result"
    }
   ],
   "source": [
    "array[2:4,:]"
   ]
  },
  {
   "cell_type": "code",
   "execution_count": null,
   "id": "11fcae14",
   "metadata": {},
   "outputs": [],
   "source": [
    "array[row_slicing,columns_slicing]"
   ]
  },
  {
   "cell_type": "code",
   "execution_count": 64,
   "id": "c68a3b2b",
   "metadata": {},
   "outputs": [
    {
     "data": {
      "text/plain": [
       "45"
      ]
     },
     "execution_count": 64,
     "metadata": {},
     "output_type": "execute_result"
    }
   ],
   "source": [
    "array[2][1]"
   ]
  },
  {
   "cell_type": "code",
   "execution_count": 65,
   "id": "d8e04634",
   "metadata": {},
   "outputs": [
    {
     "data": {
      "text/plain": [
       "45"
      ]
     },
     "execution_count": 65,
     "metadata": {},
     "output_type": "execute_result"
    }
   ],
   "source": [
    "array[2,1]"
   ]
  },
  {
   "cell_type": "code",
   "execution_count": 66,
   "id": "4c26ce25",
   "metadata": {},
   "outputs": [
    {
     "data": {
      "text/plain": [
       "array([[28, 13, 14, 12,  5],\n",
       "       [29, 45, 45, 26, 18],\n",
       "       [10, 45, 45,  8, 29],\n",
       "       [ 6, 45, 45, 13, 17],\n",
       "       [ 6,  8, 22, 17, 20]])"
      ]
     },
     "execution_count": 66,
     "metadata": {},
     "output_type": "execute_result"
    }
   ],
   "source": [
    "array"
   ]
  },
  {
   "cell_type": "code",
   "execution_count": 67,
   "id": "2d70627d",
   "metadata": {},
   "outputs": [
    {
     "data": {
      "text/plain": [
       "array([[29, 45, 45, 26, 18],\n",
       "       [ 6, 45, 45, 13, 17]])"
      ]
     },
     "execution_count": 67,
     "metadata": {},
     "output_type": "execute_result"
    }
   ],
   "source": [
    "array[1:4:2,:]"
   ]
  },
  {
   "cell_type": "code",
   "execution_count": 68,
   "id": "0a71c8b6",
   "metadata": {},
   "outputs": [
    {
     "data": {
      "text/plain": [
       "array([[29, 45, 45, 26, 18],\n",
       "       [ 6,  8, 22, 17, 20]])"
      ]
     },
     "execution_count": 68,
     "metadata": {},
     "output_type": "execute_result"
    }
   ],
   "source": [
    "array[[1,4]]"
   ]
  },
  {
   "cell_type": "code",
   "execution_count": 69,
   "id": "7707892b",
   "metadata": {},
   "outputs": [
    {
     "data": {
      "text/plain": [
       "array([[28, 13, 14, 12,  5],\n",
       "       [ 6,  8, 22, 17, 20]])"
      ]
     },
     "execution_count": 69,
     "metadata": {},
     "output_type": "execute_result"
    }
   ],
   "source": [
    "array[[0,-1]]"
   ]
  },
  {
   "cell_type": "code",
   "execution_count": 70,
   "id": "20d3f7d5",
   "metadata": {},
   "outputs": [
    {
     "data": {
      "text/plain": [
       "array([[28, 13, 14, 12,  5],\n",
       "       [29, 45, 45, 26, 18],\n",
       "       [10, 45, 45,  8, 29],\n",
       "       [ 6, 45, 45, 13, 17],\n",
       "       [ 6,  8, 22, 17, 20]])"
      ]
     },
     "execution_count": 70,
     "metadata": {},
     "output_type": "execute_result"
    }
   ],
   "source": [
    "array"
   ]
  },
  {
   "cell_type": "code",
   "execution_count": 71,
   "id": "74971c18",
   "metadata": {},
   "outputs": [
    {
     "data": {
      "text/plain": [
       "array([[38, 23, 24, 22, 15],\n",
       "       [39, 55, 55, 36, 28],\n",
       "       [20, 55, 55, 18, 39],\n",
       "       [16, 55, 55, 23, 27],\n",
       "       [16, 18, 32, 27, 30]])"
      ]
     },
     "execution_count": 71,
     "metadata": {},
     "output_type": "execute_result"
    }
   ],
   "source": [
    "array+10"
   ]
  },
  {
   "cell_type": "code",
   "execution_count": 72,
   "id": "3dafc295",
   "metadata": {},
   "outputs": [
    {
     "data": {
      "text/plain": [
       "array([[ 784,  169,  196,  144,   25],\n",
       "       [ 841, 2025, 2025,  676,  324],\n",
       "       [ 100, 2025, 2025,   64,  841],\n",
       "       [  36, 2025, 2025,  169,  289],\n",
       "       [  36,   64,  484,  289,  400]])"
      ]
     },
     "execution_count": 72,
     "metadata": {},
     "output_type": "execute_result"
    }
   ],
   "source": [
    "array**2"
   ]
  },
  {
   "cell_type": "code",
   "execution_count": 73,
   "id": "29c14cff",
   "metadata": {},
   "outputs": [
    {
     "data": {
      "text/plain": [
       "array([[28, 13, 14, 12,  5],\n",
       "       [29, 45, 45, 26, 18],\n",
       "       [10, 45, 45,  8, 29],\n",
       "       [ 6, 45, 45, 13, 17],\n",
       "       [ 6,  8, 22, 17, 20]])"
      ]
     },
     "execution_count": 73,
     "metadata": {},
     "output_type": "execute_result"
    }
   ],
   "source": [
    "array"
   ]
  },
  {
   "cell_type": "code",
   "execution_count": 74,
   "id": "f76a6f60",
   "metadata": {},
   "outputs": [
    {
     "data": {
      "text/plain": [
       "array([[ True, False,  True,  True, False],\n",
       "       [False, False, False,  True,  True],\n",
       "       [ True, False, False,  True, False],\n",
       "       [ True, False, False, False, False],\n",
       "       [ True,  True,  True, False,  True]])"
      ]
     },
     "execution_count": 74,
     "metadata": {},
     "output_type": "execute_result"
    }
   ],
   "source": [
    "array % 2 == 0"
   ]
  },
  {
   "cell_type": "code",
   "execution_count": 77,
   "id": "81b21988",
   "metadata": {},
   "outputs": [
    {
     "data": {
      "text/plain": [
       "array([28, 14, 12, 26, 18, 10,  8,  6,  6,  8, 22, 20])"
      ]
     },
     "execution_count": 77,
     "metadata": {},
     "output_type": "execute_result"
    }
   ],
   "source": [
    "array[array % 2 == 0]"
   ]
  },
  {
   "cell_type": "code",
   "execution_count": 78,
   "id": "d26fc044",
   "metadata": {},
   "outputs": [
    {
     "data": {
      "text/plain": [
       "array([ 10.,  20.,  30.,  40.,  50.,  60.,  70.,  80.,  90., 100.])"
      ]
     },
     "execution_count": 78,
     "metadata": {},
     "output_type": "execute_result"
    }
   ],
   "source": [
    "equalspace = np.linspace(10,100,10)\n",
    "equalspace"
   ]
  },
  {
   "cell_type": "code",
   "execution_count": 83,
   "id": "ab74056f",
   "metadata": {},
   "outputs": [
    {
     "data": {
      "text/plain": [
       "array([ 3.        ,  3.77777778,  4.55555556,  5.33333333,  6.11111111,\n",
       "        6.88888889,  7.66666667,  8.44444444,  9.22222222, 10.        ])"
      ]
     },
     "execution_count": 83,
     "metadata": {},
     "output_type": "execute_result"
    }
   ],
   "source": [
    "equalspace = np.linspace(3,10,10)\n",
    "equalspace"
   ]
  },
  {
   "cell_type": "code",
   "execution_count": 82,
   "id": "34b57a78",
   "metadata": {},
   "outputs": [
    {
     "data": {
      "text/plain": [
       "array([[28, 13, 14, 12,  5],\n",
       "       [29, 45, 45, 26, 18],\n",
       "       [10, 45, 45,  8, 29],\n",
       "       [ 6, 45, 45, 13, 17],\n",
       "       [ 6,  8, 22, 17, 20]])"
      ]
     },
     "execution_count": 82,
     "metadata": {},
     "output_type": "execute_result"
    }
   ],
   "source": [
    "array"
   ]
  },
  {
   "cell_type": "code",
   "execution_count": 84,
   "id": "194285c7",
   "metadata": {},
   "outputs": [
    {
     "name": "stdout",
     "output_type": "stream",
     "text": [
      "[[10 25 24]\n",
      " [ 6 18 29]\n",
      " [27 28 12]]\n"
     ]
    }
   ],
   "source": [
    "array = np.random.randint(2,30,size=(3,3),dtype=int)\n",
    "print(array)"
   ]
  },
  {
   "cell_type": "markdown",
   "id": "7fb5e8f9",
   "metadata": {},
   "source": [
    "axis=0 refers to operations along the rows (i.e., down the columns, vertically). \n",
    "\n",
    "If you sum with axis=0, it adds the values column-wise.\n",
    "\n",
    "axis=1 refers to operations along the columns (i.e., across the rows, horizontally). \n",
    "\n",
    "If you sum with axis=1, it adds the values row-wise."
   ]
  },
  {
   "cell_type": "code",
   "execution_count": 86,
   "id": "b429d588",
   "metadata": {},
   "outputs": [
    {
     "data": {
      "text/plain": [
       "179"
      ]
     },
     "execution_count": 86,
     "metadata": {},
     "output_type": "execute_result"
    }
   ],
   "source": [
    "array.sum()"
   ]
  },
  {
   "cell_type": "code",
   "execution_count": 88,
   "id": "4233c635",
   "metadata": {},
   "outputs": [
    {
     "data": {
      "text/plain": [
       "array([59, 53, 67])"
      ]
     },
     "execution_count": 88,
     "metadata": {},
     "output_type": "execute_result"
    }
   ],
   "source": [
    "np.sum(array,axis = 1)"
   ]
  },
  {
   "cell_type": "code",
   "execution_count": 91,
   "id": "45579fbd",
   "metadata": {},
   "outputs": [
    {
     "data": {
      "text/plain": [
       "array([43, 71, 65])"
      ]
     },
     "execution_count": 91,
     "metadata": {},
     "output_type": "execute_result"
    }
   ],
   "source": [
    "np.sum(array,axis = 0)"
   ]
  },
  {
   "cell_type": "code",
   "execution_count": 92,
   "id": "26320bbd",
   "metadata": {},
   "outputs": [
    {
     "data": {
      "text/plain": [
       "6"
      ]
     },
     "execution_count": 92,
     "metadata": {},
     "output_type": "execute_result"
    }
   ],
   "source": [
    "array.min()"
   ]
  },
  {
   "cell_type": "code",
   "execution_count": 93,
   "id": "d79a2f61",
   "metadata": {},
   "outputs": [
    {
     "data": {
      "text/plain": [
       "array([10,  6, 12])"
      ]
     },
     "execution_count": 93,
     "metadata": {},
     "output_type": "execute_result"
    }
   ],
   "source": [
    "np.min(array,axis = 1)"
   ]
  },
  {
   "cell_type": "code",
   "execution_count": 94,
   "id": "8c0e3e5c",
   "metadata": {},
   "outputs": [
    {
     "data": {
      "text/plain": [
       "array([ 6, 18, 12])"
      ]
     },
     "execution_count": 94,
     "metadata": {},
     "output_type": "execute_result"
    }
   ],
   "source": [
    "np.min(array,axis = 0)"
   ]
  },
  {
   "cell_type": "code",
   "execution_count": 121,
   "id": "6f51ef9d",
   "metadata": {},
   "outputs": [
    {
     "data": {
      "text/plain": [
       "29"
      ]
     },
     "execution_count": 121,
     "metadata": {},
     "output_type": "execute_result"
    }
   ],
   "source": [
    "array.max()"
   ]
  },
  {
   "cell_type": "code",
   "execution_count": 122,
   "id": "99bf6283",
   "metadata": {},
   "outputs": [
    {
     "data": {
      "text/plain": [
       "array([25, 29, 28])"
      ]
     },
     "execution_count": 122,
     "metadata": {},
     "output_type": "execute_result"
    }
   ],
   "source": [
    "np.max(array,axis = 1)"
   ]
  },
  {
   "cell_type": "code",
   "execution_count": 123,
   "id": "6b575666",
   "metadata": {},
   "outputs": [
    {
     "data": {
      "text/plain": [
       "array([25, 29, 28])"
      ]
     },
     "execution_count": 123,
     "metadata": {},
     "output_type": "execute_result"
    }
   ],
   "source": [
    "np.max(array,axis = 1)"
   ]
  },
  {
   "cell_type": "code",
   "execution_count": 95,
   "id": "40e7661e",
   "metadata": {
    "scrolled": true
   },
   "outputs": [
    {
     "data": {
      "text/plain": [
       "array([19.66666667, 17.66666667, 22.33333333])"
      ]
     },
     "execution_count": 95,
     "metadata": {},
     "output_type": "execute_result"
    }
   ],
   "source": [
    "np.mean(array,axis = 1)"
   ]
  },
  {
   "cell_type": "code",
   "execution_count": 97,
   "id": "915c3f4f",
   "metadata": {},
   "outputs": [
    {
     "data": {
      "text/plain": [
       "19.88888888888889"
      ]
     },
     "execution_count": 97,
     "metadata": {},
     "output_type": "execute_result"
    }
   ],
   "source": [
    "array.mean()"
   ]
  },
  {
   "cell_type": "code",
   "execution_count": 98,
   "id": "5e50cb72",
   "metadata": {},
   "outputs": [
    {
     "data": {
      "text/plain": [
       "array([14.33333333, 23.66666667, 21.66666667])"
      ]
     },
     "execution_count": 98,
     "metadata": {},
     "output_type": "execute_result"
    }
   ],
   "source": [
    "np.mean(array,axis = 0)"
   ]
  },
  {
   "cell_type": "code",
   "execution_count": 99,
   "id": "87611b35",
   "metadata": {},
   "outputs": [
    {
     "data": {
      "text/plain": [
       "array([[3.16227766, 5.        , 4.89897949],\n",
       "       [2.44948974, 4.24264069, 5.38516481],\n",
       "       [5.19615242, 5.29150262, 3.46410162]])"
      ]
     },
     "execution_count": 99,
     "metadata": {},
     "output_type": "execute_result"
    }
   ],
   "source": [
    "array**0.5"
   ]
  },
  {
   "cell_type": "code",
   "execution_count": 101,
   "id": "13148df1",
   "metadata": {},
   "outputs": [
    {
     "data": {
      "text/plain": [
       "array([[3.16227766, 5.        , 4.89897949],\n",
       "       [2.44948974, 4.24264069, 5.38516481],\n",
       "       [5.19615242, 5.29150262, 3.46410162]])"
      ]
     },
     "execution_count": 101,
     "metadata": {},
     "output_type": "execute_result"
    }
   ],
   "source": [
    "np.sqrt(array)"
   ]
  },
  {
   "cell_type": "code",
   "execution_count": 102,
   "id": "b720811a",
   "metadata": {},
   "outputs": [
    {
     "data": {
      "text/plain": [
       "24.0"
      ]
     },
     "execution_count": 102,
     "metadata": {},
     "output_type": "execute_result"
    }
   ],
   "source": [
    "np.median(array)"
   ]
  },
  {
   "cell_type": "code",
   "execution_count": 103,
   "id": "a3ae6add",
   "metadata": {
    "scrolled": true
   },
   "outputs": [
    {
     "data": {
      "text/plain": [
       "array([[10, 25, 24],\n",
       "       [ 6, 18, 29],\n",
       "       [27, 28, 12]])"
      ]
     },
     "execution_count": 103,
     "metadata": {},
     "output_type": "execute_result"
    }
   ],
   "source": [
    "array"
   ]
  },
  {
   "cell_type": "markdown",
   "id": "8dace271",
   "metadata": {},
   "source": [
    "The median is the middle value in a sorted set of numbers. It divides the dataset into two equal halves half the numbers are smaller than the median, and half are larger.\n",
    "\n",
    "How to find the median:\n",
    "\n",
    "Sort the numbers in ascending order (if not already sorted):\n",
    "\n",
    "10, 25, 24,6, 18, 29,27, 28, 12\n",
    "\n",
    "6,10,12,19,24,25,27,28,29\n",
    "\n",
    "Count the total number of values (here, there are 9 numbers).\n",
    "\n",
    "Find the position of the median:\n",
    "\n",
    "The formula to find the position is: \n",
    "(𝑛+1)/2\n",
    "\n",
    "(n+1)/2, where 𝑛 is the total number of values.\n",
    "\n",
    "Here, 𝑛=9\n",
    "n=9, so (9+1)/2=10/2=5\n",
    "\n",
    "Locate the 5th value in the sorted list, which is 24."
   ]
  },
  {
   "cell_type": "code",
   "execution_count": 104,
   "id": "4de4f078",
   "metadata": {},
   "outputs": [
    {
     "data": {
      "text/plain": [
       "8.157402152434512"
      ]
     },
     "execution_count": 104,
     "metadata": {},
     "output_type": "execute_result"
    }
   ],
   "source": [
    "np.std(array)"
   ]
  },
  {
   "cell_type": "code",
   "execution_count": 105,
   "id": "6b19aa18",
   "metadata": {},
   "outputs": [
    {
     "data": {
      "text/plain": [
       "66.5432098765432"
      ]
     },
     "execution_count": 105,
     "metadata": {},
     "output_type": "execute_result"
    }
   ],
   "source": [
    "np.var(array)"
   ]
  },
  {
   "cell_type": "code",
   "execution_count": 106,
   "id": "68163861",
   "metadata": {},
   "outputs": [
    {
     "data": {
      "text/plain": [
       "8.12403840463596"
      ]
     },
     "execution_count": 106,
     "metadata": {},
     "output_type": "execute_result"
    }
   ],
   "source": [
    "66**0.5"
   ]
  },
  {
   "cell_type": "code",
   "execution_count": 107,
   "id": "01d6ac2c",
   "metadata": {},
   "outputs": [
    {
     "data": {
      "text/plain": [
       "array([[10, 25, 24],\n",
       "       [ 6, 18, 29],\n",
       "       [27, 28, 12]])"
      ]
     },
     "execution_count": 107,
     "metadata": {},
     "output_type": "execute_result"
    }
   ],
   "source": [
    "array"
   ]
  },
  {
   "cell_type": "code",
   "execution_count": 108,
   "id": "8263eb94",
   "metadata": {},
   "outputs": [
    {
     "data": {
      "text/plain": [
       "array([10, 25, 24,  6, 18, 29, 27, 28, 12])"
      ]
     },
     "execution_count": 108,
     "metadata": {},
     "output_type": "execute_result"
    }
   ],
   "source": [
    "onedarray = np.ravel(array)\n",
    "onedarray"
   ]
  },
  {
   "cell_type": "code",
   "execution_count": 109,
   "id": "fb107c4c",
   "metadata": {},
   "outputs": [
    {
     "data": {
      "text/plain": [
       "array([[10, 25, 24],\n",
       "       [ 6, 18, 29],\n",
       "       [27, 28, 12]])"
      ]
     },
     "execution_count": 109,
     "metadata": {},
     "output_type": "execute_result"
    }
   ],
   "source": [
    "array"
   ]
  },
  {
   "cell_type": "code",
   "execution_count": 111,
   "id": "0f89a81e",
   "metadata": {},
   "outputs": [
    {
     "name": "stdout",
     "output_type": "stream",
     "text": [
      "[[27 21 18 18]\n",
      " [17 19 28 22]\n",
      " [10 22 23 12]\n",
      " [ 4 20  7  2]]\n"
     ]
    }
   ],
   "source": [
    "array = np.random.randint(2,30,size=(4,4),dtype=int)\n",
    "print(array)"
   ]
  },
  {
   "cell_type": "code",
   "execution_count": 113,
   "id": "8ef85da4",
   "metadata": {},
   "outputs": [
    {
     "data": {
      "text/plain": [
       "(4, 4)"
      ]
     },
     "execution_count": 113,
     "metadata": {},
     "output_type": "execute_result"
    }
   ],
   "source": [
    "array.shape"
   ]
  },
  {
   "cell_type": "code",
   "execution_count": 114,
   "id": "29db1f7c",
   "metadata": {},
   "outputs": [
    {
     "data": {
      "text/plain": [
       "array([[27, 21, 18, 18, 17, 19, 28, 22],\n",
       "       [10, 22, 23, 12,  4, 20,  7,  2]])"
      ]
     },
     "execution_count": 114,
     "metadata": {},
     "output_type": "execute_result"
    }
   ],
   "source": [
    "reshaped = np.reshape(array,(2,8)) # 5*5 = 25 16\n",
    "reshaped "
   ]
  },
  {
   "cell_type": "code",
   "execution_count": 115,
   "id": "d2514dc2",
   "metadata": {},
   "outputs": [
    {
     "data": {
      "text/plain": [
       "array([[27, 21],\n",
       "       [18, 18],\n",
       "       [17, 19],\n",
       "       [28, 22],\n",
       "       [10, 22],\n",
       "       [23, 12],\n",
       "       [ 4, 20],\n",
       "       [ 7,  2]])"
      ]
     },
     "execution_count": 115,
     "metadata": {},
     "output_type": "execute_result"
    }
   ],
   "source": [
    "reshaped = np.reshape(array,(8,2)) # 5*5 = 25 16\n",
    "reshaped "
   ]
  },
  {
   "cell_type": "code",
   "execution_count": 116,
   "id": "3af74ba4",
   "metadata": {
    "scrolled": true
   },
   "outputs": [
    {
     "ename": "ValueError",
     "evalue": "cannot reshape array of size 16 into shape (5,5)",
     "output_type": "error",
     "traceback": [
      "\u001b[1;31m---------------------------------------------------------------------------\u001b[0m",
      "\u001b[1;31mValueError\u001b[0m                                Traceback (most recent call last)",
      "Cell \u001b[1;32mIn[116], line 1\u001b[0m\n\u001b[1;32m----> 1\u001b[0m reshaped \u001b[38;5;241m=\u001b[39m \u001b[43mnp\u001b[49m\u001b[38;5;241;43m.\u001b[39;49m\u001b[43mreshape\u001b[49m\u001b[43m(\u001b[49m\u001b[43marray\u001b[49m\u001b[43m,\u001b[49m\u001b[43m(\u001b[49m\u001b[38;5;241;43m5\u001b[39;49m\u001b[43m,\u001b[49m\u001b[38;5;241;43m5\u001b[39;49m\u001b[43m)\u001b[49m\u001b[43m)\u001b[49m \u001b[38;5;66;03m# 5*5 = 25 16\u001b[39;00m\n\u001b[0;32m      2\u001b[0m reshaped\n",
      "File \u001b[1;32m<__array_function__ internals>:180\u001b[0m, in \u001b[0;36mreshape\u001b[1;34m(*args, **kwargs)\u001b[0m\n",
      "File \u001b[1;32m~\\anaconda3\\lib\\site-packages\\numpy\\core\\fromnumeric.py:298\u001b[0m, in \u001b[0;36mreshape\u001b[1;34m(a, newshape, order)\u001b[0m\n\u001b[0;32m    198\u001b[0m \u001b[38;5;129m@array_function_dispatch\u001b[39m(_reshape_dispatcher)\n\u001b[0;32m    199\u001b[0m \u001b[38;5;28;01mdef\u001b[39;00m \u001b[38;5;21mreshape\u001b[39m(a, newshape, order\u001b[38;5;241m=\u001b[39m\u001b[38;5;124m'\u001b[39m\u001b[38;5;124mC\u001b[39m\u001b[38;5;124m'\u001b[39m):\n\u001b[0;32m    200\u001b[0m     \u001b[38;5;124;03m\"\"\"\u001b[39;00m\n\u001b[0;32m    201\u001b[0m \u001b[38;5;124;03m    Gives a new shape to an array without changing its data.\u001b[39;00m\n\u001b[0;32m    202\u001b[0m \n\u001b[1;32m   (...)\u001b[0m\n\u001b[0;32m    296\u001b[0m \u001b[38;5;124;03m           [5, 6]])\u001b[39;00m\n\u001b[0;32m    297\u001b[0m \u001b[38;5;124;03m    \"\"\"\u001b[39;00m\n\u001b[1;32m--> 298\u001b[0m     \u001b[38;5;28;01mreturn\u001b[39;00m \u001b[43m_wrapfunc\u001b[49m\u001b[43m(\u001b[49m\u001b[43ma\u001b[49m\u001b[43m,\u001b[49m\u001b[43m \u001b[49m\u001b[38;5;124;43m'\u001b[39;49m\u001b[38;5;124;43mreshape\u001b[39;49m\u001b[38;5;124;43m'\u001b[39;49m\u001b[43m,\u001b[49m\u001b[43m \u001b[49m\u001b[43mnewshape\u001b[49m\u001b[43m,\u001b[49m\u001b[43m \u001b[49m\u001b[43morder\u001b[49m\u001b[38;5;241;43m=\u001b[39;49m\u001b[43morder\u001b[49m\u001b[43m)\u001b[49m\n",
      "File \u001b[1;32m~\\anaconda3\\lib\\site-packages\\numpy\\core\\fromnumeric.py:57\u001b[0m, in \u001b[0;36m_wrapfunc\u001b[1;34m(obj, method, *args, **kwds)\u001b[0m\n\u001b[0;32m     54\u001b[0m     \u001b[38;5;28;01mreturn\u001b[39;00m _wrapit(obj, method, \u001b[38;5;241m*\u001b[39margs, \u001b[38;5;241m*\u001b[39m\u001b[38;5;241m*\u001b[39mkwds)\n\u001b[0;32m     56\u001b[0m \u001b[38;5;28;01mtry\u001b[39;00m:\n\u001b[1;32m---> 57\u001b[0m     \u001b[38;5;28;01mreturn\u001b[39;00m bound(\u001b[38;5;241m*\u001b[39margs, \u001b[38;5;241m*\u001b[39m\u001b[38;5;241m*\u001b[39mkwds)\n\u001b[0;32m     58\u001b[0m \u001b[38;5;28;01mexcept\u001b[39;00m \u001b[38;5;167;01mTypeError\u001b[39;00m:\n\u001b[0;32m     59\u001b[0m     \u001b[38;5;66;03m# A TypeError occurs if the object does have such a method in its\u001b[39;00m\n\u001b[0;32m     60\u001b[0m     \u001b[38;5;66;03m# class, but its signature is not identical to that of NumPy's. This\u001b[39;00m\n\u001b[1;32m   (...)\u001b[0m\n\u001b[0;32m     64\u001b[0m     \u001b[38;5;66;03m# Call _wrapit from within the except clause to ensure a potential\u001b[39;00m\n\u001b[0;32m     65\u001b[0m     \u001b[38;5;66;03m# exception has a traceback chain.\u001b[39;00m\n\u001b[0;32m     66\u001b[0m     \u001b[38;5;28;01mreturn\u001b[39;00m _wrapit(obj, method, \u001b[38;5;241m*\u001b[39margs, \u001b[38;5;241m*\u001b[39m\u001b[38;5;241m*\u001b[39mkwds)\n",
      "\u001b[1;31mValueError\u001b[0m: cannot reshape array of size 16 into shape (5,5)"
     ]
    }
   ],
   "source": [
    "reshaped = np.reshape(array,(5,5)) # 5*5 = 25 16\n",
    "reshaped "
   ]
  },
  {
   "cell_type": "code",
   "execution_count": 118,
   "id": "e5b7122e",
   "metadata": {
    "scrolled": true
   },
   "outputs": [
    {
     "data": {
      "text/plain": [
       "array([[27],\n",
       "       [21],\n",
       "       [18],\n",
       "       [18],\n",
       "       [17],\n",
       "       [19],\n",
       "       [28],\n",
       "       [22],\n",
       "       [10],\n",
       "       [22],\n",
       "       [23],\n",
       "       [12],\n",
       "       [ 4],\n",
       "       [20],\n",
       "       [ 7],\n",
       "       [ 2]])"
      ]
     },
     "execution_count": 118,
     "metadata": {},
     "output_type": "execute_result"
    }
   ],
   "source": [
    "reshaped = np.reshape(array,(16,1)) # 5*5 = 25 16\n",
    "reshaped "
   ]
  },
  {
   "cell_type": "code",
   "execution_count": null,
   "id": "17e8dfee",
   "metadata": {},
   "outputs": [],
   "source": [
    "\n",
    "\n"
   ]
  }
 ],
 "metadata": {
  "kernelspec": {
   "display_name": "Python 3 (ipykernel)",
   "language": "python",
   "name": "python3"
  },
  "language_info": {
   "codemirror_mode": {
    "name": "ipython",
    "version": 3
   },
   "file_extension": ".py",
   "mimetype": "text/x-python",
   "name": "python",
   "nbconvert_exporter": "python",
   "pygments_lexer": "ipython3",
   "version": "3.12.4"
  }
 },
 "nbformat": 4,
 "nbformat_minor": 5
}
