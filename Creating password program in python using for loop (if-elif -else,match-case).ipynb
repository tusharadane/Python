{
 "cells": [
  {
   "cell_type": "code",
   "execution_count": 37,
   "id": "87f2282e-774d-4c8b-b8ae-b458ee2877cd",
   "metadata": {},
   "outputs": [
    {
     "name": "stdout",
     "output_type": "stream",
     "text": [
      "o\n",
      "l\n",
      "l\n",
      "e\n",
      "h\n"
     ]
    }
   ],
   "source": [
    "#Q1) Write a for loop to reverse the string \"Hello\"\n",
    "\n",
    "a=\"hello\"\n",
    "\n",
    "for i in a[::-1]:\n",
    "    print(i)"
   ]
  },
  {
   "cell_type": "code",
   "execution_count": 74,
   "id": "c01c2389-04b4-49d7-8f86-8cbf134b4dd4",
   "metadata": {},
   "outputs": [
    {
     "name": "stdout",
     "output_type": "stream",
     "text": [
      "Even numbers: 5 11\n"
     ]
    }
   ],
   "source": [
    "#Q2) Write a for loop to count how many numbers in a list are even.\n",
    "\n",
    "a = [10, 21, 4, 45, 8 , 14 , 66, 93, 11]\n",
    "even_count= 0\n",
    "\n",
    "for num in a:\n",
    "    if num % 2 == 0:\n",
    "        even_count += 1\n",
    "print(\"Even numbers:\", even_count)"
   ]
  },
  {
   "cell_type": "code",
   "execution_count": null,
   "id": "1d2fd6d6-e5dc-4224-963a-7b15b7f4a8e5",
   "metadata": {},
   "outputs": [],
   "source": [
    "Q7) Write a program that asks the user to enter a password for 3 times only. If the entered password is incorrect, the program should \n",
    "print \"Wrong password, try again!\" Print \"Access granted!\" and stop the loop if the entered password is correct.  \n"
   ]
  },
  {
   "cell_type": "code",
   "execution_count": 8,
   "id": "44509cfb-49d2-43d3-bbd0-4aee8ec526ec",
   "metadata": {},
   "outputs": [
    {
     "name": "stdin",
     "output_type": "stream",
     "text": [
      " Hi plzz enter the password:- efe\n",
      " Hi plzz enter the password:- wd\n",
      " Hi plzz enter the password:- wd\n"
     ]
    },
    {
     "name": "stdout",
     "output_type": "stream",
     "text": [
      " your acount is blocked\n"
     ]
    }
   ],
   "source": [
    "password=\"tanu123\"\n",
    "\n",
    "\n",
    "for _ in range(3):\n",
    "    user=input(\" Hi plzz enter the password:-\")\n",
    "    if user==password:\n",
    "        print(\" Hii Tanish WELCOME\")\n",
    "        break\n",
    "else:\n",
    "    print(\" your acount is blocked\")\n",
    "    "
   ]
  },
  {
   "cell_type": "code",
   "execution_count": 47,
   "id": "a02e7b0c-194d-4895-b9f6-0dcd1f06728e",
   "metadata": {},
   "outputs": [
    {
     "name": "stdout",
     "output_type": "stream",
     "text": [
      "24\n"
     ]
    }
   ],
   "source": [
    "#Q3) Write a for loop to find the sum of all elements in a list.\n",
    "#numbers = [2, 5, 3, 8, 6]\n",
    "\n",
    "a=[2,5,3,8,6]\n",
    "b=0\n",
    "for i in a:\n",
    "     b+=i\n",
    "print(b)"
   ]
  },
  {
   "cell_type": "code",
   "execution_count": 61,
   "id": "710abbb6-8e67-4d75-a561-693b8442c583",
   "metadata": {},
   "outputs": [
    {
     "name": "stdout",
     "output_type": "stream",
     "text": [
      "[1, 4, 9, 16, 25, 36, 49, 64, 81]\n"
     ]
    }
   ],
   "source": [
    "#Q4) Write a for loop to generate a list of squares of numbers from 1 to 10.\n",
    "a=range(1,10)\n",
    "\n",
    "b=[]\n",
    "for i in a:\n",
    "    b.append(i**2)\n",
    "print(b)\n"
   ]
  },
  {
   "cell_type": "code",
   "execution_count": 18,
   "id": "a1962579-036c-4c4c-9190-81604d9ed41f",
   "metadata": {},
   "outputs": [
    {
     "name": "stdout",
     "output_type": "stream",
     "text": [
      "[2, 4, 6, 8, 10]\n"
     ]
    }
   ],
   "source": [
    "#Q5) Write a for loop to create a new list containing only the even numbers from an existing list.\n",
    "\n",
    "a= [1, 2, 3, 4, 5, 6, 7, 8, 9, 10]\n",
    "\n",
    "b=[]\n",
    "\n",
    "for i in a:\n",
    "    if i % 2== 0:\n",
    "       b.append(i)\n",
    "print(b)"
   ]
  },
  {
   "cell_type": "code",
   "execution_count": 40,
   "id": "946aeaf0-e85d-4f13-80a1-8450aebeb5db",
   "metadata": {},
   "outputs": [
    {
     "name": "stdout",
     "output_type": "stream",
     "text": [
      "the sum of digit in [2, 3, 1, 3, 8, 9] is 26\n"
     ]
    }
   ],
   "source": [
    "#Q6) Write a program that calculates the sum of the digits of a given positive integer. For example, for the number 1234\n",
    "#the sum should be 10 (1+2+3+4).\n",
    "\n",
    "a=[2,3,1,3,8,9]\n",
    "\n",
    "b=0\n",
    "for i in a:\n",
    "      b+=i\n",
    "print(f\"the sum of digit in {a} is {b}\")"
   ]
  },
  {
   "cell_type": "code",
   "execution_count": null,
   "id": "d975637b-e986-4ddb-bd2c-6119b0c307f7",
   "metadata": {},
   "outputs": [],
   "source": [
    "Q8) Write a program that displays a menu to the user with the following options:\n",
    "Add two numbers\n",
    "Subtract two numbers\n",
    "Multiply two numbers\n",
    "Divide two numbers\n",
    "Exit"
   ]
  },
  {
   "cell_type": "code",
   "execution_count": 16,
   "id": "ad65fa4f-bda7-45e5-bd35-53c65db3dd09",
   "metadata": {},
   "outputs": [
    {
     "name": "stdin",
     "output_type": "stream",
     "text": [
      "please enter the operator u want:- -\n",
      "enter the num1:- 100\n",
      "enter the num2:- 70\n"
     ]
    },
    {
     "name": "stdout",
     "output_type": "stream",
     "text": [
      "subtracting of num1 and num2 is 30\n"
     ]
    }
   ],
   "source": [
    "a=input(\"please enter the operator u want:-\")\n",
    "\n",
    "match a:\n",
    "    case'+':\n",
    "        num1=int(input(\"enter the num1:-\"))\n",
    "        num2=int(input(\"enter the num2:-\"))\n",
    "        print(f\"addition of num1 is {num1+num2}\")\n",
    "    case'-':\n",
    "        num1=int(input(\"enter the num1:-\"))\n",
    "        num2=int(input(\"enter the num2:-\"))\n",
    "        print(f\"subtracting of num1 and num2 is {num1-num2}\")\n",
    "    case'/':\n",
    "        num1=int(input(\"enter the num1:-\"))\n",
    "        num2=int(input(\"enter the num2:-\"))\n",
    "        print(f\"divide of num1 and num2 is {num1/num2}\")\n",
    "    case _:\n",
    "        print(\"please enter operator between + ,-,/\")"
   ]
  },
  {
   "cell_type": "markdown",
   "id": "cc5e81f1-d676-4c0b-b3ff-de32941003d7",
   "metadata": {
    "jp-MarkdownHeadingCollapsed": true
   },
   "source": [
    "##### def add(a, b):\n",
    "    return a + b\n",
    "\n",
    "def subtract(a, b):\n",
    "    return a - b\n",
    "\n",
    "def multiply(a, b):\n",
    "    return a * b\n",
    "\n",
    "def divide(a, b):\n",
    "    if b != 0:\n",
    "        return a / b\n",
    "    else:\n",
    "        return \"Error: Cannot divide by zero\"\n",
    "\n",
    "while True:\n",
    "    print(\"Menu:\")\n",
    "    print(\"1. Add two numbers\")\n",
    "    print(\"2. Subtract two numbers\")\n",
    "    print(\"3. Multiply two numbers\")\n",
    "    print(\"4. Divide two numbers\")\n",
    "    print(\"5. Exit\")\n",
    "\n",
    "    choice = input(\"Enter your choice (1-5): \")\n",
    "\n",
    "    if choice == \"1\":\n",
    "        num1 = float(input(\"Enter the first number: \"))\n",
    "        num2 = float(input(\"Enter the second number: \"))\n",
    "        print(f\"Result: {add(num1, num2)}\")\n",
    "    elif choice == \"2\":\n",
    "        num1 = float(input(\"Enter the first number: \"))\n",
    "        num2 = float(input(\"Enter the second number: \"))\n",
    "        print(f\"Result: {subtract(num1, num2)}\")\n",
    "    elif choice == \"3\":\n",
    "        num1 = float(input(\"Enter the first number: \"))\n",
    "        num2 = float(input(\"Enter the second number: \"))\n",
    "        print(f\"Result: {multiply(num1, num2)}\")\n",
    "    elif choice == \"4\":\n",
    "        num1 = float(input(\"Enter the first number: \"))\n",
    "        num2 = float(input(\"Enter the second number: \"))\n",
    "        print(f\"Result: {divide(num1, num2)}\")\n",
    "    elif choice == \"5\":\n",
    "        print(\"Exiting the program. Goodbye!\")\n",
    "        break\n",
    "    else:\n",
    "        print(\"Invalid choice. Please select a valid option (1-5).\")\n"
   ]
  }
 ],
 "metadata": {
  "kernelspec": {
   "display_name": "Python 3 (ipykernel)",
   "language": "python",
   "name": "python3"
  },
  "language_info": {
   "codemirror_mode": {
    "name": "ipython",
    "version": 3
   },
   "file_extension": ".py",
   "mimetype": "text/x-python",
   "name": "python",
   "nbconvert_exporter": "python",
   "pygments_lexer": "ipython3",
   "version": "3.12.4"
  }
 },
 "nbformat": 4,
 "nbformat_minor": 5
}
