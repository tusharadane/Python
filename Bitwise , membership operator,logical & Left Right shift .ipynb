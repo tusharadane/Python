{
 "cells": [
  {
   "cell_type": "markdown",
   "id": "aa14cca9",
   "metadata": {},
   "source": [
    "# Bitwise Operator"
   ]
  },
  {
   "cell_type": "markdown",
   "id": "091c6a0a",
   "metadata": {},
   "source": [
    "Bitwise operators in Python are used to perform operations on individual bits of integers but not on floating point values(becuase floating point values does not certain certianity\n",
    "\n",
    "Bitwise operators are like tools that help a computer work with the tiny pieces of information that make up numbers and other stuff on a computer. Imagine numbers and letters are made up of tiny switches that can either be on (1) or off (0).\n",
    "\n",
    "These operators work at the binary level, manipulating the binary representations of numbers.\n",
    "\n",
    "These operators work at the binary level, allowing you to perform operations on the individual bits of integers or other data types that can be represented in binary form (such as characters).\n",
    "\n",
    "Python provides several bitwise operators:\n",
    "\n",
    "Bitwise AND (&)\n",
    "\n",
    "Bitwise OR (|)\n",
    "\n",
    "Bitwise XOR (^)\n",
    "\n",
    "Bitwise NOT (~)\n",
    "\n",
    "Left Shift (<<)\n",
    "\n",
    "Right Shift (>>)"
   ]
  },
  {
   "cell_type": "code",
   "execution_count": 4,
   "id": "b91a5a66",
   "metadata": {},
   "outputs": [
    {
     "name": "stdout",
     "output_type": "stream",
     "text": [
      "0x22\n"
     ]
    }
   ],
   "source": [
    "a = 34\n",
    "\n",
    "b = hex(a)\n",
    "print(b)"
   ]
  },
  {
   "cell_type": "markdown",
   "id": "2c919af2",
   "metadata": {},
   "source": [
    "# Bitwise AND Operator(&)\n",
    "\n",
    "The bitwise AND operator (&) is a fundamental operator in computer programming used to perform a bitwise AND operation between two binary numbers or binary representations of integers. It compares each pair of corresponding bits and returns a result where each bit is set to 1 only if both bits in the same position are 1.\n",
    "\n",
    "If both bits are 1, the result bit is set to 1.\n",
    "\n",
    "If one or both bits are 0, the result bit is set to 0."
   ]
  },
  {
   "cell_type": "code",
   "execution_count": null,
   "id": "c66ba2d2",
   "metadata": {},
   "outputs": [],
   "source": [
    "Input1 Input2   Output\n",
    "   1     1        1\n",
    "   1     0        0\n",
    "   0     1        0\n",
    "   0     0        0\n",
    "\n",
    "Input1   Input2      Output\n",
    "True      True        True\n",
    "True      False       False       \n",
    "False     True        False\n",
    "False     False       False"
   ]
  },
  {
   "cell_type": "code",
   "execution_count": 7,
   "id": "ff22cb74",
   "metadata": {},
   "outputs": [],
   "source": [
    "a = 5\n",
    "b = 9\n",
    "c = 5 & 9"
   ]
  },
  {
   "cell_type": "code",
   "execution_count": 8,
   "id": "cad6fdd1",
   "metadata": {},
   "outputs": [
    {
     "name": "stdout",
     "output_type": "stream",
     "text": [
      "1\n"
     ]
    }
   ],
   "source": [
    "print(c)"
   ]
  },
  {
   "cell_type": "code",
   "execution_count": null,
   "id": "7d4e04a4",
   "metadata": {},
   "outputs": [],
   "source": [
    "0 1 0 1\n",
    "1 0 0 1\n",
    "0 0 0 1"
   ]
  },
  {
   "cell_type": "code",
   "execution_count": 9,
   "id": "f2ea5a63",
   "metadata": {},
   "outputs": [
    {
     "data": {
      "text/plain": [
       "1"
      ]
     },
     "execution_count": 9,
     "metadata": {},
     "output_type": "execute_result"
    }
   ],
   "source": [
    "int(0b0001)"
   ]
  },
  {
   "cell_type": "code",
   "execution_count": null,
   "id": "64e3b47c",
   "metadata": {},
   "outputs": [],
   "source": [
    "46 & 87"
   ]
  },
  {
   "cell_type": "code",
   "execution_count": null,
   "id": "783be98d",
   "metadata": {},
   "outputs": [],
   "source": [
    "0 1 0 1 1 1 0\n",
    "1 0 1 0 1 1 1\n",
    "0 0 0 0 1 1 0"
   ]
  },
  {
   "cell_type": "code",
   "execution_count": 10,
   "id": "4c8b8f8a",
   "metadata": {},
   "outputs": [
    {
     "data": {
      "text/plain": [
       "6"
      ]
     },
     "execution_count": 10,
     "metadata": {},
     "output_type": "execute_result"
    }
   ],
   "source": [
    "int(0b0000110)"
   ]
  },
  {
   "cell_type": "code",
   "execution_count": 11,
   "id": "5bba759d",
   "metadata": {},
   "outputs": [
    {
     "name": "stdout",
     "output_type": "stream",
     "text": [
      "{40, 20}\n"
     ]
    }
   ],
   "source": [
    "a = {10,20,30,40,50}\n",
    "b = {80,90,40,110,20}\n",
    "\n",
    "c=a & b # Intersection \n",
    "print(c)"
   ]
  },
  {
   "cell_type": "markdown",
   "id": "b9da0965",
   "metadata": {},
   "source": [
    "# Bitwise OR operator (|)\n",
    "\n",
    "The bitwise OR operator (|) is a fundamental operator in computer programming used to perform a bitwise OR operation between two binary numbers or binary representations of integers. It compares each pair of corresponding bits and returns a result where each bit is set to 1 if at least one of the bits in the same position is 1.\n",
    "\n",
    "If at least one of the bits is 1, the result bit is set to 1. If both bits are 0, the result bit is set to 0."
   ]
  },
  {
   "cell_type": "code",
   "execution_count": null,
   "id": "d49b953c",
   "metadata": {},
   "outputs": [],
   "source": [
    "Input1 Input2   Output\n",
    "   1     1        1\n",
    "   1     0        1\n",
    "   0     1        1\n",
    "   0     0        0\n",
    "\n",
    "Input1   Input2      Output\n",
    "True      True        True\n",
    "True      False       True      \n",
    "False     True        True\n",
    "False     False       False"
   ]
  },
  {
   "cell_type": "code",
   "execution_count": 12,
   "id": "8e42384b",
   "metadata": {},
   "outputs": [
    {
     "name": "stdout",
     "output_type": "stream",
     "text": [
      "12\n"
     ]
    }
   ],
   "source": [
    "a = 8\n",
    "b = 12\n",
    "c = 8 | 12\n",
    "print(c)"
   ]
  },
  {
   "cell_type": "code",
   "execution_count": null,
   "id": "c7b2812b",
   "metadata": {},
   "outputs": [],
   "source": [
    "1 0 0 0\n",
    "1 1 0 0\n",
    "1 1 0 0"
   ]
  },
  {
   "cell_type": "code",
   "execution_count": null,
   "id": "06c0faa9",
   "metadata": {},
   "outputs": [],
   "source": [
    "56 | 128"
   ]
  },
  {
   "cell_type": "code",
   "execution_count": null,
   "id": "770843e3",
   "metadata": {},
   "outputs": [],
   "source": [
    "0 0 1 1 1 0 0 0\n",
    "1 0 0 0 0 0 0 0\n",
    "1 0 1 1 1 0 0 0 "
   ]
  },
  {
   "cell_type": "code",
   "execution_count": 13,
   "id": "efb67252",
   "metadata": {},
   "outputs": [
    {
     "data": {
      "text/plain": [
       "184"
      ]
     },
     "execution_count": 13,
     "metadata": {},
     "output_type": "execute_result"
    }
   ],
   "source": [
    "int(0b10111000)"
   ]
  },
  {
   "cell_type": "code",
   "execution_count": 14,
   "id": "79ff24f1",
   "metadata": {},
   "outputs": [
    {
     "name": "stdout",
     "output_type": "stream",
     "text": [
      "{70, 40, 10, 80, 50, 20, 90, 30}\n"
     ]
    }
   ],
   "source": [
    "a = {10,20,30,40,50}\n",
    "b = {70,80,20,10,90}\n",
    "c = a | b    # UNION\n",
    "print(c)"
   ]
  },
  {
   "cell_type": "markdown",
   "id": "5f7f4a3f",
   "metadata": {},
   "source": [
    "# Bitwise XOR Operator(^)\n",
    "\n",
    "The bitwise XOR operator (^) is a fundamental operator in computer programming used to perform a bitwise XOR (exclusive OR) operation between two binary numbers or binary representations of integers.\n",
    "\n",
    "It compares each pair of corresponding bits and returns a result where each bit is set to 1 if and only if exactly one of the bits in the same position is 1.\n",
    "\n",
    "If one, but not both, of the bits is 1, the result bit is set to 1.\n",
    "\n",
    "If both bits are 0 or both bits are 1, the result bit is set to 0."
   ]
  },
  {
   "cell_type": "code",
   "execution_count": null,
   "id": "0c471953",
   "metadata": {},
   "outputs": [],
   "source": [
    "Input1 Input2   Output\n",
    "   1     1        0\n",
    "   1     0        1\n",
    "   0     1        1\n",
    "   0     0        0\n",
    "\n",
    "Input1   Input2      Output\n",
    "True      True        False\n",
    "True      False       True       \n",
    "False     True        True\n",
    "False     False       False"
   ]
  },
  {
   "cell_type": "code",
   "execution_count": 15,
   "id": "b78afb7f",
   "metadata": {},
   "outputs": [
    {
     "name": "stdout",
     "output_type": "stream",
     "text": [
      "5\n"
     ]
    }
   ],
   "source": [
    "a = 6\n",
    "b = 3\n",
    "c  = a ^ b\n",
    "print(c)"
   ]
  },
  {
   "cell_type": "code",
   "execution_count": null,
   "id": "4a20b890",
   "metadata": {},
   "outputs": [],
   "source": [
    "0 1 1 0\n",
    "0 0 1 1\n",
    "0 1 0 1"
   ]
  },
  {
   "cell_type": "code",
   "execution_count": 17,
   "id": "579887b5",
   "metadata": {},
   "outputs": [
    {
     "name": "stdout",
     "output_type": "stream",
     "text": [
      "127\n"
     ]
    }
   ],
   "source": [
    "print(34 ^ 93)"
   ]
  },
  {
   "cell_type": "code",
   "execution_count": null,
   "id": "cc010bb8",
   "metadata": {},
   "outputs": [],
   "source": [
    "0 1 0 0 0 1 0\n",
    "1 0 1 1 1 0 1\n",
    "1 1 1 1 1 1 1"
   ]
  },
  {
   "cell_type": "code",
   "execution_count": 16,
   "id": "fd6a88f3",
   "metadata": {},
   "outputs": [
    {
     "data": {
      "text/plain": [
       "127"
      ]
     },
     "execution_count": 16,
     "metadata": {},
     "output_type": "execute_result"
    }
   ],
   "source": [
    "int(0b1111111)"
   ]
  },
  {
   "cell_type": "code",
   "execution_count": 18,
   "id": "f32cfefd",
   "metadata": {},
   "outputs": [
    {
     "name": "stdout",
     "output_type": "stream",
     "text": [
      "{80, 50, 70, 40}\n"
     ]
    }
   ],
   "source": [
    "a = {10,20,30,40,50}\n",
    "b = {20,70,80,30,10}\n",
    "c = a ^ b  # Symmetric_difference \n",
    "print(c)"
   ]
  },
  {
   "cell_type": "markdown",
   "id": "ae2eda75",
   "metadata": {},
   "source": [
    "# Bitwise Complement Operator(~)\n",
    "\n",
    "The bitwise complement operator, represented by ~, is a unary operator in computer programming used to invert (flip) all the bits of a binary number or binary representation of an integer. In other words, it changes each 0 to 1 and each 1 to 0 in the binary representation of a number.\n",
    "\n",
    "~N = -(N+1)\n",
    "\n",
    "N 1's complement = (N+1) 2's complement\n",
    "\n",
    "For each bit in the binary representation: If the bit is 0, it is changed to 1.\n",
    "\n",
    "If the bit is 1, it is changed to 0."
   ]
  },
  {
   "cell_type": "code",
   "execution_count": null,
   "id": "d70e7b0e",
   "metadata": {},
   "outputs": [],
   "source": [
    "-(N+1)"
   ]
  },
  {
   "cell_type": "code",
   "execution_count": 19,
   "id": "a0bd0ffe",
   "metadata": {},
   "outputs": [
    {
     "data": {
      "text/plain": [
       "-13"
      ]
     },
     "execution_count": 19,
     "metadata": {},
     "output_type": "execute_result"
    }
   ],
   "source": [
    "~12"
   ]
  },
  {
   "cell_type": "code",
   "execution_count": 20,
   "id": "8f270ae9",
   "metadata": {},
   "outputs": [
    {
     "data": {
      "text/plain": [
       "14"
      ]
     },
     "execution_count": 20,
     "metadata": {},
     "output_type": "execute_result"
    }
   ],
   "source": [
    "~(-15)\n",
    "\n",
    "# -(N+1)\n",
    "# -(-15+1)\n",
    "# -(-14)\n",
    "# 14"
   ]
  },
  {
   "cell_type": "markdown",
   "id": "c89a8543",
   "metadata": {},
   "source": [
    "# Left Shift Operator(<<)\n",
    "\n",
    "The bitwise left shift operator (<<) is used to shift the binary representation of a number's bits to the left by a specified number of positions. In simple terms, it's like moving all the switches (bits) of a binary number to the left."
   ]
  },
  {
   "cell_type": "code",
   "execution_count": null,
   "id": "99eb5b27",
   "metadata": {},
   "outputs": [],
   "source": [
    "a = 10\n",
    "b = 4\n",
    "c = a<<b"
   ]
  },
  {
   "cell_type": "code",
   "execution_count": null,
   "id": "48489ba4",
   "metadata": {},
   "outputs": [],
   "source": [
    "1010\n",
    "\n",
    "0000 0000 0000 1010\n",
    "0000 0000 1010 0000\n"
   ]
  },
  {
   "cell_type": "code",
   "execution_count": 21,
   "id": "c495d9c9",
   "metadata": {},
   "outputs": [
    {
     "data": {
      "text/plain": [
       "32"
      ]
     },
     "execution_count": 21,
     "metadata": {},
     "output_type": "execute_result"
    }
   ],
   "source": [
    "2**5"
   ]
  },
  {
   "cell_type": "code",
   "execution_count": 22,
   "id": "581a9eef",
   "metadata": {},
   "outputs": [
    {
     "data": {
      "text/plain": [
       "128"
      ]
     },
     "execution_count": 22,
     "metadata": {},
     "output_type": "execute_result"
    }
   ],
   "source": [
    "2**7"
   ]
  },
  {
   "cell_type": "code",
   "execution_count": 23,
   "id": "3e72ef2c",
   "metadata": {},
   "outputs": [
    {
     "data": {
      "text/plain": [
       "160"
      ]
     },
     "execution_count": 23,
     "metadata": {},
     "output_type": "execute_result"
    }
   ],
   "source": [
    "128+32"
   ]
  },
  {
   "cell_type": "code",
   "execution_count": 24,
   "id": "82e97589",
   "metadata": {},
   "outputs": [
    {
     "data": {
      "text/plain": [
       "160"
      ]
     },
     "execution_count": 24,
     "metadata": {},
     "output_type": "execute_result"
    }
   ],
   "source": [
    "int(0b0000000010100000)"
   ]
  },
  {
   "cell_type": "code",
   "execution_count": null,
   "id": "c8a6a9d6",
   "metadata": {},
   "outputs": [],
   "source": [
    "a = 10\n",
    "b = 4\n",
    "c = a<<b\n",
    "\n",
    "# Sytnax:- \n",
    "# Left_Shift_Operator = Given Data*(2**No_of_bits_to_be_shifted)"
   ]
  },
  {
   "cell_type": "code",
   "execution_count": 25,
   "id": "9714201d",
   "metadata": {},
   "outputs": [
    {
     "data": {
      "text/plain": [
       "160"
      ]
     },
     "execution_count": 25,
     "metadata": {},
     "output_type": "execute_result"
    }
   ],
   "source": [
    "10*(2**4)\n",
    "10*16"
   ]
  },
  {
   "cell_type": "code",
   "execution_count": 26,
   "id": "88c9944d",
   "metadata": {},
   "outputs": [
    {
     "name": "stdout",
     "output_type": "stream",
     "text": [
      "640\n"
     ]
    }
   ],
   "source": [
    "a = 20\n",
    "b = 5\n",
    "print(a<<b)\n"
   ]
  },
  {
   "cell_type": "markdown",
   "id": "3f315d9a",
   "metadata": {},
   "source": [
    "# Bitwise right shift operator (>>)\n",
    "The bitwise right shift operator (>>) is used to shift the binary representation of a number's bits to the right by a specified number of positions. In simple terms, it's like moving all the switches (bits) of a binary number to the right.\n",
    "\n",
    "Take a binary number (e.g., 110110), which represents a decimal number (e.g., 54).\n",
    "\n",
    "Use the right shift operator (>>) and specify how many positions you want to shift the bits to the right. For example, 110110 >> 2 means you want to shift the bits 2 positions to the right.\n",
    "\n",
    "The bits are moved to the right by the specified number of positions, and the empty"
   ]
  },
  {
   "cell_type": "code",
   "execution_count": 27,
   "id": "bd46642d",
   "metadata": {},
   "outputs": [
    {
     "name": "stdout",
     "output_type": "stream",
     "text": [
      "2\n"
     ]
    }
   ],
   "source": [
    "a = 10\n",
    "b = 2\n",
    "c = a>> b\n",
    "print(c)\n",
    "\n",
    "# 0000  0000 0000  1010\n",
    "# 0000  0000 0000  0010"
   ]
  },
  {
   "cell_type": "code",
   "execution_count": null,
   "id": "23a4da05",
   "metadata": {},
   "outputs": [],
   "source": [
    "Syntax:- \n",
    "Right Shift Operator = Given Data // 2**(No_of_bits_to_be_shifted)"
   ]
  },
  {
   "cell_type": "code",
   "execution_count": 30,
   "id": "f556abff",
   "metadata": {},
   "outputs": [
    {
     "name": "stdout",
     "output_type": "stream",
     "text": [
      "1\n"
     ]
    }
   ],
   "source": [
    "print(15>>3)"
   ]
  },
  {
   "cell_type": "code",
   "execution_count": 31,
   "id": "06440189",
   "metadata": {},
   "outputs": [
    {
     "data": {
      "text/plain": [
       "1"
      ]
     },
     "execution_count": 31,
     "metadata": {},
     "output_type": "execute_result"
    }
   ],
   "source": [
    "15//2**3\n",
    "15//8\n"
   ]
  },
  {
   "cell_type": "markdown",
   "id": "c8804d14",
   "metadata": {},
   "source": [
    "# Membership Operator\n",
    "\n",
    "membership operators are used to test whether a value is a member of a sequence or collection, such as a string, list, tuple, or set. Python provides two membership operators: in and not in.\n",
    "\n",
    "What is an Iteratable object:- iteratable object is the in more one value is present list,tuple,set,dict\n",
    "\n",
    "In Python Programming, we have 2 types of membership operators. They are\n",
    "\n",
    "1 in\n",
    "\n",
    "2 not in\n",
    "\n",
    "in operator: This operator returns True if the specified value is found in the sequence and False otherwise.\n",
    "\n",
    "not in operator: This operator returns True if the specified value is NOT found in the sequence and False otherwise."
   ]
  },
  {
   "cell_type": "code",
   "execution_count": 39,
   "id": "4456dbdf",
   "metadata": {},
   "outputs": [
    {
     "name": "stdout",
     "output_type": "stream",
     "text": [
      "True\n"
     ]
    }
   ],
   "source": [
    "a = [1,2,3,4,5,6,7,8,9,10]\n",
    "print(1 in a) # True"
   ]
  },
  {
   "cell_type": "code",
   "execution_count": 34,
   "id": "25cc97d8",
   "metadata": {},
   "outputs": [
    {
     "name": "stdout",
     "output_type": "stream",
     "text": [
      "False\n"
     ]
    }
   ],
   "source": [
    "print(4 not in a)"
   ]
  },
  {
   "cell_type": "code",
   "execution_count": 40,
   "id": "dd31e8fa",
   "metadata": {},
   "outputs": [
    {
     "ename": "TypeError",
     "evalue": "argument of type 'int' is not iterable",
     "output_type": "error",
     "traceback": [
      "\u001b[1;31m---------------------------------------------------------------------------\u001b[0m",
      "\u001b[1;31mTypeError\u001b[0m                                 Traceback (most recent call last)",
      "Cell \u001b[1;32mIn[40], line 1\u001b[0m\n\u001b[1;32m----> 1\u001b[0m \u001b[38;5;241;43m2\u001b[39;49m\u001b[43m \u001b[49m\u001b[38;5;129;43;01min\u001b[39;49;00m\u001b[43m \u001b[49m\u001b[43ma\u001b[49m\u001b[43m[\u001b[49m\u001b[38;5;241;43m1\u001b[39;49m\u001b[43m]\u001b[49m\n",
      "\u001b[1;31mTypeError\u001b[0m: argument of type 'int' is not iterable"
     ]
    }
   ],
   "source": [
    "2 in a[1]"
   ]
  },
  {
   "cell_type": "code",
   "execution_count": 44,
   "id": "96513bf1",
   "metadata": {},
   "outputs": [],
   "source": [
    "a = \"Multicolinearlity\""
   ]
  },
  {
   "cell_type": "code",
   "execution_count": 36,
   "id": "8b13d772",
   "metadata": {},
   "outputs": [
    {
     "data": {
      "text/plain": [
       "False"
      ]
     },
     "execution_count": 36,
     "metadata": {},
     "output_type": "execute_result"
    }
   ],
   "source": [
    "'lt' not in a"
   ]
  },
  {
   "cell_type": "code",
   "execution_count": 38,
   "id": "9363c0bd",
   "metadata": {},
   "outputs": [
    {
     "data": {
      "text/plain": [
       "False"
      ]
     },
     "execution_count": 38,
     "metadata": {},
     "output_type": "execute_result"
    }
   ],
   "source": [
    "'u' in a[2] "
   ]
  },
  {
   "cell_type": "code",
   "execution_count": 46,
   "id": "75b2d90a",
   "metadata": {},
   "outputs": [
    {
     "data": {
      "text/plain": [
       "False"
      ]
     },
     "execution_count": 46,
     "metadata": {},
     "output_type": "execute_result"
    }
   ],
   "source": [
    "'lr' in a"
   ]
  },
  {
   "cell_type": "code",
   "execution_count": 45,
   "id": "34af6f52",
   "metadata": {},
   "outputs": [
    {
     "data": {
      "text/plain": [
       "True"
      ]
     },
     "execution_count": 45,
     "metadata": {},
     "output_type": "execute_result"
    }
   ],
   "source": [
    "'lr' in a[-1:-14:-1]"
   ]
  },
  {
   "cell_type": "code",
   "execution_count": 43,
   "id": "0ae48a9e",
   "metadata": {},
   "outputs": [
    {
     "data": {
      "text/plain": [
       "[10, 9, 8, 7, 6, 5, 4, 3, 2, 1]"
      ]
     },
     "execution_count": 43,
     "metadata": {},
     "output_type": "execute_result"
    }
   ],
   "source": [
    "\"\""
   ]
  },
  {
   "cell_type": "code",
   "execution_count": 47,
   "id": "98a7d3e9",
   "metadata": {},
   "outputs": [
    {
     "data": {
      "text/plain": [
       "'Multicolinearlity'"
      ]
     },
     "execution_count": 47,
     "metadata": {},
     "output_type": "execute_result"
    }
   ],
   "source": [
    "a"
   ]
  },
  {
   "cell_type": "code",
   "execution_count": 48,
   "id": "a5345d47",
   "metadata": {},
   "outputs": [
    {
     "data": {
      "text/plain": [
       "False"
      ]
     },
     "execution_count": 48,
     "metadata": {},
     "output_type": "execute_result"
    }
   ],
   "source": [
    "'lna' in a[2:18:2]"
   ]
  },
  {
   "cell_type": "code",
   "execution_count": 50,
   "id": "6c5a2e50",
   "metadata": {},
   "outputs": [
    {
     "data": {
      "text/plain": [
       "False"
      ]
     },
     "execution_count": 50,
     "metadata": {},
     "output_type": "execute_result"
    }
   ],
   "source": [
    "\"yt\" in \"Python\"[::-1]"
   ]
  },
  {
   "cell_type": "code",
   "execution_count": 51,
   "id": "89cfeb4f",
   "metadata": {},
   "outputs": [
    {
     "data": {
      "text/plain": [
       "True"
      ]
     },
     "execution_count": 51,
     "metadata": {},
     "output_type": "execute_result"
    }
   ],
   "source": [
    "\"yt\" not in \"Python\"[::-1]"
   ]
  },
  {
   "cell_type": "markdown",
   "id": "9ab305dc",
   "metadata": {},
   "source": [
    "# Indentity Operator\n",
    "\n",
    "identity operators are used to compare the memory locations (identities) of two objects to determine if they are the same object or not. Python provides two identity operators: is and is not.\n",
    "\n",
    "is operator: This operator returns True if the operands on both sides of the operator refer to the same object in memory, and False otherwise.\n",
    "\n",
    "is not operator: This operator returns True if the operands on both sides of the operator do not refer to the same object in memory, and False if they do refer to the same object."
   ]
  },
  {
   "cell_type": "code",
   "execution_count": 53,
   "id": "515a747b",
   "metadata": {},
   "outputs": [
    {
     "name": "stdout",
     "output_type": "stream",
     "text": [
      "True\n"
     ]
    }
   ],
   "source": [
    "a = 34\n",
    "b = 34\n",
    "print(a is b)"
   ]
  },
  {
   "cell_type": "code",
   "execution_count": 54,
   "id": "9f90bb1f",
   "metadata": {},
   "outputs": [
    {
     "name": "stdout",
     "output_type": "stream",
     "text": [
      "False\n"
     ]
    }
   ],
   "source": [
    "a = 257\n",
    "b = 257\n",
    "print(a is b)"
   ]
  },
  {
   "cell_type": "code",
   "execution_count": 57,
   "id": "47c4001f",
   "metadata": {},
   "outputs": [
    {
     "name": "stdout",
     "output_type": "stream",
     "text": [
      "True\n"
     ]
    }
   ],
   "source": [
    "a = -6\n",
    "b = -6\n",
    "print(a is not b)"
   ]
  },
  {
   "cell_type": "code",
   "execution_count": 59,
   "id": "47352aee",
   "metadata": {},
   "outputs": [
    {
     "name": "stdout",
     "output_type": "stream",
     "text": [
      "100 <class 'int'> 2317741657424\n",
      "100 <class 'int'> 2317741657424\n",
      "True\n"
     ]
    }
   ],
   "source": [
    "a = 100\n",
    "b = 100\n",
    "print(a,type(a),id(a))\n",
    "print(b,type(b),id(b))\n",
    "print(a is b)"
   ]
  },
  {
   "cell_type": "code",
   "execution_count": 60,
   "id": "46ce99f1",
   "metadata": {},
   "outputs": [
    {
     "name": "stdout",
     "output_type": "stream",
     "text": [
      "1000 <class 'int'> 2317854769264\n",
      "1000 <class 'int'> 2317854769488\n",
      "False\n"
     ]
    }
   ],
   "source": [
    "a = 1000\n",
    "b = 1000\n",
    "print(a,type(a),id(a))\n",
    "print(b,type(b),id(b))\n",
    "print(a is b)"
   ]
  },
  {
   "cell_type": "code",
   "execution_count": 63,
   "id": "086b14d1",
   "metadata": {},
   "outputs": [
    {
     "name": "stdout",
     "output_type": "stream",
     "text": [
      "2317854797632\n",
      "2317854787392\n"
     ]
    }
   ],
   "source": [
    "a = [10,20,30,40,50]\n",
    "b = [10,20,30,40,50] \n",
    "\n",
    "print(id(a))\n",
    "print(id(b))"
   ]
  },
  {
   "cell_type": "code",
   "execution_count": 62,
   "id": "da9435cf",
   "metadata": {},
   "outputs": [
    {
     "name": "stdout",
     "output_type": "stream",
     "text": [
      "True\n"
     ]
    }
   ],
   "source": [
    "print(a == b)"
   ]
  },
  {
   "cell_type": "code",
   "execution_count": 64,
   "id": "ce24f212",
   "metadata": {},
   "outputs": [
    {
     "name": "stdout",
     "output_type": "stream",
     "text": [
      "False\n"
     ]
    }
   ],
   "source": [
    "print(a is b)"
   ]
  },
  {
   "cell_type": "markdown",
   "id": "9fbad47d",
   "metadata": {},
   "source": [
    "# Operator Precedence"
   ]
  },
  {
   "cell_type": "code",
   "execution_count": null,
   "id": "82d0347e",
   "metadata": {},
   "outputs": [],
   "source": [
    "()  #left to right   Associativity"
   ]
  },
  {
   "cell_type": "code",
   "execution_count": null,
   "id": "36066bb9",
   "metadata": {},
   "outputs": [],
   "source": [
    "** #Exponent   #Right to Left   2**3+3**5+4**2"
   ]
  },
  {
   "cell_type": "code",
   "execution_count": null,
   "id": "4874e142",
   "metadata": {},
   "outputs": [],
   "source": [
    "* / // %   #Left to right   2*3/5//42/2%1"
   ]
  },
  {
   "cell_type": "code",
   "execution_count": null,
   "id": "97a87193",
   "metadata": {},
   "outputs": [],
   "source": [
    "+ -  # left to right"
   ]
  },
  {
   "cell_type": "code",
   "execution_count": null,
   "id": "9dea5fce",
   "metadata": {},
   "outputs": [],
   "source": [
    "<< >> #left to right"
   ]
  },
  {
   "cell_type": "code",
   "execution_count": null,
   "id": "055d6ded",
   "metadata": {},
   "outputs": [],
   "source": [
    "&  23 & 34    "
   ]
  },
  {
   "cell_type": "code",
   "execution_count": null,
   "id": "24787713",
   "metadata": {},
   "outputs": [],
   "source": [
    "^   3^5 "
   ]
  },
  {
   "cell_type": "code",
   "execution_count": null,
   "id": "f372d033",
   "metadata": {},
   "outputs": [],
   "source": [
    "|,<, > ,>=, <=, ==, !=, is, is not,not in"
   ]
  },
  {
   "cell_type": "code",
   "execution_count": null,
   "id": "4718bef1",
   "metadata": {},
   "outputs": [],
   "source": [
    "not"
   ]
  },
  {
   "cell_type": "code",
   "execution_count": null,
   "id": "cec1d24d",
   "metadata": {},
   "outputs": [],
   "source": [
    "and"
   ]
  },
  {
   "cell_type": "code",
   "execution_count": null,
   "id": "062e2280",
   "metadata": {},
   "outputs": [],
   "source": [
    "or"
   ]
  },
  {
   "cell_type": "code",
   "execution_count": null,
   "id": "9cd50e56",
   "metadata": {},
   "outputs": [],
   "source": [
    "a = 6 and 9 or 8 or 0,b = a and 7 and 8, c = 7 or a or b and 4 or 0\n",
    "c = 7 or a or b and 4 or 0\n",
    "  = 7 or 9 or 8 and 4 or 0\n",
    "  =  7 or 9 or 4 or 0 \n",
    " = 7"
   ]
  },
  {
   "cell_type": "code",
   "execution_count": null,
   "id": "68f68e34",
   "metadata": {},
   "outputs": [],
   "source": [
    "a = 9\n",
    "b = 8\n",
    "c = 7"
   ]
  },
  {
   "cell_type": "code",
   "execution_count": null,
   "id": "90f764f7",
   "metadata": {},
   "outputs": [],
   "source": [
    "r = a+8 and 6 or 5 & 9"
   ]
  },
  {
   "cell_type": "code",
   "execution_count": null,
   "id": "f34aa476",
   "metadata": {},
   "outputs": [],
   "source": [
    "a+8 and 6 or 5 & 9\n",
    "17 and 6 or 5 & 9\n",
    "17 and 6 or 1\n",
    "6 or 1\n",
    "6"
   ]
  },
  {
   "cell_type": "code",
   "execution_count": 72,
   "id": "bf3176e2",
   "metadata": {},
   "outputs": [
    {
     "name": "stdout",
     "output_type": "stream",
     "text": [
      "False\n"
     ]
    }
   ],
   "source": [
    "a,b,c = 5,6,7\n",
    "\n",
    "print(8-7*2-a>(b+2)**2-6**2)"
   ]
  },
  {
   "cell_type": "code",
   "execution_count": null,
   "id": "4dc66b45",
   "metadata": {},
   "outputs": [],
   "source": [
    "# 8-7*2-a>(b+2)**2-6**2\n",
    "\n",
    "# 8-7*2-a>8**2-6**2\n",
    "\n",
    "# 8-7*2-a>8**2-36\n",
    "\n",
    "# 8-7*2-a>64-36\n",
    "\n",
    "# 8-14-5>64-36\n",
    "\n",
    "# -11 > 28\n",
    "\n"
   ]
  },
  {
   "cell_type": "code",
   "execution_count": 69,
   "id": "e6ecae94",
   "metadata": {},
   "outputs": [
    {
     "data": {
      "text/plain": [
       "28"
      ]
     },
     "execution_count": 69,
     "metadata": {},
     "output_type": "execute_result"
    }
   ],
   "source": [
    "64-36"
   ]
  },
  {
   "cell_type": "code",
   "execution_count": 75,
   "id": "d84bb38a",
   "metadata": {},
   "outputs": [
    {
     "name": "stdout",
     "output_type": "stream",
     "text": [
      "The Employee name is Rohit and his age is 23 and he is working in IT and his salary is 45000\n"
     ]
    }
   ],
   "source": [
    "Name=\"Rohit\"\n",
    "Age=23\n",
    "Dpt=\"IT\"\n",
    "Salary = 45000\n",
    "print(\"The Employee name is {} and his age is {} and he is working in {} and his salary is {}\".format(Name,Age,Dpt,Salary))"
   ]
  },
  {
   "cell_type": "code",
   "execution_count": 76,
   "id": "6d7165c3",
   "metadata": {},
   "outputs": [
    {
     "name": "stdout",
     "output_type": "stream",
     "text": [
      "The Employee name is Rohit and his age is 23 and he is working in IT and his salary is 45000\n"
     ]
    }
   ],
   "source": [
    "print(f\"The Employee name is {Name} and his age is {Age} and he is working in {Dpt} and his salary is {Salary}\")"
   ]
  },
  {
   "cell_type": "code",
   "execution_count": 78,
   "id": "95e35550",
   "metadata": {},
   "outputs": [
    {
     "name": "stdout",
     "output_type": "stream",
     "text": [
      "Sum = 45000.0000000000\n"
     ]
    }
   ],
   "source": [
    "print(\"Sum = %0.10f\" %Salary)"
   ]
  },
  {
   "cell_type": "code",
   "execution_count": 80,
   "id": "04dc249b",
   "metadata": {},
   "outputs": [
    {
     "name": "stdout",
     "output_type": "stream",
     "text": [
      "Enter your namefhdjgjf\n"
     ]
    }
   ],
   "source": [
    "data  = input(\"Enter your name\")"
   ]
  },
  {
   "cell_type": "code",
   "execution_count": 82,
   "id": "74ae5786",
   "metadata": {},
   "outputs": [
    {
     "name": "stdout",
     "output_type": "stream",
     "text": [
      "Enter the number you want:-  50\n",
      "50 <class 'str'>\n"
     ]
    }
   ],
   "source": [
    "data = input(\"Enter the number you want:-  \")\n",
    "print(data,type(data))"
   ]
  },
  {
   "cell_type": "code",
   "execution_count": 85,
   "id": "6e9b9a64",
   "metadata": {},
   "outputs": [
    {
     "name": "stdout",
     "output_type": "stream",
     "text": [
      "Enter the number you want:-  50.36\n",
      "50.36 <class 'float'>\n"
     ]
    }
   ],
   "source": [
    "data = float(input(\"Enter the number you want:-  \"))\n",
    "print(data,type(data))"
   ]
  },
  {
   "cell_type": "code",
   "execution_count": 87,
   "id": "2fe360e2",
   "metadata": {},
   "outputs": [
    {
     "name": "stdout",
     "output_type": "stream",
     "text": [
      "Enter the number1:-35.36\n",
      "Enter the number2:-2\n",
      "37.36\n"
     ]
    }
   ],
   "source": [
    "num1 = float(input(\"Enter the number1:-\"))\n",
    "num2 = int(input(\"Enter the number2:-\"))\n",
    "\n",
    "c = num1+num2\n",
    "\n",
    "print(c)"
   ]
  },
  {
   "cell_type": "code",
   "execution_count": null,
   "id": "66e263f8",
   "metadata": {},
   "outputs": [],
   "source": []
  }
 ],
 "metadata": {
  "kernelspec": {
   "display_name": "Python 3 (ipykernel)",
   "language": "python",
   "name": "python3"
  },
  "language_info": {
   "codemirror_mode": {
    "name": "ipython",
    "version": 3
   },
   "file_extension": ".py",
   "mimetype": "text/x-python",
   "name": "python",
   "nbconvert_exporter": "python",
   "pygments_lexer": "ipython3",
   "version": "3.12.4"
  }
 },
 "nbformat": 4,
 "nbformat_minor": 5
}
