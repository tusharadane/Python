{
 "cells": [
  {
   "cell_type": "code",
   "execution_count": 3,
   "id": "cc01ce92-c237-49cc-a022-603899a9e08b",
   "metadata": {},
   "outputs": [
    {
     "name": "stdout",
     "output_type": "stream",
     "text": [
      "<class 'dict'> {'c': 1.2, 'tushar': 23, 'java': 55.3, 'python': 2.5, 'c++': 5.6, 'scala': 52.1}\n"
     ]
    }
   ],
   "source": [
    "a={'c':1.2, 'tushar':23,'java':55.3,'python':2.5,\"c++\":5.6,'scala':52.1}\n",
    "\n",
    "print(type(a),(a))"
   ]
  },
  {
   "cell_type": "code",
   "execution_count": 5,
   "id": "645765c6-d609-4b62-8f4a-6937950cd721",
   "metadata": {
    "scrolled": true
   },
   "outputs": [
    {
     "name": "stdout",
     "output_type": "stream",
     "text": [
      "dict_values([1.2, 23, 55.3, 2.5, 5.6, 52.1])\n"
     ]
    }
   ],
   "source": [
    "print(a.values())"
   ]
  },
  {
   "cell_type": "code",
   "execution_count": 11,
   "id": "72bccd0e-1ea5-4e69-bb93-d664c82ba16d",
   "metadata": {},
   "outputs": [],
   "source": [
    "a.update({\"s\":2.8})"
   ]
  },
  {
   "cell_type": "code",
   "execution_count": 13,
   "id": "b5e06fe9-383e-40a7-a162-2b830da6555f",
   "metadata": {},
   "outputs": [
    {
     "name": "stdout",
     "output_type": "stream",
     "text": [
      "{'c': 1.2, 'tushar': 23, 'java': 55.3, 'python': 2.5, 'c++': 5.6, 'scala': 52.1, 's': 2.8}\n"
     ]
    }
   ],
   "source": [
    "print(a)"
   ]
  },
  {
   "cell_type": "code",
   "execution_count": 15,
   "id": "d28f5880-f104-4473-8ad3-3eb15eeb462a",
   "metadata": {},
   "outputs": [
    {
     "data": {
      "text/plain": [
       "False"
      ]
     },
     "execution_count": 15,
     "metadata": {},
     "output_type": "execute_result"
    }
   ],
   "source": [
    "not(10>20 or 20!=30 and 40>20 or 20!=45 and 22>22 or 33>223 and 223>223 and 4<23)\n",
    "\n",
    "\n"
   ]
  },
  {
   "cell_type": "code",
   "execution_count": 1,
   "id": "f8460e99-718f-43b6-b76c-8bc53cf7fcb9",
   "metadata": {},
   "outputs": [
    {
     "name": "stdout",
     "output_type": "stream",
     "text": [
      "0b110\n"
     ]
    }
   ],
   "source": [
    "a= 46 & 87\n",
    "\n",
    "b=bin(a)\n",
    "print(b)"
   ]
  },
  {
   "cell_type": "code",
   "execution_count": 3,
   "id": "0557864b-89cc-4fc2-a486-2ce83097732c",
   "metadata": {},
   "outputs": [
    {
     "name": "stdout",
     "output_type": "stream",
     "text": [
      "184\n"
     ]
    }
   ],
   "source": [
    "a=56 | 128\n",
    "\n",
    "print(a)"
   ]
  },
  {
   "cell_type": "code",
   "execution_count": 5,
   "id": "45118a91-b5eb-4237-aa55-bfeb03c7d55a",
   "metadata": {},
   "outputs": [
    {
     "name": "stdout",
     "output_type": "stream",
     "text": [
      "0b10000000\n"
     ]
    }
   ],
   "source": [
    "a=128\n",
    "b=bin(128)\n",
    "print(b)"
   ]
  },
  {
   "cell_type": "code",
   "execution_count": 9,
   "id": "b9bbf70e-584a-4570-ace7-9cc485f2acb0",
   "metadata": {
    "scrolled": true
   },
   "outputs": [
    {
     "name": "stdout",
     "output_type": "stream",
     "text": [
      "127\n"
     ]
    }
   ],
   "source": [
    "a=34^93\n",
    "print(a)\n"
   ]
  },
  {
   "cell_type": "code",
   "execution_count": 11,
   "id": "d736e3ab-b0d2-4f6f-b202-4f18d0082f45",
   "metadata": {},
   "outputs": [
    {
     "data": {
      "text/plain": [
       "640"
      ]
     },
     "execution_count": 11,
     "metadata": {},
     "output_type": "execute_result"
    }
   ],
   "source": [
    "a=20\n",
    "b=5\n",
    "\n",
    "20*(2**5)"
   ]
  },
  {
   "cell_type": "code",
   "execution_count": 13,
   "id": "6d22878f-0c2b-4292-8565-dc0be6e1f727",
   "metadata": {},
   "outputs": [
    {
     "name": "stdout",
     "output_type": "stream",
     "text": [
      "9\n"
     ]
    }
   ],
   "source": [
    "a=6 and 9 or 8 or 0\n",
    "b=a and 7 and 8\n",
    "c=7 or a or b and 4 or 0\n",
    "\n",
    "print(6 and 9)"
   ]
  },
  {
   "cell_type": "code",
   "execution_count": 15,
   "id": "2cfb34a7-ef41-47a4-884b-1041770e0059",
   "metadata": {},
   "outputs": [
    {
     "name": "stdout",
     "output_type": "stream",
     "text": [
      "6\n"
     ]
    }
   ],
   "source": [
    "r= a+8 and 6 or 5 & 9\n",
    "\n",
    "print(r)"
   ]
  },
  {
   "cell_type": "code",
   "execution_count": null,
   "id": "069f7651-f804-4e3a-8a93-c99c4d1a28d8",
   "metadata": {},
   "outputs": [],
   "source": [
    "a+6 or 9"
   ]
  },
  {
   "cell_type": "code",
   "execution_count": 17,
   "id": "60462960-ef97-4242-bdb6-0133c288fc61",
   "metadata": {},
   "outputs": [
    {
     "name": "stdout",
     "output_type": "stream",
     "text": [
      "5 6 7\n"
     ]
    }
   ],
   "source": [
    "a,b,c=5,6,7\n",
    "print(a,b,c)"
   ]
  },
  {
   "cell_type": "code",
   "execution_count": 19,
   "id": "5bec0146-488d-4178-92b5-807ac15362b2",
   "metadata": {},
   "outputs": [
    {
     "name": "stdout",
     "output_type": "stream",
     "text": [
      "8\n"
     ]
    }
   ],
   "source": [
    "8-7*2-a>(b+2)**2-6**2\n",
    "\n",
    "print(b+2)"
   ]
  },
  {
   "cell_type": "code",
   "execution_count": 25,
   "id": "29a62e45-d9b3-47f6-a554-ccd309a6d82a",
   "metadata": {},
   "outputs": [
    {
     "name": "stdin",
     "output_type": "stream",
     "text": [
      "first name tushar\n"
     ]
    },
    {
     "name": "stdout",
     "output_type": "stream",
     "text": [
      "tushar\n"
     ]
    }
   ],
   "source": [
    "data=input(\"first name\")\n",
    "\n",
    "print(data)"
   ]
  }
 ],
 "metadata": {
  "kernelspec": {
   "display_name": "Python 3 (ipykernel)",
   "language": "python",
   "name": "python3"
  },
  "language_info": {
   "codemirror_mode": {
    "name": "ipython",
    "version": 3
   },
   "file_extension": ".py",
   "mimetype": "text/x-python",
   "name": "python",
   "nbconvert_exporter": "python",
   "pygments_lexer": "ipython3",
   "version": "3.12.4"
  }
 },
 "nbformat": 4,
 "nbformat_minor": 5
}
