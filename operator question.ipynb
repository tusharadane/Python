{
 "cells": [
  {
   "cell_type": "code",
   "execution_count": null,
   "id": "497fd7a9-eb93-4be1-9457-f4e146211b91",
   "metadata": {},
   "outputs": [],
   "source": [
    "##Q1) Assume a = 6 and 9 or 8 or 0, b = a and 7 and  8 , c = 7 or a or b and 4 or 0\n",
    "\n",
    "q1. r = a + 8 and 6 or 5 & 9\n",
    " what is value in r.= 6\n",
    "\n",
    "q2. y = c and b<<5 - 4 << 2\n",
    "what is value in y = 64\n",
    "\n",
    "q3. s1 = {\"Python}\n",
    "      s2 = {\"Python}\n",
    "a = s1 is s2\n",
    "what is value in a = False\n",
    "\n",
    "q4. d = 1 + 9 - c**a**2 - 6 - (~3)\n",
    "what is value in d = 7 ?"
   ]
  },
  {
   "cell_type": "code",
   "execution_count": 17,
   "id": "4424c48d-0542-4903-bc3e-4b3db399840b",
   "metadata": {},
   "outputs": [
    {
     "name": "stdout",
     "output_type": "stream",
     "text": [
      "6\n"
     ]
    }
   ],
   "source": [
    " a = 6 and 9 or 8 or 0\n",
    " b = a and 7 and  8\n",
    "c = 7 or a or b and 4 or 0\n",
    "\n",
    "   ## 9  8  7\n",
    "r=a+8 and 6 or 5 & 9\n",
    "    ##14 and 6\n",
    "\n",
    "print(r)"
   ]
  },
  {
   "cell_type": "code",
   "execution_count": 7,
   "id": "264fb9c4-91b7-4710-9015-46af74575e82",
   "metadata": {},
   "outputs": [
    {
     "name": "stdout",
     "output_type": "stream",
     "text": [
      "9\n"
     ]
    }
   ],
   "source": [
    "a = 6 and 9 or 8 or 0\n",
    "print(a)"
   ]
  },
  {
   "cell_type": "code",
   "execution_count": 9,
   "id": "d112d24b-10fc-46f3-be48-0fa68b3067fe",
   "metadata": {},
   "outputs": [
    {
     "name": "stdout",
     "output_type": "stream",
     "text": [
      "8\n"
     ]
    }
   ],
   "source": [
    " b = a and 7 and  8\n",
    "print(b)"
   ]
  },
  {
   "cell_type": "code",
   "execution_count": 11,
   "id": "58251558-8dcf-4737-95fc-1aec9b9b8951",
   "metadata": {},
   "outputs": [
    {
     "name": "stdout",
     "output_type": "stream",
     "text": [
      "7\n"
     ]
    }
   ],
   "source": [
    "c = 7 or a or b and 4 or 0\n",
    "print(c)"
   ]
  },
  {
   "cell_type": "code",
   "execution_count": 51,
   "id": "8ae1383a-270f-493f-a83b-8eb259127542",
   "metadata": {},
   "outputs": [
    {
     "name": "stdout",
     "output_type": "stream",
     "text": [
      "64\n"
     ]
    }
   ],
   "source": [
    "y = c and b<<5 - 4 << 2\n",
    "##   7     16  <<   2\n",
    "\n",
    "print(y)"
   ]
  },
  {
   "cell_type": "code",
   "execution_count": 61,
   "id": "694cd940-5f91-4d53-b1d9-93f94ce93af5",
   "metadata": {},
   "outputs": [
    {
     "name": "stdout",
     "output_type": "stream",
     "text": [
      "2373041281888 2373041283008\n",
      "False\n"
     ]
    }
   ],
   "source": [
    "s1 = {\"Python\"}\n",
    "s2 = {\"Python\"}\n",
    "a = s1 is s2\n",
    "print(id(s1),id(s2))\n",
    "\n",
    "print(a)"
   ]
  },
  {
   "cell_type": "code",
   "execution_count": 77,
   "id": "799c159d-e768-4d0c-9134-4de104de5c43",
   "metadata": {},
   "outputs": [
    {
     "ename": "IndentationError",
     "evalue": "unexpected indent (1449292726.py, line 2)",
     "output_type": "error",
     "traceback": [
      "\u001b[1;36m  Cell \u001b[1;32mIn[77], line 2\u001b[1;36m\u001b[0m\n\u001b[1;33m    t=   10-283753509180010707824461062763116716606126555757084586223347181136007  -10\u001b[0m\n\u001b[1;37m    ^\u001b[0m\n\u001b[1;31mIndentationError\u001b[0m\u001b[1;31m:\u001b[0m unexpected indent\n"
     ]
    }
   ],
   "source": [
    " d = 1 + 9 - c**a**2 - 6 - (~3)\n",
    "   t=   10-283753509180010707824461062763116716606126555757084586223347181136007  -10    \n"
   ]
  },
  {
   "cell_type": "code",
   "execution_count": 79,
   "id": "b11241a9-f2f1-4bc9-8349-1b25200cf20f",
   "metadata": {},
   "outputs": [
    {
     "name": "stdout",
     "output_type": "stream",
     "text": [
      "7\n"
     ]
    }
   ],
   "source": [
    "print( 1 + 9 - c**a**2 - 6 - (~3))"
   ]
  },
  {
   "cell_type": "code",
   "execution_count": null,
   "id": "7b93e688-dd7c-4fc8-bc9f-dc8c196c564c",
   "metadata": {},
   "outputs": [],
   "source": [
    "Q2) assume a,b,c = 5,6,7\n",
    "q1. 8-7*2-a > (b+2)**2-6**2     =  false\n",
    "q2. 8*2-7*2!=2-2-4              =  true\n",
    "q3. 7*2//4%34 >= 9*2//3%100//3  =  true"
   ]
  },
  {
   "cell_type": "code",
   "execution_count": 101,
   "id": "e4f6a1d5-8de9-461f-8aef-df6cf4b83021",
   "metadata": {},
   "outputs": [
    {
     "name": "stdout",
     "output_type": "stream",
     "text": [
      "6\n"
     ]
    }
   ],
   "source": [
    "print(6%100)"
   ]
  },
  {
   "cell_type": "code",
   "execution_count": 91,
   "id": "810158f1-fb1d-4c6b-83ae-fcd6f6667d06",
   "metadata": {},
   "outputs": [
    {
     "name": "stdout",
     "output_type": "stream",
     "text": [
      "False\n"
     ]
    }
   ],
   "source": [
    "t=8-7*2-a > (b+2)**2-6**2\n",
    "   ##  8-14-5 >         64   - 36\n",
    "print(t)"
   ]
  },
  {
   "cell_type": "code",
   "execution_count": 95,
   "id": "55645cc0-85fc-43d5-af88-9c731585ac4a",
   "metadata": {},
   "outputs": [
    {
     "name": "stdout",
     "output_type": "stream",
     "text": [
      "True\n"
     ]
    }
   ],
   "source": [
    "s= 8*2-7*2!=2-2-4\n",
    " ##   2 != -4\n",
    "print(s)"
   ]
  },
  {
   "cell_type": "code",
   "execution_count": 103,
   "id": "d967d9cb-1de2-4cce-b1e4-7a64d37f2200",
   "metadata": {},
   "outputs": [
    {
     "name": "stdout",
     "output_type": "stream",
     "text": [
      "True\n"
     ]
    }
   ],
   "source": [
    "v= 7*2//4%34 >= 9*2//3%100//3\n",
    "   ## 3   >= 2\n",
    "print(v)"
   ]
  },
  {
   "cell_type": "code",
   "execution_count": null,
   "id": "ea7dc4aa-728a-4aef-a890-a0ae3d1ffbcf",
   "metadata": {},
   "outputs": [],
   "source": [
    "##Q3) Predict the answer to the following.\n",
    "q1. 67 in range (-67,102,6) = false\n",
    "a = [9,0,\"jiokpuadf\"]\n",
    "q2. \"jka\" in a[2][::3]     =  true\n",
    "b = {1:2,2:3,23:45}\n",
    "q3. 23 in b                =  true"
   ]
  },
  {
   "cell_type": "code",
   "execution_count": 105,
   "id": "16a6e643-e2fb-4320-b3c6-2563115d7226",
   "metadata": {},
   "outputs": [
    {
     "name": "stdout",
     "output_type": "stream",
     "text": [
      "-67\n",
      "-61\n",
      "-55\n",
      "-49\n",
      "-43\n",
      "-37\n",
      "-31\n",
      "-25\n",
      "-19\n",
      "-13\n",
      "-7\n",
      "-1\n",
      "5\n",
      "11\n",
      "17\n",
      "23\n",
      "29\n",
      "35\n",
      "41\n",
      "47\n",
      "53\n",
      "59\n",
      "65\n",
      "71\n",
      "77\n",
      "83\n",
      "89\n",
      "95\n",
      "101\n"
     ]
    }
   ],
   "source": [
    "for i in range(-67,102,6):\n",
    "    print(i)"
   ]
  },
  {
   "cell_type": "code",
   "execution_count": 107,
   "id": "e000ebc6-e820-487e-a7a3-dce9e1afdb4f",
   "metadata": {},
   "outputs": [
    {
     "name": "stdout",
     "output_type": "stream",
     "text": [
      "False\n"
     ]
    }
   ],
   "source": [
    "a=67 in range (-67,102,6)\n",
    "print(a)"
   ]
  },
  {
   "cell_type": "code",
   "execution_count": 111,
   "id": "c8d74c9a-e531-462f-8457-d384f764f0f9",
   "metadata": {},
   "outputs": [
    {
     "data": {
      "text/plain": [
       "'jka'"
      ]
     },
     "execution_count": 111,
     "metadata": {},
     "output_type": "execute_result"
    }
   ],
   "source": [
    "a=[9,0,\"jiokpuadf\"]\n",
    "\n",
    "a[2][::3]"
   ]
  },
  {
   "cell_type": "code",
   "execution_count": 113,
   "id": "eeb56e5f-a86c-4ad8-b60a-67c2b2a9b16e",
   "metadata": {
    "scrolled": true
   },
   "outputs": [
    {
     "name": "stdout",
     "output_type": "stream",
     "text": [
      "True\n"
     ]
    }
   ],
   "source": [
    "print(\"jka\" in a[2][::3] )"
   ]
  },
  {
   "cell_type": "code",
   "execution_count": 123,
   "id": "902eec32-be77-4084-8731-22ad2aa46e00",
   "metadata": {},
   "outputs": [
    {
     "name": "stdout",
     "output_type": "stream",
     "text": [
      "True\n"
     ]
    }
   ],
   "source": [
    "b={1:2,2:3,23:45}\n",
    "a=23 in b\n",
    "print(a)"
   ]
  }
 ],
 "metadata": {
  "kernelspec": {
   "display_name": "Python 3 (ipykernel)",
   "language": "python",
   "name": "python3"
  },
  "language_info": {
   "codemirror_mode": {
    "name": "ipython",
    "version": 3
   },
   "file_extension": ".py",
   "mimetype": "text/x-python",
   "name": "python",
   "nbconvert_exporter": "python",
   "pygments_lexer": "ipython3",
   "version": "3.12.4"
  }
 },
 "nbformat": 4,
 "nbformat_minor": 5
}
