{
 "cells": [
  {
   "cell_type": "markdown",
   "id": "1c15b6ca",
   "metadata": {},
   "source": [
    "# Recursive Function"
   ]
  },
  {
   "cell_type": "markdown",
   "id": "8d6a963c",
   "metadata": {},
   "source": [
    "A recursive function in Python is a function that calls itself as part of its execution. This programming technique is called recursion, and it is particularly useful when you need to solve a problem that can be broken down into smaller, similar subproblems. Recursive functions are widely used in computer science and programming to solve problems like tree traversal, factorial calculations, and more.\n",
    "\n",
    "It's like a special type of function that can do something and also ask itself to do the same thing.\n",
    "\n",
    "Recursion: Think of it as a problem-solving method where you tackle a big problem by splitting it into smaller problems of the same type. It's like breaking a big task into smaller tasks that are easier to handle.\n",
    "\n",
    "Use Cases: Recursion is handy when you face a problem that can be broken down into smaller, similar problems. For example, if you want to explore all the branches of a tree, calculate factorials of numbers, or navigate through complex structures like mazes, you can use recursion to simplify the task."
   ]
  },
  {
   "cell_type": "code",
   "execution_count": null,
   "id": "99d86f58",
   "metadata": {},
   "outputs": [],
   "source": [
    "import sys"
   ]
  },
  {
   "cell_type": "code",
   "execution_count": null,
   "id": "e3ae478d",
   "metadata": {},
   "outputs": [],
   "source": [
    "print(sys.getrecursionlimit())"
   ]
  },
  {
   "cell_type": "code",
   "execution_count": null,
   "id": "d842ef37",
   "metadata": {},
   "outputs": [],
   "source": [
    "sys.setrecursionlimit(100)"
   ]
  },
  {
   "cell_type": "code",
   "execution_count": null,
   "id": "db12452c",
   "metadata": {},
   "outputs": [],
   "source": [
    "print(sys.getrecursionlimit())"
   ]
  },
  {
   "cell_type": "code",
   "execution_count": null,
   "id": "c2d6b140",
   "metadata": {},
   "outputs": [],
   "source": [
    "def greet(name):\n",
    "    print(f\"Hello {name}, how are you doing today\")\n",
    "    greet(\"Rohit\")"
   ]
  },
  {
   "cell_type": "code",
   "execution_count": null,
   "id": "ffe5fc8e",
   "metadata": {},
   "outputs": [],
   "source": [
    "greet(\"Akshay\")"
   ]
  },
  {
   "cell_type": "code",
   "execution_count": null,
   "id": "4d33ff15",
   "metadata": {},
   "outputs": [],
   "source": [
    "def num(n):\n",
    "    if n == 0:\n",
    "        print(\"python programming\")\n",
    "    else:\n",
    "        print(n)\n",
    "        num(n-1)\n",
    "        \n",
    "num(10)"
   ]
  },
  {
   "cell_type": "code",
   "execution_count": null,
   "id": "a4c69c6d",
   "metadata": {},
   "outputs": [],
   "source": [
    "def fact(n): # \n",
    "    # Base case: if n is 0 or 1, the factorial is 1\n",
    "    if (n == 0 or n==1):\n",
    "        return 1\n",
    "    else:\n",
    "    # Recursive case: multiply n by the factorial of (n-1)\n",
    "        return n * fact(n-1)\n",
    "#    return 5 * fact(5-1) * fact(4-1) * fact(3-1) * fact(2-1) * fact(1-1)\n",
    "#            5 *    4    *     3     *     2     *     1     *    1\n",
    "\n",
    "    \n",
    "fact(5)"
   ]
  },
  {
   "cell_type": "code",
   "execution_count": 2,
   "id": "dfc97cb1",
   "metadata": {},
   "outputs": [
    {
     "name": "stdout",
     "output_type": "stream",
     "text": [
      "Recursion Result\n",
      "Current value of K is: 6\n",
      "Current value of K is: 5\n",
      "Current value of K is: 4\n",
      "Current value of K is: 3\n",
      "Current value of K is: 2\n",
      "Current value of K is: 1\n",
      "final result 21\n"
     ]
    }
   ],
   "source": [
    "def tri_recursion(k): # 6 5\n",
    "    if k>0:\n",
    "        print(\"Current value of K is:\",k)\n",
    "        result = k+tri_recursion(k-1)  \n",
    "        return result\n",
    "    else:\n",
    "        return 0\n",
    "    \n",
    "print(\"Recursion Result\")\n",
    "result = tri_recursion(6)\n",
    "print(\"final result\",result)"
   ]
  },
  {
   "cell_type": "code",
   "execution_count": null,
   "id": "55c9e7e0",
   "metadata": {},
   "outputs": [],
   "source": [
    "def num(n):# 10 9\n",
    "    # Base case: if n is 0 or 1, return 1\n",
    "    if (n == 0 or n==1):\n",
    "        return 1\n",
    "    else:\n",
    "    # Recursive case: add n to the result of num(n-1)\n",
    "        return n + num(n-1)\n",
    "\n",
    "    \n",
    "num(10)"
   ]
  },
  {
   "cell_type": "code",
   "execution_count": null,
   "id": "7fc33e17",
   "metadata": {},
   "outputs": [],
   "source": [
    "#    return 10 + num(9) \n",
    "#             10 + (9 + num(8))\n",
    "#             10 + (9 + (8 + num(7)))\n",
    "#             10 + (9 + (8 + (7 + num(6))))\n",
    "#             10 + (9 + (8 + (7 + (6 + num(5)))))\n",
    "#             10 + (9 + (8 + (7 + (6 + (5 + num(4))))))\n",
    "#             10 + (9 + (8 + (7 + (6 + (5 + (4 + num(3)))))))\n",
    "#             10 + (9 + (8 + (7 + (6 + (5 + (4 + (3 + num(2))))))))\n",
    "#             10 + (9 + (8 + (7 + (6 + (5 + (4 + (3 + (2 + num(1)))))))))\n",
    "#             10 + (9 + (8 + (7 + (6 + (5 + (4 + (3 + (2 + 1))))))))\n",
    "#             10 + 9 + 8 + 7 + 6 + 5 + 4 + 3 + 2 + 1"
   ]
  },
  {
   "cell_type": "markdown",
   "id": "0b00f25e",
   "metadata": {},
   "source": [
    "# Exception Handling\n"
   ]
  },
  {
   "cell_type": "markdown",
   "id": "3fa0f514",
   "metadata": {},
   "source": [
    "Exception handling is a fundamental concept in programming that helps manage unexpected or exceptional situations that may arise during the execution of a program. These exceptional situations, known as exceptions, can include errors like division by zero, file not found, or network connection problems. Exception handling allows developers to gracefully handle these issues, preventing program crashes and enabling more robust and reliable software.\n",
    "\n",
    "Imagine you're writing a program in Python, and sometimes things might go wrong while the program is running. These problems can be anything from trying to divide a number by zero to reading a file that doesn't exist.\n",
    "\n",
    "Python has a way to deal with these issues gracefully, so your program doesn't just crash. It's called \"exception handling.\""
   ]
  },
  {
   "cell_type": "code",
   "execution_count": 5,
   "id": "4f3704f0",
   "metadata": {},
   "outputs": [
    {
     "name": "stdout",
     "output_type": "stream",
     "text": [
      "1\n",
      "2\n",
      "3\n"
     ]
    },
    {
     "ename": "ValueError",
     "evalue": "invalid literal for int() with base 10: 'four'",
     "output_type": "error",
     "traceback": [
      "\u001b[1;31m---------------------------------------------------------------------------\u001b[0m",
      "\u001b[1;31mValueError\u001b[0m                                Traceback (most recent call last)",
      "Cell \u001b[1;32mIn[5], line 5\u001b[0m\n\u001b[0;32m      1\u001b[0m a \u001b[38;5;241m=\u001b[39m [\u001b[38;5;241m1\u001b[39m,\u001b[38;5;241m2\u001b[39m,\u001b[38;5;124m'\u001b[39m\u001b[38;5;124m3\u001b[39m\u001b[38;5;124m'\u001b[39m,\u001b[38;5;124m'\u001b[39m\u001b[38;5;124mfour\u001b[39m\u001b[38;5;124m'\u001b[39m,\u001b[38;5;124m'\u001b[39m\u001b[38;5;124m5\u001b[39m\u001b[38;5;124m'\u001b[39m,\u001b[38;5;241m67\u001b[39m,\u001b[38;5;124m'\u001b[39m\u001b[38;5;124m7\u001b[39m\u001b[38;5;124m'\u001b[39m,\u001b[38;5;124m'\u001b[39m\u001b[38;5;124m9\u001b[39m\u001b[38;5;124m'\u001b[39m,\u001b[38;5;241m39\u001b[39m]\n\u001b[0;32m      4\u001b[0m \u001b[38;5;28;01mfor\u001b[39;00m i \u001b[38;5;129;01min\u001b[39;00m a:\n\u001b[1;32m----> 5\u001b[0m     b  \u001b[38;5;241m=\u001b[39m \u001b[38;5;28;43mint\u001b[39;49m\u001b[43m(\u001b[49m\u001b[43mi\u001b[49m\u001b[43m)\u001b[49m\n\u001b[0;32m      6\u001b[0m     \u001b[38;5;28mprint\u001b[39m(b)\n",
      "\u001b[1;31mValueError\u001b[0m: invalid literal for int() with base 10: 'four'"
     ]
    }
   ],
   "source": [
    "a = [1,2,'3','four','5',67,'7','9',39]\n",
    "\n",
    "\n",
    "for i in a:\n",
    "    b  = int(i)\n",
    "    print(b)"
   ]
  },
  {
   "cell_type": "code",
   "execution_count": null,
   "id": "bcbe46a0",
   "metadata": {},
   "outputs": [],
   "source": [
    "# 3 types of errors\n",
    "Compile Time Error\n",
    "Logical Error\n",
    "Runtime Error"
   ]
  },
  {
   "cell_type": "markdown",
   "id": "30bcca3d",
   "metadata": {},
   "source": [
    "# Compile time errors\n",
    "Compile time errors, also known as syntax errors, occur during the compilation phase of the program. These errors are detected by the compiler when it processes the source code and translates it into machine code or bytecode. Syntax errors indicate violations of the language's grammar rules."
   ]
  },
  {
   "cell_type": "code",
   "execution_count": 6,
   "id": "7c5d3d27",
   "metadata": {
    "scrolled": true
   },
   "outputs": [
    {
     "ename": "SyntaxError",
     "evalue": "invalid syntax. Perhaps you forgot a comma? (1355258856.py, line 4)",
     "output_type": "error",
     "traceback": [
      "\u001b[1;36m  Cell \u001b[1;32mIn[6], line 4\u001b[1;36m\u001b[0m\n\u001b[1;33m    print(Result of output is ,c)\u001b[0m\n\u001b[1;37m          ^\u001b[0m\n\u001b[1;31mSyntaxError\u001b[0m\u001b[1;31m:\u001b[0m invalid syntax. Perhaps you forgot a comma?\n"
     ]
    }
   ],
   "source": [
    "a = 10\n",
    "b= 20\n",
    "c = a+b\n",
    "print(Result of output is ,c)\n",
    "print(\"Code Complete\")"
   ]
  },
  {
   "cell_type": "code",
   "execution_count": 40,
   "id": "94ced56d",
   "metadata": {},
   "outputs": [
    {
     "ename": "SyntaxError",
     "evalue": "incomplete input (3729363014.py, line 2)",
     "output_type": "error",
     "traceback": [
      "\u001b[1;36m  Cell \u001b[1;32mIn[40], line 2\u001b[1;36m\u001b[0m\n\u001b[1;33m    print(\"Hello, World!\"\u001b[0m\n\u001b[1;37m                         ^\u001b[0m\n\u001b[1;31mSyntaxError\u001b[0m\u001b[1;31m:\u001b[0m incomplete input\n"
     ]
    }
   ],
   "source": [
    "# Example 1: Missing parenthesis\n",
    "print(\"Hello, World!\""
   ]
  },
  {
   "cell_type": "code",
   "execution_count": 41,
   "id": "26c16957",
   "metadata": {},
   "outputs": [
    {
     "ename": "NameError",
     "evalue": "name 'x' is not defined",
     "output_type": "error",
     "traceback": [
      "\u001b[1;31m---------------------------------------------------------------------------\u001b[0m",
      "\u001b[1;31mNameError\u001b[0m                                 Traceback (most recent call last)",
      "Cell \u001b[1;32mIn[41], line 2\u001b[0m\n\u001b[0;32m      1\u001b[0m \u001b[38;5;66;03m# Example 2: Undefined variable\u001b[39;00m\n\u001b[1;32m----> 2\u001b[0m result \u001b[38;5;241m=\u001b[39m \u001b[43mx\u001b[49m \u001b[38;5;241m+\u001b[39m \u001b[38;5;241m5\u001b[39m\n",
      "\u001b[1;31mNameError\u001b[0m: name 'x' is not defined"
     ]
    }
   ],
   "source": [
    "# Example 2: Undefined variable\n",
    "result = x + 5"
   ]
  },
  {
   "cell_type": "markdown",
   "id": "256ade75",
   "metadata": {},
   "source": [
    "# Logical Error\n",
    "Logical errors occur when there is a flaw in the algorithm or the overall logic of the program. Unlike syntax errors, logical errors do not cause the program to terminate or produce error messages. Instead, they lead to incorrect results or undesired behavior in the program."
   ]
  },
  {
   "cell_type": "code",
   "execution_count": 42,
   "id": "6d91a6a7",
   "metadata": {},
   "outputs": [
    {
     "name": "stdout",
     "output_type": "stream",
     "text": [
      "0\n",
      "1\n",
      "2\n",
      "3\n",
      "4\n",
      "5\n",
      "6\n",
      "7\n",
      "8\n",
      "9\n"
     ]
    }
   ],
   "source": [
    "# Incorrect: Loop should iterate from 1 to 10, not 0 to 9\n",
    "for i in range(10):\n",
    "    print(i)"
   ]
  },
  {
   "cell_type": "code",
   "execution_count": 43,
   "id": "bc9c3194",
   "metadata": {},
   "outputs": [
    {
     "name": "stdout",
     "output_type": "stream",
     "text": [
      "86.33333333333333\n"
     ]
    }
   ],
   "source": [
    "# The logical error occurs because the division c / 3 happens before the addition of all three numbers. \n",
    "a = 35\n",
    "b = 36\n",
    "c = 46\n",
    "\n",
    "avg = a+b+c/3\n",
    "\n",
    "print(avg)"
   ]
  },
  {
   "cell_type": "code",
   "execution_count": 10,
   "id": "f08bacc3",
   "metadata": {},
   "outputs": [
    {
     "name": "stdout",
     "output_type": "stream",
     "text": [
      "0\n",
      "1\n",
      "2\n",
      "3\n",
      "4\n",
      "5\n"
     ]
    }
   ],
   "source": [
    "# print from 1 to 5\n",
    "\n",
    "for i in range(6):\n",
    "    print(i)"
   ]
  },
  {
   "cell_type": "markdown",
   "id": "b86a77df",
   "metadata": {},
   "source": [
    "# Runtime Error (Exception)\n",
    "Runtime errors occur during the execution of the program when something unexpected happens, such as division by zero, accessing an index that doesn't exist, or trying to open a file that doesn't exist. These errors are not detected by the compiler during the compilation phase and typically result in the termination of the program."
   ]
  },
  {
   "cell_type": "code",
   "execution_count": 44,
   "id": "dcf20025",
   "metadata": {},
   "outputs": [
    {
     "ename": "ZeroDivisionError",
     "evalue": "division by zero",
     "output_type": "error",
     "traceback": [
      "\u001b[1;31m---------------------------------------------------------------------------\u001b[0m",
      "\u001b[1;31mZeroDivisionError\u001b[0m                         Traceback (most recent call last)",
      "Cell \u001b[1;32mIn[44], line 3\u001b[0m\n\u001b[0;32m      1\u001b[0m x \u001b[38;5;241m=\u001b[39m \u001b[38;5;241m10\u001b[39m\n\u001b[0;32m      2\u001b[0m y \u001b[38;5;241m=\u001b[39m \u001b[38;5;241m0\u001b[39m\n\u001b[1;32m----> 3\u001b[0m result \u001b[38;5;241m=\u001b[39m \u001b[43mx\u001b[49m\u001b[43m \u001b[49m\u001b[38;5;241;43m/\u001b[39;49m\u001b[43m \u001b[49m\u001b[43my\u001b[49m\n",
      "\u001b[1;31mZeroDivisionError\u001b[0m: division by zero"
     ]
    }
   ],
   "source": [
    "x = 10\n",
    "y = 0\n",
    "result = x / y  # This will raise a ZeroDivisionError at runtime.\n",
    "\n"
   ]
  },
  {
   "cell_type": "code",
   "execution_count": 45,
   "id": "34480636",
   "metadata": {},
   "outputs": [
    {
     "ename": "TypeError",
     "evalue": "can only concatenate str (not \"int\") to str",
     "output_type": "error",
     "traceback": [
      "\u001b[1;31m---------------------------------------------------------------------------\u001b[0m",
      "\u001b[1;31mTypeError\u001b[0m                                 Traceback (most recent call last)",
      "Cell \u001b[1;32mIn[45], line 3\u001b[0m\n\u001b[0;32m      1\u001b[0m x \u001b[38;5;241m=\u001b[39m \u001b[38;5;124m\"\u001b[39m\u001b[38;5;124m5\u001b[39m\u001b[38;5;124m\"\u001b[39m\n\u001b[0;32m      2\u001b[0m y \u001b[38;5;241m=\u001b[39m \u001b[38;5;241m2\u001b[39m\n\u001b[1;32m----> 3\u001b[0m result \u001b[38;5;241m=\u001b[39m \u001b[43mx\u001b[49m\u001b[43m \u001b[49m\u001b[38;5;241;43m+\u001b[39;49m\u001b[43m \u001b[49m\u001b[43my\u001b[49m\n",
      "\u001b[1;31mTypeError\u001b[0m: can only concatenate str (not \"int\") to str"
     ]
    }
   ],
   "source": [
    "x = \"5\"\n",
    "y = 2\n",
    "result = x + y  # This will raise a TypeError at runtime.\n"
   ]
  },
  {
   "cell_type": "code",
   "execution_count": 46,
   "id": "08aee407",
   "metadata": {},
   "outputs": [
    {
     "ename": "KeyError",
     "evalue": "'c'",
     "output_type": "error",
     "traceback": [
      "\u001b[1;31m---------------------------------------------------------------------------\u001b[0m",
      "\u001b[1;31mKeyError\u001b[0m                                  Traceback (most recent call last)",
      "Cell \u001b[1;32mIn[46], line 2\u001b[0m\n\u001b[0;32m      1\u001b[0m dictionary \u001b[38;5;241m=\u001b[39m {\u001b[38;5;124m'\u001b[39m\u001b[38;5;124ma\u001b[39m\u001b[38;5;124m'\u001b[39m: \u001b[38;5;241m1\u001b[39m, \u001b[38;5;124m'\u001b[39m\u001b[38;5;124mb\u001b[39m\u001b[38;5;124m'\u001b[39m: \u001b[38;5;241m2\u001b[39m}\n\u001b[1;32m----> 2\u001b[0m value \u001b[38;5;241m=\u001b[39m \u001b[43mdictionary\u001b[49m\u001b[43m[\u001b[49m\u001b[38;5;124;43m'\u001b[39;49m\u001b[38;5;124;43mc\u001b[39;49m\u001b[38;5;124;43m'\u001b[39;49m\u001b[43m]\u001b[49m\n",
      "\u001b[1;31mKeyError\u001b[0m: 'c'"
     ]
    }
   ],
   "source": [
    "dictionary = {'a': 1, 'b': 2}\n",
    "value = dictionary['c']  # This will raise a KeyError at runtime.\n"
   ]
  },
  {
   "cell_type": "markdown",
   "id": "0689fa3f",
   "metadata": {},
   "source": [
    "# Try Block\n",
    "A \"try\" block is used in programming to handle risky code that might cause errors. When you put your code inside a \"try\" block, you're testing it with the understanding that something might go wrong. If an error occurs, the program doesn't crash; instead, it moves to an \"except\" block where you can provide a backup plan to handle the issue. This approach keeps your program running smoothly even when unexpected problems arise."
   ]
  },
  {
   "cell_type": "markdown",
   "id": "5d7a228d",
   "metadata": {},
   "source": [
    "# Except Block\n",
    "The \"except\" block in Python is used to handle specific errors that occur in the preceding \"try\" block. If an exception, like a \"ZeroDivisionError\" or \"FileNotFoundError,\" happens, the program moves to the \"except\" block. Here, you can write code to manage the error, such as displaying an error message or taking corrective actions. This ensures that your program can handle unexpected problems gracefully without crashing."
   ]
  },
  {
   "cell_type": "markdown",
   "id": "88593153",
   "metadata": {},
   "source": [
    "# Finally Block\n",
    "The \"finally\" block in Python ensures that a specific piece of code runs no matter what happens in the \"try\" block, whether an error occurs or not. It's often used for cleanup tasks, like closing files or releasing resources, to make sure everything is properly handled when the program is done."
   ]
  },
  {
   "cell_type": "raw",
   "id": "c1ed3eaa",
   "metadata": {},
   "source": [
    "try:\n",
    "    # Code that might raise an exception\n",
    "    pass\n",
    "except SomeException as e:\n",
    "    # Code to handle the specific exception\n",
    "    pass\n",
    "except AnotherException as e:\n",
    "    # Code to handle another specific exception\n",
    "    pass\n",
    "else:\n",
    "    # Code that runs if no exception occurs\n",
    "    pass\n",
    "finally:\n",
    "    # Code that runs no matter what (cleanup tasks)\n",
    "    pass\n"
   ]
  },
  {
   "cell_type": "code",
   "execution_count": 48,
   "id": "170e6c9a",
   "metadata": {},
   "outputs": [
    {
     "name": "stdout",
     "output_type": "stream",
     "text": [
      "1\n",
      "2\n",
      "3\n",
      "String cannot be convert into int\n",
      "5\n",
      "67\n",
      "7\n",
      "9\n",
      "39\n",
      "String cannot be convert into int\n"
     ]
    }
   ],
   "source": [
    "a = [1,2,'3','four','5',67,'7','9',39,3+4j]\n",
    "\n",
    "for i in a:\n",
    "    \n",
    "    try:\n",
    "        b = int(i)\n",
    "        print(b)\n",
    "    except:\n",
    "        print(\"String cannot be convert into int\")"
   ]
  },
  {
   "cell_type": "code",
   "execution_count": 18,
   "id": "8b2eca9f",
   "metadata": {},
   "outputs": [
    {
     "name": "stdout",
     "output_type": "stream",
     "text": [
      "1\n",
      "2\n",
      "3\n",
      "(<class 'ValueError'>, ValueError(\"invalid literal for int() with base 10: 'four'\"), <traceback object at 0x000001DD05267940>)\n",
      "5\n",
      "67\n",
      "7\n",
      "9\n",
      "39\n",
      "(<class 'TypeError'>, TypeError(\"int() argument must be a string, a bytes-like object or a real number, not 'complex'\"), <traceback object at 0x000001DD05267940>)\n"
     ]
    }
   ],
   "source": [
    "a = [1,2,'3','four','5',67,'7','9',39,3+4j]\n",
    "\n",
    "for i in a:\n",
    "    \n",
    "    try:\n",
    "        b = int(i)\n",
    "        print(b)\n",
    "    except:\n",
    "        print(sys.exc_info())"
   ]
  },
  {
   "cell_type": "code",
   "execution_count": 17,
   "id": "57a73ac1",
   "metadata": {},
   "outputs": [],
   "source": [
    "import sys"
   ]
  },
  {
   "cell_type": "code",
   "execution_count": 49,
   "id": "b219267f",
   "metadata": {},
   "outputs": [
    {
     "name": "stdout",
     "output_type": "stream",
     "text": [
      "12.0\n",
      "6.0\n",
      "0.35294117647058826\n",
      "0.21428571428571427\n",
      "Cannot divide zero\n",
      "6.0\n",
      "0.19047619047619047\n",
      "Please give the int number to divide\n",
      "6.0\n",
      "4.0\n",
      "2.0\n",
      "6.0\n",
      "2.0\n"
     ]
    }
   ],
   "source": [
    "a=[1,2,34,56,0,2,63,\"five\",2,3,6,2,6]\n",
    "\n",
    "\n",
    "for i in a:\n",
    "    try:\n",
    "        value=12/i  # 12/0\n",
    "        print(value) # 1 2 34b 56 2 63 \n",
    "    except ValueError:\n",
    "        print(\"Dont have base literal 10\")\n",
    "    except ZeroDivisionError:\n",
    "        print(\"Cannot divide zero\")\n",
    "    except TypeError:\n",
    "        print(\"Please give the int number to divide\")"
   ]
  },
  {
   "cell_type": "code",
   "execution_count": 50,
   "id": "31fb22aa",
   "metadata": {},
   "outputs": [
    {
     "name": "stdout",
     "output_type": "stream",
     "text": [
      "Enter the index number you want from the list100\n",
      "Error: Given index is out of range\n",
      "Program Execution Completed\n"
     ]
    }
   ],
   "source": [
    "a=[1,2,3,4,5,6,7,8,9,10]\n",
    "\n",
    "try:\n",
    "    index=int(input(\"Enter the index number you want from the list\"))\n",
    "    result=a[index]\n",
    "except IndexError:\n",
    "    print(\"Error: Given index is out of range\")\n",
    "except TypeError:\n",
    "    print(\"Give only integer number\")\n",
    "except ValueError:\n",
    "    print(\"Please give the correct value\")\n",
    "else:\n",
    "    print(f\"{result} is number of your given  {index}th index\")\n",
    "finally:\n",
    "    print(\"Program Execution Completed\")\n",
    "    "
   ]
  },
  {
   "cell_type": "code",
   "execution_count": 30,
   "id": "eb87fb93",
   "metadata": {},
   "outputs": [
    {
     "name": "stdout",
     "output_type": "stream",
     "text": [
      "String and Integer cannot be plus\n"
     ]
    }
   ],
   "source": [
    "b = \"data\"\n",
    "c = 100\n",
    "\n",
    "try:\n",
    "    result = b+c\n",
    "    print(result)\n",
    "except TypeError:\n",
    "    print(\"String and Integer cannot be plus\")"
   ]
  },
  {
   "cell_type": "code",
   "execution_count": 34,
   "id": "16f074fc",
   "metadata": {},
   "outputs": [
    {
     "name": "stdout",
     "output_type": "stream",
     "text": [
      "Enter the index number:- 243643\n",
      "Index is out of range\n",
      "Code is Completed\n"
     ]
    }
   ],
   "source": [
    "a = [1,2,34,5,6,8,9,9]\n",
    "\n",
    "\n",
    "try:\n",
    "    index_val  = int(input(\"Enter the index number:- \"))\n",
    "\n",
    "    result = a[index_val]\n",
    "    \n",
    "    \n",
    "except IndexError:\n",
    "    print(\"Index is out of range\")\n",
    "\n",
    "except ValueError:\n",
    "    print(\"Provide only integer or real numbers\")\n",
    "\n",
    "else:\n",
    "    print(f\"the Index values is {result}\")\n",
    "    \n",
    "finally:\n",
    "    print(\"Code is Completed\")\n",
    "    "
   ]
  },
  {
   "cell_type": "code",
   "execution_count": null,
   "id": "e430ffac",
   "metadata": {},
   "outputs": [],
   "source": [
    "try:\n",
    "    \n",
    "    pass\n",
    "except ZeroDivisionError:\n",
    "    pass\n",
    "except ValueError:\n",
    "    pass\n",
    "except NameError:\n",
    "    pass\n",
    "else:\n",
    "    print(\"Print the output here\")\n",
    "finally:\n",
    "    "
   ]
  },
  {
   "cell_type": "code",
   "execution_count": 37,
   "id": "0334603d",
   "metadata": {},
   "outputs": [
    {
     "name": "stdout",
     "output_type": "stream",
     "text": [
      "Enter the index number:- for i in range(1,10)\n",
      "There is error in the code\n",
      "Code is Completed\n"
     ]
    }
   ],
   "source": [
    "a = [1,2,34,5,6,8,9,9]\n",
    "\n",
    "\n",
    "try:\n",
    "    index_val  = int(input(\"Enter the index number:- \"))\n",
    "\n",
    "    result = a[index_val]\n",
    "    \n",
    "    \n",
    "except (IndexError,ValueError):\n",
    "    print(\"There is error in the code\")\n",
    "\n",
    "\n",
    "else:\n",
    "    print(f\"the Index values is {result}\")\n",
    "    \n",
    "finally:\n",
    "    print(\"Code is Completed\")\n",
    "    "
   ]
  },
  {
   "cell_type": "code",
   "execution_count": 38,
   "id": "499e8677",
   "metadata": {},
   "outputs": [
    {
     "name": "stdout",
     "output_type": "stream",
     "text": [
      "enter the number:- gfgn\n",
      "Valueerorr is gernated\n"
     ]
    }
   ],
   "source": [
    "try:\n",
    "    num  = int(input(\"enter the number:- \")) # five\n",
    "except ValueError:\n",
    "    print(\"Valueerorr is gernated\")"
   ]
  },
  {
   "cell_type": "code",
   "execution_count": null,
   "id": "a7167149",
   "metadata": {},
   "outputs": [],
   "source": [
    "try:\n",
    "    pass\n",
    "except:\n",
    "    pass\n",
    "else:\n",
    "    pass\n",
    "finally:\n",
    "    pass\n"
   ]
  },
  {
   "cell_type": "code",
   "execution_count": null,
   "id": "a124eec4",
   "metadata": {},
   "outputs": [],
   "source": []
  }
 ],
 "metadata": {
  "kernelspec": {
   "display_name": "Python 3 (ipykernel)",
   "language": "python",
   "name": "python3"
  },
  "language_info": {
   "codemirror_mode": {
    "name": "ipython",
    "version": 3
   },
   "file_extension": ".py",
   "mimetype": "text/x-python",
   "name": "python",
   "nbconvert_exporter": "python",
   "pygments_lexer": "ipython3",
   "version": "3.12.4"
  }
 },
 "nbformat": 4,
 "nbformat_minor": 5
}
