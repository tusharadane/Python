{
 "cells": [
  {
   "cell_type": "code",
   "execution_count": null,
   "id": "0b4c0b59-dda2-4518-9d47-751da3bc6404",
   "metadata": {},
   "outputs": [],
   "source": [
    "##Q1) Predict the outcome of the following expressions:\n",
    "Assume x = 10, y = 20, z = 5\n",
    "q1. result = x + y * z - x // z + y % z     = 108 \n",
    "q2. result = z and x or y and not x         =  10\n",
    "q3. result = x | y & z ^ x << 2             =  46\n",
    "\n",
    "Assume a = 3, b = 4, c = 7\n",
    "\n",
    "q1. result = (a**b % c + c//b) >> 1         = 2\n",
    "q2. result = ~a + b - c & b | a             = 3\n",
    "q3. result = a > b < c and c == a * b // c  = false"
   ]
  },
  {
   "cell_type": "code",
   "execution_count": 5,
   "id": "4b6722f3-7611-4bca-9143-bc49839411e6",
   "metadata": {},
   "outputs": [
    {
     "name": "stdout",
     "output_type": "stream",
     "text": [
      "108\n"
     ]
    }
   ],
   "source": [
    "x = 10\n",
    "y = 20\n",
    "z = 5\n",
    "\n",
    "a= x + y * z - x // z + y % z\n",
    "         #10+100-2+0\n",
    "print(a)"
   ]
  },
  {
   "cell_type": "code",
   "execution_count": 11,
   "id": "c8b4df56-0246-41ea-953c-aaa1729e2408",
   "metadata": {},
   "outputs": [
    {
     "name": "stdout",
     "output_type": "stream",
     "text": [
      "10\n"
     ]
    }
   ],
   "source": [
    "b= z and x or y and not x  \n",
    "    #5  10   20       10\n",
    "print(b)"
   ]
  },
  {
   "cell_type": "code",
   "execution_count": 19,
   "id": "829f5a2a-0e52-480f-b048-3959bdf234d0",
   "metadata": {},
   "outputs": [
    {
     "name": "stdout",
     "output_type": "stream",
     "text": [
      "46\n"
     ]
    }
   ],
   "source": [
    " a= x | y & z ^ x << 2 \n",
    "       #30         40\n",
    "print(a)"
   ]
  },
  {
   "cell_type": "code",
   "execution_count": 35,
   "id": "0bc224aa-b405-4aae-8092-ef601b8743ad",
   "metadata": {},
   "outputs": [
    {
     "name": "stdout",
     "output_type": "stream",
     "text": [
      "2\n"
     ]
    }
   ],
   "source": [
    "a = 3\n",
    "b = 4\n",
    "c = 7\n",
    "\n",
    "z= (a**b % c + c//b) >> 1\n",
    "        #4 + 1   >> 1\n",
    "print(z)\n"
   ]
  },
  {
   "cell_type": "code",
   "execution_count": 57,
   "id": "193cc2eb-32fc-41c3-9d1c-af60141d9aba",
   "metadata": {},
   "outputs": [
    {
     "name": "stdout",
     "output_type": "stream",
     "text": [
      "3\n"
     ]
    }
   ],
   "source": [
    " x= ~a + b - c & b | a\n",
    "  #-4 +4-7=-7    0|3\n",
    "print(x)"
   ]
  },
  {
   "cell_type": "code",
   "execution_count": 63,
   "id": "d360cb59-1018-4553-ac7a-e948f2d645cd",
   "metadata": {},
   "outputs": [
    {
     "name": "stdout",
     "output_type": "stream",
     "text": [
      "False\n"
     ]
    }
   ],
   "source": [
    " z= a > b < c and c == a * b // c\n",
    " #    f     t        f       12//7=1\n",
    "\n",
    "print(z)"
   ]
  },
  {
   "cell_type": "code",
   "execution_count": null,
   "id": "9afec779-cada-4195-ae4c-debd7670a0d3",
   "metadata": {},
   "outputs": [],
   "source": [
    "#Q2) Analyze the results of the following statements:\n",
    "Assume p = 12, q = 15, r = 10\n",
    "\n",
    "q1. output = p & q | r ^ p             =14\n",
    "q2. output = p + q << r - p & q        = negative shift count\n",
    "q3. output = q | p >> r and r          = 10\n",
    "Assume m = 5, n = 9, o = 3\n",
    "\n",
    "q1. output = m + ~n * o - n // o            =  -28\n",
    "q2. output = m << n & o | n ^ o             = 10\n",
    "q3. output = (m | n) and (o + n) or (m & o) = 12"
   ]
  },
  {
   "cell_type": "code",
   "execution_count": 127,
   "id": "3f4eed34-26c0-4935-81a4-f82845fabea0",
   "metadata": {},
   "outputs": [
    {
     "name": "stdout",
     "output_type": "stream",
     "text": [
      "14\n"
     ]
    }
   ],
   "source": [
    "p = 12\n",
    "q = 15\n",
    "r = 10\n",
    "\n",
    "a= p & q | r ^ p\n",
    "\n",
    "  #  12  15\n",
    "print(a)"
   ]
  },
  {
   "cell_type": "code",
   "execution_count": null,
   "id": "62f968ca-b066-424a-a4b8-7a9719ebce01",
   "metadata": {},
   "outputs": [],
   "source": []
  },
  {
   "cell_type": "code",
   "execution_count": 135,
   "id": "8907b6ce-dad7-4277-aab2-b79fcbcec479",
   "metadata": {},
   "outputs": [
    {
     "ename": "ValueError",
     "evalue": "negative shift count",
     "output_type": "error",
     "traceback": [
      "\u001b[1;31m---------------------------------------------------------------------------\u001b[0m",
      "\u001b[1;31mValueError\u001b[0m                                Traceback (most recent call last)",
      "Cell \u001b[1;32mIn[135], line 1\u001b[0m\n\u001b[1;32m----> 1\u001b[0m b\u001b[38;5;241m=\u001b[39m p \u001b[38;5;241m+\u001b[39m q \u001b[38;5;241m<<\u001b[39m r \u001b[38;5;241m-\u001b[39m p \u001b[38;5;241m&\u001b[39m q \n\u001b[0;32m      2\u001b[0m \u001b[38;5;28mprint\u001b[39m(b)\n",
      "\u001b[1;31mValueError\u001b[0m: negative shift count"
     ]
    }
   ],
   "source": [
    "b= p + q << r - p & q \n",
    "print(b)\n",
    "#print(27<<-2&15)"
   ]
  },
  {
   "cell_type": "code",
   "execution_count": 97,
   "id": "5a534e35-3fa7-40b4-83db-f568512eaf86",
   "metadata": {},
   "outputs": [
    {
     "name": "stdout",
     "output_type": "stream",
     "text": [
      "10\n"
     ]
    }
   ],
   "source": [
    "b= q | p >> r and r \n",
    "      15>>r\n",
    "print(b)"
   ]
  },
  {
   "cell_type": "code",
   "execution_count": 113,
   "id": "6f3a01ce-9aa3-43c7-85b0-dfab44a35876",
   "metadata": {},
   "outputs": [
    {
     "name": "stdout",
     "output_type": "stream",
     "text": [
      "-28\n"
     ]
    }
   ],
   "source": [
    "m = 5\n",
    "n = 9\n",
    "o = 3\n",
    "\n",
    "a= m + ~n * o - n // o \n",
    "  #   5+   -30  -      3\n",
    "print(a)"
   ]
  },
  {
   "cell_type": "code",
   "execution_count": 133,
   "id": "e9f80204-f0ff-48c4-be08-747b21adc33e",
   "metadata": {},
   "outputs": [
    {
     "name": "stdout",
     "output_type": "stream",
     "text": [
      "10\n"
     ]
    }
   ],
   "source": [
    " a= m << n & o | n ^ o \n",
    "  #    10      1  10\n",
    "print(a)"
   ]
  },
  {
   "cell_type": "code",
   "execution_count": 137,
   "id": "7ed43d1a-1034-415c-ad63-0a5f86e58928",
   "metadata": {},
   "outputs": [
    {
     "name": "stdout",
     "output_type": "stream",
     "text": [
      "12\n"
     ]
    }
   ],
   "source": [
    "b= (m | n) and (o + n) or (m & o)\n",
    "   #  5            12       1\n",
    "print(b)"
   ]
  },
  {
   "cell_type": "code",
   "execution_count": null,
   "id": "69c312b0-31de-4dd0-a8a5-369008147f88",
   "metadata": {},
   "outputs": [],
   "source": [
    "#Q3) Determine the results of the following:\n",
    "Assume a = 5, b = 3, c = 8\n",
    "\n",
    "q1. val = (a | b) and (c >> 1)       =4\n",
    "q2. val = (c ^ a) > b or not c       = true\n",
    "q3. val = a * (b + c) > c * (a - b)  = true\n",
    "Assume x = 14, y = 7, z = 2\n",
    "\n",
    "q1. val = x % z == y // z            = false\n",
    "q2. val = x // y | z * 3             = 6\n",
    "q3. val = x & y | z << 1             = 6"
   ]
  },
  {
   "cell_type": "code",
   "execution_count": 147,
   "id": "89875878-8904-45d1-be13-e1279b06ea48",
   "metadata": {},
   "outputs": [
    {
     "name": "stdout",
     "output_type": "stream",
     "text": [
      "4\n"
     ]
    }
   ],
   "source": [
    "a = 5\n",
    "b = 3\n",
    "c = 8\n",
    "\n",
    "b = (a | b) and (c >> 1)\n",
    "     # 5            4\n",
    "print(b)"
   ]
  },
  {
   "cell_type": "code",
   "execution_count": 165,
   "id": "5bcc7af0-b483-458a-a217-d74d6216bd8f",
   "metadata": {},
   "outputs": [
    {
     "name": "stdout",
     "output_type": "stream",
     "text": [
      "True\n"
     ]
    }
   ],
   "source": [
    "x= (c ^ a) > b or not c  \n",
    "  #  13    true\n",
    "print(x)"
   ]
  },
  {
   "cell_type": "code",
   "execution_count": 167,
   "id": "d72d605e-f8ad-4850-93fa-6c93be60c71e",
   "metadata": {},
   "outputs": [
    {
     "name": "stdout",
     "output_type": "stream",
     "text": [
      "True\n"
     ]
    }
   ],
   "source": [
    " z= a * (b + c) > c * (a - b) \n",
    "   #    11 =55           2\n",
    "print(z)"
   ]
  },
  {
   "cell_type": "code",
   "execution_count": 175,
   "id": "e4eccd6a-24fe-4a14-85c6-4f9f9821e3f8",
   "metadata": {},
   "outputs": [
    {
     "name": "stdout",
     "output_type": "stream",
     "text": [
      "False\n"
     ]
    }
   ],
   "source": [
    "x = 14\n",
    "y = 7\n",
    "z = 2\n",
    "\n",
    "b= x % z == y // z \n",
    "  #    0         3\n",
    "print(b)"
   ]
  },
  {
   "cell_type": "code",
   "execution_count": 177,
   "id": "4ec0b79e-dc5b-43ac-b682-343d7b3183e4",
   "metadata": {},
   "outputs": [
    {
     "name": "stdout",
     "output_type": "stream",
     "text": [
      "6\n"
     ]
    }
   ],
   "source": [
    "a= x // y | z * 3 \n",
    " #      2      3\n",
    "print(a)"
   ]
  },
  {
   "cell_type": "code",
   "execution_count": 183,
   "id": "a815961e-551e-4d48-8325-94ebcc684d1a",
   "metadata": {},
   "outputs": [
    {
     "name": "stdout",
     "output_type": "stream",
     "text": [
      "6\n"
     ]
    }
   ],
   "source": [
    "b= x & y | z << 1\n",
    "  # 6\n",
    "print(b)"
   ]
  },
  {
   "cell_type": "code",
   "execution_count": null,
   "id": "5bd430ce-7d86-4fee-a00a-92c9ac9d04e2",
   "metadata": {},
   "outputs": [],
   "source": [
    "#Q4) Predict the result of the following expressions:\n",
    "Assume a = 11, b = 2, c = 13\n",
    "\n",
    "q1. out = (a << b) + (c >> b)       = 47\n",
    "q2. out = a * c - b ** c // a       = -601\n",
    "q3. out = (a ^ c) & (b | c)         =  6\n",
    "Assume p = 16, q = 3, r = 9\n",
    "\n",
    "q1. result = p * (q | r) and p ^ r  = 25\n",
    "q2. result = ~p | q and r << 2      = 36\n",
    "q3. result = p // r & q | p % q     = 1"
   ]
  },
  {
   "cell_type": "code",
   "execution_count": 189,
   "id": "61d0bfbc-cca0-41dd-b8b9-9c6712cc95e8",
   "metadata": {},
   "outputs": [
    {
     "name": "stdout",
     "output_type": "stream",
     "text": [
      "47\n"
     ]
    }
   ],
   "source": [
    "a = 11\n",
    "b = 2\n",
    "c = 13\n",
    "\n",
    "x= (a << b) + (c >> b)\n",
    "  #   44   + 3\n",
    "print(x)"
   ]
  },
  {
   "cell_type": "code",
   "execution_count": 208,
   "id": "7e9918cd-a9df-47d2-9d4a-6be4c969f9c8",
   "metadata": {},
   "outputs": [
    {
     "name": "stdout",
     "output_type": "stream",
     "text": [
      "-601\n"
     ]
    }
   ],
   "source": [
    "y= a * c - b ** c // a \n",
    "   #  143 - 744\n",
    "print(y)"
   ]
  },
  {
   "cell_type": "code",
   "execution_count": 214,
   "id": "33374089-c6ca-4329-8b80-81eca962a5fd",
   "metadata": {},
   "outputs": [
    {
     "name": "stdout",
     "output_type": "stream",
     "text": [
      "6\n"
     ]
    }
   ],
   "source": [
    "z= (a ^ c) & (b | c)  \n",
    "   #  6        2\n",
    "print(z)"
   ]
  },
  {
   "cell_type": "code",
   "execution_count": 218,
   "id": "5faeeaa5-79ca-46e5-9d7d-a650335867d1",
   "metadata": {},
   "outputs": [
    {
     "name": "stdout",
     "output_type": "stream",
     "text": [
      "25\n"
     ]
    }
   ],
   "source": [
    "p = 16\n",
    "q = 3\n",
    "r = 9\n",
    "\n",
    "a= p * (q | r) and p ^ r\n",
    " #  48            25  \n",
    "print(a)"
   ]
  },
  {
   "cell_type": "code",
   "execution_count": 226,
   "id": "ee1e33dd-0891-44c7-a7ec-96f51eee00a1",
   "metadata": {},
   "outputs": [
    {
     "name": "stdout",
     "output_type": "stream",
     "text": [
      "36\n"
     ]
    }
   ],
   "source": [
    "b= ~p | q and r << 2\n",
    "  #  -17        36\n",
    "print(b)"
   ]
  },
  {
   "cell_type": "code",
   "execution_count": 234,
   "id": "6dad4efb-f81d-4f77-ada3-8bb5552bea87",
   "metadata": {},
   "outputs": [
    {
     "name": "stdout",
     "output_type": "stream",
     "text": [
      "1\n"
     ]
    }
   ],
   "source": [
    "c= p // r & q | p % q  \n",
    "print(1&3)"
   ]
  },
  {
   "cell_type": "code",
   "execution_count": null,
   "id": "ec8399bc-b0ba-4b13-bd95-18b86e8177b1",
   "metadata": {},
   "outputs": [],
   "source": [
    "#Q5) Evaluate the following expressions and determine the output:\n",
    "Assume x = 8, y = 4, z = 6\n",
    "\n",
    "q1. res = x and y or z and not y     = 4\n",
    "q2. res = x | z & y ^ x              = 4\n",
    "q3. res = x + y * z // x % y         = 11\n",
    "Assume m = 10, n = 5, o = 15\n",
    "\n",
    "q1. res = (m + n) * o // (n | m)    =15\n",
    "q2. res = o % m & n | m ^ o         = 5\n",
    "q3. res = (m >> 2) << (n ^ o)       = 2048"
   ]
  },
  {
   "cell_type": "code",
   "execution_count": 236,
   "id": "511ae1cc-baab-441f-8311-96eb8267bbc8",
   "metadata": {},
   "outputs": [
    {
     "name": "stdout",
     "output_type": "stream",
     "text": [
      "4\n"
     ]
    }
   ],
   "source": [
    "x = 8\n",
    "y = 4\n",
    "z = 6\n",
    "\n",
    "a= x and y or z and not y\n",
    "  #4\n",
    "print(a)"
   ]
  },
  {
   "cell_type": "code",
   "execution_count": 244,
   "id": "648fb329-8eb4-41ff-81db-2ecbfb651393",
   "metadata": {},
   "outputs": [
    {
     "name": "stdout",
     "output_type": "stream",
     "text": [
      "4\n"
     ]
    }
   ],
   "source": [
    "a= x | z & y ^ x\n",
    "#   \n",
    "print(z&y)"
   ]
  },
  {
   "cell_type": "code",
   "execution_count": 248,
   "id": "04504f3e-ea36-413b-b62c-1ee76198eb78",
   "metadata": {},
   "outputs": [
    {
     "name": "stdout",
     "output_type": "stream",
     "text": [
      "11\n"
     ]
    }
   ],
   "source": [
    "b= x + y * z // x % y\n",
    "#             8   3\n",
    "print(b)"
   ]
  },
  {
   "cell_type": "code",
   "execution_count": 256,
   "id": "259ba6f2-9bad-416f-b4e9-3dd96db7e651",
   "metadata": {},
   "outputs": [
    {
     "name": "stdout",
     "output_type": "stream",
     "text": [
      "15\n"
     ]
    }
   ],
   "source": [
    "m = 10\n",
    "n = 5\n",
    "o = 15\n",
    "\n",
    "a= (m + n) * o // (n | m)\n",
    "   #        225 // 15\n",
    "print(a)"
   ]
  },
  {
   "cell_type": "code",
   "execution_count": 262,
   "id": "15ae5aed-dd77-4b17-a952-2e2b3b2fc7d5",
   "metadata": {},
   "outputs": [
    {
     "name": "stdout",
     "output_type": "stream",
     "text": [
      "5\n"
     ]
    }
   ],
   "source": [
    "b= o % m & n | m ^ o\n",
    "\n",
    "print(b)"
   ]
  },
  {
   "cell_type": "code",
   "execution_count": 272,
   "id": "016d4d7f-8853-45b7-9d07-441e66483ee4",
   "metadata": {},
   "outputs": [
    {
     "name": "stdout",
     "output_type": "stream",
     "text": [
      "2048\n"
     ]
    }
   ],
   "source": [
    "c= (m >> 2) << (n ^ o)\n",
    "  #   2          10\n",
    "print(2<<10)"
   ]
  },
  {
   "cell_type": "code",
   "execution_count": null,
   "id": "1c04ffd4-6fc9-48fd-b7c6-f4118914bf65",
   "metadata": {},
   "outputs": [],
   "source": [
    "#Q6) Predict the result of the following expressions involving lists and operators:\n",
    "Assume lst = [2, 4, 6, 8, 10]\n",
    "\n",
    "q1. result = lst[2] * len(lst) - lst.count(4)     =29\n",
    "q2. result = lst[0] + lst[-1] // lst[1] * 2       = 6\n",
    "q3. result = lst[1:4][::-1] + lst[:2]             =[8, 6, 4, 2, 4]\n",
    "\n",
    "Assume a = [1, 3, 5], b = [2, 4, 6]\n",
    "\n",
    "q1. res = a * 2 + b * 3                          =[1, 3, 5, 1, 3, 5, 2, 4, 6, 2, 4, 6, 2, 4, 6]\n",
    "q2. res = a[-1] + b[-2] - len(a) * len(b)       =  0\n",
    "q3. res = a[1:] + b[:-1]                        = [3, 5, 2, 4]"
   ]
  },
  {
   "cell_type": "code",
   "execution_count": 274,
   "id": "895cd565-1846-4ebf-85b1-e6270435c66d",
   "metadata": {},
   "outputs": [
    {
     "name": "stdout",
     "output_type": "stream",
     "text": [
      "29\n"
     ]
    }
   ],
   "source": [
    "lst = [2, 4, 6, 8, 10]\n",
    "\n",
    "a= lst[2] * len(lst) - lst.count(4)\n",
    "       # 6*5         30-1\n",
    "print(a)"
   ]
  },
  {
   "cell_type": "code",
   "execution_count": 276,
   "id": "d78d95df-8b1d-4d9c-8265-2a4ec30114f7",
   "metadata": {},
   "outputs": [
    {
     "name": "stdout",
     "output_type": "stream",
     "text": [
      "6\n"
     ]
    }
   ],
   "source": [
    "b= lst[0] + lst[-1] // lst[1] * 2\n",
    "#     2                 8\n",
    "print(b)"
   ]
  },
  {
   "cell_type": "code",
   "execution_count": 286,
   "id": "0fdb0cf0-7e49-4e16-a8fb-4426e7d77779",
   "metadata": {},
   "outputs": [
    {
     "name": "stdout",
     "output_type": "stream",
     "text": [
      "[8, 6, 4, 2, 4]\n"
     ]
    }
   ],
   "source": [
    "c= lst[1:4][::-1] + lst[:2]\n",
    "\n",
    "print(c )"
   ]
  },
  {
   "cell_type": "code",
   "execution_count": 324,
   "id": "f421f512-2d41-4b52-92dc-2bb4cb433b16",
   "metadata": {},
   "outputs": [],
   "source": [
    "a = [1, 3, 5]\n",
    "b = [2, 4, 6]\n",
    "\n"
   ]
  },
  {
   "cell_type": "code",
   "execution_count": 326,
   "id": "2e5b5718-c703-4b0a-822e-b4eb558e2ec3",
   "metadata": {},
   "outputs": [
    {
     "name": "stdout",
     "output_type": "stream",
     "text": [
      "[1, 3, 5, 1, 3, 5, 2, 4, 6, 2, 4, 6, 2, 4, 6]\n"
     ]
    }
   ],
   "source": [
    "x= a * 2 + b * 3\n",
    "\n",
    "print(x)"
   ]
  },
  {
   "cell_type": "code",
   "execution_count": 328,
   "id": "364c1acd-801c-438c-8a2a-90529d0f3a99",
   "metadata": {},
   "outputs": [
    {
     "name": "stdout",
     "output_type": "stream",
     "text": [
      "0\n"
     ]
    }
   ],
   "source": [
    "y=a[-1] + b[-2] - len(a) * len(b)\n",
    "# 5 + 4 - 3 *3\n",
    "# 5 +  4 - 9\n",
    "# 9-9\n",
    "print(y)"
   ]
  },
  {
   "cell_type": "code",
   "execution_count": 330,
   "id": "3bf69890-ccb5-43ba-a45c-45844bf5fc1f",
   "metadata": {},
   "outputs": [
    {
     "name": "stdout",
     "output_type": "stream",
     "text": [
      "[3, 5, 2, 4]\n"
     ]
    }
   ],
   "source": [
    "z= a[1:] + b[:-1]\n",
    "print(z)"
   ]
  },
  {
   "cell_type": "code",
   "execution_count": null,
   "id": "46232614-87d0-4d41-bf03-1977d77b87b1",
   "metadata": {},
   "outputs": [],
   "source": [
    "Q7) Determine the outcome of the following tuple operations:\n",
    "Assume tup = (3, 6, 9, 12, 15)\n",
    "\n",
    "q1. output = tup[1] * tup[3] - tup[-1]    =57\n",
    "q2. output = tup[:3] + tup[3:]            = (3, 6, 9, 12, 15)\n",
    "q3. output = tup.index(9) * tup.count(3)  = 2\n",
    "Assume t1 = (7, 14), t2 = (21, 28, 35)\n",
    "\n",
    "q1. output = t1 + t2 * 2                   =(7, 14, 21, 28, 35, 21, 28, 35)\n",
    "q2. output = t2[1:] + t1[:1]               = (28, 35, 7)\n",
    "q3. output = (t1[0] + t2[2]) // len(t2)    = 14"
   ]
  },
  {
   "cell_type": "code",
   "execution_count": 312,
   "id": "0383eec1-aba4-41ff-88ff-7680aefe6f10",
   "metadata": {},
   "outputs": [
    {
     "name": "stdout",
     "output_type": "stream",
     "text": [
      "57\n"
     ]
    }
   ],
   "source": [
    "tup= (3, 6, 9, 12, 15)\n",
    "\n",
    "a= tup[1] * tup[3] - tup[-1]\n",
    "print(a)"
   ]
  },
  {
   "cell_type": "code",
   "execution_count": 314,
   "id": "08318730-59d3-4652-9b9b-fe572fc153c1",
   "metadata": {
    "scrolled": true
   },
   "outputs": [
    {
     "name": "stdout",
     "output_type": "stream",
     "text": [
      "(3, 6, 9, 12, 15)\n"
     ]
    }
   ],
   "source": [
    "a= tup[:3] + tup[3:]\n",
    "print(a)"
   ]
  },
  {
   "cell_type": "code",
   "execution_count": 316,
   "id": "a2d2a3ea-87a6-4205-a5cd-cbacf01097d8",
   "metadata": {},
   "outputs": [
    {
     "name": "stdout",
     "output_type": "stream",
     "text": [
      "2\n"
     ]
    }
   ],
   "source": [
    "b= tup.index(9) * tup.count(3)  \n",
    "print(b)"
   ]
  },
  {
   "cell_type": "code",
   "execution_count": 318,
   "id": "be7a21b6-0b16-4dce-8036-a9b1c06ae444",
   "metadata": {},
   "outputs": [
    {
     "name": "stdout",
     "output_type": "stream",
     "text": [
      "(7, 14, 21, 28, 35, 21, 28, 35)\n"
     ]
    }
   ],
   "source": [
    "t1 = (7, 14)\n",
    "t2 = (21, 28, 35)\n",
    "\n",
    "c= t1 + t2 * 2\n",
    "print(c)"
   ]
  },
  {
   "cell_type": "code",
   "execution_count": 320,
   "id": "062d1cdb-43db-417c-97ac-2d095357ca7b",
   "metadata": {},
   "outputs": [
    {
     "name": "stdout",
     "output_type": "stream",
     "text": [
      "(28, 35, 7)\n"
     ]
    }
   ],
   "source": [
    "d= t2[1:] + t1[:1]  \n",
    "print(d)"
   ]
  },
  {
   "cell_type": "code",
   "execution_count": 322,
   "id": "ccacdd69-b0fe-494c-9fdc-d9889fef6f16",
   "metadata": {},
   "outputs": [
    {
     "name": "stdout",
     "output_type": "stream",
     "text": [
      "14\n"
     ]
    }
   ],
   "source": [
    "f= (t1[0] + t2[2]) // len(t2) \n",
    "print(f)"
   ]
  },
  {
   "cell_type": "code",
   "execution_count": null,
   "id": "ba496686-2e2d-4d7f-b7c8-f4272095f0a3",
   "metadata": {},
   "outputs": [],
   "source": [
    "Q8) Analyze the following dictionary operations:\n",
    "Assume d = {'a': 1, 'b': 2, 'c': 3}\n",
    "\n",
    "q1. result = d['b'] * d.get('c') - d['a']                       = 5\n",
    "q2. result = len(d) + sum(d.values())                           = 9\n",
    "q3. result = d.keys() & d.values()                              = set()\n",
    "Assume dict1 = {'x': 10, 'y': 20}, dict2 = {'z': 30, 'y': 40}\n",
    "\n",
    "q1. res = dict1['x'] + dict2.get('z') * dict1['y']              = 610\n",
    "q2. res = dict1.keys() | dict2.keys()                           = {'y', 'z', 'x'}\n",
    "q3. res = dict1.items() & dict2.items()                         = set()"
   ]
  },
  {
   "cell_type": "code",
   "execution_count": 5,
   "id": "9d56a092-674b-420d-a000-cd94250c638a",
   "metadata": {},
   "outputs": [
    {
     "name": "stdout",
     "output_type": "stream",
     "text": [
      "5\n"
     ]
    }
   ],
   "source": [
    "d = {'a': 1, 'b': 2, 'c': 3}\n",
    "\n",
    "a= d['b'] * d.get('c') - d['a']\n",
    "       #2         3  =6   -   1\n",
    "print(a)"
   ]
  },
  {
   "cell_type": "code",
   "execution_count": 7,
   "id": "810be234-6b6d-4aa9-a720-7122260afdec",
   "metadata": {},
   "outputs": [
    {
     "name": "stdout",
     "output_type": "stream",
     "text": [
      "9\n"
     ]
    }
   ],
   "source": [
    "b= len(d) + sum(d.values())\n",
    "  #  3     +  6  =  9\n",
    "print(b)"
   ]
  },
  {
   "cell_type": "code",
   "execution_count": 11,
   "id": "d886c643-48f1-4555-91d3-bc9d3fad2148",
   "metadata": {},
   "outputs": [
    {
     "name": "stdout",
     "output_type": "stream",
     "text": [
      "set()\n"
     ]
    }
   ],
   "source": [
    "c= d.keys() & d.values()\n",
    "#     a,b,c & 1,2,3\n",
    "print(c)"
   ]
  },
  {
   "cell_type": "code",
   "execution_count": 13,
   "id": "fe60aa2e-8a99-4a6c-8024-f9db4a80ba52",
   "metadata": {},
   "outputs": [
    {
     "name": "stdout",
     "output_type": "stream",
     "text": [
      "610\n"
     ]
    }
   ],
   "source": [
    "dict1 = {'x': 10, 'y': 20}\n",
    "dict2 = {'z': 30, 'y': 40}\n",
    "\n",
    "a= dict1['x'] + dict2.get('z') * dict1['y']\n",
    "  #      10   +  30        *         20= 600+10\n",
    "print(a)"
   ]
  },
  {
   "cell_type": "code",
   "execution_count": 15,
   "id": "b8fa911a-5ae9-43c7-bcb2-51d97ed0fe1d",
   "metadata": {},
   "outputs": [
    {
     "name": "stdout",
     "output_type": "stream",
     "text": [
      "{'y', 'z', 'x'}\n"
     ]
    }
   ],
   "source": [
    "b= dict1.keys() | dict2.keys()\n",
    "   # x,y               z,y = x,y,z\n",
    "print(b)"
   ]
  },
  {
   "cell_type": "code",
   "execution_count": 17,
   "id": "009ffe4b-428d-4c7e-b799-7975ef5f02bd",
   "metadata": {},
   "outputs": [
    {
     "name": "stdout",
     "output_type": "stream",
     "text": [
      "set()\n"
     ]
    }
   ],
   "source": [
    "c= dict1.items() & dict2.items()\n",
    "  #  \n",
    "print(c)"
   ]
  },
  {
   "cell_type": "code",
   "execution_count": null,
   "id": "a88ecba8-2d2a-498f-a3f4-fbef2b5d2024",
   "metadata": {},
   "outputs": [],
   "source": [
    "#Q9) Evaluate the following set operations:\n",
    "Assume s1 = {1, 2, 3, 4}, s2 = {3, 4, 5, 6}\n",
    "\n",
    "q1. output = s1 | s2                        = {1, 2, 3, 4, 5, 6}\n",
    "q2. output = s1 & s2                        = {3, 4}\n",
    "q3. output = s1 - s2 | s2 - s1              = {1, 2, 5, 6}\n",
    "Assume a = {10, 20, 30}, b = {20, 40, 60}\n",
    "\n",
    "q1. res = a ^ b                             = {40, 10, 60, 30}\n",
    "q2. res = (a | b) & (a - b)                 = {10, 30}\n",
    "q3. res = len(a) * len(b) - sum(a & b)      = -11"
   ]
  },
  {
   "cell_type": "code",
   "execution_count": 33,
   "id": "12f3b057-1ef2-418c-b451-915d7969c3b8",
   "metadata": {
    "scrolled": true
   },
   "outputs": [
    {
     "name": "stdout",
     "output_type": "stream",
     "text": [
      "{1, 2, 3, 4, 5, 6}\n"
     ]
    }
   ],
   "source": [
    "s1 = {1, 2, 3, 4}\n",
    "s2 = {3, 4, 5, 6}\n",
    "\n",
    "print(s1 | s2)\n",
    " "
   ]
  },
  {
   "cell_type": "code",
   "execution_count": 67,
   "id": "bd47e86d-7bb9-473a-921d-e10e4d085587",
   "metadata": {},
   "outputs": [
    {
     "name": "stdout",
     "output_type": "stream",
     "text": [
      "{1, 2, 5, 6}\n"
     ]
    }
   ],
   "source": [
    "a= s1 - s2 | s2 - s1\n",
    " #   1,2   |  5,6\n",
    "print(a)"
   ]
  },
  {
   "cell_type": "code",
   "execution_count": 57,
   "id": "f667cf73-8aca-47ca-944f-e7639115dec6",
   "metadata": {},
   "outputs": [
    {
     "name": "stdout",
     "output_type": "stream",
     "text": [
      "{40, 10, 60, 30}\n"
     ]
    }
   ],
   "source": [
    "a = {10, 20, 30}\n",
    "b = {20, 40, 60}\n",
    "\n",
    "print( a ^ b)\n",
    "#       10,30,40,60"
   ]
  },
  {
   "cell_type": "code",
   "execution_count": 61,
   "id": "c9267f26-c2f0-4e8e-b87b-1b84ba72125d",
   "metadata": {},
   "outputs": [
    {
     "name": "stdout",
     "output_type": "stream",
     "text": [
      "{10, 30}\n"
     ]
    }
   ],
   "source": [
    "c= (a | b) & (a - b)\n",
    "print(c)"
   ]
  },
  {
   "cell_type": "code",
   "execution_count": 63,
   "id": "373f5e6d-f603-4cd3-8c44-4bbd24e7f433",
   "metadata": {},
   "outputs": [
    {
     "name": "stdout",
     "output_type": "stream",
     "text": [
      "-11\n"
     ]
    }
   ],
   "source": [
    "d= len(a) * len(b) - sum(a & b)\n",
    " #   3       3  =9-20\n",
    "print(d)"
   ]
  },
  {
   "cell_type": "code",
   "execution_count": 65,
   "id": "94c99a16-dc3d-4b4d-b6ef-4479b95d99e4",
   "metadata": {},
   "outputs": [
    {
     "name": "stdout",
     "output_type": "stream",
     "text": [
      "20\n"
     ]
    }
   ],
   "source": [
    "a=sum(a&b)\n",
    "print(a)"
   ]
  },
  {
   "cell_type": "code",
   "execution_count": null,
   "id": "13ee8e78-6606-436a-9b66-8fd0a847e662",
   "metadata": {},
   "outputs": [],
   "source": [
    "#Q10) Predict the result of combined operations on lists and dictionaries:\n",
    "Assume lst = [1, 2, 3, 4], d = {'a': 10, 'b': 20}\n",
    "\n",
    "q1. result = lst[1] * d['a'] + lst[-1] - d['b']           = 4\n",
    "q2. result = lst[0] + d.get('b', 0) * len(lst)            = 81\n",
    "q3. result = sum(lst) + d.get('a') - len(d)               = 18\n",
    "Assume d1 = {'key1': 5, 'key2': 10}, lst1 = [1, 5, 10]   \n",
    "\n",
    "q1. res = d1['key1'] * lst1[2] + d1['key2'] // lst1[0]    = 60\n",
    "q2. res = sum(d1.values()) + max(lst1) - min(lst1)        = 24\n",
    "q3. res = lst1.count(5) * len(d1) - d1['key2']            = -8"
   ]
  },
  {
   "cell_type": "code",
   "execution_count": 69,
   "id": "65b957a1-220e-466b-b382-caa545296e8d",
   "metadata": {},
   "outputs": [
    {
     "name": "stdout",
     "output_type": "stream",
     "text": [
      "4\n"
     ]
    }
   ],
   "source": [
    "lst = [1, 2, 3, 4]\n",
    "d = {'a': 10, 'b': 20}\n",
    "\n",
    "a= lst[1] * d['a'] + lst[-1] - d['b']\n",
    "  #  2     10  =20 +  4    -   20\n",
    "print(a)"
   ]
  },
  {
   "cell_type": "code",
   "execution_count": 79,
   "id": "6ffbbb96-f082-4c32-850f-d978077e21a6",
   "metadata": {},
   "outputs": [
    {
     "name": "stdout",
     "output_type": "stream",
     "text": [
      "81\n"
     ]
    }
   ],
   "source": [
    "b= lst[0] + d.get('b', 0) * len(lst)          \n",
    "#    1    + 20         *  4 =81\n",
    "print(b)"
   ]
  },
  {
   "cell_type": "code",
   "execution_count": 87,
   "id": "9dbc5c53-1d25-499d-842b-84c883300dcd",
   "metadata": {},
   "outputs": [
    {
     "name": "stdout",
     "output_type": "stream",
     "text": [
      "18\n"
     ]
    }
   ],
   "source": [
    "c= sum(lst) + d.get('a') - len(d)\n",
    "#     10           10          - 2\n",
    "print(c)"
   ]
  },
  {
   "cell_type": "code",
   "execution_count": 91,
   "id": "9fd33559-807e-4b66-a9de-c66ad0270a7d",
   "metadata": {},
   "outputs": [
    {
     "name": "stdout",
     "output_type": "stream",
     "text": [
      "60\n"
     ]
    }
   ],
   "source": [
    "d1 = {'key1': 5, 'key2': 10}\n",
    "lst1 = [1, 5, 10]\n",
    "\n",
    "a= d1['key1'] * lst1[2] + d1['key2'] // lst1[0]\n",
    "\n",
    "#      5  *     10     +    10  //1\n",
    "print(a)"
   ]
  },
  {
   "cell_type": "code",
   "execution_count": 95,
   "id": "2a0f1d81-a6ac-4689-835a-e4f5ad63b552",
   "metadata": {},
   "outputs": [
    {
     "name": "stdout",
     "output_type": "stream",
     "text": [
      "24\n"
     ]
    }
   ],
   "source": [
    "b= sum(d1.values()) + max(lst1) - min(lst1)\n",
    "\n",
    "#          15   +10   -  1\n",
    "print(b)"
   ]
  },
  {
   "cell_type": "code",
   "execution_count": 97,
   "id": "2cf2c1ea-5d83-4384-bee5-61dbfa2bd4d2",
   "metadata": {},
   "outputs": [
    {
     "name": "stdout",
     "output_type": "stream",
     "text": [
      "-8\n"
     ]
    }
   ],
   "source": [
    "c= lst1.count(5) * len(d1) - d1['key2']\n",
    "#       1        * 2       - 10\n",
    "print(c)"
   ]
  },
  {
   "cell_type": "code",
   "execution_count": null,
   "id": "9157bd1f-6e12-4c87-8856-88bf45f5b10a",
   "metadata": {},
   "outputs": [],
   "source": [
    "#Q11) Analyze the result of combining tuples, sets, and operators:\n",
    "Assume tup = (2, 4, 6, 8), st = {1, 3, 5, 7}\n",
    "\n",
    "q1. output = tup[1] * max(st) - tup[-1]      = 20\n",
    "q2. output = len(tup) + sum(st) // min(tup)  = 12\n",
    "q3. output = set(tup) & st                   = set()\n",
    "Assume t1 = (10, 20), s1 = {15, 25, 35}\n",
    "\n",
    "q1. res = t1[0] + len(s1) * max(t1)          = 70\n",
    "q2. res = sum(t1) + min(s1) - max(t1)        = 25\n",
    "q3. res = t1[1] * len(s1) - sum(s1)          = -15"
   ]
  },
  {
   "cell_type": "code",
   "execution_count": 101,
   "id": "b7eff90a-e015-4a74-8cfd-132ea709aec6",
   "metadata": {},
   "outputs": [
    {
     "name": "stdout",
     "output_type": "stream",
     "text": [
      "20\n"
     ]
    }
   ],
   "source": [
    "tup = (2, 4, 6, 8)\n",
    "st = {1, 3, 5, 7}\n",
    "\n",
    "a= tup[1] * max(st) - tup[-1]\n",
    " #    4   * 7       -  8\n",
    "print(a)"
   ]
  },
  {
   "cell_type": "code",
   "execution_count": 111,
   "id": "c0e1a626-89e3-4e34-be28-b48374071bf9",
   "metadata": {},
   "outputs": [
    {
     "name": "stdout",
     "output_type": "stream",
     "text": [
      "12\n"
     ]
    }
   ],
   "source": [
    "b= len(tup) + sum(st) // min(tup)\n",
    "\n",
    "#     4     +  16     // 2\n",
    "print(b)"
   ]
  },
  {
   "cell_type": "code",
   "execution_count": 113,
   "id": "066f7929-019f-4630-8c87-5c2acb4bc95d",
   "metadata": {},
   "outputs": [
    {
     "name": "stdout",
     "output_type": "stream",
     "text": [
      "set()\n"
     ]
    }
   ],
   "source": [
    "c= set(tup) & st\n",
    "print(c)"
   ]
  },
  {
   "cell_type": "code",
   "execution_count": 115,
   "id": "ca3ba2db-3455-44fe-89ef-d1fca294fab0",
   "metadata": {},
   "outputs": [
    {
     "name": "stdout",
     "output_type": "stream",
     "text": [
      "70\n"
     ]
    }
   ],
   "source": [
    "t1 = (10, 20)\n",
    "s1 = {15, 25, 35}\n",
    "\n",
    "a= t1[0] + len(s1) * max(t1)\n",
    "  #   10 + 3       * 20\n",
    "print(a)"
   ]
  },
  {
   "cell_type": "code",
   "execution_count": 119,
   "id": "8fa85f2f-f037-47dc-9a7c-d1d769886d1c",
   "metadata": {},
   "outputs": [
    {
     "name": "stdout",
     "output_type": "stream",
     "text": [
      "25\n"
     ]
    }
   ],
   "source": [
    "b= sum(t1) + min(s1) - max(t1)\n",
    "  #   30  +  15     - 20\n",
    "print(b)"
   ]
  },
  {
   "cell_type": "code",
   "execution_count": 123,
   "id": "c70da742-27f2-4c9c-b88d-703b92322a6b",
   "metadata": {},
   "outputs": [
    {
     "name": "stdout",
     "output_type": "stream",
     "text": [
      "-15\n"
     ]
    }
   ],
   "source": [
    "c= t1[1] * len(s1) - sum(s1)\n",
    "\n",
    "#     20 *   3  - 75\n",
    "print(c)"
   ]
  }
 ],
 "metadata": {
  "kernelspec": {
   "display_name": "Python 3 (ipykernel)",
   "language": "python",
   "name": "python3"
  },
  "language_info": {
   "codemirror_mode": {
    "name": "ipython",
    "version": 3
   },
   "file_extension": ".py",
   "mimetype": "text/x-python",
   "name": "python",
   "nbconvert_exporter": "python",
   "pygments_lexer": "ipython3",
   "version": "3.12.4"
  }
 },
 "nbformat": 4,
 "nbformat_minor": 5
}
