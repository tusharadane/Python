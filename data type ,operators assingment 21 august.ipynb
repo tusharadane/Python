{
 "cells": [
  {
   "cell_type": "code",
   "execution_count": null,
   "id": "d9e1f3b7-a404-40a3-960f-2b6034363099",
   "metadata": {},
   "outputs": [],
   "source": [
    "##Q1) What is a dictionary in Python, and how is it different from a list or tuple?\n",
    "\n",
    "##In Python, dictionaries are mutable data structures that allow you to store key-value pairs. Dictionary can be created using the dict() \n",
    "##constructor or curly braces' {}'. Once you have created a dictionary, you can add, remove, or update elements using the methods dict. update(),\n",
    "##dict. pop(), and dict.\n",
    "\n",
    "##list are mutable tuple are immutable\n",
    "##in list you can perform any list fuction in tuple only use index,differences ,dijoint,union  \n",
    "##in list syntax[] tuple{}"
   ]
  },
  {
   "cell_type": "code",
   "execution_count": null,
   "id": "cddc5399-812e-4943-b296-b98dfe7b6c3c",
   "metadata": {},
   "outputs": [],
   "source": [
    "##Q2) Can keys in a dictionary be of different data types, or do they have to be of the same data type?\n",
    "\n",
    "##In Python, dictionary keys can indeed be of different data types. You can use integers, strings, tuples, and more as keys in the same dictionary.\n",
    "##The only requirement is that the keys must be immutable,\n",
    "##meaning they cannot be changed after they are created"
   ]
  },
  {
   "cell_type": "code",
   "execution_count": null,
   "id": "41fed407-f4d2-4aed-9740-aa2a708e2d2e",
   "metadata": {},
   "outputs": [],
   "source": [
    "##Q3) Explain the difference between the keys(), values(), and items() methods of a dictionary.\n",
    "##A items Returns a view object that displays a list of all the key-value pairs\n",
    "##(items) in the dictionary as tuples\n",
    "##a value returns a view object that displays a list of all the values in the dictionary\n",
    "##a key Returns a view object that displays a list of all the keys in the dictionary."
   ]
  },
  {
   "cell_type": "code",
   "execution_count": null,
   "id": "e090bcde-6b3d-43ff-b736-3e26df3aedef",
   "metadata": {},
   "outputs": [],
   "source": [
    "##Q4) Create a dictionary called fruit_prices with the following key-value pairs:\n",
    "##\"apple\": 1.00\n",
    "##\"banana\": 0.75\n",
    "##\"cherry\": 2.50\n",
    "##\"date\": 1.50"
   ]
  },
  {
   "cell_type": "code",
   "execution_count": 1,
   "id": "4e29bf76-1a8a-461a-8e95-d7c27b2b461a",
   "metadata": {},
   "outputs": [
    {
     "name": "stdout",
     "output_type": "stream",
     "text": [
      "<class 'dict'> {'apple': 1.0, 'banana': 0.75, 'cherry': 2.5, 'date': 1.5}\n"
     ]
    }
   ],
   "source": [
    "fruit_price={\"apple\":1.00,\"banana\":0.75,\"cherry\":2.50,\"date\":1.50}\n",
    "\n",
    "print(type(fruit_price),fruit_price)"
   ]
  },
  {
   "cell_type": "code",
   "execution_count": 5,
   "id": "1ba225ef-0020-4d65-983a-941c928d4fe7",
   "metadata": {},
   "outputs": [
    {
     "data": {
      "text/plain": [
       "2.5"
      ]
     },
     "execution_count": 5,
     "metadata": {},
     "output_type": "execute_result"
    }
   ],
   "source": [
    "fruit_price.pop(\"cherry\")"
   ]
  },
  {
   "cell_type": "code",
   "execution_count": 7,
   "id": "0a61f7d1-c0e3-489a-8c46-87dac3671e82",
   "metadata": {},
   "outputs": [
    {
     "name": "stdout",
     "output_type": "stream",
     "text": [
      "{'apple': 1.0, 'banana': 0.75, 'date': 1.5}\n"
     ]
    }
   ],
   "source": [
    "print(fruit_price)"
   ]
  },
  {
   "cell_type": "code",
   "execution_count": null,
   "id": "14501f70-6add-4730-a196-5c2683853d45",
   "metadata": {},
   "outputs": [],
   "source": [
    "##Q5) Create a Python dictionary called `student_scores` with the following key-value pairs: \"John\" -> 85, \"Alice\" -> 90, \"Bob\" -> 75, \"Emma\" -> 95.\n",
    "##Perform the following operations:\n",
    "##- Add \"Mike\" with a score of 80 to the dictionary.\n",
    "##- Remove \"Bob\" from the dictionary.\n",
    "##- Print the score of \"Alice\".\n",
    "##- Print the dictionary keys"
   ]
  },
  {
   "cell_type": "code",
   "execution_count": 11,
   "id": "6a6af4bb-f07d-438a-b5fb-e149956746d6",
   "metadata": {},
   "outputs": [
    {
     "name": "stdout",
     "output_type": "stream",
     "text": [
      "{'John': 85, 'Alice': 90, 'Bob': 75, 'Emma': 95}\n"
     ]
    }
   ],
   "source": [
    "student_scores={\"John\" :85, \"Alice\" : 90, \"Bob\" : 75, \"Emma\" : 95}\n",
    "\n",
    "print(student_scores)"
   ]
  },
  {
   "cell_type": "code",
   "execution_count": 25,
   "id": "c634c9ca-97ac-4ca4-9565-a7dbc0d9ca70",
   "metadata": {},
   "outputs": [],
   "source": [
    "student_scores.update({\"mike\":80})"
   ]
  },
  {
   "cell_type": "code",
   "execution_count": 31,
   "id": "30f16ec8-ddb9-4fc0-b1ef-77d97805ae24",
   "metadata": {},
   "outputs": [
    {
     "name": "stdout",
     "output_type": "stream",
     "text": [
      "{'John': 85, 'Alice': 90, 'Emma': 95, 'mike': 80}\n"
     ]
    }
   ],
   "source": [
    "student_scores.pop(\"Bob\")\n",
    "print(student_scores)"
   ]
  },
  {
   "cell_type": "code",
   "execution_count": 35,
   "id": "27ccf35b-37e1-4740-839f-0626becc819a",
   "metadata": {},
   "outputs": [
    {
     "data": {
      "text/plain": [
       "90"
      ]
     },
     "execution_count": 35,
     "metadata": {},
     "output_type": "execute_result"
    }
   ],
   "source": [
    "student_scores[\"Alice\"]"
   ]
  },
  {
   "cell_type": "code",
   "execution_count": 37,
   "id": "4bff19af-bfb3-4946-ba29-d4f30d0abde9",
   "metadata": {},
   "outputs": [
    {
     "data": {
      "text/plain": [
       "dict_keys(['John', 'Alice', 'Emma', 'mike'])"
      ]
     },
     "execution_count": 37,
     "metadata": {},
     "output_type": "execute_result"
    }
   ],
   "source": [
    "student_scores.keys()"
   ]
  },
  {
   "cell_type": "code",
   "execution_count": null,
   "id": "7b55dce7-bd5f-4dbb-a2f6-ec3d44eb07d9",
   "metadata": {},
   "outputs": [],
   "source": [
    "##Q6) Create two dictionaries:\n",
    "##- `dict1 = {\"A\": 1, \"B\": 2, \"C\": 3}`\n",
    "##- `dict2 = {\"D\": 4, \"E\": 5}`\n",
    "##Perform the following operations:\n",
    "##- Merge `dict2` into `dict1`.\n",
    "##- Remove the key \"B\" from `dict1`.\n",
    "##- Print both dictionaries."
   ]
  },
  {
   "cell_type": "code",
   "execution_count": 41,
   "id": "adc2626c-4013-4991-861b-da081cbf7f85",
   "metadata": {},
   "outputs": [
    {
     "name": "stdout",
     "output_type": "stream",
     "text": [
      "<class 'dict'> {'A': 1, 'B': 2, 'C': 3} {'D': 4, 'E': 5}\n"
     ]
    }
   ],
   "source": [
    "a={\"A\": 1, \"B\": 2, \"C\": 3}\n",
    "\n",
    "b={\"D\": 4, \"E\": 5}\n",
    "\n",
    "print(type(a),a,b)"
   ]
  },
  {
   "cell_type": "code",
   "execution_count": 65,
   "id": "a241f77d-08a8-488b-a1e2-d5bdc7333b87",
   "metadata": {},
   "outputs": [],
   "source": [
    "a.update(b)"
   ]
  },
  {
   "cell_type": "code",
   "execution_count": 73,
   "id": "5e2cca59-ec43-4abc-a219-34c11d9fe312",
   "metadata": {},
   "outputs": [
    {
     "name": "stdout",
     "output_type": "stream",
     "text": [
      "{'A': 1, 'C': 3, 'D': 4, 'E': 5} {'D': 4, 'E': 5}\n"
     ]
    }
   ],
   "source": [
    "print(a,b)"
   ]
  },
  {
   "cell_type": "code",
   "execution_count": 71,
   "id": "8930c0b4-7b78-48d0-8230-356d9a0cc73c",
   "metadata": {},
   "outputs": [
    {
     "data": {
      "text/plain": [
       "2"
      ]
     },
     "execution_count": 71,
     "metadata": {},
     "output_type": "execute_result"
    }
   ],
   "source": [
    "a.pop(\"B\")"
   ]
  },
  {
   "cell_type": "code",
   "execution_count": 83,
   "id": "120c27fa-d34b-48bd-a455-6ab64bc16a47",
   "metadata": {},
   "outputs": [
    {
     "name": "stdout",
     "output_type": "stream",
     "text": [
      "True\n",
      "True\n",
      "False\n",
      "True\n"
     ]
    }
   ],
   "source": [
    "##Q7) Given three variables a, b, and c, evaluate the following expression and determine if it is True or False:\n",
    "a = 5\n",
    "b = 10\n",
    "c = 3\n",
    "\n",
    "print(a + b > c) and (b - c < a) and (a * c > b)\n",
    "\n",
    "print(a+b>c) \n",
    "print(b-c<a)\n",
    "print(a*c>b)"
   ]
  },
  {
   "cell_type": "code",
   "execution_count": 85,
   "id": "c50bfe2a-bda3-4e7b-a360-97ea2392b2e1",
   "metadata": {},
   "outputs": [
    {
     "name": "stdout",
     "output_type": "stream",
     "text": [
      "True\n"
     ]
    }
   ],
   "source": [
    "print(a + b > c) and (b - c < a) and (a * c > b)"
   ]
  },
  {
   "cell_type": "code",
   "execution_count": 87,
   "id": "724b983e-73bc-4073-b0c7-2921c73b4430",
   "metadata": {},
   "outputs": [
    {
     "name": "stdout",
     "output_type": "stream",
     "text": [
      "True\n"
     ]
    },
    {
     "data": {
      "text/plain": [
       "True"
      ]
     },
     "execution_count": 87,
     "metadata": {},
     "output_type": "execute_result"
    }
   ],
   "source": [
    "##Q8) Given three variables x, y, and z, evaluate the following expression and determine if it is True or False:\n",
    "x = 8\n",
    "y = 4\n",
    "z = 2\n",
    "result = (x / z == y) or (x - y < z) or (y * z == x)\n",
    "\n",
    "print(x / z == y) or (x - y < z) or (y * z == x)"
   ]
  },
  {
   "cell_type": "code",
   "execution_count": 89,
   "id": "7353d814-6a6e-4261-9ed1-bad02f1ef285",
   "metadata": {},
   "outputs": [
    {
     "name": "stdout",
     "output_type": "stream",
     "text": [
      "False\n"
     ]
    }
   ],
   "source": [
    "##Q9) Given three variables p, q, and r, evaluate the following expression and determine if it is True or False:\n",
    "p = 7\n",
    "q = 5\n",
    "r = 2\n",
    "result = not (p - q <= r) and (q + r == p) and not (r * p < q)\n",
    "\n",
    "print(not (p - q <= r) and (q + r == p) and not (r * p < q))"
   ]
  },
  {
   "cell_type": "code",
   "execution_count": 91,
   "id": "813373f8-c5d6-4832-b36e-9dc1400ee714",
   "metadata": {},
   "outputs": [
    {
     "name": "stdout",
     "output_type": "stream",
     "text": [
      "True\n"
     ]
    }
   ],
   "source": [
    "print(p-q<=r)"
   ]
  },
  {
   "cell_type": "code",
   "execution_count": 95,
   "id": "00b207ff-a58c-4f3b-9c77-7dcf43770dad",
   "metadata": {},
   "outputs": [
    {
     "name": "stdout",
     "output_type": "stream",
     "text": [
      "True\n"
     ]
    },
    {
     "data": {
      "text/plain": [
       "False"
      ]
     },
     "execution_count": 95,
     "metadata": {},
     "output_type": "execute_result"
    }
   ],
   "source": [
    "##Q10) Given three variables a, b, and c, evaluate the following expression and determine if it is True or False:\n",
    "a = 9\n",
    "b = 3\n",
    "c = 6\n",
    "result = (a % b == 0) and (b + c == a) or not (a / c < b)\n",
    "\n",
    "print (a % b == 0) and (b + c == a) or not (a / c < b)"
   ]
  },
  {
   "cell_type": "code",
   "execution_count": 101,
   "id": "9ba3322e-0d05-4592-ab36-ae12ae45fd0d",
   "metadata": {},
   "outputs": [
    {
     "name": "stdout",
     "output_type": "stream",
     "text": [
      "1.5\n"
     ]
    }
   ],
   "source": [
    "print(a / c )"
   ]
  },
  {
   "cell_type": "code",
   "execution_count": 93,
   "id": "9f2a6f37-5004-416a-9caf-bd6925af8b6b",
   "metadata": {},
   "outputs": [
    {
     "name": "stdout",
     "output_type": "stream",
     "text": [
      "False\n"
     ]
    }
   ],
   "source": [
    "print(a%b==0)"
   ]
  },
  {
   "cell_type": "code",
   "execution_count": 107,
   "id": "bdf79b57-c535-4d84-b8d3-5c055ce50299",
   "metadata": {},
   "outputs": [
    {
     "name": "stdout",
     "output_type": "stream",
     "text": [
      "True\n"
     ]
    }
   ],
   "source": [
    "##Q11) Given three variables m, n, and o, evaluate the following expression and determine if it is True or False:\n",
    "m = 12\n",
    "n = 4\n",
    "o = 6\n",
    "\n",
    "print((m >= n) or (n <= o)) and not (o == m)"
   ]
  },
  {
   "cell_type": "code",
   "execution_count": 113,
   "id": "66bcc1b7-9cfe-4cae-a4fc-8ef3eb254b03",
   "metadata": {},
   "outputs": [
    {
     "name": "stdout",
     "output_type": "stream",
     "text": [
      "True\n"
     ]
    },
    {
     "data": {
      "text/plain": [
       "True"
      ]
     },
     "execution_count": 113,
     "metadata": {},
     "output_type": "execute_result"
    }
   ],
   "source": [
    "##Q12) Given three variables m, n, and o, evaluate the following expression and determine if it is True or False:\n",
    "m = 10\n",
    "n = 2\n",
    "o = 5\n",
    "\n",
    "print(m % n == 0) and ((n + o) == m // 2) or not (m < o)"
   ]
  },
  {
   "cell_type": "code",
   "execution_count": 111,
   "id": "f35c5fb9-5cd9-42a0-9f72-35d2f521ec4d",
   "metadata": {},
   "outputs": [
    {
     "name": "stdout",
     "output_type": "stream",
     "text": [
      "6\n"
     ]
    }
   ],
   "source": [
    "print(m//2)"
   ]
  }
 ],
 "metadata": {
  "kernelspec": {
   "display_name": "Python 3 (ipykernel)",
   "language": "python",
   "name": "python3"
  },
  "language_info": {
   "codemirror_mode": {
    "name": "ipython",
    "version": 3
   },
   "file_extension": ".py",
   "mimetype": "text/x-python",
   "name": "python",
   "nbconvert_exporter": "python",
   "pygments_lexer": "ipython3",
   "version": "3.12.4"
  }
 },
 "nbformat": 4,
 "nbformat_minor": 5
}
