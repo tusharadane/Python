{
 "cells": [
  {
   "cell_type": "markdown",
   "id": "801466d9",
   "metadata": {},
   "source": [
    "# Function in Python"
   ]
  },
  {
   "cell_type": "markdown",
   "id": "4bbd1637",
   "metadata": {},
   "source": [
    "# Limitations if you don't have functions:\n",
    "\n",
    "Application Takes More Memory Space:\n",
    "\n",
    "Without functions, you might end up duplicating code. Each repeated block of code takes up additional memory space. This increases the overall memory footprint of the application.\n",
    "\n",
    "Redundancy (Duplication/Repetition):\n",
    "\n",
    "Code redundancy occurs when the same logic is written multiple times. Duplication increases the chances of errors and makes code maintenance difficult. Without functions, redundancy is common as code segments are copied instead of being reused.\n",
    "\n",
    "Application Execution Will Take More Time:\n",
    "\n",
    "Executing repetitive code segments increases the time taken to run the application. Without functions, the same logic needs to be executed repeatedly, leading to slower performance. Longer execution times can impact the responsiveness of the application.\n",
    "\n",
    "Application Performance Will Be Reduced:\n",
    "\n",
    "Increased memory usage and longer execution times directly impact application performance. More memory consumption and slower execution lead to decreased overall efficiency. Without functions, the application may struggle to meet performance requirements."
   ]
  },
  {
   "cell_type": "markdown",
   "id": "088dd99f",
   "metadata": {},
   "source": [
    "# Benefits if functions are present in the language:\n",
    "Optimized Memory Usage:\n",
    "\n",
    "Functions allow for modularization and code reuse. By defining logic once and calling it multiple times, memory usage is optimized. Functions reduce redundancy, leading to a smaller memory footprint.\n",
    "\n",
    "Elimination of Redundancy:\n",
    "\n",
    "Functions promote code reuse, reducing duplication. Reusable code segments are encapsulated within functions, eliminating redundancy. This simplifies code maintenance and reduces the chances of errors.\n",
    "\n",
    "Faster Application Execution:\n",
    "\n",
    "Functions enable the encapsulation of logic into reusable blocks. Calling functions instead of repeating code segments reduces execution time. Optimized execution leads to faster application performance.\n",
    "\n",
    "Improved Application Performance:\n",
    "\n",
    "With optimized memory usage and faster execution times, overall application performance improves. Functions enhance code organization and readability, leading to better maintainability and scalability. Improved performance enhances the user experience and ensures better responsiveness of the application."
   ]
  },
  {
   "cell_type": "markdown",
   "id": "fc56613d",
   "metadata": {},
   "source": [
    "A function is a reusable block of code that performs a specific task or set of tasks. Functions are a fundamental concept in programming and are used to organize code, make it more modular, and enable code reusability.\n",
    "\n",
    "Reusable: You can use the same sandwich recipe to make sandwiches whenever you want. You don't have to rewrite the recipe each time.\n",
    "\n",
    "Organized: Functions help keep your code neat and organized, just like keeping your recipes in a recipe book.\n",
    "\n",
    "Modular: You can have different recipes for different dishes (functions for different tasks) and use them together to create a complete meal (program).\n",
    "\n",
    "Code Reusability: Functions make it easy to use the same set of instructions (code) in different parts of your program, saving you time and effort."
   ]
  },
  {
   "cell_type": "markdown",
   "id": "91a57c92",
   "metadata": {},
   "source": [
    "pre defined function\n",
    "\n",
    "user define function"
   ]
  },
  {
   "cell_type": "markdown",
   "id": "a6623f68",
   "metadata": {},
   "source": [
    "# pre defined function"
   ]
  },
  {
   "cell_type": "code",
   "execution_count": 4,
   "id": "efeff553",
   "metadata": {},
   "outputs": [
    {
     "data": {
      "text/plain": [
       "['ArithmeticError',\n",
       " 'AssertionError',\n",
       " 'AttributeError',\n",
       " 'BaseException',\n",
       " 'BlockingIOError',\n",
       " 'BrokenPipeError',\n",
       " 'BufferError',\n",
       " 'BytesWarning',\n",
       " 'ChildProcessError',\n",
       " 'ConnectionAbortedError',\n",
       " 'ConnectionError',\n",
       " 'ConnectionRefusedError',\n",
       " 'ConnectionResetError',\n",
       " 'DeprecationWarning',\n",
       " 'EOFError',\n",
       " 'Ellipsis',\n",
       " 'EncodingWarning',\n",
       " 'EnvironmentError',\n",
       " 'Exception',\n",
       " 'False',\n",
       " 'FileExistsError',\n",
       " 'FileNotFoundError',\n",
       " 'FloatingPointError',\n",
       " 'FutureWarning',\n",
       " 'GeneratorExit',\n",
       " 'IOError',\n",
       " 'ImportError',\n",
       " 'ImportWarning',\n",
       " 'IndentationError',\n",
       " 'IndexError',\n",
       " 'InterruptedError',\n",
       " 'IsADirectoryError',\n",
       " 'KeyError',\n",
       " 'KeyboardInterrupt',\n",
       " 'LookupError',\n",
       " 'MemoryError',\n",
       " 'ModuleNotFoundError',\n",
       " 'NameError',\n",
       " 'None',\n",
       " 'NotADirectoryError',\n",
       " 'NotImplemented',\n",
       " 'NotImplementedError',\n",
       " 'OSError',\n",
       " 'OverflowError',\n",
       " 'PendingDeprecationWarning',\n",
       " 'PermissionError',\n",
       " 'ProcessLookupError',\n",
       " 'RecursionError',\n",
       " 'ReferenceError',\n",
       " 'ResourceWarning',\n",
       " 'RuntimeError',\n",
       " 'RuntimeWarning',\n",
       " 'StopAsyncIteration',\n",
       " 'StopIteration',\n",
       " 'SyntaxError',\n",
       " 'SyntaxWarning',\n",
       " 'SystemError',\n",
       " 'SystemExit',\n",
       " 'TabError',\n",
       " 'TimeoutError',\n",
       " 'True',\n",
       " 'TypeError',\n",
       " 'UnboundLocalError',\n",
       " 'UnicodeDecodeError',\n",
       " 'UnicodeEncodeError',\n",
       " 'UnicodeError',\n",
       " 'UnicodeTranslateError',\n",
       " 'UnicodeWarning',\n",
       " 'UserWarning',\n",
       " 'ValueError',\n",
       " 'Warning',\n",
       " 'WindowsError',\n",
       " 'ZeroDivisionError',\n",
       " '__IPYTHON__',\n",
       " '__build_class__',\n",
       " '__debug__',\n",
       " '__doc__',\n",
       " '__import__',\n",
       " '__loader__',\n",
       " '__name__',\n",
       " '__package__',\n",
       " '__spec__',\n",
       " 'abs',\n",
       " 'aiter',\n",
       " 'all',\n",
       " 'anext',\n",
       " 'any',\n",
       " 'ascii',\n",
       " 'bin',\n",
       " 'bool',\n",
       " 'breakpoint',\n",
       " 'bytearray',\n",
       " 'bytes',\n",
       " 'callable',\n",
       " 'chr',\n",
       " 'classmethod',\n",
       " 'compile',\n",
       " 'complex',\n",
       " 'copyright',\n",
       " 'credits',\n",
       " 'delattr',\n",
       " 'dict',\n",
       " 'dir',\n",
       " 'display',\n",
       " 'divmod',\n",
       " 'enumerate',\n",
       " 'eval',\n",
       " 'exec',\n",
       " 'execfile',\n",
       " 'filter',\n",
       " 'float',\n",
       " 'format',\n",
       " 'frozenset',\n",
       " 'get_ipython',\n",
       " 'getattr',\n",
       " 'globals',\n",
       " 'hasattr',\n",
       " 'hash',\n",
       " 'help',\n",
       " 'hex',\n",
       " 'id',\n",
       " 'input',\n",
       " 'int',\n",
       " 'isinstance',\n",
       " 'issubclass',\n",
       " 'iter',\n",
       " 'len',\n",
       " 'license',\n",
       " 'list',\n",
       " 'locals',\n",
       " 'map',\n",
       " 'max',\n",
       " 'memoryview',\n",
       " 'min',\n",
       " 'next',\n",
       " 'object',\n",
       " 'oct',\n",
       " 'open',\n",
       " 'ord',\n",
       " 'pow',\n",
       " 'print',\n",
       " 'property',\n",
       " 'range',\n",
       " 'repr',\n",
       " 'reversed',\n",
       " 'round',\n",
       " 'runfile',\n",
       " 'set',\n",
       " 'setattr',\n",
       " 'slice',\n",
       " 'sorted',\n",
       " 'staticmethod',\n",
       " 'str',\n",
       " 'sum',\n",
       " 'super',\n",
       " 'tuple',\n",
       " 'type',\n",
       " 'vars',\n",
       " 'zip']"
      ]
     },
     "execution_count": 4,
     "metadata": {},
     "output_type": "execute_result"
    }
   ],
   "source": [
    "dir(__builtin__)"
   ]
  },
  {
   "cell_type": "code",
   "execution_count": 2,
   "id": "fb27233d",
   "metadata": {},
   "outputs": [
    {
     "data": {
      "text/plain": [
       "24"
      ]
     },
     "execution_count": 2,
     "metadata": {},
     "output_type": "execute_result"
    }
   ],
   "source": [
    "int(24.63)"
   ]
  },
  {
   "cell_type": "code",
   "execution_count": 3,
   "id": "91f3b144",
   "metadata": {},
   "outputs": [
    {
     "name": "stdout",
     "output_type": "stream",
     "text": [
      "Python Programming\n"
     ]
    }
   ],
   "source": [
    "print(\"Python Programming\")"
   ]
  },
  {
   "cell_type": "code",
   "execution_count": 5,
   "id": "f34be145",
   "metadata": {
    "scrolled": true
   },
   "outputs": [
    {
     "name": "stdout",
     "output_type": "stream",
     "text": [
      "34\n"
     ]
    }
   ],
   "source": [
    "print(abs(-34))"
   ]
  },
  {
   "cell_type": "code",
   "execution_count": 7,
   "id": "1652009f",
   "metadata": {},
   "outputs": [
    {
     "name": "stdout",
     "output_type": "stream",
     "text": [
      "(4, 3)\n"
     ]
    }
   ],
   "source": [
    "print(divmod(19,4))"
   ]
  },
  {
   "cell_type": "code",
   "execution_count": 8,
   "id": "92dda87c",
   "metadata": {},
   "outputs": [
    {
     "name": "stdout",
     "output_type": "stream",
     "text": [
      "(0, 1)\n",
      "(1, 2)\n",
      "(2, 3)\n",
      "(3, 4)\n",
      "(4, 5)\n",
      "(5, 6)\n",
      "(6, 7)\n",
      "(7, 8)\n",
      "(8, 9)\n",
      "(9, 10)\n"
     ]
    }
   ],
   "source": [
    "a=[1,2,3,4,5,6,7,8,9,10]\n",
    "\n",
    "for i in enumerate(a):\n",
    "    print(i)"
   ]
  },
  {
   "cell_type": "code",
   "execution_count": 9,
   "id": "34fd3897",
   "metadata": {},
   "outputs": [
    {
     "name": "stdout",
     "output_type": "stream",
     "text": [
      "Help on class list in module builtins:\n",
      "\n",
      "class list(object)\n",
      " |  list(iterable=(), /)\n",
      " |  \n",
      " |  Built-in mutable sequence.\n",
      " |  \n",
      " |  If no argument is given, the constructor creates a new empty list.\n",
      " |  The argument must be an iterable if specified.\n",
      " |  \n",
      " |  Methods defined here:\n",
      " |  \n",
      " |  __add__(self, value, /)\n",
      " |      Return self+value.\n",
      " |  \n",
      " |  __contains__(self, key, /)\n",
      " |      Return key in self.\n",
      " |  \n",
      " |  __delitem__(self, key, /)\n",
      " |      Delete self[key].\n",
      " |  \n",
      " |  __eq__(self, value, /)\n",
      " |      Return self==value.\n",
      " |  \n",
      " |  __ge__(self, value, /)\n",
      " |      Return self>=value.\n",
      " |  \n",
      " |  __getattribute__(self, name, /)\n",
      " |      Return getattr(self, name).\n",
      " |  \n",
      " |  __getitem__(...)\n",
      " |      x.__getitem__(y) <==> x[y]\n",
      " |  \n",
      " |  __gt__(self, value, /)\n",
      " |      Return self>value.\n",
      " |  \n",
      " |  __iadd__(self, value, /)\n",
      " |      Implement self+=value.\n",
      " |  \n",
      " |  __imul__(self, value, /)\n",
      " |      Implement self*=value.\n",
      " |  \n",
      " |  __init__(self, /, *args, **kwargs)\n",
      " |      Initialize self.  See help(type(self)) for accurate signature.\n",
      " |  \n",
      " |  __iter__(self, /)\n",
      " |      Implement iter(self).\n",
      " |  \n",
      " |  __le__(self, value, /)\n",
      " |      Return self<=value.\n",
      " |  \n",
      " |  __len__(self, /)\n",
      " |      Return len(self).\n",
      " |  \n",
      " |  __lt__(self, value, /)\n",
      " |      Return self<value.\n",
      " |  \n",
      " |  __mul__(self, value, /)\n",
      " |      Return self*value.\n",
      " |  \n",
      " |  __ne__(self, value, /)\n",
      " |      Return self!=value.\n",
      " |  \n",
      " |  __repr__(self, /)\n",
      " |      Return repr(self).\n",
      " |  \n",
      " |  __reversed__(self, /)\n",
      " |      Return a reverse iterator over the list.\n",
      " |  \n",
      " |  __rmul__(self, value, /)\n",
      " |      Return value*self.\n",
      " |  \n",
      " |  __setitem__(self, key, value, /)\n",
      " |      Set self[key] to value.\n",
      " |  \n",
      " |  __sizeof__(self, /)\n",
      " |      Return the size of the list in memory, in bytes.\n",
      " |  \n",
      " |  append(self, object, /)\n",
      " |      Append object to the end of the list.\n",
      " |  \n",
      " |  clear(self, /)\n",
      " |      Remove all items from list.\n",
      " |  \n",
      " |  copy(self, /)\n",
      " |      Return a shallow copy of the list.\n",
      " |  \n",
      " |  count(self, value, /)\n",
      " |      Return number of occurrences of value.\n",
      " |  \n",
      " |  extend(self, iterable, /)\n",
      " |      Extend list by appending elements from the iterable.\n",
      " |  \n",
      " |  index(self, value, start=0, stop=9223372036854775807, /)\n",
      " |      Return first index of value.\n",
      " |      \n",
      " |      Raises ValueError if the value is not present.\n",
      " |  \n",
      " |  insert(self, index, object, /)\n",
      " |      Insert object before index.\n",
      " |  \n",
      " |  pop(self, index=-1, /)\n",
      " |      Remove and return item at index (default last).\n",
      " |      \n",
      " |      Raises IndexError if list is empty or index is out of range.\n",
      " |  \n",
      " |  remove(self, value, /)\n",
      " |      Remove first occurrence of value.\n",
      " |      \n",
      " |      Raises ValueError if the value is not present.\n",
      " |  \n",
      " |  reverse(self, /)\n",
      " |      Reverse *IN PLACE*.\n",
      " |  \n",
      " |  sort(self, /, *, key=None, reverse=False)\n",
      " |      Sort the list in ascending order and return None.\n",
      " |      \n",
      " |      The sort is in-place (i.e. the list itself is modified) and stable (i.e. the\n",
      " |      order of two equal elements is maintained).\n",
      " |      \n",
      " |      If a key function is given, apply it once to each list item and sort them,\n",
      " |      ascending or descending, according to their function values.\n",
      " |      \n",
      " |      The reverse flag can be set to sort in descending order.\n",
      " |  \n",
      " |  ----------------------------------------------------------------------\n",
      " |  Class methods defined here:\n",
      " |  \n",
      " |  __class_getitem__(...) from builtins.type\n",
      " |      See PEP 585\n",
      " |  \n",
      " |  ----------------------------------------------------------------------\n",
      " |  Static methods defined here:\n",
      " |  \n",
      " |  __new__(*args, **kwargs) from builtins.type\n",
      " |      Create and return a new object.  See help(type) for accurate signature.\n",
      " |  \n",
      " |  ----------------------------------------------------------------------\n",
      " |  Data and other attributes defined here:\n",
      " |  \n",
      " |  __hash__ = None\n",
      "\n"
     ]
    }
   ],
   "source": [
    "help(list)"
   ]
  },
  {
   "cell_type": "code",
   "execution_count": 10,
   "id": "12b6a7ac",
   "metadata": {},
   "outputs": [
    {
     "data": {
      "text/plain": [
       "16"
      ]
     },
     "execution_count": 10,
     "metadata": {},
     "output_type": "execute_result"
    }
   ],
   "source": [
    "pow(2,4)"
   ]
  },
  {
   "cell_type": "code",
   "execution_count": 11,
   "id": "60415b0f",
   "metadata": {},
   "outputs": [
    {
     "data": {
      "text/plain": [
       "16"
      ]
     },
     "execution_count": 11,
     "metadata": {},
     "output_type": "execute_result"
    }
   ],
   "source": [
    "2**4"
   ]
  },
  {
   "cell_type": "code",
   "execution_count": 16,
   "id": "ae780bc0",
   "metadata": {},
   "outputs": [
    {
     "name": "stdout",
     "output_type": "stream",
     "text": [
      "[(1, 8), (2, 9), (3, 6), (4, 3), (5, 6), (6, 2), (7, 7)]\n"
     ]
    }
   ],
   "source": [
    "a=[1,2,3,4,5,6,7,9]\n",
    "b=[8,9,6,3,6,2,7]\n",
    "\n",
    "c= list(zip(a,b))\n",
    "print(c)"
   ]
  },
  {
   "cell_type": "code",
   "execution_count": 20,
   "id": "c16dbd79",
   "metadata": {},
   "outputs": [
    {
     "name": "stdout",
     "output_type": "stream",
     "text": [
      "2344.545\n"
     ]
    }
   ],
   "source": [
    "print(round(2344.5446,3))"
   ]
  },
  {
   "cell_type": "code",
   "execution_count": null,
   "id": "70c7f4fb",
   "metadata": {},
   "outputs": [],
   "source": [
    "# Importing math Module"
   ]
  },
  {
   "cell_type": "code",
   "execution_count": 22,
   "id": "0a4a75f2",
   "metadata": {},
   "outputs": [],
   "source": [
    "import math"
   ]
  },
  {
   "cell_type": "code",
   "execution_count": 23,
   "id": "0121a9b1",
   "metadata": {},
   "outputs": [
    {
     "data": {
      "text/plain": [
       "6.0"
      ]
     },
     "execution_count": 23,
     "metadata": {},
     "output_type": "execute_result"
    }
   ],
   "source": [
    "math.sqrt(36)"
   ]
  },
  {
   "cell_type": "code",
   "execution_count": 25,
   "id": "8971fa88",
   "metadata": {},
   "outputs": [
    {
     "data": {
      "text/plain": [
       "720"
      ]
     },
     "execution_count": 25,
     "metadata": {},
     "output_type": "execute_result"
    }
   ],
   "source": [
    "math.factorial(6)"
   ]
  },
  {
   "cell_type": "markdown",
   "id": "f631d0e9",
   "metadata": {},
   "source": [
    "# User Define Function"
   ]
  },
  {
   "cell_type": "code",
   "execution_count": 28,
   "id": "a6db6813",
   "metadata": {},
   "outputs": [],
   "source": [
    "def squareroot(x):\n",
    "    return x**0.5"
   ]
  },
  {
   "cell_type": "code",
   "execution_count": 30,
   "id": "0ec18c7a",
   "metadata": {},
   "outputs": [
    {
     "data": {
      "text/plain": [
       "6.0"
      ]
     },
     "execution_count": 30,
     "metadata": {},
     "output_type": "execute_result"
    }
   ],
   "source": [
    "squareroot(36)"
   ]
  },
  {
   "cell_type": "code",
   "execution_count": 34,
   "id": "f51c04db",
   "metadata": {},
   "outputs": [
    {
     "data": {
      "text/plain": [
       "6.0"
      ]
     },
     "execution_count": 34,
     "metadata": {},
     "output_type": "execute_result"
    }
   ],
   "source": [
    "math.sqrt(36)"
   ]
  },
  {
   "cell_type": "code",
   "execution_count": 35,
   "id": "4d2c8d27",
   "metadata": {},
   "outputs": [],
   "source": [
    "# user define absolute function"
   ]
  },
  {
   "cell_type": "code",
   "execution_count": 42,
   "id": "394d927f",
   "metadata": {},
   "outputs": [
    {
     "name": "stdout",
     "output_type": "stream",
     "text": [
      "35\n"
     ]
    }
   ],
   "source": [
    "def absolute(x):\n",
    "    if x<0:\n",
    "        print(-(x))\n",
    "    else:\n",
    "        print(x)\n",
    "\n",
    "absolute(-35)"
   ]
  },
  {
   "cell_type": "code",
   "execution_count": 40,
   "id": "2ed46ae4",
   "metadata": {},
   "outputs": [
    {
     "data": {
      "text/plain": [
       "34"
      ]
     },
     "execution_count": 40,
     "metadata": {},
     "output_type": "execute_result"
    }
   ],
   "source": [
    "abs(-34)"
   ]
  },
  {
   "cell_type": "code",
   "execution_count": 43,
   "id": "20eb0784",
   "metadata": {},
   "outputs": [
    {
     "data": {
      "text/plain": [
       "55"
      ]
     },
     "execution_count": 43,
     "metadata": {},
     "output_type": "execute_result"
    }
   ],
   "source": [
    "sum([3,6,2,8,3,7,26])"
   ]
  },
  {
   "cell_type": "code",
   "execution_count": 44,
   "id": "5fea2c4e",
   "metadata": {},
   "outputs": [],
   "source": [
    "def summation(x): # [1,2,3,5,5,3,7]\n",
    "    sum=0\n",
    "    for i in x:\n",
    "        sum=sum+i\n",
    "    print(sum)\n"
   ]
  },
  {
   "cell_type": "code",
   "execution_count": 45,
   "id": "e42cf9f9",
   "metadata": {},
   "outputs": [
    {
     "name": "stdout",
     "output_type": "stream",
     "text": [
      "15\n"
     ]
    }
   ],
   "source": [
    "summation([1,2,3,4,5])"
   ]
  },
  {
   "cell_type": "code",
   "execution_count": 46,
   "id": "36f11f5f",
   "metadata": {},
   "outputs": [],
   "source": [
    "# creating function of addition of two numbers "
   ]
  },
  {
   "cell_type": "code",
   "execution_count": 51,
   "id": "dc878839",
   "metadata": {},
   "outputs": [],
   "source": [
    "def addition(x,y):\n",
    "    sum=x+y\n",
    "    print(sum)"
   ]
  },
  {
   "cell_type": "code",
   "execution_count": 52,
   "id": "a7cbbc55",
   "metadata": {},
   "outputs": [
    {
     "name": "stdout",
     "output_type": "stream",
     "text": [
      "7\n",
      "None\n"
     ]
    }
   ],
   "source": [
    "c=addition(3,4)\n",
    "print(c)"
   ]
  },
  {
   "cell_type": "code",
   "execution_count": 50,
   "id": "d398a1d2",
   "metadata": {},
   "outputs": [],
   "source": [
    "def add(x,y):\n",
    "    sum=x+y\n",
    "    return sum"
   ]
  },
  {
   "cell_type": "code",
   "execution_count": 54,
   "id": "0a4632c1",
   "metadata": {},
   "outputs": [
    {
     "name": "stdout",
     "output_type": "stream",
     "text": [
      "11\n"
     ]
    }
   ],
   "source": [
    "d=add(5,6)\n",
    "print(d)"
   ]
  },
  {
   "cell_type": "markdown",
   "id": "ec2f4bf1",
   "metadata": {},
   "source": [
    " Approach 1\n",
    "\n",
    "INPUT - > Function call\n",
    "\n",
    "Process -> Function Body\n",
    "\n",
    "Output - > Function call"
   ]
  },
  {
   "cell_type": "code",
   "execution_count": null,
   "id": "f4f591ab",
   "metadata": {},
   "outputs": [],
   "source": [
    "def add(x,y):\n",
    "    sum=x+y # Function Body\n",
    "    return sum\n",
    "\n",
    "d=add(5,6)\n",
    "print(d)"
   ]
  },
  {
   "cell_type": "markdown",
   "id": "15f89172",
   "metadata": {},
   "source": [
    "Approach 2\n",
    "\n",
    "INPUT - > Function Body\n",
    "\n",
    "Process -> Function Body\n",
    "\n",
    "Output - > Function Body"
   ]
  },
  {
   "cell_type": "code",
   "execution_count": 55,
   "id": "d0dcf362",
   "metadata": {},
   "outputs": [
    {
     "name": "stdout",
     "output_type": "stream",
     "text": [
      "Enter the number1:- 10\n",
      "Enter the number2:- 5\n",
      "5\n"
     ]
    }
   ],
   "source": [
    "def minus():\n",
    "    x=int(input(\"Enter the number1:- \")) \n",
    "    y=int(input(\"Enter the number2:- \"))\n",
    "    result = x-y\n",
    "    print(result)\n",
    "    \n",
    "minus()\n",
    "    "
   ]
  },
  {
   "cell_type": "markdown",
   "id": "d6977f61",
   "metadata": {},
   "source": [
    "Approach 3\n",
    "\n",
    "INPUT - > Function Call\n",
    "\n",
    "Process -> Function Body\n",
    "\n",
    "Output - > Function Body"
   ]
  },
  {
   "cell_type": "code",
   "execution_count": null,
   "id": "ea91dbca",
   "metadata": {},
   "outputs": [],
   "source": [
    "def mul(x,y):\n",
    "    c=x*y # Function Body\n",
    "    print(c) \n",
    "\n",
    "result=mul(4,5)\n",
    "print(result)"
   ]
  },
  {
   "cell_type": "markdown",
   "id": "5bd41e38",
   "metadata": {},
   "source": [
    "Approach 4\n",
    "\n",
    "INPUT - > Function Body\n",
    "\n",
    "Process -> Function Body\n",
    "\n",
    "Output - > Function Call"
   ]
  },
  {
   "cell_type": "code",
   "execution_count": null,
   "id": "59df8a1e",
   "metadata": {},
   "outputs": [],
   "source": [
    "def minus():\n",
    "    x=int(input(\"Enter the number1:- \")) # Function Body\n",
    "    y=int(input(\"Enter the number2:- \"))\n",
    "    z=x-y # Function Body\n",
    "    return z\n",
    "result=minus()\n",
    "print(result)"
   ]
  },
  {
   "cell_type": "code",
   "execution_count": null,
   "id": "59587c8c",
   "metadata": {},
   "outputs": [],
   "source": [
    "# function start range and end range and print even numbers only"
   ]
  },
  {
   "cell_type": "code",
   "execution_count": 59,
   "id": "344edae7",
   "metadata": {},
   "outputs": [
    {
     "name": "stdout",
     "output_type": "stream",
     "text": [
      "Enter the start value20\n",
      "Enter the stop value40\n",
      "20\n",
      "22\n",
      "24\n",
      "26\n",
      "28\n",
      "30\n",
      "32\n",
      "34\n",
      "36\n",
      "38\n",
      "40\n"
     ]
    }
   ],
   "source": [
    "def even_number():\n",
    "    start_value = int(input(\"Enter the start value\"))\n",
    "    stop_value  = int(input(\"Enter the stop value\"))\n",
    "\n",
    "    for i in range(start_value,stop_value+1):\n",
    "        if i % 2 == 0:\n",
    "            print(i)\n",
    "            \n",
    "even_number()"
   ]
  },
  {
   "cell_type": "code",
   "execution_count": 61,
   "id": "ba51032f",
   "metadata": {},
   "outputs": [
    {
     "name": "stdout",
     "output_type": "stream",
     "text": [
      "32\n",
      "34\n",
      "36\n",
      "38\n",
      "40\n",
      "42\n",
      "44\n",
      "46\n",
      "48\n",
      "50\n"
     ]
    }
   ],
   "source": [
    "def even_number(start_value,stop_value):\n",
    "\n",
    "    for i in range(start_value,stop_value+1):\n",
    "        if i % 2 == 0:\n",
    "            print(i)\n",
    "            \n",
    "even_number(31,51)"
   ]
  },
  {
   "cell_type": "code",
   "execution_count": 1,
   "id": "f91ebefc",
   "metadata": {},
   "outputs": [
    {
     "name": "stdout",
     "output_type": "stream",
     "text": [
      "Final amount after discount for Burger : 469\n"
     ]
    }
   ],
   "source": [
    "def apply_discount(item, amount, off, code):\n",
    "    total_amount = amount\n",
    "    \n",
    "    # Check if the discount code is valid\n",
    "    if code == \"FLATOFF\":\n",
    "        # Apply the discount\n",
    "        total_amount -= off\n",
    "    else:\n",
    "        print(\"Invalid discount code!\")\n",
    "\n",
    "    return total_amount\n",
    "\n",
    "# Given values\n",
    "item = \"Burger\"\n",
    "amount = 569\n",
    "off = 100\n",
    "code = \"FLATOFF\"\n",
    "\n",
    "# Call the function to apply discount\n",
    "final_amount = apply_discount(item, amount, off, code)\n",
    "\n",
    "# Print the final amount after discount\n",
    "print(\"Final amount after discount for\", item, \":\", final_amount)\n"
   ]
  },
  {
   "cell_type": "markdown",
   "id": "11ea3d94",
   "metadata": {},
   "source": [
    "# Types of Arguments\n",
    "\n",
    "\"Arguments\" typically refers to the values that are passed into a function or a method when it is called."
   ]
  },
  {
   "cell_type": "markdown",
   "id": "6ed96430",
   "metadata": {},
   "source": [
    "# Position Argument\n",
    "Positional arguments are one of the fundamental ways to pass arguments to a function. They are called \"positional\" because they are assigned to the function's parameters based on their order of appearance in the function's parameter list."
   ]
  },
  {
   "cell_type": "code",
   "execution_count": 2,
   "id": "88b6c265",
   "metadata": {},
   "outputs": [],
   "source": [
    "def greet(name,age):\n",
    "    return f\"Hello {name},how you doing. Is your age is {age}?\""
   ]
  },
  {
   "cell_type": "code",
   "execution_count": 3,
   "id": "2088d7d2",
   "metadata": {},
   "outputs": [
    {
     "data": {
      "text/plain": [
       "'Hello Akash,how you doing. Is your age is 24?'"
      ]
     },
     "execution_count": 3,
     "metadata": {},
     "output_type": "execute_result"
    }
   ],
   "source": [
    "greet(\"Akash\",24)"
   ]
  },
  {
   "cell_type": "code",
   "execution_count": 4,
   "id": "a75347e6",
   "metadata": {},
   "outputs": [
    {
     "data": {
      "text/plain": [
       "'Hello 30,how you doing. Is your age is Jay?'"
      ]
     },
     "execution_count": 4,
     "metadata": {},
     "output_type": "execute_result"
    }
   ],
   "source": [
    "greet(30,\"Jay\")"
   ]
  },
  {
   "cell_type": "markdown",
   "id": "f4843aed",
   "metadata": {},
   "source": [
    "# Keyword Parameter\n",
    "keyword arguments are a way to pass values to a function by explicitly specifying the parameter names along with their corresponding values when making a function call. This approach allows for greater clarity and flexibility when working with functions that have multiple parameters or when you want to override default parameter values."
   ]
  },
  {
   "cell_type": "code",
   "execution_count": 5,
   "id": "738fa905",
   "metadata": {},
   "outputs": [],
   "source": [
    "def greet(name,age,department):\n",
    "    return f\"Hello {name},you will working in {department} department and is your age is {age}?\""
   ]
  },
  {
   "cell_type": "code",
   "execution_count": 6,
   "id": "283dd106",
   "metadata": {},
   "outputs": [
    {
     "data": {
      "text/plain": [
       "'Hello Saurav,you will working in IT department and is your age is 30?'"
      ]
     },
     "execution_count": 6,
     "metadata": {},
     "output_type": "execute_result"
    }
   ],
   "source": [
    "greet(department=\"IT\",age=30,name=\"Saurav\")"
   ]
  },
  {
   "cell_type": "code",
   "execution_count": 8,
   "id": "1a2a5a3c",
   "metadata": {},
   "outputs": [
    {
     "ename": "SyntaxError",
     "evalue": "positional argument follows keyword argument (2897946834.py, line 1)",
     "output_type": "error",
     "traceback": [
      "\u001b[1;36m  Cell \u001b[1;32mIn[8], line 1\u001b[1;36m\u001b[0m\n\u001b[1;33m    greet(department=\"IT\",30,name=\"Saurav\")\u001b[0m\n\u001b[1;37m                                          ^\u001b[0m\n\u001b[1;31mSyntaxError\u001b[0m\u001b[1;31m:\u001b[0m positional argument follows keyword argument\n"
     ]
    }
   ],
   "source": [
    "greet(department=\"IT\",30,name=\"Saurav\")"
   ]
  },
  {
   "cell_type": "markdown",
   "id": "cc719e74",
   "metadata": {},
   "source": [
    "# Default Argument\n",
    "Default arguments in a function are parameters that have predefined values assigned to them in the function's definition. These predefined values are used as the default values for those parameters if no value is provided when the function is called. Default arguments allow you to make some parameters optional, so callers of the function can choose whether or not to provide a value for them."
   ]
  },
  {
   "cell_type": "code",
   "execution_count": 9,
   "id": "224cc006",
   "metadata": {},
   "outputs": [
    {
     "name": "stdout",
     "output_type": "stream",
     "text": [
      "[1, 2, 3, 4, 6, 7, 9]\n"
     ]
    }
   ],
   "source": [
    "a=[1,2,3,4,6,7,9,94]\n",
    "a.pop()\n",
    "print(a)"
   ]
  },
  {
   "cell_type": "code",
   "execution_count": 10,
   "id": "6ffb5823",
   "metadata": {},
   "outputs": [],
   "source": [
    "def greet(name,age,department=\"IT\"):\n",
    "    return f\"Hello {name},you will working in {department} department and is your age is {age}?\""
   ]
  },
  {
   "cell_type": "code",
   "execution_count": 11,
   "id": "652da322",
   "metadata": {},
   "outputs": [
    {
     "data": {
      "text/plain": [
       "'Hello Akash,you will working in IT department and is your age is 30?'"
      ]
     },
     "execution_count": 11,
     "metadata": {},
     "output_type": "execute_result"
    }
   ],
   "source": [
    "greet(\"Akash\",30)"
   ]
  },
  {
   "cell_type": "code",
   "execution_count": 12,
   "id": "272ef2fd",
   "metadata": {},
   "outputs": [
    {
     "data": {
      "text/plain": [
       "'Hello Akash,you will working in Sales department and is your age is 30?'"
      ]
     },
     "execution_count": 12,
     "metadata": {},
     "output_type": "execute_result"
    }
   ],
   "source": [
    "greet(\"Akash\",30,\"Sales\")"
   ]
  },
  {
   "cell_type": "markdown",
   "id": "a67af437",
   "metadata": {},
   "source": [
    "# Varaible Length Positional Argument(*args)\n",
    "Variable-Length Positional Arguments, often denoted by *args, is a special syntax in Python that allows you to pass a variable number of positional arguments to a function. When you use *args in a function definition, it collects all the extra positional arguments provided when the function is called into a tuple.\n",
    "\n",
    "Function Definition: To use args, you define a function with an argument preceded by an asterisk (), like this: \n",
    "    \n",
    "def my_function(*args): # Function code"
   ]
  },
  {
   "cell_type": "code",
   "execution_count": 13,
   "id": "9dab03b3",
   "metadata": {},
   "outputs": [
    {
     "data": {
      "text/plain": [
       "(5, 3, 5, 6, 3, 5, 3)"
      ]
     },
     "execution_count": 13,
     "metadata": {},
     "output_type": "execute_result"
    }
   ],
   "source": [
    "def add(x,y,*c):\n",
    "    return c\n",
    "\n",
    "\n",
    "add(3,4,5,3,5,6,3,5,3)"
   ]
  },
  {
   "cell_type": "code",
   "execution_count": 14,
   "id": "56f69a68",
   "metadata": {},
   "outputs": [
    {
     "name": "stdout",
     "output_type": "stream",
     "text": [
      "1\n",
      "4\n",
      "[7, 34, 9, 4, 73, 73, 4, 26]\n",
      "25\n",
      "63\n"
     ]
    }
   ],
   "source": [
    "a,b,*d,e,f = [1,4,7,34,9,4,73,73,4,26,25,63]\n",
    "print(a)\n",
    "print(b)\n",
    "print(d)\n",
    "print(e)\n",
    "print(f)"
   ]
  },
  {
   "cell_type": "code",
   "execution_count": 15,
   "id": "0077036d",
   "metadata": {},
   "outputs": [
    {
     "name": "stdout",
     "output_type": "stream",
     "text": [
      "Current Value of val is:-  12\n",
      "Current Value of val is:-  5\n",
      "Current Value of val is:-  7\n",
      "Current Value of val is:-  3\n",
      "Current Value of val is:-  7\n",
      "Current Value of val is:-  4\n",
      "Current Value of val is:-  48\n",
      "Current Value of val is:-  4\n",
      "5 <class 'int'>\n"
     ]
    }
   ],
   "source": [
    "def addition(a,b,*val):\n",
    "    c = a+b\n",
    "    \n",
    "    for i in val:\n",
    "        print(\"Current Value of val is:- \",i)\n",
    "    \n",
    "    return c\n",
    "\n",
    "result = addition(2,3,12,5,7,3,7,4,48,4)\n",
    "print(result,type(result))"
   ]
  },
  {
   "cell_type": "markdown",
   "id": "581e5dc0",
   "metadata": {},
   "source": [
    "# Varaible length Keyword Argument(**kwargs)\n",
    "Variable-Length Keyword Arguments, often denoted as **kwargs in Python, is a feature that allows you to pass a flexible and arbitrary number of keyword arguments to a function. This can be particularly useful when you want to create functions that can handle a variety of parameters without knowing in advance how many or what those parameters will be.\n",
    "\n",
    "Collecting Keyword Arguments into a Dictionary: When you define a function parameter with **kwargs, Python collects all the keyword arguments that are not explicitly defined as formal parameters into a dictionary. The keys of this dictionary are the argument names, and the values are the corresponding argument values."
   ]
  },
  {
   "cell_type": "code",
   "execution_count": 16,
   "id": "a422dd17",
   "metadata": {},
   "outputs": [
    {
     "name": "stdout",
     "output_type": "stream",
     "text": [
      "2\n",
      "3\n",
      "{'python': 10, 'java': 7, 'php': 5}\n",
      "('python', 10)\n",
      "('java', 7)\n",
      "('php', 5)\n"
     ]
    }
   ],
   "source": [
    "def info(y,z,**values):\n",
    "    print(y)\n",
    "    print(z)\n",
    "    print(values)\n",
    "    for i in values.items():\n",
    "        print(i)\n",
    "    \n",
    "    \n",
    "info(2,3,python=10,java=7,php=5)"
   ]
  },
  {
   "cell_type": "code",
   "execution_count": 17,
   "id": "d9f7a9be",
   "metadata": {},
   "outputs": [
    {
     "name": "stdout",
     "output_type": "stream",
     "text": [
      "Product Name: Laptop\n",
      "Price: $1200.0000\n",
      "Manufacturer: Unknown\n"
     ]
    }
   ],
   "source": [
    "def display_product_info(product_name, **kwargs):\n",
    "    price = kwargs.get(\"price\", 0.0)\n",
    "    manufacturer = kwargs.get(\"manufacturer\", \"Unknown\")\n",
    "    \n",
    "    print(f\"Product Name: {product_name}\")\n",
    "    print(f\"Price: ${price:.4f}\")\n",
    "    print(f\"Manufacturer: {manufacturer}\")\n",
    "\n",
    "display_product_info(\"Laptop\", price=1200.0, manufacturers=\"Dell\")\n"
   ]
  },
  {
   "cell_type": "code",
   "execution_count": 18,
   "id": "ed1e6e4e",
   "metadata": {},
   "outputs": [
    {
     "name": "stdout",
     "output_type": "stream",
     "text": [
      "Value: 40\n"
     ]
    }
   ],
   "source": [
    "def process_data(table,**kwargs):\n",
    "    if 'value' in kwargs:\n",
    "        print(f\"Value: {kwargs['value']}\")\n",
    "    else:\n",
    "        print(\"Value not found in kwargs.\")\n",
    "\n",
    "process_data(\"Akash\",name=\"Akash\", age=30,value=40)\n"
   ]
  },
  {
   "cell_type": "markdown",
   "id": "29b485bb",
   "metadata": {},
   "source": [
    "# Global Variable and Local Variable"
   ]
  },
  {
   "cell_type": "markdown",
   "id": "942c5edd",
   "metadata": {},
   "source": [
    "# Global Variable:\n",
    "\n",
    "A global variable is a variable that is declared outside of any function or block and can be accessed anywhere in the code, both inside and outside of functions.\n",
    "\n",
    "Global variables persist throughout the program's execution."
   ]
  },
  {
   "cell_type": "markdown",
   "id": "0a9e791e",
   "metadata": {},
   "source": [
    "# Local Variable:\n",
    "\n",
    "A local variable is a variable that is declared within a function or block and can only be accessed within that specific function or block.\n",
    "\n",
    "Local variables are created when the function is called and are destroyed when the function exits."
   ]
  },
  {
   "cell_type": "code",
   "execution_count": 19,
   "id": "80aa0694",
   "metadata": {},
   "outputs": [
    {
     "name": "stdout",
     "output_type": "stream",
     "text": [
      "Inside the function, x is: 10\n",
      "Inside the function, y is: 5\n",
      "Outside the function, x is: 10\n"
     ]
    }
   ],
   "source": [
    "# Global variable\n",
    "x = 10\n",
    "\n",
    "def my_function():\n",
    "    # Local variable\n",
    "    y = 5\n",
    "    print(\"Inside the function, x is:\", x)  # Accessing global variable\n",
    "    print(\"Inside the function, y is:\", y)  # Accessing local variable\n",
    "\n",
    "my_function()\n",
    "\n",
    "# Accessing the global variable outside the function\n",
    "print(\"Outside the function, x is:\", x)\n",
    "\n",
    "# Trying to access the local variable outside the function will cause an error\n",
    "# print(\"Outside the function, y is:\", y)  # This will raise a NameError\n"
   ]
  },
  {
   "cell_type": "code",
   "execution_count": 20,
   "id": "bc582546",
   "metadata": {},
   "outputs": [
    {
     "name": "stdout",
     "output_type": "stream",
     "text": [
      "Inside the function, x is: 10\n",
      "Inside the function, y is: 5\n",
      "Outside the function, x is: 10\n"
     ]
    },
    {
     "ename": "NameError",
     "evalue": "name 'y' is not defined",
     "output_type": "error",
     "traceback": [
      "\u001b[1;31m---------------------------------------------------------------------------\u001b[0m",
      "\u001b[1;31mNameError\u001b[0m                                 Traceback (most recent call last)",
      "Cell \u001b[1;32mIn[20], line 16\u001b[0m\n\u001b[0;32m     13\u001b[0m \u001b[38;5;28mprint\u001b[39m(\u001b[38;5;124m\"\u001b[39m\u001b[38;5;124mOutside the function, x is:\u001b[39m\u001b[38;5;124m\"\u001b[39m, x)\n\u001b[0;32m     15\u001b[0m \u001b[38;5;66;03m# Trying to access the local variable outside the function will cause an error\u001b[39;00m\n\u001b[1;32m---> 16\u001b[0m \u001b[38;5;28mprint\u001b[39m(\u001b[38;5;124m\"\u001b[39m\u001b[38;5;124mOutside the function, y is:\u001b[39m\u001b[38;5;124m\"\u001b[39m, \u001b[43my\u001b[49m)\n",
      "\u001b[1;31mNameError\u001b[0m: name 'y' is not defined"
     ]
    }
   ],
   "source": [
    "# Global variable\n",
    "x = 10\n",
    "\n",
    "def my_function():\n",
    "    # Local variable\n",
    "    y = 5\n",
    "    print(\"Inside the function, x is:\", x)  # Accessing global variable\n",
    "    print(\"Inside the function, y is:\", y)  # Accessing local variable\n",
    "\n",
    "my_function()\n",
    "\n",
    "# Accessing the global variable outside the function\n",
    "print(\"Outside the function, x is:\", x)\n",
    "\n",
    "# Trying to access the local variable outside the function will cause an error\n",
    "print(\"Outside the function, y is:\", y)  # This will raise a NameError\n"
   ]
  },
  {
   "cell_type": "code",
   "execution_count": 22,
   "id": "ebe62324",
   "metadata": {},
   "outputs": [
    {
     "ename": "UnboundLocalError",
     "evalue": "local variable 'counter' referenced before assignment",
     "output_type": "error",
     "traceback": [
      "\u001b[1;31m---------------------------------------------------------------------------\u001b[0m",
      "\u001b[1;31mUnboundLocalError\u001b[0m                         Traceback (most recent call last)",
      "Cell \u001b[1;32mIn[22], line 9\u001b[0m\n\u001b[0;32m      6\u001b[0m     \u001b[38;5;28mprint\u001b[39m(\u001b[38;5;124m\"\u001b[39m\u001b[38;5;124mCounter inside the function:\u001b[39m\u001b[38;5;124m\"\u001b[39m, counter)\n\u001b[0;32m      8\u001b[0m \u001b[38;5;66;03m# Call the function\u001b[39;00m\n\u001b[1;32m----> 9\u001b[0m \u001b[43mincrement_counter\u001b[49m\u001b[43m(\u001b[49m\u001b[43m)\u001b[49m\n",
      "Cell \u001b[1;32mIn[22], line 5\u001b[0m, in \u001b[0;36mincrement_counter\u001b[1;34m()\u001b[0m\n\u001b[0;32m      3\u001b[0m \u001b[38;5;28;01mdef\u001b[39;00m \u001b[38;5;21mincrement_counter\u001b[39m():\n\u001b[0;32m      4\u001b[0m     \u001b[38;5;66;03m# Attempt to increment the global variable without declaring it as global\u001b[39;00m\n\u001b[1;32m----> 5\u001b[0m     counter \u001b[38;5;241m+\u001b[39m\u001b[38;5;241m=\u001b[39m \u001b[38;5;241m1\u001b[39m  \u001b[38;5;66;03m# This will cause an UnboundLocalError\u001b[39;00m\n\u001b[0;32m      6\u001b[0m     \u001b[38;5;28mprint\u001b[39m(\u001b[38;5;124m\"\u001b[39m\u001b[38;5;124mCounter inside the function:\u001b[39m\u001b[38;5;124m\"\u001b[39m, counter)\n",
      "\u001b[1;31mUnboundLocalError\u001b[0m: local variable 'counter' referenced before assignment"
     ]
    }
   ],
   "source": [
    "counter = 10\n",
    "\n",
    "def increment_counter():\n",
    "    # Attempt to increment the global variable without declaring it as global\n",
    "    counter += 1  # This will cause an UnboundLocalError\n",
    "    print(\"Counter inside the function:\", counter)\n",
    "\n",
    "# Call the function\n",
    "increment_counter()\n"
   ]
  },
  {
   "cell_type": "code",
   "execution_count": 23,
   "id": "d15ce74e",
   "metadata": {},
   "outputs": [
    {
     "name": "stdout",
     "output_type": "stream",
     "text": [
      "Counter inside the function: 11\n"
     ]
    }
   ],
   "source": [
    "# Global variable\n",
    "counter = 10\n",
    "\n",
    "def increment_counter():\n",
    "    global counter  # Declare that we're using the global variable\n",
    "    counter += 1\n",
    "    print(\"Counter inside the function:\", counter)\n",
    "\n",
    "# Call the function\n",
    "increment_counter()\n"
   ]
  },
  {
   "cell_type": "code",
   "execution_count": 21,
   "id": "d1935002",
   "metadata": {},
   "outputs": [
    {
     "name": "stdout",
     "output_type": "stream",
     "text": [
      "Inside the function, counter is: 2\n",
      "Inside the function, counter is: 4\n",
      "Counter has been reset to: 0\n",
      "Outside the functions, counter is: 0\n"
     ]
    }
   ],
   "source": [
    "counter = 0\n",
    "\n",
    "def increment_counter():\n",
    "\n",
    "    step = 2\n",
    "    global counter  \n",
    "    counter += step\n",
    "    print(\"Inside the function, counter is:\", counter)\n",
    "\n",
    "def reset_counter():\n",
    "    global counter\n",
    "    counter = 0\n",
    "    print(\"Counter has been reset to:\", counter)\n",
    "\n",
    "\n",
    "increment_counter() \n",
    "increment_counter() \n",
    "\n",
    "\n",
    "reset_counter()\n",
    "\n",
    "\n",
    "print(\"Outside the functions, counter is:\", counter)\n"
   ]
  },
  {
   "cell_type": "code",
   "execution_count": null,
   "id": "3e9e7773",
   "metadata": {},
   "outputs": [],
   "source": []
  }
 ],
 "metadata": {
  "kernelspec": {
   "display_name": "Python 3 (ipykernel)",
   "language": "python",
   "name": "python3"
  },
  "language_info": {
   "codemirror_mode": {
    "name": "ipython",
    "version": 3
   },
   "file_extension": ".py",
   "mimetype": "text/x-python",
   "name": "python",
   "nbconvert_exporter": "python",
   "pygments_lexer": "ipython3",
   "version": "3.12.4"
  }
 },
 "nbformat": 4,
 "nbformat_minor": 5
}
