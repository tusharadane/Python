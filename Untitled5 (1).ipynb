{
 "cells": [
  {
   "cell_type": "code",
   "execution_count": 1,
   "id": "120ef494-a9cf-4194-8a13-c64df644b4da",
   "metadata": {},
   "outputs": [
    {
     "name": "stdout",
     "output_type": "stream",
     "text": [
      "0x104\n"
     ]
    }
   ],
   "source": [
    "a=260\n",
    "print(hex(a))"
   ]
  },
  {
   "cell_type": "code",
   "execution_count": 3,
   "id": "ee9ea93d-491f-4f76-bacb-37e901a58109",
   "metadata": {},
   "outputs": [
    {
     "name": "stdout",
     "output_type": "stream",
     "text": [
      "True\n"
     ]
    }
   ],
   "source": [
    "a=8.0\n",
    "\n",
    "print(bool(a))"
   ]
  },
  {
   "cell_type": "code",
   "execution_count": 7,
   "id": "57ff3eb3-c709-44c5-abd2-248a98b24be3",
   "metadata": {},
   "outputs": [
    {
     "name": "stdout",
     "output_type": "stream",
     "text": [
      "63\n"
     ]
    }
   ],
   "source": [
    "a=0o77\n",
    "\n",
    "print(int(a))"
   ]
  },
  {
   "cell_type": "code",
   "execution_count": 9,
   "id": "623d7efa-ad86-4923-8584-180ca6676adb",
   "metadata": {},
   "outputs": [
    {
     "name": "stdout",
     "output_type": "stream",
     "text": [
      "26\n"
     ]
    }
   ],
   "source": [
    "a=0x1a\n",
    "\n",
    "print(int(a))"
   ]
  },
  {
   "cell_type": "code",
   "execution_count": 13,
   "id": "99dc8b61-4472-49d8-97c1-6e41dab1b42d",
   "metadata": {},
   "outputs": [
    {
     "name": "stdout",
     "output_type": "stream",
     "text": [
      "0o100 <class 'int'> 140729421873560\n"
     ]
    }
   ],
   "source": [
    "a=64\n",
    "\n",
    "print(oct(a),type(a),id(a))"
   ]
  },
  {
   "cell_type": "code",
   "execution_count": 19,
   "id": "f86afc0f-6172-4fca-9ef5-f350a1ec8c92",
   "metadata": {},
   "outputs": [
    {
     "data": {
      "text/plain": [
       "'n'"
      ]
     },
     "execution_count": 19,
     "metadata": {},
     "output_type": "execute_result"
    }
   ],
   "source": [
    "a='python programming'\n",
    "\n",
    "a[5]"
   ]
  },
  {
   "cell_type": "code",
   "execution_count": 26,
   "id": "0c8890eb-1d1b-4062-ab76-972f4807c6a4",
   "metadata": {},
   "outputs": [
    {
     "data": {
      "text/plain": [
       "'n'"
      ]
     },
     "execution_count": 26,
     "metadata": {},
     "output_type": "execute_result"
    }
   ],
   "source": [
    "a[-2]"
   ]
  },
  {
   "cell_type": "code",
   "execution_count": 30,
   "id": "9f5b7540-1a3e-452f-ab88-02e6962b94a6",
   "metadata": {},
   "outputs": [
    {
     "data": {
      "text/plain": [
       "'rogram'"
      ]
     },
     "execution_count": 30,
     "metadata": {},
     "output_type": "execute_result"
    }
   ],
   "source": [
    "a[8:14]"
   ]
  },
  {
   "cell_type": "code",
   "execution_count": 78,
   "id": "b8012416-bbf3-4392-bc09-71f297bcf24a",
   "metadata": {},
   "outputs": [
    {
     "name": "stdout",
     "output_type": "stream",
     "text": [
      "mingra\n"
     ]
    }
   ],
   "source": [
    "a[-4:]\n",
    "\n",
    "b=a[-4:]+a[11:13]\n",
    "\n",
    "print(b)"
   ]
  },
  {
   "cell_type": "code",
   "execution_count": 7,
   "id": "cf4257f4-92bc-4148-8847-0dfb2d08cffe",
   "metadata": {},
   "outputs": [
    {
     "data": {
      "text/plain": [
       "'Hel'"
      ]
     },
     "execution_count": 7,
     "metadata": {},
     "output_type": "execute_result"
    }
   ],
   "source": [
    "a=\"Hello,world!\"\n",
    "\n",
    "a[:3]"
   ]
  },
  {
   "cell_type": "code",
   "execution_count": 11,
   "id": "3448f2d0-71ff-444d-85bf-036990fa92c7",
   "metadata": {},
   "outputs": [
    {
     "data": {
      "text/plain": [
       "'rld!'"
      ]
     },
     "execution_count": 11,
     "metadata": {},
     "output_type": "execute_result"
    }
   ],
   "source": [
    "a[-4:]"
   ]
  }
 ],
 "metadata": {
  "kernelspec": {
   "display_name": "Python 3 (ipykernel)",
   "language": "python",
   "name": "python3"
  },
  "language_info": {
   "codemirror_mode": {
    "name": "ipython",
    "version": 3
   },
   "file_extension": ".py",
   "mimetype": "text/x-python",
   "name": "python",
   "nbconvert_exporter": "python",
   "pygments_lexer": "ipython3",
   "version": "3.12.4"
  }
 },
 "nbformat": 4,
 "nbformat_minor": 5
}
