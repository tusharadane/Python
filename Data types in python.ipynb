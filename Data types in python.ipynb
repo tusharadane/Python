{
 "cells": [
  {
   "cell_type": "markdown",
   "id": "7d02ce54",
   "metadata": {},
   "source": [
    "# Data Type\n",
    "\n",
    "Data type is like a category that tells the computer how to treat a specific type of value. It helps Python understand what you want to do with that value and how to handle it. Different data types represent different kinds of information, like numbers, text, and more. The purpose of Data Type in Python is that \"to allocate sufficient amount of memory space for storing the value or Literals in main memory(RAM) of computer\""
   ]
  },
  {
   "cell_type": "markdown",
   "id": "0f337167",
   "metadata": {},
   "source": [
    "# Fundamental Data Type\n",
    "\n",
    "Fundamental data types refer to basic building blocks for storing and manipulating data within a program. These data types are considered fundamental because they represent the most basic forms of data that Python can work with. Each fundamental data type can store only one value at a time.\n",
    "\n",
    "Integer (int): Represents whole numbers, both positive and negative, without any decimal point. Example: x = 10\n",
    "\n",
    "Float (float): Represents floating-point numbers, which include decimal points or scientific notation. Example: y = 3.14\n",
    "\n",
    "Boolean (bool): Represents logical values, either True or False. Example: is_valid = True\n",
    "\n",
    "Complex (complex): Represents complex numbers, consisting of a real part and an imaginary part. Example: z = 3 + 2j\n",
    "\n",
    "String (str): Represents sequences of characters, enclosed within single ('') or double (\"\") quotes. Example: name = 'John'\n",
    "\n",
    "NoneType (None): Represents the absence of a value or undefined state. Example: result = None"
   ]
  },
  {
   "cell_type": "markdown",
   "id": "dcd05e9f",
   "metadata": {},
   "source": [
    "# Integer Data Type:\n",
    "\n",
    "An integer is a fundamental data type in Python used to represent whole numbers. These numbers are used for counting and do not have any decimal or fractional parts. Integers can be positive, negative, or zero itself."
   ]
  },
  {
   "cell_type": "code",
   "execution_count": 3,
   "id": "3a69a441",
   "metadata": {},
   "outputs": [
    {
     "name": "stdout",
     "output_type": "stream",
     "text": [
      "10 <class 'int'>\n"
     ]
    }
   ],
   "source": [
    "a = 10 \n",
    "print(a,type(a))"
   ]
  },
  {
   "cell_type": "code",
   "execution_count": 2,
   "id": "dc5fde19",
   "metadata": {},
   "outputs": [
    {
     "name": "stdout",
     "output_type": "stream",
     "text": [
      "0 <class 'int'> 2515421823184\n"
     ]
    }
   ],
   "source": [
    "a = 0\n",
    "print(a,type(a),id(a))"
   ]
  },
  {
   "cell_type": "markdown",
   "id": "46c99419",
   "metadata": {},
   "source": [
    "# Number Systems Data:\n",
    "\n",
    "\"Number systems data\" refers to different ways of representing and working with numerical values. It involves various number systems, each with its own rules for expressing numbers and performing arithmetic operations.\n",
    "\n",
    "\n",
    "# Common Number Systems: Decimal Number System (Base 10):\n",
    "The system used in everyday life, consisting of digits 0 through 9. Examples: 1, 5, 10.\n",
    "\n",
    "\n",
    "# Binary Number System (Base 2):\n",
    "Uses only two digits, 0 and 1, representing powers of 2. Fundamental in computer systems for digital representation and processing. Examples: 0b1010 (Equivalent to decimal 10), 0b1101 (Equivalent to decimal 13).\n",
    "\n",
    "\n",
    "# Hexadecimal Number System (Base 16):\n",
    "Uses digits 0-9 and letters A-F to represent values, where A-F represent decimal values 10-15. Commonly used in computing for memory addresses, binary data representation, and color codes. Examples: 0x1A (Equivalent to decimal 26), 0xFF (Equivalent to decimal 255).\n",
    "\n",
    "\n",
    "# Octal Number System (Base 8):\n",
    "Uses digits 0-7 to represent values, where each digit represents powers of 8. Has applications in various computing contexts, including UNIX file permissions. Examples: 075 (Equivalent to decimal 61), 010 (Equivalent to decimal 8)."
   ]
  },
  {
   "cell_type": "markdown",
   "id": "893848ab",
   "metadata": {},
   "source": [
    "# Binary Number System (Base  2)Binary Number System (Base 2)\n",
    "The Binary Number System is a fundamental way of counting and representing numbers using only two digits: 0 and 1. It serves as the foundation for how computers work and store information.\n",
    "\n",
    "Characteristics:\n",
    "\n",
    "Digits: In the Binary System, there are only two digits: 0 and 1.\n",
    "\n",
    "Positional Notation: Each digit's position represents a power of 2, similar to the Decimal System where each position represents a power of 10."
   ]
  },
  {
   "cell_type": "markdown",
   "id": "5bf9241b-7f31-4ce4-ae42-7b183a25da91",
   "metadata": {},
   "source": [
    "a=0b14\n",
    "print(a)"
   ]
  },
  {
   "cell_type": "code",
   "execution_count": 14,
   "id": "cf46fce4",
   "metadata": {},
   "outputs": [
    {
     "name": "stdout",
     "output_type": "stream",
     "text": [
      "11\n"
     ]
    }
   ],
   "source": [
    "a =0B1011\n",
    "print(a)"
   ]
  },
  {
   "cell_type": "code",
   "execution_count": 16,
   "id": "fefe1493",
   "metadata": {},
   "outputs": [
    {
     "data": {
      "text/plain": [
       "'0b11011'"
      ]
     },
     "execution_count": 16,
     "metadata": {},
     "output_type": "execute_result"
    }
   ],
   "source": [
    "a = 27\n",
    "\n",
    "bin(a)"
   ]
  },
  {
   "cell_type": "code",
   "execution_count": null,
   "id": "fa885e40",
   "metadata": {},
   "outputs": [],
   "source": [
    "# Decimal to Binary"
   ]
  },
  {
   "cell_type": "code",
   "execution_count": null,
   "id": "259a3723",
   "metadata": {},
   "outputs": [],
   "source": [
    "2  27\n",
    "2  13   1\n",
    "2   6   1  ^\n",
    "2   3   0  |\n",
    "    1   1  |\n",
    "        1  |"
   ]
  },
  {
   "cell_type": "code",
   "execution_count": 6,
   "id": "aad9d809",
   "metadata": {},
   "outputs": [
    {
     "name": "stdout",
     "output_type": "stream",
     "text": [
      "27\n"
     ]
    }
   ],
   "source": [
    "b = 0b11011\n",
    "print(b)"
   ]
  },
  {
   "cell_type": "code",
   "execution_count": null,
   "id": "80da417f",
   "metadata": {},
   "outputs": [],
   "source": [
    "# Binary to Decimal"
   ]
  },
  {
   "cell_type": "code",
   "execution_count": null,
   "id": "c08e7035",
   "metadata": {},
   "outputs": [],
   "source": [
    "   1           1                   0                      1                       1 \n",
    "\n",
    "1*(2**4)    1*(2**3)             0*(2**2)               1*(2**1)                 1*(2**0)\n",
    "=   16           8                     0                      2                           1\n",
    "= 27"
   ]
  },
  {
   "cell_type": "code",
   "execution_count": 13,
   "id": "80d07edc",
   "metadata": {},
   "outputs": [
    {
     "name": "stdout",
     "output_type": "stream",
     "text": [
      "20 <class 'int'>\n"
     ]
    }
   ],
   "source": [
    "a = 0b10100\n",
    "print(a,type(a))"
   ]
  },
  {
   "cell_type": "code",
   "execution_count": 8,
   "id": "62f53bd4",
   "metadata": {},
   "outputs": [
    {
     "name": "stdout",
     "output_type": "stream",
     "text": [
      "0b11110\n"
     ]
    }
   ],
   "source": [
    "b = 30\n",
    "print(bin(b))"
   ]
  },
  {
   "cell_type": "code",
   "execution_count": 9,
   "id": "2cd30322",
   "metadata": {},
   "outputs": [
    {
     "data": {
      "text/plain": [
       "277"
      ]
     },
     "execution_count": 9,
     "metadata": {},
     "output_type": "execute_result"
    }
   ],
   "source": [
    "int(0b100010101)\n"
   ]
  },
  {
   "cell_type": "code",
   "execution_count": 14,
   "id": "c7f5a83b",
   "metadata": {},
   "outputs": [
    {
     "ename": "SyntaxError",
     "evalue": "invalid digit '2' in binary literal (1746642646.py, line 1)",
     "output_type": "error",
     "traceback": [
      "\u001b[1;36m  Cell \u001b[1;32mIn[14], line 1\u001b[1;36m\u001b[0m\n\u001b[1;33m    d = 0b0101020010\u001b[0m\n\u001b[1;37m               ^\u001b[0m\n\u001b[1;31mSyntaxError\u001b[0m\u001b[1;31m:\u001b[0m invalid digit '2' in binary literal\n"
     ]
    }
   ],
   "source": [
    "d = 0b0101020010\n",
    "print(d)"
   ]
  },
  {
   "cell_type": "markdown",
   "id": "2d368ebe",
   "metadata": {},
   "source": [
    "# Octal Number System (Base 8)\n",
    "The Octal Number System is a method of counting and representing numbers using eight digits: 0, 1, 2, 3, 4, 5, 6, and 7. While not as prevalent as the decimal or binary systems, it finds utility in certain computing contexts.\n",
    "\n",
    "Characteristics:\n",
    "\n",
    "Digits: The Octal System comprises eight digits: 0, 1, 2, 3, 4, 5, 6, and 7.\n",
    "\n",
    "Positional Notation: Similar to the decimal system, each position in an octal number represents a power of 8.\n",
    "\n",
    "Representation: Octal numbers are composed by arranging these digits in different positions."
   ]
  },
  {
   "cell_type": "code",
   "execution_count": 16,
   "id": "481f2984",
   "metadata": {},
   "outputs": [
    {
     "name": "stdout",
     "output_type": "stream",
     "text": [
      "37\n"
     ]
    }
   ],
   "source": [
    "a = 0o45\n",
    "print(a)"
   ]
  },
  {
   "cell_type": "code",
   "execution_count": 18,
   "id": "b21257ae",
   "metadata": {},
   "outputs": [
    {
     "name": "stdout",
     "output_type": "stream",
     "text": [
      "0o55\n"
     ]
    }
   ],
   "source": [
    "a = 45\n",
    "print(oct(a))"
   ]
  },
  {
   "cell_type": "code",
   "execution_count": null,
   "id": "4be31af1",
   "metadata": {},
   "outputs": [],
   "source": [
    "8  60\n",
    "   7    4 ^\n",
    "        7 |"
   ]
  },
  {
   "cell_type": "code",
   "execution_count": 20,
   "id": "f6d34329",
   "metadata": {},
   "outputs": [
    {
     "data": {
      "text/plain": [
       "56"
      ]
     },
     "execution_count": 20,
     "metadata": {},
     "output_type": "execute_result"
    }
   ],
   "source": [
    "8*7"
   ]
  },
  {
   "cell_type": "code",
   "execution_count": 21,
   "id": "92fa7b25",
   "metadata": {},
   "outputs": [
    {
     "name": "stdout",
     "output_type": "stream",
     "text": [
      "0o74\n"
     ]
    }
   ],
   "source": [
    "print(oct(60))"
   ]
  },
  {
   "cell_type": "code",
   "execution_count": null,
   "id": "2e414c34",
   "metadata": {},
   "outputs": [],
   "source": [
    "      7               4\n",
    "   7*(8**1)       4*(8**0)\n",
    "=   56               4\n",
    "= 60"
   ]
  },
  {
   "cell_type": "code",
   "execution_count": 23,
   "id": "1ec6f162",
   "metadata": {},
   "outputs": [
    {
     "ename": "SyntaxError",
     "evalue": "invalid digit '9' in octal literal (4208661430.py, line 1)",
     "output_type": "error",
     "traceback": [
      "\u001b[1;36m  Cell \u001b[1;32mIn[23], line 1\u001b[1;36m\u001b[0m\n\u001b[1;33m    a = 0O793\u001b[0m\n\u001b[1;37m           ^\u001b[0m\n\u001b[1;31mSyntaxError\u001b[0m\u001b[1;31m:\u001b[0m invalid digit '9' in octal literal\n"
     ]
    }
   ],
   "source": [
    "a = 0O793\n",
    "print(a)"
   ]
  },
  {
   "cell_type": "code",
   "execution_count": 24,
   "id": "f5ce12e1",
   "metadata": {},
   "outputs": [
    {
     "name": "stdout",
     "output_type": "stream",
     "text": [
      "296\n"
     ]
    }
   ],
   "source": [
    "a = 0o450\n",
    "print(a)"
   ]
  },
  {
   "cell_type": "code",
   "execution_count": 25,
   "id": "9ec2e303",
   "metadata": {},
   "outputs": [
    {
     "name": "stdout",
     "output_type": "stream",
     "text": [
      "0o450\n"
     ]
    }
   ],
   "source": [
    "a = 296\n",
    "print(oct(a))"
   ]
  },
  {
   "cell_type": "markdown",
   "id": "563aca70",
   "metadata": {},
   "source": [
    "# Hexadecimal (Hex) Number System (Base 16)\n",
    "The Hexadecimal (Hex) Number System is a method of counting and representing numbers using sixteen digits: 0, 1, 2, 3, 4, 5, 6, 7, 8, 9, A, B, C, D, E, and F. It is widely utilized in computing due to its compactness and human-readable format, especially for representing binary data.\n",
    "\n",
    "Characteristics:\n",
    "\n",
    "Digits: The Hexadecimal System consists of sixteen digits: 0, 1, 2, 3, 4, 5, 6, 7, 8, 9, A, B, C, D, E, and F.\n",
    "\n",
    "Positional Notation: Each position in a hexadecimal number represents a power of 16, similar to the decimal system but with sixteen possibilities per position.\n",
    "\n",
    "Representation: Hexadecimal numbers are formed by arranging these digits in different positions."
   ]
  },
  {
   "cell_type": "code",
   "execution_count": 29,
   "id": "6cc1c7bd",
   "metadata": {},
   "outputs": [
    {
     "name": "stdout",
     "output_type": "stream",
     "text": [
      "0x5a\n"
     ]
    }
   ],
   "source": [
    "a = 90\n",
    "print(hex(a))"
   ]
  },
  {
   "cell_type": "code",
   "execution_count": null,
   "id": "7a345a90",
   "metadata": {},
   "outputs": [],
   "source": [
    "16  90\n",
    "16   5  10  ^  A B\n",
    "         5  |"
   ]
  },
  {
   "cell_type": "code",
   "execution_count": 30,
   "id": "0129e45e",
   "metadata": {},
   "outputs": [
    {
     "data": {
      "text/plain": [
       "80"
      ]
     },
     "execution_count": 30,
     "metadata": {},
     "output_type": "execute_result"
    }
   ],
   "source": [
    "16*5"
   ]
  },
  {
   "cell_type": "code",
   "execution_count": null,
   "id": "0822ec2c",
   "metadata": {},
   "outputs": [],
   "source": [
    "  5                     a\n",
    "5*(16**1)         10*(16**0)\n",
    "  80                   10\n",
    "=90"
   ]
  },
  {
   "cell_type": "code",
   "execution_count": 33,
   "id": "15d33408",
   "metadata": {},
   "outputs": [
    {
     "ename": "SyntaxError",
     "evalue": "invalid hexadecimal literal (2739066935.py, line 1)",
     "output_type": "error",
     "traceback": [
      "\u001b[1;36m  Cell \u001b[1;32mIn[33], line 1\u001b[1;36m\u001b[0m\n\u001b[1;33m    a = 0x1DB2T\u001b[0m\n\u001b[1;37m             ^\u001b[0m\n\u001b[1;31mSyntaxError\u001b[0m\u001b[1;31m:\u001b[0m invalid hexadecimal literal\n"
     ]
    }
   ],
   "source": [
    "a = 0x1DB2T\n",
    "print(a)"
   ]
  },
  {
   "cell_type": "code",
   "execution_count": 34,
   "id": "c471a3cb",
   "metadata": {},
   "outputs": [
    {
     "name": "stdout",
     "output_type": "stream",
     "text": [
      "578\n"
     ]
    }
   ],
   "source": [
    "a  = 0x242\n",
    "print(a)"
   ]
  },
  {
   "cell_type": "code",
   "execution_count": 35,
   "id": "ecbed391",
   "metadata": {},
   "outputs": [
    {
     "name": "stdout",
     "output_type": "stream",
     "text": [
      "0x242\n"
     ]
    }
   ],
   "source": [
    "a = 578\n",
    "print(hex(a))"
   ]
  },
  {
   "cell_type": "code",
   "execution_count": 36,
   "id": "ca526359",
   "metadata": {},
   "outputs": [
    {
     "ename": "TypeError",
     "evalue": "'int' object is not iterable",
     "output_type": "error",
     "traceback": [
      "\u001b[1;31m---------------------------------------------------------------------------\u001b[0m",
      "\u001b[1;31mTypeError\u001b[0m                                 Traceback (most recent call last)",
      "Cell \u001b[1;32mIn[36], line 3\u001b[0m\n\u001b[0;32m      1\u001b[0m a  \u001b[38;5;241m=\u001b[39m \u001b[38;5;241m456\u001b[39m\n\u001b[1;32m----> 3\u001b[0m \u001b[38;5;28;01mfor\u001b[39;00m i \u001b[38;5;129;01min\u001b[39;00m a:\n\u001b[0;32m      4\u001b[0m     \u001b[38;5;28mprint\u001b[39m(i)\n",
      "\u001b[1;31mTypeError\u001b[0m: 'int' object is not iterable"
     ]
    }
   ],
   "source": [
    "a  = 456\n",
    "\n",
    "for i in a:\n",
    "    print(i)"
   ]
  },
  {
   "cell_type": "markdown",
   "id": "8e4a7337",
   "metadata": {},
   "source": [
    "# float\n",
    "\"float\" refers to a data type used to represent floating-point numbers, which are numbers that have a decimal point or are expressed in scientific notation."
   ]
  },
  {
   "cell_type": "code",
   "execution_count": 40,
   "id": "4e8d90b4",
   "metadata": {},
   "outputs": [
    {
     "name": "stdout",
     "output_type": "stream",
     "text": [
      "2.1 <class 'float'> 2515501558000\n"
     ]
    }
   ],
   "source": [
    "a = 2.10\n",
    "print(a,type(a),id(a))"
   ]
  },
  {
   "cell_type": "code",
   "execution_count": 39,
   "id": "2c812ed0",
   "metadata": {},
   "outputs": [
    {
     "name": "stdout",
     "output_type": "stream",
     "text": [
      "2.0 <class 'float'> 2515529757040\n"
     ]
    }
   ],
   "source": [
    "a = 2.\n",
    "print(a,type(a),id(a))"
   ]
  },
  {
   "cell_type": "code",
   "execution_count": 47,
   "id": "301583f9",
   "metadata": {},
   "outputs": [
    {
     "name": "stdout",
     "output_type": "stream",
     "text": [
      "20.0\n"
     ]
    }
   ],
   "source": [
    "a = 2e1\n",
    "print(a)"
   ]
  },
  {
   "cell_type": "code",
   "execution_count": 48,
   "id": "69818a80",
   "metadata": {},
   "outputs": [
    {
     "name": "stdout",
     "output_type": "stream",
     "text": [
      "200.0\n"
     ]
    }
   ],
   "source": [
    "a = 2e2\n",
    "print(a)"
   ]
  },
  {
   "cell_type": "code",
   "execution_count": 49,
   "id": "63a2a06d",
   "metadata": {},
   "outputs": [
    {
     "name": "stdout",
     "output_type": "stream",
     "text": [
      "2000.0\n"
     ]
    }
   ],
   "source": [
    "a = 2e3\n",
    "print(a)"
   ]
  },
  {
   "cell_type": "code",
   "execution_count": 50,
   "id": "ec289d40",
   "metadata": {},
   "outputs": [
    {
     "name": "stdout",
     "output_type": "stream",
     "text": [
      "400.0\n"
     ]
    }
   ],
   "source": [
    "a = 4000e-1\n",
    "print(a)"
   ]
  },
  {
   "cell_type": "code",
   "execution_count": 51,
   "id": "f3c7df1d",
   "metadata": {},
   "outputs": [
    {
     "name": "stdout",
     "output_type": "stream",
     "text": [
      "40.0\n"
     ]
    }
   ],
   "source": [
    "a = 4000e-2\n",
    "print(a)"
   ]
  },
  {
   "cell_type": "code",
   "execution_count": 54,
   "id": "2ad2c09f",
   "metadata": {},
   "outputs": [
    {
     "name": "stdout",
     "output_type": "stream",
     "text": [
      "True\n"
     ]
    }
   ],
   "source": [
    "a =0.3+0.1\n",
    "b= 0.4\n",
    "\n",
    "print(a==b)"
   ]
  },
  {
   "cell_type": "code",
   "execution_count": 57,
   "id": "042f6de4",
   "metadata": {},
   "outputs": [
    {
     "name": "stdout",
     "output_type": "stream",
     "text": [
      "False\n",
      "\n",
      "a: 0.30000000000000004440892098500626161694526672363281\n",
      "b: 0.29999999999999998889776975374843459576368331909180\n"
     ]
    }
   ],
   "source": [
    "a = 0.1 + 0.2\n",
    "b = 0.3\n",
    "\n",
    "\n",
    "print(a==b)\n",
    "\n",
    "print()\n",
    "\n",
    "print(f\"a: {a:.50f}\")\n",
    "print(f\"b: {b:.50f}\")\n",
    "\n"
   ]
  },
  {
   "cell_type": "markdown",
   "id": "77390ff6",
   "metadata": {},
   "source": [
    "# bool\n",
    "The bool data type represents two values: True and False. It's used to represent the concept of truth or falsehood in programming. Booleans are fundamental in decision-making and control flow within programs.\n",
    "\n",
    "Boolean Values:\n",
    "\n",
    "True and False: True represents a true or valid condition, while False represents a false or invalid condition.\n",
    "\n",
    "These are the only valid boolean values in Python."
   ]
  },
  {
   "cell_type": "code",
   "execution_count": 59,
   "id": "41bc34cf",
   "metadata": {},
   "outputs": [
    {
     "name": "stdout",
     "output_type": "stream",
     "text": [
      "True <class 'bool'> 140729945835728\n"
     ]
    }
   ],
   "source": [
    "a = True\n",
    "print(a,type(a),id(a))"
   ]
  },
  {
   "cell_type": "code",
   "execution_count": 60,
   "id": "96749efa",
   "metadata": {},
   "outputs": [
    {
     "name": "stdout",
     "output_type": "stream",
     "text": [
      "False <class 'bool'> 140729945835760\n"
     ]
    }
   ],
   "source": [
    "a = False\n",
    "print(a,type(a),id(a))"
   ]
  },
  {
   "cell_type": "code",
   "execution_count": 61,
   "id": "f411479a",
   "metadata": {},
   "outputs": [
    {
     "ename": "NameError",
     "evalue": "name 'true' is not defined",
     "output_type": "error",
     "traceback": [
      "\u001b[1;31m---------------------------------------------------------------------------\u001b[0m",
      "\u001b[1;31mNameError\u001b[0m                                 Traceback (most recent call last)",
      "Cell \u001b[1;32mIn[61], line 1\u001b[0m\n\u001b[1;32m----> 1\u001b[0m a \u001b[38;5;241m=\u001b[39m \u001b[43mtrue\u001b[49m\n\u001b[0;32m      2\u001b[0m \u001b[38;5;28mprint\u001b[39m(a,\u001b[38;5;28mtype\u001b[39m(a),\u001b[38;5;28mid\u001b[39m(a))\n",
      "\u001b[1;31mNameError\u001b[0m: name 'true' is not defined"
     ]
    }
   ],
   "source": [
    "a = true\n",
    "print(a,type(a),id(a))"
   ]
  },
  {
   "cell_type": "code",
   "execution_count": 62,
   "id": "9f90f861",
   "metadata": {},
   "outputs": [
    {
     "name": "stdout",
     "output_type": "stream",
     "text": [
      "2\n"
     ]
    }
   ],
   "source": [
    "a = True+True # True = 1\n",
    "print(a)"
   ]
  },
  {
   "cell_type": "code",
   "execution_count": 63,
   "id": "e39e8dd1",
   "metadata": {},
   "outputs": [
    {
     "name": "stdout",
     "output_type": "stream",
     "text": [
      "0\n"
     ]
    }
   ],
   "source": [
    "a = False+False # False = 0\n",
    "print(a)"
   ]
  },
  {
   "cell_type": "code",
   "execution_count": 65,
   "id": "9be10116",
   "metadata": {},
   "outputs": [
    {
     "name": "stdout",
     "output_type": "stream",
     "text": [
      "-5\n"
     ]
    }
   ],
   "source": [
    "a = True+True-True+True-8-True-True+3\n",
    "# 1+1-1+1-8-1-1+3 \n",
    "# -8+3\n",
    "print(a)"
   ]
  },
  {
   "cell_type": "code",
   "execution_count": 66,
   "id": "f7e128a7",
   "metadata": {},
   "outputs": [
    {
     "name": "stdout",
     "output_type": "stream",
     "text": [
      "True\n"
     ]
    }
   ],
   "source": [
    "print(10==10)"
   ]
  },
  {
   "cell_type": "markdown",
   "id": "9316df86",
   "metadata": {},
   "source": [
    "# Complex\n",
    "The complex data type in Python represents complex numbers, which consist of a real part and an imaginary part. Complex numbers extend the real numbers by introducing an imaginary unit, denoted as \"j\".\n",
    "\n",
    "Complex Number Representation:\n",
    "\n",
    "In Python, complex numbers are represented using the syntax a + bj, where a and b are floating-point numbers.\n",
    "\n",
    "The real part is denoted by a, and the imaginary part is denoted by b.\n",
    "\n",
    "Example: 3 + 4j represents a complex number with a real part of 3 and an imaginary part of 4."
   ]
  },
  {
   "cell_type": "code",
   "execution_count": 69,
   "id": "43e47539",
   "metadata": {},
   "outputs": [
    {
     "name": "stdout",
     "output_type": "stream",
     "text": [
      "(2+3j) <class 'complex'> 2515531121328\n"
     ]
    }
   ],
   "source": [
    "a = 2+3j\n",
    "print(a,type(a),id(a))"
   ]
  },
  {
   "cell_type": "code",
   "execution_count": 70,
   "id": "d7b65654",
   "metadata": {},
   "outputs": [
    {
     "name": "stdout",
     "output_type": "stream",
     "text": [
      "2.0\n"
     ]
    }
   ],
   "source": [
    "print(a.real)"
   ]
  },
  {
   "cell_type": "code",
   "execution_count": 71,
   "id": "c1fcbc30",
   "metadata": {},
   "outputs": [
    {
     "name": "stdout",
     "output_type": "stream",
     "text": [
      "3.0\n"
     ]
    }
   ],
   "source": [
    "print(a.imag)"
   ]
  },
  {
   "cell_type": "code",
   "execution_count": 72,
   "id": "ee2d8425",
   "metadata": {},
   "outputs": [
    {
     "name": "stdout",
     "output_type": "stream",
     "text": [
      "(12+4j) <class 'complex'> 2515531121168\n"
     ]
    }
   ],
   "source": [
    "a = 2+2+4j+6+2\n",
    "print(a,type(a),id(a))"
   ]
  },
  {
   "cell_type": "code",
   "execution_count": 73,
   "id": "65e6a54c",
   "metadata": {},
   "outputs": [
    {
     "name": "stdout",
     "output_type": "stream",
     "text": [
      "(4+5j)\n"
     ]
    }
   ],
   "source": [
    "a = complex(4,5)\n",
    "print(a)"
   ]
  },
  {
   "cell_type": "code",
   "execution_count": 74,
   "id": "93337bb2",
   "metadata": {},
   "outputs": [
    {
     "ename": "SyntaxError",
     "evalue": "invalid decimal literal (3004365125.py, line 1)",
     "output_type": "error",
     "traceback": [
      "\u001b[1;36m  Cell \u001b[1;32mIn[74], line 1\u001b[1;36m\u001b[0m\n\u001b[1;33m    a = 4+7i\u001b[0m\n\u001b[1;37m          ^\u001b[0m\n\u001b[1;31mSyntaxError\u001b[0m\u001b[1;31m:\u001b[0m invalid decimal literal\n"
     ]
    }
   ],
   "source": [
    "a = 4+7i\n",
    "print(a)"
   ]
  },
  {
   "cell_type": "code",
   "execution_count": 75,
   "id": "60a01d77",
   "metadata": {},
   "outputs": [
    {
     "name": "stdout",
     "output_type": "stream",
     "text": [
      "11\n"
     ]
    }
   ],
   "source": [
    "a = 0b1011\n",
    "print(a)"
   ]
  },
  {
   "cell_type": "code",
   "execution_count": 76,
   "id": "0d945217",
   "metadata": {},
   "outputs": [
    {
     "name": "stdout",
     "output_type": "stream",
     "text": [
      "(19+4j)\n"
     ]
    }
   ],
   "source": [
    "a=3+4j+True+3+0b1011+False+True-True-True+2+False\n",
    "print(a) "
   ]
  },
  {
   "cell_type": "code",
   "execution_count": 81,
   "id": "183da314",
   "metadata": {},
   "outputs": [
    {
     "name": "stdout",
     "output_type": "stream",
     "text": [
      "18.0\n"
     ]
    }
   ],
   "source": [
    "a = 4+5j\n",
    "\n",
    "b = 2+3+True-True-True+a.real+2-False-False+8+a.imag+True-True-True-a.real\n",
    "  # 2+3+1-1-1+4+2-0-0+8+5+1-1-1-4\n",
    "    \n",
    "\n",
    "print(b)"
   ]
  },
  {
   "cell_type": "code",
   "execution_count": 82,
   "id": "9b68c16f",
   "metadata": {},
   "outputs": [
    {
     "name": "stdout",
     "output_type": "stream",
     "text": [
      "(4+5j)\n"
     ]
    }
   ],
   "source": [
    "\n",
    "print(a)"
   ]
  },
  {
   "cell_type": "code",
   "execution_count": 83,
   "id": "da3dfa7b",
   "metadata": {},
   "outputs": [
    {
     "data": {
      "text/plain": [
       "4.0"
      ]
     },
     "execution_count": 83,
     "metadata": {},
     "output_type": "execute_result"
    }
   ],
   "source": [
    "a.real"
   ]
  },
  {
   "cell_type": "code",
   "execution_count": 84,
   "id": "817a81e7",
   "metadata": {},
   "outputs": [
    {
     "data": {
      "text/plain": [
       "5.0"
      ]
     },
     "execution_count": 84,
     "metadata": {},
     "output_type": "execute_result"
    }
   ],
   "source": [
    "a.imag"
   ]
  },
  {
   "cell_type": "code",
   "execution_count": 102,
   "id": "10fac7ff",
   "metadata": {},
   "outputs": [
    {
     "ename": "TypeError",
     "evalue": "'int' object is not iterable",
     "output_type": "error",
     "traceback": [
      "\u001b[1;31m---------------------------------------------------------------------------\u001b[0m",
      "\u001b[1;31mTypeError\u001b[0m                                 Traceback (most recent call last)",
      "Cell \u001b[1;32mIn[102], line 3\u001b[0m\n\u001b[0;32m      1\u001b[0m a \u001b[38;5;241m=\u001b[39m \u001b[38;5;241m342353647\u001b[39m\n\u001b[1;32m----> 3\u001b[0m \u001b[38;5;28;01mfor\u001b[39;00m i \u001b[38;5;129;01min\u001b[39;00m a:\n\u001b[0;32m      4\u001b[0m     \u001b[38;5;28mprint\u001b[39m(i)\n",
      "\u001b[1;31mTypeError\u001b[0m: 'int' object is not iterable"
     ]
    }
   ],
   "source": [
    "a = 342353647\n",
    "\n",
    "for i in a:\n",
    "    print(i)"
   ]
  },
  {
   "cell_type": "markdown",
   "id": "3aaccae7",
   "metadata": {},
   "source": [
    "# Sequence Data Type Cateogry\n",
    "The sequence data type category refers to a collection of ordered elements, where each element is accessible by an index. Sequences are iterable, meaning you can iterate over their elements using loops like for or comprehension expressions."
   ]
  },
  {
   "cell_type": "markdown",
   "id": "f39c269d",
   "metadata": {},
   "source": [
    "# str\n",
    "The str data type represents strings, which are sequences of characters. Strings are used to store text and can include letters, digits, symbols, and whitespace. They are an essential part of programming for working with textual data, formatting output, and manipulating strings in various ways. Strings in Python are considered immutable, meaning their contents cannot be changed once they are created.\n",
    "\n",
    "Basic Concepts:\n",
    "\n",
    "Text Representation: Strings are used to represent words, sentences, and textual data in Python.\n",
    "\n",
    "Immutable Nature: Once created, strings cannot be changed. They are immutable objects.\n",
    "\n",
    "String Creation:\n",
    "\n",
    "Regular Strings: Created by enclosing text in either single quotes (') or double quotes (\")."
   ]
  },
  {
   "cell_type": "code",
   "execution_count": 87,
   "id": "5be81dcb",
   "metadata": {},
   "outputs": [
    {
     "name": "stdout",
     "output_type": "stream",
     "text": [
      "Python Programming <class 'str'> 2515502437424\n"
     ]
    }
   ],
   "source": [
    "a = 'Python Programming'\n",
    "print(a,type(a),id(a))"
   ]
  },
  {
   "cell_type": "code",
   "execution_count": 88,
   "id": "b419aaaf",
   "metadata": {},
   "outputs": [
    {
     "name": "stdout",
     "output_type": "stream",
     "text": [
      "Python Programming <class 'str'> 2515530800848\n"
     ]
    }
   ],
   "source": [
    "a =\"Python Programming\"\n",
    "print(a,type(a),id(a))"
   ]
  },
  {
   "cell_type": "markdown",
   "id": "0d1ca678",
   "metadata": {},
   "source": [
    "Multiline Strings: Span multiple lines and are created using triple quotes (''' or \"\"\")."
   ]
  },
  {
   "cell_type": "code",
   "execution_count": 89,
   "id": "899a14ee",
   "metadata": {},
   "outputs": [
    {
     "name": "stdout",
     "output_type": "stream",
     "text": [
      "Python Programming\n",
      "Python is high level language <class 'str'> 2515530883664\n"
     ]
    }
   ],
   "source": [
    "a = '''Python Programming\n",
    "Python is high level language'''\n",
    "print(a,type(a),id(a))"
   ]
  },
  {
   "cell_type": "code",
   "execution_count": 90,
   "id": "61859b8b",
   "metadata": {},
   "outputs": [
    {
     "name": "stdout",
     "output_type": "stream",
     "text": [
      "Python Programming\n",
      "Python is high level language <class 'str'> 2515530883888\n"
     ]
    }
   ],
   "source": [
    "a = \"\"\"Python Programming\n",
    "Python is high level language\"\"\"\n",
    "print(a,type(a),id(a))"
   ]
  },
  {
   "cell_type": "code",
   "execution_count": 91,
   "id": "26437bb5",
   "metadata": {},
   "outputs": [
    {
     "name": "stdout",
     "output_type": "stream",
     "text": [
      "Python Programming\n",
      "Python is high level language\n"
     ]
    }
   ],
   "source": [
    "a =\"Python Programming\\nPython is high level language\"\n",
    "print(a)"
   ]
  },
  {
   "cell_type": "code",
   "execution_count": 92,
   "id": "2b2e3495",
   "metadata": {},
   "outputs": [
    {
     "name": "stdout",
     "output_type": "stream",
     "text": [
      "Python Programming\tPython is high level language\n"
     ]
    }
   ],
   "source": [
    "a =\"Python Programming\\tPython is high level language\"\n",
    "print(a)"
   ]
  },
  {
   "cell_type": "code",
   "execution_count": 93,
   "id": "218ddfb5",
   "metadata": {},
   "outputs": [
    {
     "name": "stdout",
     "output_type": "stream",
     "text": [
      "Python Programming\bPython is high level language\n"
     ]
    }
   ],
   "source": [
    "a =\"Python Programming\\bPython is high level language\"\n",
    "print(a)"
   ]
  },
  {
   "cell_type": "markdown",
   "id": "461a9f30",
   "metadata": {},
   "source": [
    "F-strings: Provide a convenient way to insert variables or expressions into strings."
   ]
  },
  {
   "cell_type": "code",
   "execution_count": 97,
   "id": "e5529721",
   "metadata": {},
   "outputs": [
    {
     "name": "stdout",
     "output_type": "stream",
     "text": [
      "Hello Akash, how are you doing today?\n"
     ]
    }
   ],
   "source": [
    "a = \"Akash\"\n",
    "\n",
    "print(f\"Hello {a}, how are you doing today?\")"
   ]
  },
  {
   "cell_type": "code",
   "execution_count": 98,
   "id": "95929d22",
   "metadata": {
    "scrolled": true
   },
   "outputs": [
    {
     "name": "stdout",
     "output_type": "stream",
     "text": [
      "Hello Akash, how are you doing today?\n"
     ]
    }
   ],
   "source": [
    "a = \"Akash\"\n",
    "\n",
    "print(\"Hello {}, how are you doing today?\".format(a))"
   ]
  },
  {
   "cell_type": "code",
   "execution_count": 9,
   "id": "faa62e48-3e6b-48e7-a52b-e7aacb789a5e",
   "metadata": {},
   "outputs": [
    {
     "name": "stdout",
     "output_type": "stream",
     "text": [
      "hello tushar,what is your surname ?\n"
     ]
    }
   ],
   "source": [
    "c=\"tushar\" \n",
    "\n",
    "print(\"hello {},what is your surname ?\".format(c))"
   ]
  },
  {
   "cell_type": "code",
   "execution_count": null,
   "id": "c7a49df8-5a3e-4a5a-8ead-4137a70cff19",
   "metadata": {},
   "outputs": [],
   "source": [
    "print(\"hello{},how are you doing today?\".format(a))"
   ]
  },
  {
   "cell_type": "code",
   "execution_count": 100,
   "id": "7aa456e9",
   "metadata": {},
   "outputs": [],
   "source": [
    "a =\"Python Programming\""
   ]
  },
  {
   "cell_type": "code",
   "execution_count": 101,
   "id": "c92660da",
   "metadata": {},
   "outputs": [
    {
     "name": "stdout",
     "output_type": "stream",
     "text": [
      "P\n",
      "y\n",
      "t\n",
      "h\n",
      "o\n",
      "n\n",
      " \n",
      "P\n",
      "r\n",
      "o\n",
      "g\n",
      "r\n",
      "a\n",
      "m\n",
      "m\n",
      "i\n",
      "n\n",
      "g\n"
     ]
    }
   ],
   "source": [
    "for i in a:\n",
    "    print(i)"
   ]
  },
  {
   "cell_type": "markdown",
   "id": "57776525",
   "metadata": {
    "jp-MarkdownHeadingCollapsed": true
   },
   "source": [
    "# Operations on str\n",
    "\n",
    "Indexing\n",
    "\n",
    "<b>Slicing</b>\n",
    "\n",
    "On str Data, we can perform two types of operations: Indexing and Slicing.\n",
    "\n"
   ]
  },
  {
   "cell_type": "markdown",
   "id": "ab1c3a6a",
   "metadata": {},
   "source": [
    "# 1. Indexing\n",
    "Indexing Basics:\n",
    "\n",
    "Indexing refers to accessing elements within a sequence like strings, lists, or tuples. Each element in a sequence is assigned a unique index, starting from 0. Positive Indexing:\n",
    "\n",
    "Use positive integers to access elements from the beginning of the sequence. The element at index i can be accessed using sequence[i]. Negative Indexing:\n",
    "\n",
    "Negative indices count from the end of the sequence. The last element has an index of -1, the second-to-last has an index of -2, and so on. Index Range (Slicing):\n",
    "\n",
    "Trying to access an index that doesn't exist raises an IndexError. Always make sure the index is within the valid range of the sequence."
   ]
  },
  {
   "cell_type": "code",
   "execution_count": null,
   "id": "75c750f4",
   "metadata": {},
   "outputs": [],
   "source": [
    "+------------------------------------------- Length = 6 --------------------------------------+\n",
    "                      |   p       |     y     |     t     |     h     |     o     |     n     |\n",
    "+---------------------------------------------------------------------------------------------+\n",
    "|  Positive index     |     0     |     1     |     2     |     3     |     4     |     5     |\n",
    "+---------------------------------------------------------------------------------------------+\n",
    "|  negative index     |    -6     |    -5     |    -4     |    -3     |    -2     |    -1     |\n",
    "+---------------------------------------------------------------------------------------------+\n"
   ]
  },
  {
   "cell_type": "markdown",
   "id": "cbc1bb03",
   "metadata": {},
   "source": [
    "In Python, indexing starts from 0. When using positive indexing, trying to access an index that is greater than or equal to the length of the string will result in an IndexError, indicating that the index is out of range."
   ]
  },
  {
   "cell_type": "code",
   "execution_count": 103,
   "id": "1ac03906",
   "metadata": {},
   "outputs": [],
   "source": [
    "a = \"Python Programming\""
   ]
  },
  {
   "cell_type": "code",
   "execution_count": 104,
   "id": "eee64a0f",
   "metadata": {},
   "outputs": [
    {
     "data": {
      "text/plain": [
       "'P'"
      ]
     },
     "execution_count": 104,
     "metadata": {},
     "output_type": "execute_result"
    }
   ],
   "source": [
    "a[0]"
   ]
  },
  {
   "cell_type": "code",
   "execution_count": 105,
   "id": "d13135d8",
   "metadata": {},
   "outputs": [
    {
     "data": {
      "text/plain": [
       "'y'"
      ]
     },
     "execution_count": 105,
     "metadata": {},
     "output_type": "execute_result"
    }
   ],
   "source": [
    "a[1]"
   ]
  },
  {
   "cell_type": "code",
   "execution_count": 106,
   "id": "ae17823f",
   "metadata": {},
   "outputs": [
    {
     "data": {
      "text/plain": [
       "'o'"
      ]
     },
     "execution_count": 106,
     "metadata": {},
     "output_type": "execute_result"
    }
   ],
   "source": [
    "a[2+3-True]"
   ]
  },
  {
   "cell_type": "code",
   "execution_count": 107,
   "id": "e17865de",
   "metadata": {},
   "outputs": [
    {
     "data": {
      "text/plain": [
       "'g'"
      ]
     },
     "execution_count": 107,
     "metadata": {},
     "output_type": "execute_result"
    }
   ],
   "source": [
    "a[-1]"
   ]
  },
  {
   "cell_type": "code",
   "execution_count": 108,
   "id": "78addc61",
   "metadata": {},
   "outputs": [
    {
     "data": {
      "text/plain": [
       "'n'"
      ]
     },
     "execution_count": 108,
     "metadata": {},
     "output_type": "execute_result"
    }
   ],
   "source": [
    "a[-2]"
   ]
  },
  {
   "cell_type": "code",
   "execution_count": 109,
   "id": "fc7e40ad",
   "metadata": {},
   "outputs": [
    {
     "data": {
      "text/plain": [
       "'r'"
      ]
     },
     "execution_count": 109,
     "metadata": {},
     "output_type": "execute_result"
    }
   ],
   "source": [
    "\"Programming\"[-7]"
   ]
  },
  {
   "cell_type": "code",
   "execution_count": 110,
   "id": "614c340e",
   "metadata": {},
   "outputs": [
    {
     "data": {
      "text/plain": [
       "'m'"
      ]
     },
     "execution_count": 110,
     "metadata": {},
     "output_type": "execute_result"
    }
   ],
   "source": [
    "\"Programming\"[7]"
   ]
  },
  {
   "cell_type": "code",
   "execution_count": 111,
   "id": "d89f8641",
   "metadata": {},
   "outputs": [
    {
     "data": {
      "text/plain": [
       "'Python Programming'"
      ]
     },
     "execution_count": 111,
     "metadata": {},
     "output_type": "execute_result"
    }
   ],
   "source": [
    "a\n"
   ]
  },
  {
   "cell_type": "code",
   "execution_count": 112,
   "id": "6b3e38b3",
   "metadata": {},
   "outputs": [
    {
     "ename": "IndexError",
     "evalue": "string index out of range",
     "output_type": "error",
     "traceback": [
      "\u001b[1;31m---------------------------------------------------------------------------\u001b[0m",
      "\u001b[1;31mIndexError\u001b[0m                                Traceback (most recent call last)",
      "Cell \u001b[1;32mIn[112], line 1\u001b[0m\n\u001b[1;32m----> 1\u001b[0m \u001b[43ma\u001b[49m\u001b[43m[\u001b[49m\u001b[38;5;241;43m100\u001b[39;49m\u001b[43m]\u001b[49m\n",
      "\u001b[1;31mIndexError\u001b[0m: string index out of range"
     ]
    }
   ],
   "source": [
    "a[100]"
   ]
  },
  {
   "cell_type": "code",
   "execution_count": 113,
   "id": "0354d77c",
   "metadata": {},
   "outputs": [
    {
     "name": "stdout",
     "output_type": "stream",
     "text": [
      "18\n"
     ]
    }
   ],
   "source": [
    "print(len(a))"
   ]
  },
  {
   "cell_type": "code",
   "execution_count": 114,
   "id": "7962016d",
   "metadata": {},
   "outputs": [
    {
     "data": {
      "text/plain": [
       "'g'"
      ]
     },
     "execution_count": 114,
     "metadata": {},
     "output_type": "execute_result"
    }
   ],
   "source": [
    "a[17]"
   ]
  },
  {
   "cell_type": "code",
   "execution_count": 115,
   "id": "e02835ee",
   "metadata": {},
   "outputs": [
    {
     "ename": "IndexError",
     "evalue": "string index out of range",
     "output_type": "error",
     "traceback": [
      "\u001b[1;31m---------------------------------------------------------------------------\u001b[0m",
      "\u001b[1;31mIndexError\u001b[0m                                Traceback (most recent call last)",
      "Cell \u001b[1;32mIn[115], line 1\u001b[0m\n\u001b[1;32m----> 1\u001b[0m \u001b[43ma\u001b[49m\u001b[43m[\u001b[49m\u001b[38;5;241;43m-\u001b[39;49m\u001b[38;5;241;43m20\u001b[39;49m\u001b[43m]\u001b[49m\n",
      "\u001b[1;31mIndexError\u001b[0m: string index out of range"
     ]
    }
   ],
   "source": [
    "a[-20]"
   ]
  },
  {
   "cell_type": "code",
   "execution_count": 116,
   "id": "17c96f1d",
   "metadata": {},
   "outputs": [
    {
     "data": {
      "text/plain": [
       "'Python Programming'"
      ]
     },
     "execution_count": 116,
     "metadata": {},
     "output_type": "execute_result"
    }
   ],
   "source": [
    "a"
   ]
  },
  {
   "cell_type": "code",
   "execution_count": 117,
   "id": "4d1bc17a",
   "metadata": {},
   "outputs": [
    {
     "data": {
      "text/plain": [
       "'P'"
      ]
     },
     "execution_count": 117,
     "metadata": {},
     "output_type": "execute_result"
    }
   ],
   "source": [
    "a[-18]"
   ]
  },
  {
   "cell_type": "code",
   "execution_count": 119,
   "id": "a75f4999",
   "metadata": {},
   "outputs": [
    {
     "data": {
      "text/plain": [
       "'Python Programming'"
      ]
     },
     "execution_count": 119,
     "metadata": {},
     "output_type": "execute_result"
    }
   ],
   "source": [
    "a"
   ]
  },
  {
   "cell_type": "code",
   "execution_count": 120,
   "id": "5374d8fa",
   "metadata": {},
   "outputs": [
    {
     "name": "stdout",
     "output_type": "stream",
     "text": [
      "Python ProgrammingiS Good\n"
     ]
    }
   ],
   "source": [
    "print(a+\"iS Good\")"
   ]
  },
  {
   "cell_type": "code",
   "execution_count": 121,
   "id": "e5007ff8",
   "metadata": {},
   "outputs": [
    {
     "ename": "TypeError",
     "evalue": "can only concatenate str (not \"int\") to str",
     "output_type": "error",
     "traceback": [
      "\u001b[1;31m---------------------------------------------------------------------------\u001b[0m",
      "\u001b[1;31mTypeError\u001b[0m                                 Traceback (most recent call last)",
      "Cell \u001b[1;32mIn[121], line 1\u001b[0m\n\u001b[1;32m----> 1\u001b[0m \u001b[38;5;28mprint\u001b[39m(\u001b[43ma\u001b[49m\u001b[38;5;241;43m+\u001b[39;49m\u001b[38;5;241;43m10\u001b[39;49m)\n",
      "\u001b[1;31mTypeError\u001b[0m: can only concatenate str (not \"int\") to str"
     ]
    }
   ],
   "source": [
    "print(a+10)"
   ]
  },
  {
   "cell_type": "code",
   "execution_count": 122,
   "id": "af667b95",
   "metadata": {},
   "outputs": [],
   "source": [
    "a = \"Python Programming\""
   ]
  },
  {
   "cell_type": "code",
   "execution_count": 123,
   "id": "9087e6d2",
   "metadata": {},
   "outputs": [
    {
     "name": "stdout",
     "output_type": "stream",
     "text": [
      "Python ProgrammingPython ProgrammingPython Programming\n"
     ]
    }
   ],
   "source": [
    "print(a*3)"
   ]
  },
  {
   "cell_type": "code",
   "execution_count": 124,
   "id": "1996b9c1",
   "metadata": {},
   "outputs": [],
   "source": [
    "# Slicing"
   ]
  },
  {
   "cell_type": "code",
   "execution_count": 125,
   "id": "bec619d2",
   "metadata": {},
   "outputs": [
    {
     "data": {
      "text/plain": [
       "'Python Programming'"
      ]
     },
     "execution_count": 125,
     "metadata": {},
     "output_type": "execute_result"
    }
   ],
   "source": [
    "a"
   ]
  },
  {
   "cell_type": "code",
   "execution_count": 127,
   "id": "d89e9b82",
   "metadata": {},
   "outputs": [
    {
     "data": {
      "text/plain": [
       "'oPa'"
      ]
     },
     "execution_count": 127,
     "metadata": {},
     "output_type": "execute_result"
    }
   ],
   "source": [
    "a[4]+a[7]+a[12]"
   ]
  },
  {
   "cell_type": "code",
   "execution_count": null,
   "id": "492fc4ab",
   "metadata": {},
   "outputs": [],
   "source": [
    "a[Start Index: End Index -1]"
   ]
  },
  {
   "cell_type": "code",
   "execution_count": 128,
   "id": "b60e291f",
   "metadata": {},
   "outputs": [
    {
     "data": {
      "text/plain": [
       "'thon Progr'"
      ]
     },
     "execution_count": 128,
     "metadata": {},
     "output_type": "execute_result"
    }
   ],
   "source": [
    "a[2:12]\n"
   ]
  },
  {
   "cell_type": "code",
   "execution_count": 129,
   "id": "4c80aed1",
   "metadata": {},
   "outputs": [
    {
     "data": {
      "text/plain": [
       "'thon P'"
      ]
     },
     "execution_count": 129,
     "metadata": {},
     "output_type": "execute_result"
    }
   ],
   "source": [
    "a[2:8]"
   ]
  },
  {
   "cell_type": "code",
   "execution_count": 130,
   "id": "5c82542a",
   "metadata": {},
   "outputs": [
    {
     "data": {
      "text/plain": [
       "'hon Programm'"
      ]
     },
     "execution_count": 130,
     "metadata": {},
     "output_type": "execute_result"
    }
   ],
   "source": [
    "a[3:-3] # [3:-3-1]   [3:-4]"
   ]
  },
  {
   "cell_type": "code",
   "execution_count": 133,
   "id": "ccc5e930",
   "metadata": {},
   "outputs": [
    {
     "data": {
      "text/plain": [
       "2"
      ]
     },
     "execution_count": 133,
     "metadata": {},
     "output_type": "execute_result"
    }
   ],
   "source": [
    "a.index(\"th\")"
   ]
  },
  {
   "cell_type": "code",
   "execution_count": null,
   "id": "6060147f",
   "metadata": {},
   "outputs": [],
   "source": []
  }
 ],
 "metadata": {
  "kernelspec": {
   "display_name": "Python 3 (ipykernel)",
   "language": "python",
   "name": "python3"
  },
  "language_info": {
   "codemirror_mode": {
    "name": "ipython",
    "version": 3
   },
   "file_extension": ".py",
   "mimetype": "text/x-python",
   "name": "python",
   "nbconvert_exporter": "python",
   "pygments_lexer": "ipython3",
   "version": "3.12.4"
  }
 },
 "nbformat": 4,
 "nbformat_minor": 5
}
