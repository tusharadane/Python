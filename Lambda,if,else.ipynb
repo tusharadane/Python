{
 "cells": [
  {
   "cell_type": "code",
   "execution_count": 5,
   "id": "b80ad7cf-b8b5-4d13-bd11-59fe9ba32bc0",
   "metadata": {},
   "outputs": [
    {
     "name": "stdout",
     "output_type": "stream",
     "text": [
      "* \n",
      "* * \n",
      "* * * \n",
      "* * * * \n",
      "* * * * * \n"
     ]
    }
   ],
   "source": [
    "for i in range(1,6):\n",
    "    for j in range(0,i):\n",
    "        print(\"*\",end=' ')\n",
    "    print()\n",
    "    "
   ]
  },
  {
   "cell_type": "code",
   "execution_count": 9,
   "id": "d0716d04-ae0c-409c-9018-c77bae03bb70",
   "metadata": {},
   "outputs": [
    {
     "name": "stdout",
     "output_type": "stream",
     "text": [
      "* \n",
      "* * \n",
      "* * * \n",
      "* * * * \n",
      "* * * * * \n"
     ]
    }
   ],
   "source": [
    "for i in range(1,6):\n",
    "    print(i*\"* \")"
   ]
  },
  {
   "cell_type": "code",
   "execution_count": 11,
   "id": "d2086204-c894-46c8-87e1-db0f9f20f51c",
   "metadata": {},
   "outputs": [
    {
     "name": "stdout",
     "output_type": "stream",
     "text": [
      "{1: 2, 5: 2, 4: 1, 3: 1, 2: 1, 6: 1}\n"
     ]
    }
   ],
   "source": [
    "a=[1,5,4,3,2,5,6,1]\n",
    "\n",
    "dict={}\n",
    "\n",
    "for i in a:\n",
    "    if i in dict:\n",
    "        dict[i]=dict[i]+1\n",
    "    else:\n",
    "        dict[i]=1\n",
    "print(dict)"
   ]
  },
  {
   "cell_type": "code",
   "execution_count": 21,
   "id": "a379f24f-acd9-4de4-9f3c-90a2ca3a2e30",
   "metadata": {},
   "outputs": [
    {
     "name": "stdout",
     "output_type": "stream",
     "text": [
      "it is a perfect square\n"
     ]
    }
   ],
   "source": [
    "a=36\n",
    "\n",
    "sqrt=int(a**0.5)\n",
    "if a==sqrt*sqrt:\n",
    "        print(\"it is a perfect square\")\n",
    "else:\n",
    "    print(\"it is not a perfect square\")\n"
   ]
  },
  {
   "cell_type": "code",
   "execution_count": 25,
   "id": "b97418a7-6fce-4ac1-a66a-95574ac76be1",
   "metadata": {},
   "outputs": [
    {
     "name": "stdout",
     "output_type": "stream",
     "text": [
      "[2, 3, 5]\n"
     ]
    }
   ],
   "source": [
    "a=[1,2,3,4,5,6]\n",
    "b=[5,2,8,3,9,10]\n",
    "\n",
    "comman_value=[]\n",
    "\n",
    "for i in a:\n",
    "    if i in b:\n",
    "        comman_value.append(i)\n",
    "print(comman_value)\n",
    "    "
   ]
  },
  {
   "cell_type": "code",
   "execution_count": 3,
   "id": "5f723d12-1d8f-454f-a6a3-d58dea43d8ed",
   "metadata": {},
   "outputs": [
    {
     "name": "stdout",
     "output_type": "stream",
     "text": [
      "[2, 3, 4, 5]\n"
     ]
    }
   ],
   "source": [
    "a=[1,2,3,4,5,6,2,3,4]\n",
    "b=[5,2,8,3,9,10,4,2,5]\n",
    "\n",
    "c=[]\n",
    "for i in a:\n",
    "    if i in b and i not in c:\n",
    "        c.append(i)\n",
    "print(c)"
   ]
  },
  {
   "cell_type": "code",
   "execution_count": 31,
   "id": "55c25839-ded7-48f7-888b-22facb672814",
   "metadata": {},
   "outputs": [
    {
     "name": "stdin",
     "output_type": "stream",
     "text": [
      "enter the length of series you want to generate 10\n"
     ]
    },
    {
     "name": "stdout",
     "output_type": "stream",
     "text": [
      "0 1 1 2 3 5 8 13 21 34 "
     ]
    }
   ],
   "source": [
    "series=int(input(\"enter the length of series you want to generate\"))\n",
    "num1=0\n",
    "num2=1\n",
    "\n",
    "for i in range(num1,series):\n",
    "    num3=num1+num2\n",
    "    print(num1, end=' ')\n",
    "    num1=num2\n",
    "    num2=num3\n",
    "    "
   ]
  },
  {
   "cell_type": "code",
   "execution_count": 45,
   "id": "d8445ca6-ce60-4e10-9c6d-12df7998a59c",
   "metadata": {},
   "outputs": [
    {
     "name": "stdout",
     "output_type": "stream",
     "text": [
      "524865747 <class 'int'>\n"
     ]
    }
   ],
   "source": [
    "a=747568425\n",
    "b=int(str(a)[::-1])\n",
    "\n",
    "print(b,type(b))"
   ]
  },
  {
   "cell_type": "code",
   "execution_count": 3,
   "id": "f0b2b9e6-4a68-48a4-b551-df1444ff245e",
   "metadata": {},
   "outputs": [
    {
     "name": "stdout",
     "output_type": "stream",
     "text": [
      "35\n"
     ]
    }
   ],
   "source": [
    "#Q1) Write a lambda function that adds 15 to a given number passed as an argument.\n",
    "\n",
    "add=lambda x:x+15\n",
    "\n",
    "a=20\n",
    "print(add(a))"
   ]
  },
  {
   "cell_type": "code",
   "execution_count": 23,
   "id": "dc01a735-340d-4647-b85a-7658e19f6727",
   "metadata": {},
   "outputs": [
    {
     "name": "stdout",
     "output_type": "stream",
     "text": [
      "['APPLE', 'BANANA', 'CHERRY']\n"
     ]
    }
   ],
   "source": [
    "#Q2) Use map() to convert all strings in the list ['apple', 'banana', 'cherry'] to uppercase\n",
    "\n",
    "a= ['apple', 'banana', 'cherry'] \n",
    "\n",
    "upper_case=list(map(lambda x:x.upper(),a))\n",
    "\n",
    "print(upper_case)"
   ]
  },
  {
   "cell_type": "code",
   "execution_count": 9,
   "id": "e8d5ac0b-6115-4f33-9353-b55dd0b2bbed",
   "metadata": {},
   "outputs": [
    {
     "name": "stdout",
     "output_type": "stream",
     "text": [
      "['hello', 'world', 'python', 'lambda']\n"
     ]
    }
   ],
   "source": [
    "\n",
    "#Q3) Use filter() to find all the strings in the list ['hello', 'world', '', 'python', '', 'lambda'] that \n",
    "#are non-empty.\n",
    "\n",
    "a=['hello', 'world', '', 'python', '', 'lambda']\n",
    "\n",
    "non_empty=list(filter(lambda x: x!='',a))\n",
    "\n",
    "print(non_empty)"
   ]
  },
  {
   "cell_type": "code",
   "execution_count": 13,
   "id": "db5ddeb8-23e4-4535-b31b-a8ef64a733ee",
   "metadata": {},
   "outputs": [
    {
     "name": "stdout",
     "output_type": "stream",
     "text": [
      "['a', 'b', 'c']\n"
     ]
    }
   ],
   "source": [
    "#Q4) Create a list of the first letters of each word in the list ['apple', 'banana', 'cherry'] using list comprehension.\n",
    "    \n",
    "a=['apple', 'banana', 'cherry']\n",
    "\n",
    "first_later=list(map(lambda x: x[0],a))\n",
    "\n",
    "print(first_later)"
   ]
  },
  {
   "cell_type": "code",
   "execution_count": 31,
   "id": "59e7922a-472d-433a-ad80-cfcab633f506",
   "metadata": {},
   "outputs": [
    {
     "name": "stdout",
     "output_type": "stream",
     "text": [
      "True\n",
      "False\n"
     ]
    }
   ],
   "source": [
    "#Q5) Write a lambda function to check if a given string is a palindrome (reads the same backward as forward).\n",
    "\n",
    "\n",
    "palindrome_check=(lambda x: x==x [::-1] )\n",
    "print(palindrome_check(\"radar\"))\n",
    "\n",
    "print(palindrome_check(\"tanish\"))"
   ]
  },
  {
   "cell_type": "code",
   "execution_count": 55,
   "id": "a9c03bb2-fada-4119-a096-68dcfdf4da1f",
   "metadata": {},
   "outputs": [
    {
     "name": "stdout",
     "output_type": "stream",
     "text": [
      "['banana']\n"
     ]
    }
   ],
   "source": [
    "#Q6) Use filter() to find all the words in the list ['apple', 'banana', 'cherry', 'date'] that start with the letter 'b'.\n",
    "\n",
    "a=['apple', 'banana', 'cherry', 'date']\n",
    "\n",
    "find_later=list(filter(lambda x: x.startswith('b'),a))\n",
    "\n",
    "print(find_later)"
   ]
  },
  {
   "cell_type": "code",
   "execution_count": 81,
   "id": "e6a2f0d2-b793-4499-8586-0c729ffd6062",
   "metadata": {},
   "outputs": [
    {
     "name": "stdout",
     "output_type": "stream",
     "text": [
      "[6, 12, 18]\n"
     ]
    }
   ],
   "source": [
    "#Q7) Use filter() to extract the elements that are divisible by both 2 and 3 from the list [1, 2, 3, 4, 5, 6, 7, 8, 9, 10, 12, 15, 18].\n",
    "\n",
    "a=[1, 2, 3, 4, 5, 6, 7, 8, 9, 10, 12, 15, 18]\n",
    "\n",
    "divisible=list(filter(lambda x: x%2==0 and x%3==0,a))\n",
    "\n",
    "print(divisible)"
   ]
  },
  {
   "cell_type": "code",
   "execution_count": 85,
   "id": "384d3656-15a6-428a-bdab-b1e737eaec0f",
   "metadata": {},
   "outputs": [
    {
     "name": "stdout",
     "output_type": "stream",
     "text": [
      "[7, 14, 21, 28, 35, 42, 49, 56, 63, 70, 77, 84, 91, 98]\n"
     ]
    }
   ],
   "source": [
    "#Q8) Generate a list of all numbers from 1 to 100 that are divisible by 7 using list comprehension.\n",
    "\n",
    "a=range(1,100)\n",
    "\n",
    "divisible=list(filter(lambda x: x%7==0 ,a))\n",
    "\n",
    "print(divisible)"
   ]
  },
  {
   "cell_type": "code",
   "execution_count": null,
   "id": "0d44e4b9-a1c9-44fa-ab40-99d035bbd158",
   "metadata": {},
   "outputs": [],
   "source": [
    "#Q9) Write a lambda function to find the maximum of three numbers.\n",
    "\n",
    "maximum_three_num= lambda a,b,c: max(a,b,c)"
   ]
  },
  {
   "cell_type": "code",
   "execution_count": 103,
   "id": "59307e2c-2e0c-4121-8bbc-312de46a58f6",
   "metadata": {},
   "outputs": [
    {
     "name": "stdout",
     "output_type": "stream",
     "text": [
      "[16, 81, 256, 625, 1296]\n",
      "[2.0, 3.0, 4.0, 5.0, 6.0]\n"
     ]
    }
   ],
   "source": [
    "#Q10) Use map() to find the square roots of the numbers in the list \n",
    "\n",
    "import math\n",
    "\n",
    "a=[4, 9, 16, 25, 36]\n",
    "\n",
    "roots=list(map(lambda x: x**2,a))\n",
    "\n",
    "print(roots)\n",
    "\n",
    "sqrt=list(map(math.sqrt,a))\n",
    "\n",
    "print(sqrt)"
   ]
  },
  {
   "cell_type": "code",
   "execution_count": 111,
   "id": "8c4b0647-c167-4f1e-9da5-fe918a4790b9",
   "metadata": {},
   "outputs": [
    {
     "name": "stdout",
     "output_type": "stream",
     "text": [
      "elephant\n"
     ]
    }
   ],
   "source": [
    "#Q11) Use reduce() to find the longest word in a list ['dog', 'elephant', 'cat', 'horse'].\n",
    "\n",
    "from functools import reduce\n",
    "\n",
    "a=['dog', 'elephant', 'cat', 'horse']\n",
    "\n",
    "longest_word= reduce( lambda x,y: x if len(x)>len(y) else y,a)\n",
    "\n",
    "print(longest_word)"
   ]
  },
  {
   "cell_type": "code",
   "execution_count": 3,
   "id": "f679181e-cbb9-4d45-9074-e4e24c296a9a",
   "metadata": {},
   "outputs": [
    {
     "data": {
      "text/plain": [
       "'C:\\\\Users\\\\Prime\\\\Downloads'"
      ]
     },
     "execution_count": 3,
     "metadata": {},
     "output_type": "execute_result"
    }
   ],
   "source": [
    "import os\n",
    "\n",
    "os.getcwd()"
   ]
  }
 ],
 "metadata": {
  "kernelspec": {
   "display_name": "Python 3 (ipykernel)",
   "language": "python",
   "name": "python3"
  },
  "language_info": {
   "codemirror_mode": {
    "name": "ipython",
    "version": 3
   },
   "file_extension": ".py",
   "mimetype": "text/x-python",
   "name": "python",
   "nbconvert_exporter": "python",
   "pygments_lexer": "ipython3",
   "version": "3.12.4"
  }
 },
 "nbformat": 4,
 "nbformat_minor": 5
}
