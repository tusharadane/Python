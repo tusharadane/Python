{
 "cells": [
  {
   "cell_type": "markdown",
   "id": "0fb2df66-afde-44c5-9e24-18106c7d704e",
   "metadata": {},
   "source": [
    "145bbb"
   ]
  },
  {
   "cell_type": "markdown",
   "id": "d61abd36-aa2e-4cbf-9325-21384625119f",
   "metadata": {},
   "source": [
    "a=3+4j+True+3+0b1011+False+True-True-True+2+False\n",
    "print (a)"
   ]
  },
  {
   "cell_type": "code",
   "execution_count": 4,
   "id": "b18cc5cd-1cfd-4cfe-bca0-6d6f79640111",
   "metadata": {},
   "outputs": [
    {
     "name": "stdout",
     "output_type": "stream",
     "text": [
      "python programming\n"
     ]
    }
   ],
   "source": [
    "a=\"python programming\"\n",
    "\n",
    "print(a)"
   ]
  },
  {
   "cell_type": "code",
   "execution_count": 8,
   "id": "b216d692-223e-41f7-85ce-f3db9c434cba",
   "metadata": {},
   "outputs": [
    {
     "data": {
      "text/plain": [
       "10"
      ]
     },
     "execution_count": 8,
     "metadata": {},
     "output_type": "execute_result"
    }
   ],
   "source": [
    "a.index(\"gram\")"
   ]
  },
  {
   "cell_type": "code",
   "execution_count": 10,
   "id": "96e6d39a-3093-4921-8ec4-4f64e7e83ba6",
   "metadata": {},
   "outputs": [
    {
     "data": {
      "text/plain": [
       "120"
      ]
     },
     "execution_count": 10,
     "metadata": {},
     "output_type": "execute_result"
    }
   ],
   "source": [
    "def fact(n):\n",
    "    if n==0 or n==1:\n",
    "        return 1\n",
    "    else:\n",
    "        return n*fact(n-1)\n",
    "\n",
    "fact(5)"
   ]
  },
  {
   "cell_type": "code",
   "execution_count": 22,
   "id": "60b497c2-2ef3-4e53-9d2f-1ab906f383cb",
   "metadata": {},
   "outputs": [
    {
     "data": {
      "text/plain": [
       "55"
      ]
     },
     "execution_count": 22,
     "metadata": {},
     "output_type": "execute_result"
    }
   ],
   "source": [
    "def s(n):\n",
    "    if n==0 or n==1:\n",
    "        return 1\n",
    "    else:\n",
    "        return n+s(n-1)\n",
    "s(10)\n",
    "    "
   ]
  },
  {
   "cell_type": "code",
   "execution_count": 30,
   "id": "1744fef7-2c57-4082-b85e-8636b714906b",
   "metadata": {},
   "outputs": [
    {
     "name": "stdout",
     "output_type": "stream",
     "text": [
      "invalid index\n",
      "invalid index\n",
      "invalid index\n",
      "invalid index\n",
      "invalid index\n",
      "invalid index\n"
     ]
    }
   ],
   "source": [
    "a=\"python\"\n",
    "\n",
    "for i in a:\n",
    "    try:\n",
    "        i[20]\n",
    "    except IndexError:\n",
    "      print(\"invalid index\")\n"
   ]
  },
  {
   "cell_type": "code",
   "execution_count": 1,
   "id": "2c1c8be8-07b4-4bec-90b7-ec20218f35a7",
   "metadata": {},
   "outputs": [],
   "source": [
    "import os"
   ]
  },
  {
   "cell_type": "code",
   "execution_count": 3,
   "id": "93813ccc-b131-4323-bb9d-49f1002b9776",
   "metadata": {},
   "outputs": [
    {
     "data": {
      "text/plain": [
       "'C:\\\\Users\\\\Prime'"
      ]
     },
     "execution_count": 3,
     "metadata": {},
     "output_type": "execute_result"
    }
   ],
   "source": [
    "os.getcwd()"
   ]
  },
  {
   "cell_type": "code",
   "execution_count": 5,
   "id": "0c0b3442-52ce-4e7d-868e-66b5309db2f9",
   "metadata": {},
   "outputs": [
    {
     "data": {
      "text/plain": [
       "['.anaconda',\n",
       " '.conda',\n",
       " '.condarc',\n",
       " '.continuum',\n",
       " '.ipynb_checkpoints',\n",
       " '.ipython',\n",
       " '.jupyter',\n",
       " '.matplotlib',\n",
       " '.virtual_documents',\n",
       " '14 august assingment',\n",
       " '2 sept assignment.ipynb',\n",
       " '26 august assignments.ipynb',\n",
       " '27 august assignment.ipynb',\n",
       " 'anaconda3',\n",
       " 'AppData',\n",
       " 'Application Data',\n",
       " 'assingment 13 august',\n",
       " 'assingment 14 august',\n",
       " 'assisment.ipynb',\n",
       " 'Contacts',\n",
       " 'Cookies',\n",
       " 'Day 1 - Notes power BI',\n",
       " 'Documents',\n",
       " 'Downloads',\n",
       " 'Favorites',\n",
       " 'IntelGraphicsProfiles',\n",
       " 'Links',\n",
       " 'Local Settings',\n",
       " 'Music',\n",
       " 'My Documents',\n",
       " 'NetHood',\n",
       " 'NTUSER.DAT',\n",
       " 'ntuser.dat.LOG1',\n",
       " 'ntuser.dat.LOG2',\n",
       " 'NTUSER.DAT{a2332f18-cdbf-11ec-8680-002248483d79}.TM.blf',\n",
       " 'NTUSER.DAT{a2332f18-cdbf-11ec-8680-002248483d79}.TMContainer00000000000000000001.regtrans-ms',\n",
       " 'NTUSER.DAT{a2332f18-cdbf-11ec-8680-002248483d79}.TMContainer00000000000000000002.regtrans-ms',\n",
       " 'ntuser.ini',\n",
       " 'OneDrive',\n",
       " 'Pictures',\n",
       " 'PrintHood',\n",
       " 'Recent',\n",
       " 'Searches',\n",
       " 'SendTo',\n",
       " 'Start Menu',\n",
       " 'Templates',\n",
       " 'Untitled2.ipynb',\n",
       " 'Untitled4.ipynb',\n",
       " 'Untitled5.ipynb',\n",
       " 'Untitled6.ipynb',\n",
       " 'Videos']"
      ]
     },
     "execution_count": 5,
     "metadata": {},
     "output_type": "execute_result"
    }
   ],
   "source": [
    "os.listdir()"
   ]
  },
  {
   "cell_type": "code",
   "execution_count": null,
   "id": "d9c763f0-0121-4c45-a2d9-a8f3bafe61a5",
   "metadata": {},
   "outputs": [],
   "source": [
    "os.mkdir("
   ]
  },
  {
   "cell_type": "code",
   "execution_count": null,
   "id": "a5b13338-fd82-4bf2-ab8d-fb00e0cef72c",
   "metadata": {},
   "outputs": [],
   "source": [
    "C:\\Users\\Prime\\Untitled2.ipynb"
   ]
  },
  {
   "cell_type": "code",
   "execution_count": 53,
   "id": "67c7c566-715e-4776-875b-40a9befa107d",
   "metadata": {
    "scrolled": true
   },
   "outputs": [
    {
     "name": "stdout",
     "output_type": "stream",
     "text": [
      "{\n",
      " \"cells\": [\n",
      "  {\n",
      "   \"cell_type\": \"markdown\",\n",
      "   \"id\": \"0fb2df66-afde-44c5-9e24-18106c7d704e\",\n",
      "   \"metadata\": {},\n",
      "   \"source\": [\n",
      "    \"145bbb\"\n",
      "   ]\n",
      "  },\n",
      "  {\n",
      "   \"cell_type\": \"markdown\",\n",
      "   \"id\": \"d61abd36-aa2e-4cbf-9325-21384625119f\",\n",
      "   \"metadata\": {},\n",
      "   \"source\": [\n",
      "    \"a=3+4j+True+3+0b1011+False+True-True-True+2+False\\n\",\n",
      "    \"print (a)\"\n",
      "   ]\n",
      "  },\n",
      "  {\n",
      "   \"cell_type\": \"code\",\n",
      "   \"execution_count\": 4,\n",
      "   \"id\": \"b18cc5cd-1cfd-4cfe-bca0-6d6f79640111\",\n",
      "   \"metadata\": {},\n",
      "   \"outputs\": [\n",
      "    {\n",
      "     \"name\": \"stdout\",\n",
      "     \"output_type\": \"stream\",\n",
      "     \"text\": [\n",
      "      \"python programming\\n\"\n",
      "     ]\n",
      "    }\n",
      "   ],\n",
      "   \"source\": [\n",
      "    \"a=\\\"python programming\\\"\\n\",\n",
      "    \"\\n\",\n",
      "    \"print(a)\"\n",
      "   ]\n",
      "  },\n",
      "  {\n",
      "   \"cell_type\": \"code\",\n",
      "   \"execution_count\": 8,\n",
      "   \"id\": \"b216d692-223e-41f7-85ce-f3db9c434cba\",\n",
      "   \"metadata\": {},\n",
      "   \"outputs\": [\n",
      "    {\n",
      "     \"data\": {\n",
      "      \"text/plain\": [\n",
      "       \"10\"\n",
      "      ]\n",
      "     },\n",
      "     \"execution_count\": 8,\n",
      "     \"metadata\": {},\n",
      "     \"output_type\": \"execute_result\"\n",
      "    }\n",
      "   ],\n",
      "   \"source\": [\n",
      "    \"a.index(\\\"gram\\\")\"\n",
      "   ]\n",
      "  },\n",
      "  {\n",
      "   \"cell_type\": \"code\",\n",
      "   \"execution_count\": 10,\n",
      "   \"id\": \"96e6d39a-3093-4921-8ec4-4f64e7e83ba6\",\n",
      "   \"metadata\": {},\n",
      "   \"outputs\": [\n",
      "    {\n",
      "     \"data\": {\n",
      "      \"text/plain\": [\n",
      "       \"120\"\n",
      "      ]\n",
      "     },\n",
      "     \"execution_count\": 10,\n",
      "     \"metadata\": {},\n",
      "     \"output_type\": \"execute_result\"\n",
      "    }\n",
      "   ],\n",
      "   \"source\": [\n",
      "    \"def fact(n):\\n\",\n",
      "    \"    if n==0 or n==1:\\n\",\n",
      "    \"        return 1\\n\",\n",
      "    \"    else:\\n\",\n",
      "    \"        return n*fact(n-1)\\n\",\n",
      "    \"\\n\",\n",
      "    \"fact(5)\"\n",
      "   ]\n",
      "  },\n",
      "  {\n",
      "   \"cell_type\": \"code\",\n",
      "   \"execution_count\": 22,\n",
      "   \"id\": \"60b497c2-2ef3-4e53-9d2f-1ab906f383cb\",\n",
      "   \"metadata\": {},\n",
      "   \"outputs\": [\n",
      "    {\n",
      "     \"data\": {\n",
      "      \"text/plain\": [\n",
      "       \"55\"\n",
      "      ]\n",
      "     },\n",
      "     \"execution_count\": 22,\n",
      "     \"metadata\": {},\n",
      "     \"output_type\": \"execute_result\"\n",
      "    }\n",
      "   ],\n",
      "   \"source\": [\n",
      "    \"def s(n):\\n\",\n",
      "    \"    if n==0 or n==1:\\n\",\n",
      "    \"        return 1\\n\",\n",
      "    \"    else:\\n\",\n",
      "    \"        return n+s(n-1)\\n\",\n",
      "    \"s(10)\\n\",\n",
      "    \"    \"\n",
      "   ]\n",
      "  },\n",
      "  {\n",
      "   \"cell_type\": \"code\",\n",
      "   \"execution_count\": 30,\n",
      "   \"id\": \"1744fef7-2c57-4082-b85e-8636b714906b\",\n",
      "   \"metadata\": {},\n",
      "   \"outputs\": [\n",
      "    {\n",
      "     \"name\": \"stdout\",\n",
      "     \"output_type\": \"stream\",\n",
      "     \"text\": [\n",
      "      \"invalid index\\n\",\n",
      "      \"invalid index\\n\",\n",
      "      \"invalid index\\n\",\n",
      "      \"invalid index\\n\",\n",
      "      \"invalid index\\n\",\n",
      "      \"invalid index\\n\"\n",
      "     ]\n",
      "    }\n",
      "   ],\n",
      "   \"source\": [\n",
      "    \"a=\\\"python\\\"\\n\",\n",
      "    \"\\n\",\n",
      "    \"for i in a:\\n\",\n",
      "    \"    try:\\n\",\n",
      "    \"        i[20]\\n\",\n",
      "    \"    except IndexError:\\n\",\n",
      "    \"      print(\\\"invalid index\\\")\\n\"\n",
      "   ]\n",
      "  },\n",
      "  {\n",
      "   \"cell_type\": \"code\",\n",
      "   \"execution_count\": 1,\n",
      "   \"id\": \"2c1c8be8-07b4-4bec-90b7-ec20218f35a7\",\n",
      "   \"metadata\": {},\n",
      "   \"outputs\": [],\n",
      "   \"source\": [\n",
      "    \"import os\"\n",
      "   ]\n",
      "  },\n",
      "  {\n",
      "   \"cell_type\": \"code\",\n",
      "   \"execution_count\": 3,\n",
      "   \"id\": \"93813ccc-b131-4323-bb9d-49f1002b9776\",\n",
      "   \"metadata\": {},\n",
      "   \"outputs\": [\n",
      "    {\n",
      "     \"data\": {\n",
      "      \"text/plain\": [\n",
      "       \"'C:\\\\\\\\Users\\\\\\\\Prime'\"\n",
      "      ]\n",
      "     },\n",
      "     \"execution_count\": 3,\n",
      "     \"metadata\": {},\n",
      "     \"output_type\": \"execute_result\"\n",
      "    }\n",
      "   ],\n",
      "   \"source\": [\n",
      "    \"os.getcwd()\"\n",
      "   ]\n",
      "  },\n",
      "  {\n",
      "   \"cell_type\": \"code\",\n",
      "   \"execution_count\": 5,\n",
      "   \"id\": \"0c0b3442-52ce-4e7d-868e-66b5309db2f9\",\n",
      "   \"metadata\": {},\n",
      "   \"outputs\": [\n",
      "    {\n",
      "     \"data\": {\n",
      "      \"text/plain\": [\n",
      "       \"['.anaconda',\\n\",\n",
      "       \" '.conda',\\n\",\n",
      "       \" '.condarc',\\n\",\n",
      "       \" '.continuum',\\n\",\n",
      "       \" '.ipynb_checkpoints',\\n\",\n",
      "       \" '.ipython',\\n\",\n",
      "       \" '.jupyter',\\n\",\n",
      "       \" '.matplotlib',\\n\",\n",
      "       \" '.virtual_documents',\\n\",\n",
      "       \" '14 august assingment',\\n\",\n",
      "       \" '2 sept assignment.ipynb',\\n\",\n",
      "       \" '26 august assignments.ipynb',\\n\",\n",
      "       \" '27 august assignment.ipynb',\\n\",\n",
      "       \" 'anaconda3',\\n\",\n",
      "       \" 'AppData',\\n\",\n",
      "       \" 'Application Data',\\n\",\n",
      "       \" 'assingment 13 august',\\n\",\n",
      "       \" 'assingment 14 august',\\n\",\n",
      "       \" 'assisment.ipynb',\\n\",\n",
      "       \" 'Contacts',\\n\",\n",
      "       \" 'Cookies',\\n\",\n",
      "       \" 'Day 1 - Notes power BI',\\n\",\n",
      "       \" 'Documents',\\n\",\n",
      "       \" 'Downloads',\\n\",\n",
      "       \" 'Favorites',\\n\",\n",
      "       \" 'IntelGraphicsProfiles',\\n\",\n",
      "       \" 'Links',\\n\",\n",
      "       \" 'Local Settings',\\n\",\n",
      "       \" 'Music',\\n\",\n",
      "       \" 'My Documents',\\n\",\n",
      "       \" 'NetHood',\\n\",\n",
      "       \" 'NTUSER.DAT',\\n\",\n",
      "       \" 'ntuser.dat.LOG1',\\n\",\n",
      "       \" 'ntuser.dat.LOG2',\\n\",\n",
      "       \" 'NTUSER.DAT{a2332f18-cdbf-11ec-8680-002248483d79}.TM.blf',\\n\",\n",
      "       \" 'NTUSER.DAT{a2332f18-cdbf-11ec-8680-002248483d79}.TMContainer00000000000000000001.regtrans-ms',\\n\",\n",
      "       \" 'NTUSER.DAT{a2332f18-cdbf-11ec-8680-002248483d79}.TMContainer00000000000000000002.regtrans-ms',\\n\",\n",
      "       \" 'ntuser.ini',\\n\",\n",
      "       \" 'OneDrive',\\n\",\n",
      "       \" 'Pictures',\\n\",\n",
      "       \" 'PrintHood',\\n\",\n",
      "       \" 'Recent',\\n\",\n",
      "       \" 'Searches',\\n\",\n",
      "       \" 'SendTo',\\n\",\n",
      "       \" 'Start Menu',\\n\",\n",
      "       \" 'Templates',\\n\",\n",
      "       \" 'Untitled2.ipynb',\\n\",\n",
      "       \" 'Untitled4.ipynb',\\n\",\n",
      "       \" 'Untitled5.ipynb',\\n\",\n",
      "       \" 'Untitled6.ipynb',\\n\",\n",
      "       \" 'Videos']\"\n",
      "      ]\n",
      "     },\n",
      "     \"execution_count\": 5,\n",
      "     \"metadata\": {},\n",
      "     \"output_type\": \"execute_result\"\n",
      "    }\n",
      "   ],\n",
      "   \"source\": [\n",
      "    \"os.listdir()\"\n",
      "   ]\n",
      "  },\n",
      "  {\n",
      "   \"cell_type\": \"code\",\n",
      "   \"execution_count\": null,\n",
      "   \"id\": \"d9c763f0-0121-4c45-a2d9-a8f3bafe61a5\",\n",
      "   \"metadata\": {},\n",
      "   \"outputs\": [],\n",
      "   \"source\": [\n",
      "    \"os.mkdir(\"\n",
      "   ]\n",
      "  },\n",
      "  {\n",
      "   \"cell_type\": \"code\",\n",
      "   \"execution_count\": 51,\n",
      "   \"id\": \"67c7c566-715e-4776-875b-40a9befa107d\",\n",
      "   \"metadata\": {\n",
      "    \"scrolled\": true\n",
      "   },\n",
      "   \"outputs\": [\n",
      "    {\n",
      "     \"ename\": \"FileNotFoundError\",\n",
      "     \"evalue\": \"[Errno 2] No such file or directory: 'C://Users//Prime//Documents.ipnyb'\",\n",
      "     \"output_type\": \"error\",\n",
      "     \"traceback\": [\n",
      "      \"\\u001b[1;31m---------------------------------------------------------------------------\\u001b[0m\",\n",
      "      \"\\u001b[1;31mFileNotFoundError\\u001b[0m                         Traceback (most recent call last)\",\n",
      "      \"Cell \\u001b[1;32mIn[51], line 1\\u001b[0m\\n\\u001b[1;32m----> 1\\u001b[0m file\\u001b[38;5;241m=\\u001b[39m\\u001b[38;5;28mopen\\u001b[39m(\\u001b[38;5;124m\\\"\\u001b[39m\\u001b[38;5;124mC://Users//Prime//Documents.ipnyb\\u001b[39m\\u001b[38;5;124m\\\"\\u001b[39m)\\n\\u001b[0;32m      3\\u001b[0m \\u001b[38;5;28mprint\\u001b[39m(file\\u001b[38;5;241m.\\u001b[39mread())\\n\\u001b[0;32m      4\\u001b[0m file\\u001b[38;5;241m.\\u001b[39mclose()\\n\",\n",
      "      \"File \\u001b[1;32m~\\\\anaconda3\\\\Lib\\\\site-packages\\\\IPython\\\\core\\\\interactiveshell.py:324\\u001b[0m, in \\u001b[0;36m_modified_open\\u001b[1;34m(file, *args, **kwargs)\\u001b[0m\\n\\u001b[0;32m    317\\u001b[0m \\u001b[38;5;28;01mif\\u001b[39;00m file \\u001b[38;5;129;01min\\u001b[39;00m {\\u001b[38;5;241m0\\u001b[39m, \\u001b[38;5;241m1\\u001b[39m, \\u001b[38;5;241m2\\u001b[39m}:\\n\\u001b[0;32m    318\\u001b[0m     \\u001b[38;5;28;01mraise\\u001b[39;00m \\u001b[38;5;167;01mValueError\\u001b[39;00m(\\n\\u001b[0;32m    319\\u001b[0m         \\u001b[38;5;124mf\\u001b[39m\\u001b[38;5;124m\\\"\\u001b[39m\\u001b[38;5;124mIPython won\\u001b[39m\\u001b[38;5;124m'\\u001b[39m\\u001b[38;5;124mt let you open fd=\\u001b[39m\\u001b[38;5;132;01m{\\u001b[39;00mfile\\u001b[38;5;132;01m}\\u001b[39;00m\\u001b[38;5;124m by default \\u001b[39m\\u001b[38;5;124m\\\"\\u001b[39m\\n\\u001b[0;32m    320\\u001b[0m         \\u001b[38;5;124m\\\"\\u001b[39m\\u001b[38;5;124mas it is likely to crash IPython. If you know what you are doing, \\u001b[39m\\u001b[38;5;124m\\\"\\u001b[39m\\n\\u001b[0;32m    321\\u001b[0m         \\u001b[38;5;124m\\\"\\u001b[39m\\u001b[38;5;124myou can use builtins\\u001b[39m\\u001b[38;5;124m'\\u001b[39m\\u001b[38;5;124m open.\\u001b[39m\\u001b[38;5;124m\\\"\\u001b[39m\\n\\u001b[0;32m    322\\u001b[0m     )\\n\\u001b[1;32m--> 324\\u001b[0m \\u001b[38;5;28;01mreturn\\u001b[39;00m io_open(file, \\u001b[38;5;241m*\\u001b[39margs, \\u001b[38;5;241m*\\u001b[39m\\u001b[38;5;241m*\\u001b[39mkwargs)\\n\",\n",
      "      \"\\u001b[1;31mFileNotFoundError\\u001b[0m: [Errno 2] No such file or directory: 'C://Users//Prime//Documents.ipnyb'\"\n",
      "     ]\n",
      "    }\n",
      "   ],\n",
      "   \"source\": [\n",
      "    \"file=open(\\\"C://Users//Prime//Documents.ipnyb\\\")\\n\",\n",
      "    \"\\n\",\n",
      "    \"print(file.read())\\n\",\n",
      "    \"file.close()\"\n",
      "   ]\n",
      "  },\n",
      "  {\n",
      "   \"cell_type\": \"code\",\n",
      "   \"execution_count\": 45,\n",
      "   \"id\": \"a45e8ece-a519-4167-9969-63490048352f\",\n",
      "   \"metadata\": {},\n",
      "   \"outputs\": [\n",
      "    {\n",
      "     \"name\": \"stdin\",\n",
      "     \"output_type\": \"stream\",\n",
      "     \"text\": [\n",
      "      \"enter your name:- Tushar\\n\",\n",
      "      \"enter your department name:- IT\\n\",\n",
      "      \"enter your age:- 26\\n\",\n",
      "      \"enter your salary:- 45000\\n\"\n",
      "     ]\n",
      "    }\n",
      "   ],\n",
      "   \"source\": [\n",
      "    \"emp_name=input(\\\"enter your name:-\\\")\\n\",\n",
      "    \"emp_dept=input(\\\"enter your department name:-\\\")\\n\",\n",
      "    \"emp_age=input(\\\"enter your age:-\\\")\\n\",\n",
      "    \"emp_sal=input(\\\"enter your salary:-\\\")\\n\",\n",
      "    \"\\n\",\n",
      "    \"file=open(\\\"employee dataset.txt\\\",mode=\\\"a\\\")\\n\",\n",
      "    \"\\n\",\n",
      "    \"file.write(f\\\"emp_name:-{emp_name}\\\\n\\\")\\n\",\n",
      "    \"file.write(f\\\"emp_dept:-{emp_dept}\\\\n\\\")\\n\",\n",
      "    \"file.write(f\\\"emp_age:-{emp_age}\\\\n\\\")\\n\",\n",
      "    \"file.write(f\\\"emp_sal:-{emp_sal}\\\\n\\\")\\n\",\n",
      "    \"\\n\",\n",
      "    \"file.close()\"\n",
      "   ]\n",
      "  },\n",
      "  {\n",
      "   \"cell_type\": \"code\",\n",
      "   \"execution_count\": 47,\n",
      "   \"id\": \"7404f749-5be0-4ceb-849c-19f2a3eb394f\",\n",
      "   \"metadata\": {},\n",
      "   \"outputs\": [\n",
      "    {\n",
      "     \"name\": \"stdout\",\n",
      "     \"output_type\": \"stream\",\n",
      "     \"text\": [\n",
      "      \"\\u0000\\u0000\\u0000\\u0000\\u0000\\u0000\\u0000\\u0000\\u0000\\u0000emp_name:-Tushar\\n\",\n",
      "      \"emp_dept:-IT\\n\",\n",
      "      \"emp_age:-26\\n\",\n",
      "      \"emp_sal:-45000\\n\",\n",
      "      \"\\n\"\n",
      "     ]\n",
      "    }\n",
      "   ],\n",
      "   \"source\": [\n",
      "    \"file=open(\\\"employee dataset.txt\\\")\\n\",\n",
      "    \"print(file.read())\\n\",\n",
      "    \"file.close()\"\n",
      "   ]\n",
      "  },\n",
      "  {\n",
      "   \"cell_type\": \"code\",\n",
      "   \"execution_count\": 39,\n",
      "   \"id\": \"6934c6cd-4270-4694-9b42-75ad1fc1a164\",\n",
      "   \"metadata\": {},\n",
      "   \"outputs\": [],\n",
      "   \"source\": [\n",
      "    \"file=open(\\\"employee dataset.txt\\\",\\\"w\\\")\\n\",\n",
      "    \"\\n\",\n",
      "    \"file.truncate(10)\\n\",\n",
      "    \"\\n\",\n",
      "    \"file.close()\"\n",
      "   ]\n",
      "  }\n",
      " ],\n",
      " \"metadata\": {\n",
      "  \"kernelspec\": {\n",
      "   \"display_name\": \"Python 3 (ipykernel)\",\n",
      "   \"language\": \"python\",\n",
      "   \"name\": \"python3\"\n",
      "  },\n",
      "  \"language_info\": {\n",
      "   \"codemirror_mode\": {\n",
      "    \"name\": \"ipython\",\n",
      "    \"version\": 3\n",
      "   },\n",
      "   \"file_extension\": \".py\",\n",
      "   \"mimetype\": \"text/x-python\",\n",
      "   \"name\": \"python\",\n",
      "   \"nbconvert_exporter\": \"python\",\n",
      "   \"pygments_lexer\": \"ipython3\",\n",
      "   \"version\": \"3.12.4\"\n",
      "  }\n",
      " },\n",
      " \"nbformat\": 4,\n",
      " \"nbformat_minor\": 5\n",
      "}\n",
      "\n"
     ]
    }
   ],
   "source": [
    "file=open(\"C:\\\\Users\\\\Prime\\\\Untitled2.ipynb\")\n",
    "\n",
    "print(file.read())\n",
    "file.close()"
   ]
  },
  {
   "cell_type": "code",
   "execution_count": 1,
   "id": "a45e8ece-a519-4167-9969-63490048352f",
   "metadata": {},
   "outputs": [
    {
     "name": "stdin",
     "output_type": "stream",
     "text": [
      "enter your name:- tanish\n",
      "enter your department name:- IT\n",
      "enter your age:- 25\n",
      "enter your salary:- 45000\n"
     ]
    }
   ],
   "source": [
    "emp_name=input(\"enter your name:-\")\n",
    "emp_dept=input(\"enter your department name:-\")\n",
    "emp_age=input(\"enter your age:-\")\n",
    "emp_sal=input(\"enter your salary:-\")\n",
    "\n",
    "file=open(\"employee dataset.txt\",mode=\"a\")\n",
    "\n",
    "file.write(f\"emp_name:-{emp_name}\\n\")\n",
    "file.write(f\"emp_dept:-{emp_dept}\\n\")\n",
    "file.write(f\"emp_age:-{emp_age}\\n\")\n",
    "file.write(f\"emp_sal:-{emp_sal}\\n\")\n",
    "\n",
    "file.close()"
   ]
  },
  {
   "cell_type": "code",
   "execution_count": 3,
   "id": "7404f749-5be0-4ceb-849c-19f2a3eb394f",
   "metadata": {},
   "outputs": [
    {
     "name": "stdout",
     "output_type": "stream",
     "text": [
      "\u0000\u0000\u0000\u0000\u0000\u0000\u0000\u0000\u0000\u0000emp_name:-Tushar\n",
      "emp_dept:-IT\n",
      "emp_age:-26\n",
      "emp_sal:-45000\n",
      "emp_name:-tanish\n",
      "emp_dept:-IT\n",
      "emp_age:-25\n",
      "emp_sal:-45000\n",
      "\n"
     ]
    }
   ],
   "source": [
    "file=open(\"employee dataset.txt\")\n",
    "print(file.read())\n",
    "file.close()"
   ]
  },
  {
   "cell_type": "code",
   "execution_count": 39,
   "id": "6934c6cd-4270-4694-9b42-75ad1fc1a164",
   "metadata": {},
   "outputs": [],
   "source": [
    "file=open(\"employee dataset.txt\",\"w\")\n",
    "\n",
    "file.truncate(10)\n",
    "\n",
    "file.close()"
   ]
  },
  {
   "cell_type": "code",
   "execution_count": 3,
   "id": "dc83edc4-2d84-4149-a69c-f671da307c24",
   "metadata": {},
   "outputs": [
    {
     "ename": "NameError",
     "evalue": "name 'os' is not defined",
     "output_type": "error",
     "traceback": [
      "\u001b[1;31m---------------------------------------------------------------------------\u001b[0m",
      "\u001b[1;31mNameError\u001b[0m                                 Traceback (most recent call last)",
      "Cell \u001b[1;32mIn[3], line 1\u001b[0m\n\u001b[1;32m----> 1\u001b[0m os\u001b[38;5;241m.\u001b[39mgetcwd()\n",
      "\u001b[1;31mNameError\u001b[0m: name 'os' is not defined"
     ]
    }
   ],
   "source": [
    "os.getcwd()"
   ]
  }
 ],
 "metadata": {
  "kernelspec": {
   "display_name": "Python 3 (ipykernel)",
   "language": "python",
   "name": "python3"
  },
  "language_info": {
   "codemirror_mode": {
    "name": "ipython",
    "version": 3
   },
   "file_extension": ".py",
   "mimetype": "text/x-python",
   "name": "python",
   "nbconvert_exporter": "python",
   "pygments_lexer": "ipython3",
   "version": "3.12.4"
  }
 },
 "nbformat": 4,
 "nbformat_minor": 5
}
