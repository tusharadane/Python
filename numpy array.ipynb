{
 "cells": [
  {
   "cell_type": "code",
   "execution_count": 5,
   "id": "3e6f1d26-4412-451f-90a1-b2a167f0a5ee",
   "metadata": {},
   "outputs": [],
   "source": [
    "import numpy as np"
   ]
  },
  {
   "cell_type": "code",
   "execution_count": 9,
   "id": "603b340a-30ed-4ec6-91e7-1432719a670e",
   "metadata": {},
   "outputs": [
    {
     "name": "stdout",
     "output_type": "stream",
     "text": [
      "[[1 2 3]\n",
      " [4 5 6]\n",
      " [6 7 8]]\n"
     ]
    }
   ],
   "source": [
    "a=[[ 1,2,3],[4,5,6],[6,7,8]]\n",
    "\n",
    "array= np.array(a)\n",
    "\n",
    "print(array)"
   ]
  },
  {
   "cell_type": "code",
   "execution_count": 11,
   "id": "1c1ef12d-9c55-477c-8bf5-1e334a42fa03",
   "metadata": {},
   "outputs": [
    {
     "data": {
      "text/plain": [
       "2"
      ]
     },
     "execution_count": 11,
     "metadata": {},
     "output_type": "execute_result"
    }
   ],
   "source": [
    "array.ndim"
   ]
  },
  {
   "cell_type": "code",
   "execution_count": 13,
   "id": "2a47a613-f60a-44d3-8e4e-64c1af62dbf9",
   "metadata": {},
   "outputs": [
    {
     "data": {
      "text/plain": [
       "9"
      ]
     },
     "execution_count": 13,
     "metadata": {},
     "output_type": "execute_result"
    }
   ],
   "source": [
    "array.size"
   ]
  },
  {
   "cell_type": "code",
   "execution_count": 15,
   "id": "158c6cc9-50b9-45d1-9c04-eaea13107650",
   "metadata": {},
   "outputs": [
    {
     "data": {
      "text/plain": [
       "(3, 3)"
      ]
     },
     "execution_count": 15,
     "metadata": {},
     "output_type": "execute_result"
    }
   ],
   "source": [
    "array.shape"
   ]
  },
  {
   "cell_type": "code",
   "execution_count": 17,
   "id": "383c9f24-5997-401f-8ec7-0e3b6292b28a",
   "metadata": {},
   "outputs": [
    {
     "name": "stdout",
     "output_type": "stream",
     "text": [
      "[1, 2, 3, 4, 5, 6]\n"
     ]
    }
   ],
   "source": [
    "data=[1,2,3,4,5,6]\n",
    "\n",
    "array=np.array(data)\n",
    "\n",
    "print(data)"
   ]
  },
  {
   "cell_type": "code",
   "execution_count": 19,
   "id": "6cd7899c-9e56-484a-a388-25ba0f4f1fce",
   "metadata": {},
   "outputs": [
    {
     "name": "stdout",
     "output_type": "stream",
     "text": [
      "[[9 9 7]\n",
      " [8 2 7]\n",
      " [4 6 4]]\n"
     ]
    }
   ],
   "source": [
    "random_array=np.random.randint(2,10,size=(3,3))\n",
    "\n",
    "print(random_array)"
   ]
  },
  {
   "cell_type": "code",
   "execution_count": 45,
   "id": "426eef3f-2dd5-49f3-b826-90a23faae6cf",
   "metadata": {},
   "outputs": [
    {
     "name": "stdout",
     "output_type": "stream",
     "text": [
      "[[9 2 1 6 6]\n",
      " [6 7 9 3 1]\n",
      " [8 2 5 2 1]\n",
      " [5 5 3 2 9]\n",
      " [2 1 5 2 4]]\n"
     ]
    }
   ],
   "source": [
    "random_array=np.random.randint(1,10,size=(5,5))\n",
    "\n",
    "print(random_array)"
   ]
  },
  {
   "cell_type": "code",
   "execution_count": 47,
   "id": "2ea2ed6d-8d0f-4ff9-9de4-6425bd9e2c0d",
   "metadata": {},
   "outputs": [
    {
     "name": "stdout",
     "output_type": "stream",
     "text": [
      "[8 2 5 2 1]\n"
     ]
    }
   ],
   "source": [
    "print(random_array[2])"
   ]
  },
  {
   "cell_type": "code",
   "execution_count": 49,
   "id": "9a3c452c-d7f8-4f41-bd49-e534801c125e",
   "metadata": {},
   "outputs": [
    {
     "name": "stdout",
     "output_type": "stream",
     "text": [
      "[[8 2 5 2 1]\n",
      " [5 5 3 2 9]]\n"
     ]
    }
   ],
   "source": [
    "print(random_array[2:4])"
   ]
  },
  {
   "cell_type": "code",
   "execution_count": 51,
   "id": "9b19b626-57bb-4d93-b1a7-693ee314028f",
   "metadata": {},
   "outputs": [
    {
     "name": "stdout",
     "output_type": "stream",
     "text": [
      "[5 3]\n"
     ]
    }
   ],
   "source": [
    "print(random_array[2:4,2])"
   ]
  },
  {
   "cell_type": "code",
   "execution_count": 53,
   "id": "3b4148dc-6f9e-419f-b537-f5c252073709",
   "metadata": {},
   "outputs": [
    {
     "name": "stdout",
     "output_type": "stream",
     "text": [
      "[[7 9]\n",
      " [2 5]]\n"
     ]
    }
   ],
   "source": [
    "print(random_array[1:3,1:3])"
   ]
  },
  {
   "cell_type": "code",
   "execution_count": 55,
   "id": "55fef2fc-702d-4041-bf63-89c21bcf3127",
   "metadata": {},
   "outputs": [
    {
     "data": {
      "text/plain": [
       "106"
      ]
     },
     "execution_count": 55,
     "metadata": {},
     "output_type": "execute_result"
    }
   ],
   "source": [
    "random_array.sum()"
   ]
  },
  {
   "cell_type": "code",
   "execution_count": 57,
   "id": "ae09117e-7fc5-4b62-b480-7e68f6210f31",
   "metadata": {},
   "outputs": [
    {
     "data": {
      "text/plain": [
       "1"
      ]
     },
     "execution_count": 57,
     "metadata": {},
     "output_type": "execute_result"
    }
   ],
   "source": [
    "random_array.min()"
   ]
  },
  {
   "cell_type": "code",
   "execution_count": 59,
   "id": "50314a7d-44ed-4339-ab50-61b76008e981",
   "metadata": {},
   "outputs": [
    {
     "data": {
      "text/plain": [
       "2.657517638699695"
      ]
     },
     "execution_count": 59,
     "metadata": {},
     "output_type": "execute_result"
    }
   ],
   "source": [
    "random_array.std()"
   ]
  },
  {
   "cell_type": "code",
   "execution_count": 61,
   "id": "d4ef16ee-a4f2-468c-875b-39c4fcfaa525",
   "metadata": {},
   "outputs": [
    {
     "data": {
      "text/plain": [
       "7.062400000000001"
      ]
     },
     "execution_count": 61,
     "metadata": {},
     "output_type": "execute_result"
    }
   ],
   "source": [
    "random_array.var()"
   ]
  },
  {
   "cell_type": "code",
   "execution_count": 63,
   "id": "c7ee4194-6459-48d5-a447-e844ec5bb1d0",
   "metadata": {},
   "outputs": [
    {
     "data": {
      "text/plain": [
       "9"
      ]
     },
     "execution_count": 63,
     "metadata": {},
     "output_type": "execute_result"
    }
   ],
   "source": [
    "random_array.max()"
   ]
  },
  {
   "cell_type": "code",
   "execution_count": 65,
   "id": "14c07a94-b33e-48d1-aec6-ade9e08b49c4",
   "metadata": {},
   "outputs": [
    {
     "data": {
      "text/plain": [
       "array([24, 26, 18, 24, 14])"
      ]
     },
     "execution_count": 65,
     "metadata": {},
     "output_type": "execute_result"
    }
   ],
   "source": [
    "np.sum(random_array,axis=1)"
   ]
  },
  {
   "cell_type": "code",
   "execution_count": 67,
   "id": "39d665e8-d08f-4fed-bb12-1db470cb93bd",
   "metadata": {},
   "outputs": [
    {
     "data": {
      "text/plain": [
       "array([30, 17, 23, 15, 21])"
      ]
     },
     "execution_count": 67,
     "metadata": {},
     "output_type": "execute_result"
    }
   ],
   "source": [
    "np.sum(random_array,axis=0)"
   ]
  },
  {
   "cell_type": "code",
   "execution_count": 69,
   "id": "acf6b5e1-b99f-416d-8534-38362de511d5",
   "metadata": {},
   "outputs": [
    {
     "data": {
      "text/plain": [
       "array([9, 9, 8, 9, 5])"
      ]
     },
     "execution_count": 69,
     "metadata": {},
     "output_type": "execute_result"
    }
   ],
   "source": [
    "np.max(random_array,axis=1)"
   ]
  },
  {
   "cell_type": "code",
   "execution_count": 71,
   "id": "b09e5ca4-fc67-4144-b8d3-ffd920d90d99",
   "metadata": {},
   "outputs": [
    {
     "data": {
      "text/plain": [
       "array([9, 7, 9, 6, 9])"
      ]
     },
     "execution_count": 71,
     "metadata": {},
     "output_type": "execute_result"
    }
   ],
   "source": [
    "np.max(random_array,axis=0)"
   ]
  },
  {
   "cell_type": "code",
   "execution_count": 73,
   "id": "73ec84a3-daaa-4e3a-9a84-d0753899f6db",
   "metadata": {},
   "outputs": [
    {
     "data": {
      "text/plain": [
       "array([4.8, 5.2, 3.6, 4.8, 2.8])"
      ]
     },
     "execution_count": 73,
     "metadata": {},
     "output_type": "execute_result"
    }
   ],
   "source": [
    "np.average(random_array,axis=1)"
   ]
  },
  {
   "cell_type": "code",
   "execution_count": 75,
   "id": "d93bd4dc-f151-45ff-bf0d-3879dc786722",
   "metadata": {},
   "outputs": [
    {
     "data": {
      "text/plain": [
       "array([[1, 2, 6, 6, 9],\n",
       "       [1, 3, 6, 7, 9],\n",
       "       [1, 2, 2, 5, 8],\n",
       "       [2, 3, 5, 5, 9],\n",
       "       [1, 2, 2, 4, 5]])"
      ]
     },
     "execution_count": 75,
     "metadata": {},
     "output_type": "execute_result"
    }
   ],
   "source": [
    "np.sort(random_array)"
   ]
  },
  {
   "cell_type": "code",
   "execution_count": 83,
   "id": "0c0202e1-8fe5-4eec-8402-9b47a74c73f5",
   "metadata": {},
   "outputs": [
    {
     "data": {
      "text/plain": [
       "array([[9, 2, 1, 6, 6, 6, 7, 9, 3, 1, 8, 2, 5, 2, 1, 5, 5, 3, 2, 9, 2, 1,\n",
       "        5, 2, 4]])"
      ]
     },
     "execution_count": 83,
     "metadata": {},
     "output_type": "execute_result"
    }
   ],
   "source": [
    "array=np.reshape(random_array,(1,25))\n",
    "array"
   ]
  },
  {
   "cell_type": "code",
   "execution_count": 93,
   "id": "8c6c5191-b2f7-426a-b43b-2638631a9b52",
   "metadata": {},
   "outputs": [
    {
     "data": {
      "text/plain": [
       "array([[9, 2, 1, 6, 6],\n",
       "       [6, 7, 9, 3, 1],\n",
       "       [8, 2, 5, 2, 1],\n",
       "       [5, 5, 3, 2, 9],\n",
       "       [2, 1, 5, 2, 4]])"
      ]
     },
     "execution_count": 93,
     "metadata": {},
     "output_type": "execute_result"
    }
   ],
   "source": [
    "array=np.reshape(random_array,(5,5))\n",
    "array"
   ]
  },
  {
   "cell_type": "code",
   "execution_count": 97,
   "id": "84939951-0b28-4a71-a6c8-41a9458a08e4",
   "metadata": {},
   "outputs": [
    {
     "data": {
      "text/plain": [
       "array([9, 2, 1, 6, 6, 6, 7, 9, 3, 1, 8, 2, 5, 2, 1, 5, 5, 3, 2, 9, 2, 1,\n",
       "       5, 2, 4])"
      ]
     },
     "execution_count": 97,
     "metadata": {},
     "output_type": "execute_result"
    }
   ],
   "source": [
    "one_D=np.ravel(random_array)\n",
    "one_D"
   ]
  },
  {
   "cell_type": "code",
   "execution_count": 99,
   "id": "5f1a32f9-435f-444e-9944-f684bac7f240",
   "metadata": {},
   "outputs": [
    {
     "data": {
      "text/plain": [
       "array([[3.        , 1.41421356, 1.        , 2.44948974, 2.44948974],\n",
       "       [2.44948974, 2.64575131, 3.        , 1.73205081, 1.        ],\n",
       "       [2.82842712, 1.41421356, 2.23606798, 1.41421356, 1.        ],\n",
       "       [2.23606798, 2.23606798, 1.73205081, 1.41421356, 3.        ],\n",
       "       [1.41421356, 1.        , 2.23606798, 1.41421356, 2.        ]])"
      ]
     },
     "execution_count": 99,
     "metadata": {},
     "output_type": "execute_result"
    }
   ],
   "source": [
    "np.sqrt(random_array)"
   ]
  },
  {
   "cell_type": "code",
   "execution_count": 103,
   "id": "639b32c3-d36c-485d-9308-fa2efb82a1ae",
   "metadata": {},
   "outputs": [
    {
     "data": {
      "text/plain": [
       "array([[81,  4,  1, 36, 36],\n",
       "       [36, 49, 81,  9,  1],\n",
       "       [64,  4, 25,  4,  1],\n",
       "       [25, 25,  9,  4, 81],\n",
       "       [ 4,  1, 25,  4, 16]], dtype=int32)"
      ]
     },
     "execution_count": 103,
     "metadata": {},
     "output_type": "execute_result"
    }
   ],
   "source": [
    "np.power(random_array,2)"
   ]
  },
  {
   "cell_type": "code",
   "execution_count": 107,
   "id": "f8cf37d0-7412-4d3e-b3ca-2a0a90a3066c",
   "metadata": {},
   "outputs": [
    {
     "data": {
      "text/plain": [
       "array([[1, 2, 6, 6, 9],\n",
       "       [1, 3, 6, 7, 9],\n",
       "       [1, 2, 2, 5, 8],\n",
       "       [2, 3, 5, 5, 9],\n",
       "       [1, 2, 2, 4, 5]])"
      ]
     },
     "execution_count": 107,
     "metadata": {},
     "output_type": "execute_result"
    }
   ],
   "source": [
    "np.sort(random_array)"
   ]
  }
 ],
 "metadata": {
  "kernelspec": {
   "display_name": "Python 3 (ipykernel)",
   "language": "python",
   "name": "python3"
  },
  "language_info": {
   "codemirror_mode": {
    "name": "ipython",
    "version": 3
   },
   "file_extension": ".py",
   "mimetype": "text/x-python",
   "name": "python",
   "nbconvert_exporter": "python",
   "pygments_lexer": "ipython3",
   "version": "3.12.4"
  }
 },
 "nbformat": 4,
 "nbformat_minor": 5
}
