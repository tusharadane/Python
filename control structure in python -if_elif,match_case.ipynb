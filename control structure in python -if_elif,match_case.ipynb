{
 "cells": [
  {
   "cell_type": "markdown",
   "id": "54ac94c5",
   "metadata": {},
   "source": [
    "# Control Structure in Python\n",
    "\n",
    "Control structures in Python are constructs that determine the flow and execution of a Python program. They enable you to make decisions, repeat tasks, and handle exceptions based on various conditions.\n",
    "\n",
    "Flow control statements in Python are essential tools that help you manage how your program runs. They serve two primary purposes:\n",
    "\n",
    "Conditional Statements: These are used to perform specific operations based on whether a condition is True or False. They allow your program to make decisions and execute different code paths accordingly.\n",
    "\n",
    "Looping Statements: These statements enable your program to perform certain operations repeatedly for a finite number of times or until a particular condition becomes False. They are used when you want to automate tasks that need to be repeated.\n",
    "\n",
    "Transfer Flow Statements: These statements control the flow of your program by transferring control from one part of the code to another. They include statements like break, continue, and return, which help you manage the execution flow in more complex ways."
   ]
  },
  {
   "cell_type": "markdown",
   "id": "5737982f",
   "metadata": {},
   "source": [
    "# if Statement\n",
    "\n",
    "Conditional, selection, or branching statements in programming are used to make decisions based on certain conditions. They allow a program to execute different blocks of code depending on whether a specified condition is true or false. These statements are fundamental for controlling the flow of a program and making it responsive to different situations.\n",
    "\n",
    "In Python, the primary conditional or selection or branching statements include:\n",
    "\n",
    "if Statement: The if statement is used to execute a block of code only if a specified condition is true. If the condition is false, the code block is skipped.\n",
    "\n",
    "\n",
    "if condition:\n",
    "\n",
    "    # code to execute if the condition is True\n",
    "    \n",
    "elif Statement: Short for \"else if,\" the elif statement is used to test multiple conditions in sequence after an initial if statement. \n",
    "It allows you to provide alternative code blocks based on different conditions.\n",
    "\n",
    "if condition1:\n",
    "      \n",
    "      # code to execute if condition1 is True\n",
    "\n",
    "elif condition2:\n",
    "    \n",
    "      # code to execute if condition2 is True\n",
    "\n",
    "else:\n",
    "    \n",
    "    # code to execute if none of the conditions are True\n",
    "\n",
    "else Statement: The else statement is used to specify a block of code to execute when none of the preceding if or elif conditions are true. It acts as a fallback option.\n",
    "\n",
    " \n",
    "if condition:\n",
    "    # code to execute if the condition is True\n",
    "else:\n",
    "    # code to execute if the condition is False\n",
    "These conditional statements allow you to create decision points in your code. For example, you can use them to:\n",
    "\n",
    "Determine whether to execute specific code based on user input.\n",
    "Handle different cases or scenarios within your program.\n",
    "Implement error checking and error handling based on conditions.\n",
    "Control the flow of your program based on the state of variables or other data."
   ]
  },
  {
   "cell_type": "code",
   "execution_count": null,
   "id": "8b7aaafd",
   "metadata": {},
   "outputs": [],
   "source": [
    "if 2>3:  # if False\n",
    "    print(\"It is Correct\")"
   ]
  },
  {
   "cell_type": "code",
   "execution_count": null,
   "id": "798bcd01",
   "metadata": {},
   "outputs": [],
   "source": [
    "if True:\n",
    "    print(\"Python\")"
   ]
  },
  {
   "cell_type": "code",
   "execution_count": null,
   "id": "02e2fff2",
   "metadata": {},
   "outputs": [],
   "source": [
    "if False:\n",
    "    print(\"Programm\")"
   ]
  },
  {
   "cell_type": "code",
   "execution_count": null,
   "id": "daf8ab80",
   "metadata": {},
   "outputs": [],
   "source": [
    "if expresssion:\n",
    "print(\"Program\")"
   ]
  },
  {
   "cell_type": "code",
   "execution_count": null,
   "id": "9fbf6af9",
   "metadata": {},
   "outputs": [],
   "source": [
    "if condition:\n",
    "    print(\"Statement if condition is true\")"
   ]
  },
  {
   "cell_type": "code",
   "execution_count": null,
   "id": "16d525d2",
   "metadata": {},
   "outputs": [],
   "source": [
    "age = int(input(\"Enter the age of yours:- \")) # int\n",
    "\n",
    "if age>=18: #   18>=18 expression Result:- True/False\n",
    "    print(\"You can Vote\")\n"
   ]
  },
  {
   "cell_type": "code",
   "execution_count": null,
   "id": "6ae65c53",
   "metadata": {},
   "outputs": [],
   "source": [
    "age = int(input(\"Enter the age of yours:- \")) # int\n",
    "\n",
    "if age>=18: #   18>=18 expression Result:- True/False\n",
    "    print(\"You can Vote\")\n",
    "else:\n",
    "    print(\"You cannot Vote\")"
   ]
  },
  {
   "cell_type": "code",
   "execution_count": 15,
   "id": "fe3ae1f7",
   "metadata": {},
   "outputs": [
    {
     "name": "stdout",
     "output_type": "stream",
     "text": [
      "Enter the number:-5\n",
      "Number is Postive\n"
     ]
    }
   ],
   "source": [
    "number=int(input(\"Enter the number:-\"))\n",
    "if number>0:\n",
    "    print(f\"Number is Postive\")\n",
    "elif number<0:\n",
    "    print(f\"Number is Negative {number}\")\n",
    "else:\n",
    "    print(\"Number is Zero\")"
   ]
  },
  {
   "cell_type": "code",
   "execution_count": null,
   "id": "b7245550",
   "metadata": {},
   "outputs": [],
   "source": [
    "a = [\"Mango\",\"Apple\",\"Cherry\",\"Watermelon\",\"Kiwi\",\"Jackfruit\"]\n",
    "\n",
    "user_input = input(\"Enter the name of the fruit you want:- \").capitalize()\n",
    "\n",
    "if user_input in a:\n",
    "    print(\"Fruit is Available\")\n",
    "else:\n",
    "    print(\"Fruit is not Available\")"
   ]
  },
  {
   "cell_type": "code",
   "execution_count": 16,
   "id": "38834ba5",
   "metadata": {},
   "outputs": [
    {
     "name": "stdout",
     "output_type": "stream",
     "text": [
      "Enter the element you want:-\tlaptop\n",
      "Element Found\n"
     ]
    }
   ],
   "source": [
    "a=[\"BOOK\",\"HELLO\",\"LAPTOP\",\"TV\",\"PEN\"]\n",
    "user=input(\"Enter the element you want:-\\t\")\n",
    "if user.upper() in a:\n",
    "    print(\"Element Found\")\n",
    "else:\n",
    "    print(\"Element not found\")\n"
   ]
  },
  {
   "cell_type": "code",
   "execution_count": 14,
   "id": "f5fc93a8",
   "metadata": {},
   "outputs": [
    {
     "name": "stdout",
     "output_type": "stream",
     "text": [
      "Enter the number12\n",
      "Enter the number235\n",
      "Enter the number364\n",
      "64 is the greatest number\n"
     ]
    }
   ],
   "source": [
    "# finding out greatest number\n",
    "user1=int(input(\"Enter the number1\"))\n",
    "user2=int(input(\"Enter the number2\"))\n",
    "user3=int(input(\"Enter the number3\"))\n",
    "if user1>user2 and urser1>user3:\n",
    "    print(user1,\"is the greatest number\")\n",
    "elif user2>user1 and  user2>user3:\n",
    "    print(user2,\"is the greatest number\")\n",
    "else:\n",
    "    print(user3,\"is the greatest number\")\n",
    "    \n"
   ]
  },
  {
   "cell_type": "code",
   "execution_count": null,
   "id": "c00a97fb",
   "metadata": {},
   "outputs": [],
   "source": [
    "input marks of  3 subjects  \n",
    "calculate avg percentage \n",
    "determine weather a student passes or fail\n",
    "if marks is less than any 35 perc student is fail\n",
    "if avg percentage is less than 36 perc then student is fail\n",
    "if both condition are false  student is pass\n"
   ]
  },
  {
   "cell_type": "code",
   "execution_count": 19,
   "id": "322f5fb3",
   "metadata": {},
   "outputs": [
    {
     "name": "stdout",
     "output_type": "stream",
     "text": [
      "Enter the marks of physics:- 35\n",
      "Enter the marks of chemistry:- 36\n",
      "Enter the marks of maths:- 40\n",
      "You have passed and your average is 37.0 \n"
     ]
    }
   ],
   "source": [
    "phy=float(input(\"Enter the marks of physics:- \"))\n",
    "chem=float(input(\"Enter the marks of chemistry:- \"))\n",
    "maths=float(input(\"Enter the marks of maths:- \"))\n",
    "average=(phy+chem+maths)/3\n",
    "if phy<35 or chem<35 or maths<35:\n",
    "    print(\"You have failed\")\n",
    "elif average<36:\n",
    "    print(\"You have failed\")\n",
    "\n",
    "else:\n",
    "    print(\"You have passed and your average is {} \".format(average))"
   ]
  },
  {
   "cell_type": "code",
   "execution_count": null,
   "id": "20edff9c",
   "metadata": {},
   "outputs": [],
   "source": [
    "name = \"Akash\"\n",
    "\n",
    "if name == \"Rohit\" or name==\"jay\" or name==\"Mayank\" or name==\"Rahul\":\n",
    "#    False or False or False or \"Rahul\"\n",
    "    print(\"Name Matched\")\n",
    "else:\n",
    "    print(\"Name does not matched\")"
   ]
  },
  {
   "cell_type": "code",
   "execution_count": null,
   "id": "cf39ba56",
   "metadata": {},
   "outputs": [],
   "source": [
    "6 or 0 or 0 or 0 or 0 or 0 or 0 "
   ]
  },
  {
   "cell_type": "code",
   "execution_count": null,
   "id": "388c1f6c",
   "metadata": {},
   "outputs": [],
   "source": [
    "age = int(input(\"Enter the age of yours:- \")) # int\n",
    "\n",
    "if age>=18: #   18>=18 expression Result:- True/False\n",
    "    print(\"You can Vote\")\n",
    "else:\n",
    "    print(\"You cannot Vote\")"
   ]
  },
  {
   "cell_type": "code",
   "execution_count": null,
   "id": "fa015a83",
   "metadata": {},
   "outputs": [],
   "source": [
    "age = int(input(\"Enter the age of yours:- \"))\n",
    "\n",
    "if age>=18:\n",
    "    voter_id = input(\"enter [YES/NO] you have a voter_id\").upper()\n",
    "    if voter_id == \"YES\":\n",
    "        print(\"You can Vote\")\n",
    "    else:\n",
    "        print(\"You cannot Vote, becuase you dont have voter ID\")\n",
    "else:\n",
    "    print(\"you cannot vote\")"
   ]
  },
  {
   "cell_type": "code",
   "execution_count": null,
   "id": "748e04d8",
   "metadata": {},
   "outputs": [],
   "source": [
    "#  even or odd"
   ]
  },
  {
   "cell_type": "code",
   "execution_count": null,
   "id": "092f8282",
   "metadata": {},
   "outputs": [],
   "source": [
    "num = int(input(\"Enter the number if check if it is even or odd\")) # 8\n",
    "\n",
    "if num % 2 == 0:\n",
    "    print(\"It is even number\")\n",
    "else:\n",
    "    print(\"It is odd number\")"
   ]
  },
  {
   "cell_type": "code",
   "execution_count": null,
   "id": "e7d4a87c",
   "metadata": {},
   "outputs": [],
   "source": [
    "num = int(input(\"Enter the number:- \"))\n",
    "\n",
    "if num % 2 == 0:\n",
    "    print(\"It is even number\")\n",
    "else:\n",
    "    print(\"It is odd number\")\n",
    "\n"
   ]
  },
  {
   "cell_type": "code",
   "execution_count": null,
   "id": "c0bad020",
   "metadata": {},
   "outputs": [],
   "source": [
    "# take the value from the user and check if it palindrome\n",
    "\n",
    "user_input = input(\"Enter the words to check if it palindrome\")\n",
    "\n",
    "\n",
    "if user_input == user_input[::-1]:\n",
    "    print(\"It is palindrome\")\n",
    "else:\n",
    "    print(\"It is not a palindrome\")"
   ]
  },
  {
   "cell_type": "code",
   "execution_count": null,
   "id": "2af412b9",
   "metadata": {},
   "outputs": [],
   "source": [
    "# Movie Ticket\n",
    "\n",
    "if age<=13 then 30 perc discount\n",
    "if age between 14 to 60 then 10 perc discount\n",
    "if age greater than 60 then 20 perc discount\n",
    "movie_ticket_price = 280"
   ]
  },
  {
   "cell_type": "code",
   "execution_count": 3,
   "id": "63fc366b",
   "metadata": {},
   "outputs": [
    {
     "name": "stdout",
     "output_type": "stream",
     "text": [
      "Enter the ticket price of your movie:- 250\n",
      "Enter the age of yours:- 80\n",
      "Your final ticket price is:- 200.0\n"
     ]
    }
   ],
   "source": [
    "ticket_price = int(input(\"Enter the ticket price of your movie:- \")) # 280\n",
    "age = int(input(\"Enter the age of yours:- \"))\n",
    "\n",
    "if age<=13:\n",
    "    final_amount = ticket_price*0.7\n",
    "    print(f\"Your final ticket price is:- {final_amount}\")\n",
    "elif age>=14 and age<=60:\n",
    "    final_amount = ticket_price*0.9\n",
    "    print(f\"Your final ticket price is:- {final_amount}\")\n",
    "else:\n",
    "    final_amount = ticket_price*0.8\n",
    "    print(f\"Your final ticket price is:- {final_amount}\")\n",
    "    \n",
    "    \n",
    "    \n"
   ]
  },
  {
   "cell_type": "code",
   "execution_count": 20,
   "id": "fa3eed92",
   "metadata": {},
   "outputs": [
    {
     "name": "stdout",
     "output_type": "stream",
     "text": [
      "Enter your age: 56\n",
      "Enter the number of years you have been working: 20\n",
      "You are not eligible for retirement yet.\n"
     ]
    }
   ],
   "source": [
    "age = int(input(\"Enter your age: \"))\n",
    "years_worked = int(input(\"Enter the number of years you have been working: \"))\n",
    "\n",
    "if age >= 65 or years_worked >= 40:\n",
    "    print(\"You are eligible for retirement.\")\n",
    "else:\n",
    "    print(\"You are not eligible for retirement yet.\")\n"
   ]
  },
  {
   "cell_type": "markdown",
   "id": "9ae8f1df",
   "metadata": {},
   "source": [
    "# Match Case\n",
    "\n",
    "\"match case\" is a way to make decisions in Python based on what something looks like, rather than comparing it directly to specific values.\n",
    "\n",
    "In Python, \"match case\" refers to a feature introduced in Python 3.10, which is also known as \"structural pattern matching.\" This feature allows you to perform pattern matching on values and execute different code blocks based on the shape or structure of those values. It is similar to the \"switch\" or \"case\" statements found in other programming languages but offers more flexibility and expressiveness.\n",
    "\n",
    "Here's how you can use the match statement in Python:\n",
    "\n",
    "match value:\n",
    "\n",
    "case pattern_1:\n",
    "\n",
    "    # Code to execute if the value matches pattern_1\n",
    "\n",
    "case pattern_2:\n",
    "\n",
    "    # Code to execute if the value matches pattern_2\n",
    "\n",
    "case _:\n",
    "\n",
    "    # Code to execute if none of the above patterns match\n",
    "\n",
    "match is followed by an expression, which is the value you want to match against different patterns.\n",
    "\n",
    "case is used to define patterns along with the code to execute when a particular pattern matches the expression.\n",
    "\n",
    "You can have multiple case blocks to handle different patterns.\n",
    "\n",
    "Patterns can include literals, variable names, and more complex structures. The order in which you define patterns matters, and the first matching pattern's code block will be executed.\n",
    "\n",
    "You can use _ (underscore) as a wildcard pattern to match anything. It is typically used as the last case to handle unmatched cases."
   ]
  },
  {
   "cell_type": "code",
   "execution_count": 6,
   "id": "ed386246",
   "metadata": {},
   "outputs": [
    {
     "name": "stdout",
     "output_type": "stream",
     "text": [
      "Enter the number:-9\n",
      "Invalid value\n"
     ]
    }
   ],
   "source": [
    "number = int(input(\"Enter the number:-\")) \n",
    "\n",
    "match number:\n",
    "    case 1:\n",
    "        print(\"Value is 1\")\n",
    "    case 2:\n",
    "        print(\"Value is 2\")\n",
    "    case 3:\n",
    "        print(\"Value is 3\")\n",
    "    case _:\n",
    "        print(\"Invalid value\")"
   ]
  },
  {
   "cell_type": "code",
   "execution_count": 13,
   "id": "73fe8d94",
   "metadata": {},
   "outputs": [
    {
     "name": "stdout",
     "output_type": "stream",
     "text": [
      "Enter the name of the month to find days present in that monthJan\n",
      "Month name is Invalid\n"
     ]
    }
   ],
   "source": [
    "month_name = input(\"Enter the name of the month to find days present in that month\")\n",
    "\n",
    "match month_name:\n",
    "    \n",
    "    case \"January\" | \"March\" | \"May\" | \"July\" | \"August\" | \"October\" | \"December\":\n",
    "        print(\"31 days present in this month\")\n",
    "    \n",
    "    case \"April\" | \"June\" | \"September\" | \"November\":\n",
    "        print(\"30 days present in this month\")\n",
    "    case \"February\":\n",
    "        print(\"28 or 29 days present  in the month\")\n",
    "    \n",
    "    case _:\n",
    "        print(\"Month name is Invalid\")"
   ]
  },
  {
   "cell_type": "code",
   "execution_count": 21,
   "id": "5ee69f09",
   "metadata": {},
   "outputs": [
    {
     "name": "stdout",
     "output_type": "stream",
     "text": [
      "Enter the number of the weekday you want (1 to 7): 3\n",
      "It is Wednesday\n"
     ]
    }
   ],
   "source": [
    "user = int(input(\"Enter the number of the weekday you want (1 to 7): \"))\n",
    "\n",
    "match user:\n",
    "    case 1:\n",
    "        print(\"It is Monday\")\n",
    "    case 2:\n",
    "        print(\"It is Tuesday\")\n",
    "    case 3:\n",
    "        print(\"It is Wednesday\")\n",
    "    case 4:\n",
    "        print(\"It is Thursday\")\n",
    "    case 5:\n",
    "        print(\"It is Friday\")\n",
    "    case 6:\n",
    "        print(\"It is Saturday\")\n",
    "    case 7:\n",
    "        print(\"It is Sunday\")\n",
    "    case _:\n",
    "        print(\"Invalid number. Please enter a number between 1 and 7.\")\n"
   ]
  },
  {
   "cell_type": "code",
   "execution_count": 22,
   "id": "6f82da74",
   "metadata": {},
   "outputs": [
    {
     "name": "stdout",
     "output_type": "stream",
     "text": [
      "Enter a fruit name : orange\n",
      "Its orange in color.\n"
     ]
    }
   ],
   "source": [
    "x = input('Enter a fruit name : ').lower()\n",
    "match x:\n",
    "    case \"apple\":\n",
    "        print(\"Its red in color.\")\n",
    "    case \"banana\":\n",
    "        print(\"Its yellow in color.\")\n",
    "    case \"orange\":\n",
    "        print(\"Its orange in color.\")\n",
    "    case _:\n",
    "        print(\"This fruit is not present in our shop.\")"
   ]
  },
  {
   "cell_type": "code",
   "execution_count": 23,
   "id": "217d6843",
   "metadata": {},
   "outputs": [
    {
     "name": "stdout",
     "output_type": "stream",
     "text": [
      "Enter the operator you want to operation of:- /\n",
      "Enter the number1:- 10\n",
      "Enter the number2:- 2\n",
      "Addition of num1 and num2 is 5.0\n"
     ]
    }
   ],
   "source": [
    "user_input = input(\"Enter the operator you want to operation of:- \") # '+' '-'\n",
    "\n",
    "match user_input:\n",
    "    \n",
    "    case '+':\n",
    "        num1 = float(input(\"Enter the number1:- \"))\n",
    "        num2 = float(input(\"Enter the number2:- \"))\n",
    "        print(f\"Addition of num1 and num2 is {num1+num2}\")\n",
    "    case '/':\n",
    "        num1 = float(input(\"Enter the number1:- \"))\n",
    "        num2 = float(input(\"Enter the number2:- \"))\n",
    "        print(f\"Addition of num1 and num2 is {num1/num2}\")\n",
    "    case _:\n",
    "        print(\"Invalid Operator\")"
   ]
  },
  {
   "cell_type": "code",
   "execution_count": null,
   "id": "86fa9ada",
   "metadata": {},
   "outputs": [],
   "source": []
  }
 ],
 "metadata": {
  "kernelspec": {
   "display_name": "Python 3 (ipykernel)",
   "language": "python",
   "name": "python3"
  },
  "language_info": {
   "codemirror_mode": {
    "name": "ipython",
    "version": 3
   },
   "file_extension": ".py",
   "mimetype": "text/x-python",
   "name": "python",
   "nbconvert_exporter": "python",
   "pygments_lexer": "ipython3",
   "version": "3.12.4"
  }
 },
 "nbformat": 4,
 "nbformat_minor": 5
}
