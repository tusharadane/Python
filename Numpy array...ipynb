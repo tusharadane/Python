{
 "cells": [
  {
   "cell_type": "code",
   "execution_count": 3,
   "id": "d7dd930d-c10f-41c3-9fa4-4cada574cb65",
   "metadata": {},
   "outputs": [],
   "source": [
    "import numpy as np"
   ]
  },
  {
   "cell_type": "code",
   "execution_count": 15,
   "id": "8fe3c726-3315-487b-81e3-d046ac4634bb",
   "metadata": {},
   "outputs": [
    {
     "data": {
      "text/plain": [
       "array([[ 2,  9, 13],\n",
       "       [12, 12,  3],\n",
       "       [ 6, 11,  5]])"
      ]
     },
     "execution_count": 15,
     "metadata": {},
     "output_type": "execute_result"
    }
   ],
   "source": [
    "array1=np.random.randint(1,15, size=(3,3))\n",
    "\n",
    "array1"
   ]
  },
  {
   "cell_type": "code",
   "execution_count": 17,
   "id": "71de59d2-a21b-4ef2-906e-2e089c8f8ee3",
   "metadata": {},
   "outputs": [
    {
     "data": {
      "text/plain": [
       "array([[17, 29, 27],\n",
       "       [27, 18, 21],\n",
       "       [16, 19, 18]])"
      ]
     },
     "execution_count": 17,
     "metadata": {},
     "output_type": "execute_result"
    }
   ],
   "source": [
    "array2=np.random.randint(15,30, size=(3,3))\n",
    "\n",
    "array2"
   ]
  },
  {
   "cell_type": "code",
   "execution_count": 25,
   "id": "24da715d-2e51-4b8c-aadc-84a13c71e9af",
   "metadata": {},
   "outputs": [
    {
     "data": {
      "text/plain": [
       "array([[ 2,  9, 13],\n",
       "       [12, 12,  3],\n",
       "       [ 6, 11,  5],\n",
       "       [17, 29, 27],\n",
       "       [27, 18, 21],\n",
       "       [16, 19, 18]])"
      ]
     },
     "execution_count": 25,
     "metadata": {},
     "output_type": "execute_result"
    }
   ],
   "source": [
    "array3=np.append(array1,array2,axis=0)\n",
    "\n",
    "array3"
   ]
  },
  {
   "cell_type": "code",
   "execution_count": 29,
   "id": "0d459c5a-c4b0-4fd1-8a15-00105f75a981",
   "metadata": {},
   "outputs": [
    {
     "data": {
      "text/plain": [
       "array([[ 2,  9, 13],\n",
       "       [12, 12,  3],\n",
       "       [ 6, 11,  5],\n",
       "       [17, 29, 27],\n",
       "       [27, 18, 21],\n",
       "       [16, 19, 18]])"
      ]
     },
     "execution_count": 29,
     "metadata": {},
     "output_type": "execute_result"
    }
   ],
   "source": [
    "a=np.concatenate((array1,array2),axis=0)\n",
    "\n",
    "a"
   ]
  },
  {
   "cell_type": "code",
   "execution_count": 31,
   "id": "dee04465-9da2-4146-8463-9bc34e919611",
   "metadata": {},
   "outputs": [
    {
     "data": {
      "text/plain": [
       "array([[ 2,  9, 13, 17, 29, 27],\n",
       "       [12, 12,  3, 27, 18, 21],\n",
       "       [ 6, 11,  5, 16, 19, 18]])"
      ]
     },
     "execution_count": 31,
     "metadata": {},
     "output_type": "execute_result"
    }
   ],
   "source": [
    "b=np.hstack((array1,array2))\n",
    "\n",
    "b"
   ]
  },
  {
   "cell_type": "code",
   "execution_count": 33,
   "id": "08bc1d97-7719-4f8a-9a03-da97b36fed94",
   "metadata": {},
   "outputs": [
    {
     "data": {
      "text/plain": [
       "array([[ 2,  9, 13],\n",
       "       [12, 12,  3],\n",
       "       [ 6, 11,  5],\n",
       "       [17, 29, 27],\n",
       "       [27, 18, 21],\n",
       "       [16, 19, 18]])"
      ]
     },
     "execution_count": 33,
     "metadata": {},
     "output_type": "execute_result"
    }
   ],
   "source": [
    "b=np.vstack((array1,array2))\n",
    "\n",
    "b"
   ]
  },
  {
   "cell_type": "code",
   "execution_count": 35,
   "id": "5fc3c064-9c8a-4fb7-9c09-0b21e6e362bc",
   "metadata": {},
   "outputs": [
    {
     "data": {
      "text/plain": [
       "array([1, 2, 3, 4, 5, 6, 7, 8, 9])"
      ]
     },
     "execution_count": 35,
     "metadata": {},
     "output_type": "execute_result"
    }
   ],
   "source": [
    "a=[1,2,3,4,5,6,7,8,9]\n",
    "\n",
    "array=np.array(a)\n",
    "\n",
    "array"
   ]
  },
  {
   "cell_type": "code",
   "execution_count": 37,
   "id": "6b203826-712f-45c7-bf63-7fa6f9efcea1",
   "metadata": {},
   "outputs": [
    {
     "data": {
      "text/plain": [
       "array([9, 8, 7, 6, 5, 4, 3, 2, 1])"
      ]
     },
     "execution_count": 37,
     "metadata": {},
     "output_type": "execute_result"
    }
   ],
   "source": [
    "b=np.flip(array)\n",
    "\n",
    "b"
   ]
  },
  {
   "cell_type": "code",
   "execution_count": 39,
   "id": "da0ff92a-a42f-4a24-bda0-cc4391850551",
   "metadata": {},
   "outputs": [
    {
     "data": {
      "text/plain": [
       "array([[7, 8, 7],\n",
       "       [9, 6, 2],\n",
       "       [2, 6, 2]])"
      ]
     },
     "execution_count": 39,
     "metadata": {},
     "output_type": "execute_result"
    }
   ],
   "source": [
    "array1=np.random.randint(1,10,size=(3,3))\n",
    "\n",
    "array1"
   ]
  },
  {
   "cell_type": "code",
   "execution_count": 41,
   "id": "ed88945e-9f44-4f04-9aee-6ee306212b02",
   "metadata": {},
   "outputs": [
    {
     "data": {
      "text/plain": [
       "array([[4, 8, 9],\n",
       "       [3, 8, 4],\n",
       "       [6, 3, 2]])"
      ]
     },
     "execution_count": 41,
     "metadata": {},
     "output_type": "execute_result"
    }
   ],
   "source": [
    "array2=np.random.randint(1,10,size=(3,3))\n",
    "\n",
    "array2"
   ]
  },
  {
   "cell_type": "code",
   "execution_count": 43,
   "id": "1675851f-7521-409d-a778-b925401ef20b",
   "metadata": {},
   "outputs": [
    {
     "data": {
      "text/plain": [
       "array([[False,  True, False],\n",
       "       [False, False, False],\n",
       "       [False, False,  True]])"
      ]
     },
     "execution_count": 43,
     "metadata": {},
     "output_type": "execute_result"
    }
   ],
   "source": [
    "a=np.equal(array1,array2)\n",
    "a"
   ]
  },
  {
   "cell_type": "code",
   "execution_count": 47,
   "id": "87b8cd41-0dd2-4df3-a5dd-eb09594de8ea",
   "metadata": {},
   "outputs": [
    {
     "data": {
      "text/plain": [
       "array([7, 9, 6])"
      ]
     },
     "execution_count": 47,
     "metadata": {},
     "output_type": "execute_result"
    }
   ],
   "source": [
    "b=array1[array1>array2]\n",
    "\n",
    "b"
   ]
  },
  {
   "cell_type": "code",
   "execution_count": 49,
   "id": "bbf8c7cf-cba8-4643-8a21-c25c7295c5f2",
   "metadata": {},
   "outputs": [
    {
     "data": {
      "text/plain": [
       "array([[0, 1, 0],\n",
       "       [0, 0, 0],\n",
       "       [0, 0, 1]])"
      ]
     },
     "execution_count": 49,
     "metadata": {},
     "output_type": "execute_result"
    }
   ],
   "source": [
    "bool_result=np.where(a>0,1,0)\n",
    "\n",
    "bool_result"
   ]
  },
  {
   "cell_type": "code",
   "execution_count": 51,
   "id": "32b42eca-a673-44f8-abc2-be1e2cbe450f",
   "metadata": {},
   "outputs": [
    {
     "data": {
      "text/plain": [
       "array([[7, 8, 7],\n",
       "       [9, 6, 2],\n",
       "       [2, 6, 2]])"
      ]
     },
     "execution_count": 51,
     "metadata": {},
     "output_type": "execute_result"
    }
   ],
   "source": [
    "array1"
   ]
  },
  {
   "cell_type": "code",
   "execution_count": 63,
   "id": "83198b30-4c94-4470-83ce-912fe27b946e",
   "metadata": {},
   "outputs": [],
   "source": [
    "data=np.array([1,2,3])"
   ]
  },
  {
   "cell_type": "code",
   "execution_count": 65,
   "id": "d3d66a0c-c090-4fdb-8a51-8d4203753eaf",
   "metadata": {},
   "outputs": [
    {
     "data": {
      "text/plain": [
       "array([[7, 8, 7],\n",
       "       [9, 6, 2],\n",
       "       [2, 6, 2],\n",
       "       [1, 2, 3]])"
      ]
     },
     "execution_count": 65,
     "metadata": {},
     "output_type": "execute_result"
    }
   ],
   "source": [
    "result=np.append(array1,[data],axis=0)\n",
    "\n",
    "result"
   ]
  },
  {
   "cell_type": "code",
   "execution_count": 67,
   "id": "5a328616-a134-4f09-bd5a-e241ad1f72e1",
   "metadata": {},
   "outputs": [
    {
     "data": {
      "text/plain": [
       "array([[ 2.,  3., nan],\n",
       "       [ 4., nan,  6.],\n",
       "       [nan,  6.,  7.]])"
      ]
     },
     "execution_count": 67,
     "metadata": {},
     "output_type": "execute_result"
    }
   ],
   "source": [
    "array=np.array([[2,3,np.nan],[4,np.nan,6],[np.nan,6,7]])\n",
    "\n",
    "array"
   ]
  },
  {
   "cell_type": "code",
   "execution_count": 69,
   "id": "3adab8c0-040d-40ad-8143-633cb8c5c1c0",
   "metadata": {},
   "outputs": [
    {
     "data": {
      "text/plain": [
       "array([[False, False,  True],\n",
       "       [False,  True, False],\n",
       "       [ True, False, False]])"
      ]
     },
     "execution_count": 69,
     "metadata": {},
     "output_type": "execute_result"
    }
   ],
   "source": [
    "np.isnan(array)"
   ]
  },
  {
   "cell_type": "code",
   "execution_count": 73,
   "id": "8f38ac3b-1cd2-4df3-9fdd-72210978d9df",
   "metadata": {},
   "outputs": [
    {
     "data": {
      "text/plain": [
       "3"
      ]
     },
     "execution_count": 73,
     "metadata": {},
     "output_type": "execute_result"
    }
   ],
   "source": [
    "np.isnan(array).sum()"
   ]
  },
  {
   "cell_type": "code",
   "execution_count": 77,
   "id": "a2690933-4ad1-4f53-9a7e-3ef5190a699e",
   "metadata": {},
   "outputs": [
    {
     "data": {
      "text/plain": [
       "array([2, 3, 4, 5, 6, 3, 4, 2, 7, 8, 9])"
      ]
     },
     "execution_count": 77,
     "metadata": {},
     "output_type": "execute_result"
    }
   ],
   "source": [
    "cumulative_sum=np.array([2,3,4,5,6,3,4,2,7,8,9])\n",
    "\n",
    "cumulative_sum"
   ]
  },
  {
   "cell_type": "code",
   "execution_count": 79,
   "id": "e07da827-a31c-4aa4-a57a-ff5fe75afa0f",
   "metadata": {},
   "outputs": [
    {
     "data": {
      "text/plain": [
       "array([ 2,  5,  9, 14, 20, 23, 27, 29, 36, 44, 53])"
      ]
     },
     "execution_count": 79,
     "metadata": {},
     "output_type": "execute_result"
    }
   ],
   "source": [
    "a=np.cumsum(cumulative_sum)\n",
    "\n",
    "a"
   ]
  },
  {
   "cell_type": "code",
   "execution_count": 81,
   "id": "16c36aa9-fa2a-469b-a14a-c0f7b7530b30",
   "metadata": {},
   "outputs": [
    {
     "data": {
      "text/plain": [
       "array([0, 0, 2, 2, 2, 1, 1, 1, 1, 1], dtype=int64)"
      ]
     },
     "execution_count": 81,
     "metadata": {},
     "output_type": "execute_result"
    }
   ],
   "source": [
    "np.bincount(cumulative_sum)"
   ]
  },
  {
   "cell_type": "code",
   "execution_count": 83,
   "id": "833e8200-fe45-43fd-a39d-48335c2cd171",
   "metadata": {},
   "outputs": [
    {
     "data": {
      "text/plain": [
       "8709120"
      ]
     },
     "execution_count": 83,
     "metadata": {},
     "output_type": "execute_result"
    }
   ],
   "source": [
    "product=np.product(cumulative_sum)\n",
    "\n",
    "product"
   ]
  },
  {
   "cell_type": "code",
   "execution_count": 87,
   "id": "6c3f10f4-15b7-4c5e-ab78-d674e569f669",
   "metadata": {},
   "outputs": [
    {
     "data": {
      "text/plain": [
       "array([-3,  6, -3])"
      ]
     },
     "execution_count": 87,
     "metadata": {},
     "output_type": "execute_result"
    }
   ],
   "source": [
    "array1=np.array([2,3,4])\n",
    "\n",
    "array2=np.array([5,6,7])\n",
    "\n",
    "result=np.cross(array1,array2)\n",
    "\n",
    "result"
   ]
  },
  {
   "cell_type": "code",
   "execution_count": null,
   "id": "2ca1a79f-f5ea-4243-a5f3-208ee3f0ccbb",
   "metadata": {},
   "outputs": [],
   "source": [
    "a=np."
   ]
  },
  {
   "cell_type": "code",
   "execution_count": null,
   "id": "6f388d03-6bc1-4ce8-8582-904959928aee",
   "metadata": {},
   "outputs": [],
   "source": []
  }
 ],
 "metadata": {
  "kernelspec": {
   "display_name": "Python 3 (ipykernel)",
   "language": "python",
   "name": "python3"
  },
  "language_info": {
   "codemirror_mode": {
    "name": "ipython",
    "version": 3
   },
   "file_extension": ".py",
   "mimetype": "text/x-python",
   "name": "python",
   "nbconvert_exporter": "python",
   "pygments_lexer": "ipython3",
   "version": "3.12.4"
  }
 },
 "nbformat": 4,
 "nbformat_minor": 5
}
