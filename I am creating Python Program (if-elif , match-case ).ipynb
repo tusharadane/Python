{
 "cells": [
  {
   "cell_type": "code",
   "execution_count": null,
   "id": "b7ab4f4f-f079-46c3-99de-0b3338680436",
   "metadata": {},
   "outputs": [],
   "source": [
    "#Q1) Create a Python program that calculates the ticket price for a movie theater based on the age of the person. The program should ask the user \n",
    "#to input their age, and then it should determine the ticket price according to the following rules:\n",
    "#If the person is 12 years old or younger, the ticket price is $5.\n",
    "#If the person is between 13 and 64 years old (inclusive), the ticket price is $10.\n",
    "#If the person is 65 years old or older, the ticket price is $7."
   ]
  },
  {
   "cell_type": "code",
   "execution_count": 111,
   "id": "82eacd63-58b1-4e64-8866-f4202528ca6f",
   "metadata": {},
   "outputs": [
    {
     "name": "stdin",
     "output_type": "stream",
     "text": [
      "enter the your age:-  70\n"
     ]
    },
    {
     "name": "stdout",
     "output_type": "stream",
     "text": [
      "ticket price is $7\n"
     ]
    }
   ],
   "source": [
    "user_input= int(input(\"enter the your age:- \"))\n",
    "\n",
    "if user_input<=12:\n",
    "    print(\"ticket price is $5\")\n",
    "elif user_input>=13 and user_input<=64:\n",
    "    print(\"ticket price is $10\")\n",
    "else:\n",
    "   print(\"ticket price is $7\")"
   ]
  },
  {
   "cell_type": "code",
   "execution_count": 55,
   "id": "bdc9f645-51aa-4897-99ed-9a274e8f8b6b",
   "metadata": {},
   "outputs": [
    {
     "name": "stdin",
     "output_type": "stream",
     "text": [
      "enter the number:- 4\n"
     ]
    },
    {
     "name": "stdout",
     "output_type": "stream",
     "text": [
      "its negative test\n"
     ]
    }
   ],
   "source": [
    "#Q2) Write a Python program that asks the user to input a number and determines whether it's positive, negative, or zero using if-else statements.\n",
    "\n",
    "user_input=int(input(\"enter the number:-\"))\n",
    "\n",
    "if user_input==1:\n",
    "    print(\"its positive test\")\n",
    "elif user_input==0:\n",
    "    print(0)\n",
    "else:\n",
    "    print(\"its negative test\")"
   ]
  },
  {
   "cell_type": "code",
   "execution_count": null,
   "id": "3ee43310-5abb-440a-af44-932e605d7f64",
   "metadata": {},
   "outputs": [],
   "source": [
    "Q3) You are tasked with creating a Python program that calculates and assigns grades to students based on their test scores.\n",
    "The program should follow the given grading scale:\n",
    "A: 90-100\n",
    "B: 80-89\n",
    "C: 70-79\n",
    "D: 60-69\n",
    "F: 0-59"
   ]
  },
  {
   "cell_type": "code",
   "execution_count": 103,
   "id": "948195d2-a8ef-40a3-abba-986b18bc8c67",
   "metadata": {},
   "outputs": [
    {
     "name": "stdin",
     "output_type": "stream",
     "text": [
      "enter the your scores:- 45\n"
     ]
    },
    {
     "name": "stdout",
     "output_type": "stream",
     "text": [
      " F grade\n"
     ]
    }
   ],
   "source": [
    "scores=int(input(\"enter the your scores:-\"))\n",
    "\n",
    "if scores>=90 and scores<=100:\n",
    "    print(\" A grade\")\n",
    "elif scores>=80 and scores<=89:\n",
    "    print(\" B grade\")\n",
    "elif scores>=70 and scores<=79:\n",
    "    print(\" C grade\")\n",
    "elif scores>=60 and scores<=69:\n",
    "    print(\" D grade\")\n",
    "else:\n",
    "    print(\" F grade\")"
   ]
  },
  {
   "cell_type": "code",
   "execution_count": null,
   "id": "7c7b7110-4f78-43c2-a610-182a9604fb9b",
   "metadata": {},
   "outputs": [],
   "source": []
  },
  {
   "cell_type": "code",
   "execution_count": 170,
   "id": "0640cf0d-6676-4a57-8bea-1904b0d94003",
   "metadata": {},
   "outputs": [
    {
     "name": "stdin",
     "output_type": "stream",
     "text": [
      "Enter the operator you want /\n",
      "Enter the discount in num:-  50\n",
      "How much distance?:-  10\n"
     ]
    },
    {
     "name": "stdout",
     "output_type": "stream",
     "text": [
      "Addition of num1 and num2 is 4.545454545454546\n"
     ]
    }
   ],
   "source": [
    "#Q4) Write a Python program that simulates a simple calculator. It should take three inputs: two numbers and an \n",
    "#operator (+, -, *, /). Use a match-case statement to perform the corresponding operation and print the result.\n",
    "\n",
    "#food delivery sc=50 ,price =200,distance under 10km= sc is 50% off or under the 5km=free delivery,more than 10order=30% off\n",
    "\n",
    "user_input =input(\"Enter the operator you want\") \n",
    "\n",
    "match user_input:\n",
    "    \n",
    "    case '+':\n",
    "         sc= int(input(\"Enter the service charge:- \"))\n",
    "         dd=int(input(\"Enter the delivery distance charge is 10/km:- \"))\n",
    "         print(f\"your final amount is {sc+dd}\")\n",
    "    case '/':\n",
    "        dis = int(input(\"Enter the discount in num:- \"))\n",
    "        distance = int(input(\"How much distance?:- \"))\n",
    "        print(f\"Addition of num1 and num2 is {dis/order}\")\n",
    "    case _:\n",
    "        print(\"Invalid Operator\")\n",
    "\n",
    "#i will try only make program "
   ]
  },
  {
   "cell_type": "code",
   "execution_count": 178,
   "id": "5cdbce62-9ce3-40c4-a5ad-0a0d6782f587",
   "metadata": {},
   "outputs": [
    {
     "name": "stdin",
     "output_type": "stream",
     "text": [
      "Enter the operator you want to operation of:-  /\n",
      "Enter the number1:-  4\n",
      "Enter the number2:-  2\n"
     ]
    },
    {
     "name": "stdout",
     "output_type": "stream",
     "text": [
      "divide of num1 and num2 is 2.0\n"
     ]
    }
   ],
   "source": [
    "user_input = input(\"Enter the operator you want to operation of:- \") \n",
    "\n",
    "match user_input:\n",
    "    \n",
    "    case '+':\n",
    "        num1 = float(input(\"Enter the number1:- \"))\n",
    "        num2 = float(input(\"Enter the number2:- \"))\n",
    "        print(f\"Addition of num1 and num2 is {num1+num2}\")\n",
    "    case '/':\n",
    "        num1 = float(input(\"Enter the number1:- \"))\n",
    "        num2 = float(input(\"Enter the number2:- \"))\n",
    "        print(f\"divide of num1 and num2 is {num1/num2}\")\n",
    "    case'-':\n",
    "        num1=float(input(\"enter the number1:-\"))\n",
    "        num2=float(input(\"enter the number2:-\"))\n",
    "        print(f\"minus of num1 and num2 is{num1-num2}\")\n",
    "    case'*':\n",
    "        num1=float(input(\"enter the number1:-\"))\n",
    "        num2=float(input(\"enter the number2:-\"))\n",
    "        print(f\"multipication of num1 and num2 is{num1*num2}\")"
   ]
  },
  {
   "cell_type": "code",
   "execution_count": null,
   "id": "0048b8f0-7a53-44bf-8748-023fa0b8f1b8",
   "metadata": {},
   "outputs": [],
   "source": [
    "Q5) Write a Python program that asks the user to input a temperature in Celsius and converts it to Fahrenheit. Then, using if-elif-else,\n",
    "determine the weather condition based on the following temperature ranges:\n",
    "\n",
    "Below 0°C: \"Freezing\"\n",
    "0°C to 10°C: \"Very Cold\"\n",
    "11°C to 20°C: \"Cold\"\n",
    "21°C to 30°C: \"Warm\"\n",
    "Above 30°C: \"Hot\"\n"
   ]
  },
  {
   "cell_type": "code",
   "execution_count": 1,
   "id": "51907d63-a3a8-4b20-ac47-a1640837e664",
   "metadata": {},
   "outputs": [
    {
     "data": {
      "text/plain": [
       "4.5"
      ]
     },
     "execution_count": 1,
     "metadata": {},
     "output_type": "execute_result"
    }
   ],
   "source": [
    "9/2"
   ]
  },
  {
   "cell_type": "code",
   "execution_count": 21,
   "id": "23f06224-29d3-407f-8580-3fc27e103d81",
   "metadata": {},
   "outputs": [
    {
     "data": {
      "text/plain": [
       "33.8"
      ]
     },
     "execution_count": 21,
     "metadata": {},
     "output_type": "execute_result"
    }
   ],
   "source": [
    "1 * (9/5) + 32 "
   ]
  },
  {
   "cell_type": "code",
   "execution_count": 17,
   "id": "3f60f0fa-2808-4b01-b765-99aab87a4f30",
   "metadata": {},
   "outputs": [
    {
     "name": "stdin",
     "output_type": "stream",
     "text": [
      "enter the temperature in celsius:- 2\n"
     ]
    },
    {
     "name": "stdout",
     "output_type": "stream",
     "text": [
      "weather is hot\n"
     ]
    }
   ],
   "source": [
    "user_input=float(input(\"enter the temperature in celsius:-\")) # Celsius\n",
    "# F = °C × (9/5) + 32. \n",
    "f = user_input * (9/5) + 32  \n",
    "\n",
    "if f==0:\n",
    "    print(\"weather is freezing\")\n",
    "elif f>=0 and f<10:\n",
    "    print(\"weather is very cold\")\n",
    "elif f>=11 and f<=20:\n",
    "    print(\"weather is cold\")\n",
    "elif f>=21 and f<=30:\n",
    "    print(\"weather is warm\")\n",
    "else:\n",
    "    print(\"weather is hot\")"
   ]
  },
  {
   "cell_type": "code",
   "execution_count": null,
   "id": "c35b55b3-ef66-49f6-9302-efa8ea53d672",
   "metadata": {},
   "outputs": [],
   "source": [
    "#Q6) Create a Python program that takes a grade as input (e.g., \"A\", \"B\", \"C\", \"D\", \"F\") and uses a match-case statement to print the corresponding feedback:\n",
    "#A: \"Excellent!\"\n",
    "#B: \"Good job!\"\n",
    "#C: \"Fair!\"\n",
    "#D: \"Needs improvement!\"\n",
    "#F: \"Failed!\" If the user enters anything other than these grades, print \"Invalid grade.\""
   ]
  },
  {
   "cell_type": "code",
   "execution_count": 41,
   "id": "ec842a16-b80f-458f-ae9b-54341c9250f7",
   "metadata": {},
   "outputs": [
    {
     "name": "stdin",
     "output_type": "stream",
     "text": [
      "please enter the grade:- D\n"
     ]
    },
    {
     "name": "stdout",
     "output_type": "stream",
     "text": [
      "Need improvement !\n"
     ]
    }
   ],
   "source": [
    "grade=input(\"please enter the grade:-\")\n",
    "\n",
    "match grade:\n",
    "     case\"A\":\n",
    "         print(\"Excellent !\")\n",
    "     case'B':\n",
    "         print(\"Good job !\")\n",
    "     case'C':\n",
    "         print(\"Fair !\")\n",
    "     case'D':\n",
    "         print(\"Need improvement !\")\n",
    "     case'F':\n",
    "         print(\"Failed !\")\n",
    "     case _:\n",
    "         print(\"invalid grade\")"
   ]
  },
  {
   "cell_type": "code",
   "execution_count": null,
   "id": "ba41ad55-6e11-492b-bf76-57f4ff81fc8f",
   "metadata": {},
   "outputs": [],
   "source": [
    "#Q7) Create a Python program that asks the user to input their weight (in kg) and height (in meters). Calculate the Body Mass Index (BMI) and \n",
    "#determine their weight category:\n",
    "#BMI < 18.5: \"Underweight\"\n",
    "#BMI 18.5-24.9: \"Normal weight\"\n",
    "#BMI 25.0-29.9: \"Overweight\"\n",
    "#BMI 30.0 and above: \"Obese\""
   ]
  },
  {
   "cell_type": "code",
   "execution_count": 59,
   "id": "cdd36d5d-b95d-4650-93de-5d6a6ba01722",
   "metadata": {
    "scrolled": true
   },
   "outputs": [
    {
     "name": "stdin",
     "output_type": "stream",
     "text": [
      "enter your weight:- 28\n",
      "enter your height:- 4\n"
     ]
    },
    {
     "name": "stdout",
     "output_type": "stream",
     "text": [
      "overweight\n"
     ]
    }
   ],
   "source": [
    "weight=float(input(\"enter your weight:-\"))\n",
    "\n",
    "height=float(input(\"enter your height:-\"))\n",
    "\n",
    "if weight<18.5 and height<5:\n",
    "    print(\"underweight\")\n",
    "elif weight>18.5 and weight<24.9 and height>=5 and height<=6:\n",
    "    print(\"normal weight\")\n",
    "elif weight>25.0 and weight<29.9 and height<5:\n",
    "    print(\"overweight\")\n",
    "else:\n",
    "    print(\"obese\")\n"
   ]
  },
  {
   "cell_type": "code",
   "execution_count": null,
   "id": "926ce7d6-1812-48bf-b9e5-9e05ae9a198b",
   "metadata": {},
   "outputs": [],
   "source": [
    "Q8) Write a Python program that asks the user to input the principal amount, rate of interest, and time (in years). Then,\n",
    "calculate the simple interest and display it. Additionally, determine if the interest is:\n",
    "Less than $100: \"Low interest\"\n",
    "Between $100 and $500 (inclusive): \"Moderate interest\"\n",
    "Greater than $500: \"High interest\"\n"
   ]
  },
  {
   "cell_type": "code",
   "execution_count": 95,
   "id": "985eb533-7df5-4668-ab60-07c62bd2486b",
   "metadata": {},
   "outputs": [
    {
     "name": "stdin",
     "output_type": "stream",
     "text": [
      "Hii shital enter the principle amount:- 1000\n",
      "Hii shital enter the rate of interest:- 15\n",
      "Hii shital enter the duration of loan in years:- 2\n"
     ]
    },
    {
     "name": "stdout",
     "output_type": "stream",
     "text": [
      "300.0 Moderate intereste\n"
     ]
    }
   ],
   "source": [
    "amount=int(input(\"Hii shital enter the principle amount:-\"))\n",
    "interest=int(input(\"Hii shital enter the rate of interest:-\"))\n",
    "time=int(input(\"Hii shital enter the duration of loan in years:-\"))\n",
    "\n",
    "simple_interest = (amount * interest * time) / 100\n",
    "\n",
    "if simple_interest<100:\n",
    "    print(simple_interest,\"low interest\")\n",
    "elif simple_interest>=100 and simple_interest<=500:\n",
    "    print(simple_interest,\"Moderate intereste\")\n",
    "else:\n",
    "     print(simple_interest,\"High intererst\")"
   ]
  }
 ],
 "metadata": {
  "kernelspec": {
   "display_name": "Python 3 (ipykernel)",
   "language": "python",
   "name": "python3"
  },
  "language_info": {
   "codemirror_mode": {
    "name": "ipython",
    "version": 3
   },
   "file_extension": ".py",
   "mimetype": "text/x-python",
   "name": "python",
   "nbconvert_exporter": "python",
   "pygments_lexer": "ipython3",
   "version": "3.12.4"
  }
 },
 "nbformat": 4,
 "nbformat_minor": 5
}
