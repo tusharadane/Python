{
 "cells": [
  {
   "cell_type": "code",
   "execution_count": 8,
   "id": "06e70384",
   "metadata": {},
   "outputs": [
    {
     "name": "stdout",
     "output_type": "stream",
     "text": [
      "* * * * * \n",
      "* * * * * \n",
      "* * * * * \n",
      "* * * * * \n",
      "* * * * * \n"
     ]
    }
   ],
   "source": [
    "for i in range(1,6):\n",
    "    for j in range(1,6):\n",
    "        print(\"*\",end=' ')\n",
    "    print()"
   ]
  },
  {
   "cell_type": "code",
   "execution_count": null,
   "id": "983ce812",
   "metadata": {},
   "outputs": [],
   "source": [
    "*\n",
    "**\n",
    "***\n",
    "****\n",
    "*****\n"
   ]
  },
  {
   "cell_type": "code",
   "execution_count": 11,
   "id": "3d7c9d83",
   "metadata": {},
   "outputs": [
    {
     "name": "stdout",
     "output_type": "stream",
     "text": [
      "* * * * * \n",
      "* * * * * \n",
      "* * * * * \n",
      "* * * * * \n",
      "* * * * * \n"
     ]
    }
   ],
   "source": [
    "for i in range(1,6):\n",
    "    print(5*\"* \")"
   ]
  },
  {
   "cell_type": "code",
   "execution_count": 64,
   "id": "dfaba408",
   "metadata": {},
   "outputs": [
    {
     "name": "stdout",
     "output_type": "stream",
     "text": [
      "{1: 2, 5: 3, 4: 2, 3: 1, 2: 1, 6: 1, 7: 1}\n"
     ]
    }
   ],
   "source": [
    "numbers = [1, 5, 4, 3, 2, 5, 6, 1,5,7,4]  # List of numbers\n",
    "frequency_count = {}  # Dictionary to store the frequency of each number\n",
    "\n",
    "for num in numbers:  # Iterate over each number in the list\n",
    "    if num in frequency_count:  # If number is already in the dictionary\n",
    "        frequency_count[num] += 1  # Increment its count by 1\n",
    "    else:\n",
    "        frequency_count[num] = 1  # If number is not in the dictionary, set its count to 1\n",
    "\n",
    "print(frequency_count)  # Output the frequency count of each number\n"
   ]
  },
  {
   "cell_type": "code",
   "execution_count": 69,
   "id": "875d85f8",
   "metadata": {},
   "outputs": [
    {
     "name": "stdout",
     "output_type": "stream",
     "text": [
      "language programming level high a is Python\n"
     ]
    }
   ],
   "source": [
    "sentence = \"Python is a high level programming language\"  # Original sentence\n",
    "\n",
    "words = sentence.split()  # Split the sentence into a list of words\n",
    "\n",
    "words.reverse()  # Reverse the order of words in the list\n",
    "\n",
    "reversed_sentence = \" \".join(words)  # Join the words back into a single string\n",
    "\n",
    "print(reversed_sentence)  # Print the reversed sentence\n"
   ]
  },
  {
   "cell_type": "code",
   "execution_count": null,
   "id": "f10d4391",
   "metadata": {},
   "outputs": [],
   "source": [
    "*\n",
    "**\n",
    "***\n",
    "****\n",
    "*****\n"
   ]
  },
  {
   "cell_type": "code",
   "execution_count": 62,
   "id": "3ae023a6",
   "metadata": {},
   "outputs": [
    {
     "name": "stdout",
     "output_type": "stream",
     "text": [
      "* \n",
      "* * \n",
      "* * * \n",
      "* * * * \n",
      "* * * * * \n"
     ]
    }
   ],
   "source": [
    "for i in range(1,6):\n",
    "    print(\"* \"*i)"
   ]
  },
  {
   "cell_type": "code",
   "execution_count": null,
   "id": "6deed878",
   "metadata": {},
   "outputs": [],
   "source": [
    "*****\n",
    "****\n",
    "***\n",
    "**\n",
    "*"
   ]
  },
  {
   "cell_type": "code",
   "execution_count": 34,
   "id": "9f7ad22f",
   "metadata": {},
   "outputs": [
    {
     "name": "stdout",
     "output_type": "stream",
     "text": [
      "* * * * * \n",
      "* * * * \n",
      "* * * \n",
      "* * \n",
      "* \n"
     ]
    }
   ],
   "source": [
    "for i in range(5,0,-1):\n",
    "    print(i*\"* \")"
   ]
  },
  {
   "cell_type": "code",
   "execution_count": 70,
   "id": "df34afd1",
   "metadata": {},
   "outputs": [
    {
     "name": "stdout",
     "output_type": "stream",
     "text": [
      "11\n",
      "13\n",
      "17\n",
      "19\n",
      "23\n",
      "29\n"
     ]
    }
   ],
   "source": [
    "# Define the range for checking prime numbers\n",
    "start = 10  # Lower bound of the range\n",
    "end = 30  # Upper bound of the range\n",
    "\n",
    "# Ensure the start and end bounds are positive and greater than 1\n",
    "if start < 2:  # If the start value is less than 2, set it to 2\n",
    "    start = 2\n",
    "if end < 2:  # If the end value is less than 2, print an error message\n",
    "    print(\"End value should be greater than or equal to 2.\")\n",
    "else:\n",
    "    # Loop through each number in the specified range\n",
    "    for num in range(start, end + 1):  # Iterate over each number from start to end (inclusive)\n",
    "        # Check if the number is prime\n",
    "        for divisor in range(2, num):  # Check divisibility from 2 up to num-1\n",
    "            if num % divisor == 0:  # If divisible, break out of the loop\n",
    "                break\n",
    "        else:\n",
    "            print(num)  # If not divisible by any number, it's a prime number\n"
   ]
  },
  {
   "cell_type": "code",
   "execution_count": 71,
   "id": "d5b5ae20",
   "metadata": {},
   "outputs": [
    {
     "name": "stdout",
     "output_type": "stream",
     "text": [
      "Enter the number to check: 35\n",
      "It is not a perfect square\n"
     ]
    }
   ],
   "source": [
    "number = int(input(\"Enter the number to check: \"))  # Input the number to check if it's a perfect square\n",
    "\n",
    "square_root = int(number ** 0.5)  # Calculate the integer part of the square root of the number\n",
    "\n",
    "if number == square_root * square_root:  # Check if the square of the square root equals the original number\n",
    "    print(\"It is a perfect square\")  # If true, the number is a perfect square\n",
    "else:\n",
    "    print(\"It is not a perfect square\")  # If false, the number is not a perfect square\n"
   ]
  },
  {
   "cell_type": "code",
   "execution_count": 72,
   "id": "1d924d70",
   "metadata": {},
   "outputs": [
    {
     "name": "stdout",
     "output_type": "stream",
     "text": [
      "[2, 3, 4, 5]\n"
     ]
    }
   ],
   "source": [
    "list_a = [1, 2, 3, 4, 5, 6, 2, 4, 3]  # First list of numbers\n",
    "list_b = [5, 2, 8, 3, 9, 10, 4, 2, 5]  # Second list of numbers\n",
    "\n",
    "common_values = []  # List to store common values\n",
    "\n",
    "# Loop through each element in the first list\n",
    "for element in list_a:  # Check each element in list_a\n",
    "    # If the element is in list_b and not already in common_values\n",
    "    if element in list_b and element not in common_values:\n",
    "        common_values.append(element)  # Add the element to common_values\n",
    "\n",
    "print(common_values)  # Print the list of common values\n"
   ]
  },
  {
   "cell_type": "code",
   "execution_count": 73,
   "id": "b3b47d80",
   "metadata": {},
   "outputs": [
    {
     "name": "stdout",
     "output_type": "stream",
     "text": [
      "Enter the length of the series:-\t\n",
      "\n",
      "10\n",
      "Fabonacci series is of 10 is:-\n",
      "\n",
      "0 1 1 2 3 5 8 13 21 34 "
     ]
    }
   ],
   "source": [
    "user=int(input(\"Enter the length of the series:-\\t\\n\\n\"))\n",
    "num1=0\n",
    "num2=1\n",
    "if user<=0:\n",
    "    print(\"Please the positive number\")\n",
    "elif user==1:\n",
    "    print(\"Fabonacci series is of 1 is:-\",num1)\n",
    "elif user>1:\n",
    "    print(f\"Fabonacci series is of {user} is:-\\n\")\n",
    "    for i in range(num1,user):\n",
    "        num3= num1 + num2\n",
    "        print(num1,end=\" \")\n",
    "        num1=num2\n",
    "        num2=num3\n",
    "        \n"
   ]
  },
  {
   "cell_type": "code",
   "execution_count": 74,
   "id": "d0c2235e",
   "metadata": {},
   "outputs": [
    {
     "name": "stdout",
     "output_type": "stream",
     "text": [
      "524865747 <class 'int'>\n"
     ]
    }
   ],
   "source": [
    "original_number = 747568425  # Original number to be reversed\n",
    "\n",
    "reversed_number = int(str(original_number)[::-1])  # Convert the number to a string, reverse it, and convert back to an integer\n",
    "\n",
    "print(reversed_number, type(reversed_number))  # Print the reversed number and its data type\n"
   ]
  },
  {
   "cell_type": "code",
   "execution_count": 76,
   "id": "90538757",
   "metadata": {},
   "outputs": [
    {
     "name": "stdout",
     "output_type": "stream",
     "text": [
      "Enter the number: 4\n",
      "The factorial of 4 is 24\n"
     ]
    }
   ],
   "source": [
    "number = int(input(\"Enter the number: \"))  # Input the number to calculate its factorial\n",
    "\n",
    "factorial = 1  # Initialize the factorial variable to 1\n",
    "\n",
    "# Loop through numbers from 1 to the entered number (inclusive)\n",
    "for i in range(1, number + 1):  # Multiply factorial by each number in the range\n",
    "    factorial *= i\n",
    "\n",
    "# Print the factorial of the number\n",
    "print(\"The factorial of\", number, \"is\", factorial)\n"
   ]
  },
  {
   "cell_type": "code",
   "execution_count": 77,
   "id": "bf9322b3",
   "metadata": {},
   "outputs": [
    {
     "name": "stdout",
     "output_type": "stream",
     "text": [
      "Number of vowels: 4\n"
     ]
    }
   ],
   "source": [
    "text = \"Python Programming\"  # String to check for vowels\n",
    "vowel_set = \"aeiouAEIOU\"  # Set of vowel characters\n",
    "\n",
    "vowel_count = 0  # Initialize the vowel count to 0\n",
    "\n",
    "# Loop through each character in the string\n",
    "for char in text:  # Check each character in the text\n",
    "    if char in vowel_set:  # If the character is a vowel\n",
    "        vowel_count += 1  # Increment the vowel count\n",
    "\n",
    "# Print the total number of vowels found\n",
    "print(\"Number of vowels:\", vowel_count)\n"
   ]
  },
  {
   "cell_type": "code",
   "execution_count": null,
   "id": "2de159c0",
   "metadata": {},
   "outputs": [],
   "source": []
  }
 ],
 "metadata": {
  "kernelspec": {
   "display_name": "Python 3 (ipykernel)",
   "language": "python",
   "name": "python3"
  },
  "language_info": {
   "codemirror_mode": {
    "name": "ipython",
    "version": 3
   },
   "file_extension": ".py",
   "mimetype": "text/x-python",
   "name": "python",
   "nbconvert_exporter": "python",
   "pygments_lexer": "ipython3",
   "version": "3.12.4"
  }
 },
 "nbformat": 4,
 "nbformat_minor": 5
}
